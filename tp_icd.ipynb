{
  "nbformat": 4,
  "nbformat_minor": 0,
  "metadata": {
    "colab": {
      "provenance": [],
      "include_colab_link": true
    },
    "kernelspec": {
      "name": "python3",
      "display_name": "Python 3"
    },
    "language_info": {
      "name": "python"
    }
  },
  "cells": [
    {
      "cell_type": "markdown",
      "metadata": {
        "id": "view-in-github",
        "colab_type": "text"
      },
      "source": [
        "<a href=\"https://colab.research.google.com/github/debyyamamoto/trabalho_final_icd/blob/main/tp_icd.ipynb\" target=\"_parent\"><img src=\"https://colab.research.google.com/assets/colab-badge.svg\" alt=\"Open In Colab\"/></a>"
      ]
    },
    {
      "cell_type": "markdown",
      "source": [
        "# **Trabalho Prático de Introdução a Ciência de Dados**\n",
        "\n",
        "---\n",
        "\n",
        "\n",
        "\n",
        "\n"
      ],
      "metadata": {
        "id": "v6qsTcSFax6b"
      }
    },
    {
      "cell_type": "markdown",
      "source": [
        "Nome: Caroline Campos Carvalho, Deborah Brito Yamamoto, Iago Zagnoli Albergaria, Lucas André dos Santos\n",
        "\n",
        "---\n",
        "\n"
      ],
      "metadata": {
        "id": "QA2Z0ivJxOgS"
      }
    },
    {
      "cell_type": "markdown",
      "source": [
        "# **Motivação**"
      ],
      "metadata": {
        "id": "IGWE1Yz74BhD"
      }
    },
    {
      "cell_type": "markdown",
      "source": [
        "A motivação para a escolha desse tema surgiu da percepção do grupo sobre o aumento da frequência de notícias sobre massacres em escolas nos EUA. Esse cenário despertou nossa curiosidade em investigar possíveis relações de causalidade e estatísticas associadas ao tema. Nesse sentido, foi encontrada uma base de dados que contava com uma grande variedade de informações sobre cada ocorrência nos EUA no período de 1999 até 2022, o que nos motivou a seguir com o tema."
      ],
      "metadata": {
        "id": "4fJxCtpH4N9s"
      }
    },
    {
      "cell_type": "markdown",
      "source": [
        "## **Introdução**"
      ],
      "metadata": {
        "id": "XLq-LqpathpE"
      }
    },
    {
      "cell_type": "markdown",
      "source": [
        "Este trabalho explorará algumas características identificadas por meio da análise de dados sobre tiroteios em escolas nos EUA."
      ],
      "metadata": {
        "id": "Dd3za053tk8c"
      }
    },
    {
      "cell_type": "markdown",
      "source": [
        "##**Bibliotecas**"
      ],
      "metadata": {
        "id": "2T3KqG2-7oyf"
      }
    },
    {
      "cell_type": "markdown",
      "source": [
        "Antes de tudo, importar as bibliotecas utilizadas no projeto."
      ],
      "metadata": {
        "id": "5mEDLUvi7u6J"
      }
    },
    {
      "cell_type": "code",
      "source": [
        "import numpy as np\n",
        "import matplotlib.pyplot as plt\n",
        "import pandas as pd\n",
        "import statsmodels.api as sm\n",
        "import statsmodels.stats.proportion as smp\n",
        "from scipy import stats as ss\n",
        "import seaborn as sns\n",
        "from sklearn.linear_model import LinearRegression\n",
        "from sklearn.model_selection import train_test_split\n",
        "from sklearn.preprocessing import StandardScaler\n",
        "from sklearn.metrics import mean_squared_error\n",
        "from sklearn.metrics import r2_score\n",
        "import plotly.express as px\n",
        "import plotly.graph_objects as go\n",
        "from plotly.subplots import make_subplots"
      ],
      "metadata": {
        "id": "8-vpmoMg7x7O"
      },
      "execution_count": null,
      "outputs": []
    },
    {
      "cell_type": "markdown",
      "source": [
        "Vários dos gráficos foram plotados utilizando a biblioteca plotly, que é uma biblioteca interativa que permite a criação de gráficos dinâmicos"
      ],
      "metadata": {
        "id": "Hv1oQitK-2Ht"
      }
    },
    {
      "cell_type": "markdown",
      "source": [
        "# **Dados utilizados**"
      ],
      "metadata": {
        "id": "pDxxtCgMvpRC"
      }
    },
    {
      "cell_type": "markdown",
      "source": [
        "### Firearms Provisions in US States"
      ],
      "metadata": {
        "id": "C2bYgV5v4P9q"
      }
    },
    {
      "cell_type": "markdown",
      "source": [
        "Os dados abrangem todos os 50 estados dos EUA, de 1991 a 2017, e caracterizam sobre vários aspéctos a legislação de cada um durante o período analisado.\n",
        "\n"
      ],
      "metadata": {
        "id": "DM_C9sD7aEQs"
      }
    },
    {
      "cell_type": "markdown",
      "source": [
        "Fonte: [Firearms Provisions in US States](https://www.kaggle.com/datasets/jboysen/state-firearms/data)"
      ],
      "metadata": {
        "id": "Of0YoN9tbKMv"
      }
    },
    {
      "cell_type": "code",
      "source": [
        "#Load Firearms Provisions in US States\n",
        "df_firearms = pd.read_csv('https://raw.githubusercontent.com/debyyamamoto/data/main/raw_data.csv', sep = ',')"
      ],
      "metadata": {
        "id": "oShP8uO4bc9w"
      },
      "execution_count": null,
      "outputs": []
    },
    {
      "cell_type": "markdown",
      "source": [
        "### Dataset de ocorrências de tiroteios"
      ],
      "metadata": {
        "id": "l1pGNVFL8IW8"
      }
    },
    {
      "cell_type": "markdown",
      "source": [
        "Dataset que mostra o registro de ocorrências de tiroteios em escolas desde Columbine até 2022."
      ],
      "metadata": {
        "id": "O5dpLgBv7MNq"
      }
    },
    {
      "cell_type": "code",
      "source": [
        "df = pd.read_csv('https://raw.githubusercontent.com/iagozag/icd/master/school-shootings-data.csv')"
      ],
      "metadata": {
        "id": "7IlSY0IS8Rii"
      },
      "execution_count": null,
      "outputs": []
    },
    {
      "cell_type": "markdown",
      "source": [
        "### Estados"
      ],
      "metadata": {
        "id": "ZlqDe6uh8oW2"
      }
    },
    {
      "cell_type": "markdown",
      "source": [
        "Neste dataset, há o nome de cada sigla para realizar o merge posteriormente"
      ],
      "metadata": {
        "id": "Ehjok9ME8wf5"
      }
    },
    {
      "cell_type": "code",
      "source": [
        "df_states = pd.read_csv('https://raw.githubusercontent.com/jasonong/List-of-US-States/master/states.csv')"
      ],
      "metadata": {
        "id": "H9Kspb5g9JzW"
      },
      "execution_count": null,
      "outputs": []
    },
    {
      "cell_type": "markdown",
      "source": [
        "### Population\n",
        "\n",
        "Neste dataset, é mostrada a população de cada estado por ano."
      ],
      "metadata": {
        "id": "3KwCiPcC9Sd7"
      }
    },
    {
      "cell_type": "code",
      "source": [
        "df_population = pd.read_csv('https://raw.githubusercontent.com/JoshData/historical-state-population-csv/primary/historical_state_population_by_year.csv', header=None)\n",
        "df_population.rename(columns={2: 'pop'},  inplace=True)"
      ],
      "metadata": {
        "id": "UERDFcS79dT5"
      },
      "execution_count": null,
      "outputs": []
    },
    {
      "cell_type": "markdown",
      "source": [
        "### Gun Strength Law\n"
      ],
      "metadata": {
        "id": "FV_OAK57-HtK"
      }
    },
    {
      "cell_type": "markdown",
      "source": [
        "Neste dataset, há uma quantificação de quão forte é a lei de cada estado, bem como da taxa de crime com armas naquele estado."
      ],
      "metadata": {
        "id": "6f96LGZ--QW6"
      }
    },
    {
      "cell_type": "code",
      "source": [
        "df_strength = pd.read_csv('https://raw.githubusercontent.com/iagozag/icd/master/law_strength.csv',sep=';')"
      ],
      "metadata": {
        "id": "k2F02feU-hfd"
      },
      "execution_count": null,
      "outputs": []
    },
    {
      "cell_type": "markdown",
      "source": [
        "### Hate Crime"
      ],
      "metadata": {
        "id": "zfhOesWpeg24"
      }
    },
    {
      "cell_type": "markdown",
      "source": [
        "Nestes datasets, são detalhados a quantidade de casos de crimes de ódio reportados pela polícia nos Estados Unidos entre os anos de 2009 e 2022 agrupados por tipo de crime e motivação para o crime"
      ],
      "metadata": {
        "id": "5QwLIypReiob"
      }
    },
    {
      "cell_type": "code",
      "source": [
        "df_hate_crime = pd.read_csv(\"https://raw.githubusercontent.com/lucasandreds/Dados-crimes-de-odio-Estados-Unidos/main/Report%20Data%20export.csv\")\n",
        "for i in range(1,14):\n",
        "  df2 = pd.read_csv(f\"https://raw.githubusercontent.com/lucasandreds/Dados-crimes-de-odio-Estados-Unidos/main/Report%20Data%20export%20({i}).csv\")\n",
        "  df_hate_crime = pd.concat([df_hate_crime,df2])"
      ],
      "metadata": {
        "id": "6GVdORize9Id"
      },
      "execution_count": null,
      "outputs": []
    },
    {
      "cell_type": "markdown",
      "source": [
        "## **Manipulação das tabelas**"
      ],
      "metadata": {
        "id": "sZsBzRymbKvm"
      }
    },
    {
      "cell_type": "markdown",
      "source": [
        "Vamos começar o projeto com uma análise exploratória dos dados. O dataset a ser analisado é de ocorrências, que possui informações sobre tiroteios em escolas, desde o massacre em columbine, que foi em 1999 até o ano de 2022.\n",
        "\n"
      ],
      "metadata": {
        "id": "4PtxQwYwW3Xk"
      }
    },
    {
      "cell_type": "markdown",
      "source": [
        "Vamos visualizar qual conteudo há nesse dataset atraves do \".head()\""
      ],
      "metadata": {
        "id": "NYJIXVm-YoEY"
      }
    },
    {
      "cell_type": "code",
      "source": [
        "df.head()"
      ],
      "metadata": {
        "colab": {
          "base_uri": "https://localhost:8080/",
          "height": 359
        },
        "id": "mWrrGv9bZEHZ",
        "outputId": "8f0539c4-c9ff-4e88-e9e7-3ad1779a8861"
      },
      "execution_count": null,
      "outputs": [
        {
          "output_type": "execute_result",
          "data": {
            "text/plain": [
              "   uid nces_school_id                  school_name  nces_district_id  \\\n",
              "0    1   080480000707        Columbine High School          804800.0   \n",
              "1    2   220054000422  Scotlandville Middle School         2200540.0   \n",
              "2    3   130441001591         Heritage High School         1304410.0   \n",
              "3    4   421899003847     John Bartram High School         4218990.0   \n",
              "4    5   250279000225       Dorchester High School         2502790.0   \n",
              "\n",
              "                          district_name       date school_year  year  \\\n",
              "0                  Jefferson County R-1  4/20/1999   1998-1999  1999   \n",
              "1  East Baton Rouge Parish School Board  4/22/1999   1998-1999  1999   \n",
              "2                       Rockdale County  5/20/1999   1998-1999  1999   \n",
              "3                  Philadelphia City SD  10/4/1999   1999-2000  1999   \n",
              "4                                Boston  11/3/1999   1999-2000  1999   \n",
              "\n",
              "       time day_of_week  ...        lat        long staffing low_grade  \\\n",
              "0  11:19 AM     Tuesday  ...  39.603910 -105.075000     89.6         9   \n",
              "1  12:30 PM    Thursday  ...  30.529958  -91.169966     39.0         6   \n",
              "2   8:03 AM    Thursday  ...  33.626922  -84.047960     84.0         9   \n",
              "3  10:00 AM      Monday  ...  39.921509  -75.234108     41.0         9   \n",
              "4   7:40 AM   Wednesday  ...  42.285268  -71.075901      NaN         9   \n",
              "\n",
              "   high_grade  lunch                   county state_fips  county_fips ulocale  \n",
              "0          12     41         Jefferson County          8         8059    21.0  \n",
              "1           8    495  East Baton Rouge Parish         22        22033    12.0  \n",
              "2          12    125          Rockdale County         13        13247    21.0  \n",
              "3          12   2007      Philadelphia County         42        42101    11.0  \n",
              "4          12    543           Suffolk County         25        25025    11.0  \n",
              "\n",
              "[5 rows x 50 columns]"
            ],
            "text/html": [
              "\n",
              "  <div id=\"df-82173d86-a9b3-4ff2-a004-b3356d8a84c3\" class=\"colab-df-container\">\n",
              "    <div>\n",
              "<style scoped>\n",
              "    .dataframe tbody tr th:only-of-type {\n",
              "        vertical-align: middle;\n",
              "    }\n",
              "\n",
              "    .dataframe tbody tr th {\n",
              "        vertical-align: top;\n",
              "    }\n",
              "\n",
              "    .dataframe thead th {\n",
              "        text-align: right;\n",
              "    }\n",
              "</style>\n",
              "<table border=\"1\" class=\"dataframe\">\n",
              "  <thead>\n",
              "    <tr style=\"text-align: right;\">\n",
              "      <th></th>\n",
              "      <th>uid</th>\n",
              "      <th>nces_school_id</th>\n",
              "      <th>school_name</th>\n",
              "      <th>nces_district_id</th>\n",
              "      <th>district_name</th>\n",
              "      <th>date</th>\n",
              "      <th>school_year</th>\n",
              "      <th>year</th>\n",
              "      <th>time</th>\n",
              "      <th>day_of_week</th>\n",
              "      <th>...</th>\n",
              "      <th>lat</th>\n",
              "      <th>long</th>\n",
              "      <th>staffing</th>\n",
              "      <th>low_grade</th>\n",
              "      <th>high_grade</th>\n",
              "      <th>lunch</th>\n",
              "      <th>county</th>\n",
              "      <th>state_fips</th>\n",
              "      <th>county_fips</th>\n",
              "      <th>ulocale</th>\n",
              "    </tr>\n",
              "  </thead>\n",
              "  <tbody>\n",
              "    <tr>\n",
              "      <th>0</th>\n",
              "      <td>1</td>\n",
              "      <td>080480000707</td>\n",
              "      <td>Columbine High School</td>\n",
              "      <td>804800.0</td>\n",
              "      <td>Jefferson County R-1</td>\n",
              "      <td>4/20/1999</td>\n",
              "      <td>1998-1999</td>\n",
              "      <td>1999</td>\n",
              "      <td>11:19 AM</td>\n",
              "      <td>Tuesday</td>\n",
              "      <td>...</td>\n",
              "      <td>39.603910</td>\n",
              "      <td>-105.075000</td>\n",
              "      <td>89.6</td>\n",
              "      <td>9</td>\n",
              "      <td>12</td>\n",
              "      <td>41</td>\n",
              "      <td>Jefferson County</td>\n",
              "      <td>8</td>\n",
              "      <td>8059</td>\n",
              "      <td>21.0</td>\n",
              "    </tr>\n",
              "    <tr>\n",
              "      <th>1</th>\n",
              "      <td>2</td>\n",
              "      <td>220054000422</td>\n",
              "      <td>Scotlandville Middle School</td>\n",
              "      <td>2200540.0</td>\n",
              "      <td>East Baton Rouge Parish School Board</td>\n",
              "      <td>4/22/1999</td>\n",
              "      <td>1998-1999</td>\n",
              "      <td>1999</td>\n",
              "      <td>12:30 PM</td>\n",
              "      <td>Thursday</td>\n",
              "      <td>...</td>\n",
              "      <td>30.529958</td>\n",
              "      <td>-91.169966</td>\n",
              "      <td>39.0</td>\n",
              "      <td>6</td>\n",
              "      <td>8</td>\n",
              "      <td>495</td>\n",
              "      <td>East Baton Rouge Parish</td>\n",
              "      <td>22</td>\n",
              "      <td>22033</td>\n",
              "      <td>12.0</td>\n",
              "    </tr>\n",
              "    <tr>\n",
              "      <th>2</th>\n",
              "      <td>3</td>\n",
              "      <td>130441001591</td>\n",
              "      <td>Heritage High School</td>\n",
              "      <td>1304410.0</td>\n",
              "      <td>Rockdale County</td>\n",
              "      <td>5/20/1999</td>\n",
              "      <td>1998-1999</td>\n",
              "      <td>1999</td>\n",
              "      <td>8:03 AM</td>\n",
              "      <td>Thursday</td>\n",
              "      <td>...</td>\n",
              "      <td>33.626922</td>\n",
              "      <td>-84.047960</td>\n",
              "      <td>84.0</td>\n",
              "      <td>9</td>\n",
              "      <td>12</td>\n",
              "      <td>125</td>\n",
              "      <td>Rockdale County</td>\n",
              "      <td>13</td>\n",
              "      <td>13247</td>\n",
              "      <td>21.0</td>\n",
              "    </tr>\n",
              "    <tr>\n",
              "      <th>3</th>\n",
              "      <td>4</td>\n",
              "      <td>421899003847</td>\n",
              "      <td>John Bartram High School</td>\n",
              "      <td>4218990.0</td>\n",
              "      <td>Philadelphia City SD</td>\n",
              "      <td>10/4/1999</td>\n",
              "      <td>1999-2000</td>\n",
              "      <td>1999</td>\n",
              "      <td>10:00 AM</td>\n",
              "      <td>Monday</td>\n",
              "      <td>...</td>\n",
              "      <td>39.921509</td>\n",
              "      <td>-75.234108</td>\n",
              "      <td>41.0</td>\n",
              "      <td>9</td>\n",
              "      <td>12</td>\n",
              "      <td>2007</td>\n",
              "      <td>Philadelphia County</td>\n",
              "      <td>42</td>\n",
              "      <td>42101</td>\n",
              "      <td>11.0</td>\n",
              "    </tr>\n",
              "    <tr>\n",
              "      <th>4</th>\n",
              "      <td>5</td>\n",
              "      <td>250279000225</td>\n",
              "      <td>Dorchester High School</td>\n",
              "      <td>2502790.0</td>\n",
              "      <td>Boston</td>\n",
              "      <td>11/3/1999</td>\n",
              "      <td>1999-2000</td>\n",
              "      <td>1999</td>\n",
              "      <td>7:40 AM</td>\n",
              "      <td>Wednesday</td>\n",
              "      <td>...</td>\n",
              "      <td>42.285268</td>\n",
              "      <td>-71.075901</td>\n",
              "      <td>NaN</td>\n",
              "      <td>9</td>\n",
              "      <td>12</td>\n",
              "      <td>543</td>\n",
              "      <td>Suffolk County</td>\n",
              "      <td>25</td>\n",
              "      <td>25025</td>\n",
              "      <td>11.0</td>\n",
              "    </tr>\n",
              "  </tbody>\n",
              "</table>\n",
              "<p>5 rows × 50 columns</p>\n",
              "</div>\n",
              "    <div class=\"colab-df-buttons\">\n",
              "\n",
              "  <div class=\"colab-df-container\">\n",
              "    <button class=\"colab-df-convert\" onclick=\"convertToInteractive('df-82173d86-a9b3-4ff2-a004-b3356d8a84c3')\"\n",
              "            title=\"Convert this dataframe to an interactive table.\"\n",
              "            style=\"display:none;\">\n",
              "\n",
              "  <svg xmlns=\"http://www.w3.org/2000/svg\" height=\"24px\" viewBox=\"0 -960 960 960\">\n",
              "    <path d=\"M120-120v-720h720v720H120Zm60-500h600v-160H180v160Zm220 220h160v-160H400v160Zm0 220h160v-160H400v160ZM180-400h160v-160H180v160Zm440 0h160v-160H620v160ZM180-180h160v-160H180v160Zm440 0h160v-160H620v160Z\"/>\n",
              "  </svg>\n",
              "    </button>\n",
              "\n",
              "  <style>\n",
              "    .colab-df-container {\n",
              "      display:flex;\n",
              "      gap: 12px;\n",
              "    }\n",
              "\n",
              "    .colab-df-convert {\n",
              "      background-color: #E8F0FE;\n",
              "      border: none;\n",
              "      border-radius: 50%;\n",
              "      cursor: pointer;\n",
              "      display: none;\n",
              "      fill: #1967D2;\n",
              "      height: 32px;\n",
              "      padding: 0 0 0 0;\n",
              "      width: 32px;\n",
              "    }\n",
              "\n",
              "    .colab-df-convert:hover {\n",
              "      background-color: #E2EBFA;\n",
              "      box-shadow: 0px 1px 2px rgba(60, 64, 67, 0.3), 0px 1px 3px 1px rgba(60, 64, 67, 0.15);\n",
              "      fill: #174EA6;\n",
              "    }\n",
              "\n",
              "    .colab-df-buttons div {\n",
              "      margin-bottom: 4px;\n",
              "    }\n",
              "\n",
              "    [theme=dark] .colab-df-convert {\n",
              "      background-color: #3B4455;\n",
              "      fill: #D2E3FC;\n",
              "    }\n",
              "\n",
              "    [theme=dark] .colab-df-convert:hover {\n",
              "      background-color: #434B5C;\n",
              "      box-shadow: 0px 1px 3px 1px rgba(0, 0, 0, 0.15);\n",
              "      filter: drop-shadow(0px 1px 2px rgba(0, 0, 0, 0.3));\n",
              "      fill: #FFFFFF;\n",
              "    }\n",
              "  </style>\n",
              "\n",
              "    <script>\n",
              "      const buttonEl =\n",
              "        document.querySelector('#df-82173d86-a9b3-4ff2-a004-b3356d8a84c3 button.colab-df-convert');\n",
              "      buttonEl.style.display =\n",
              "        google.colab.kernel.accessAllowed ? 'block' : 'none';\n",
              "\n",
              "      async function convertToInteractive(key) {\n",
              "        const element = document.querySelector('#df-82173d86-a9b3-4ff2-a004-b3356d8a84c3');\n",
              "        const dataTable =\n",
              "          await google.colab.kernel.invokeFunction('convertToInteractive',\n",
              "                                                    [key], {});\n",
              "        if (!dataTable) return;\n",
              "\n",
              "        const docLinkHtml = 'Like what you see? Visit the ' +\n",
              "          '<a target=\"_blank\" href=https://colab.research.google.com/notebooks/data_table.ipynb>data table notebook</a>'\n",
              "          + ' to learn more about interactive tables.';\n",
              "        element.innerHTML = '';\n",
              "        dataTable['output_type'] = 'display_data';\n",
              "        await google.colab.output.renderOutput(dataTable, element);\n",
              "        const docLink = document.createElement('div');\n",
              "        docLink.innerHTML = docLinkHtml;\n",
              "        element.appendChild(docLink);\n",
              "      }\n",
              "    </script>\n",
              "  </div>\n",
              "\n",
              "\n",
              "<div id=\"df-fd69f711-7bae-4785-b17a-3cd40ee06957\">\n",
              "  <button class=\"colab-df-quickchart\" onclick=\"quickchart('df-fd69f711-7bae-4785-b17a-3cd40ee06957')\"\n",
              "            title=\"Suggest charts\"\n",
              "            style=\"display:none;\">\n",
              "\n",
              "<svg xmlns=\"http://www.w3.org/2000/svg\" height=\"24px\"viewBox=\"0 0 24 24\"\n",
              "     width=\"24px\">\n",
              "    <g>\n",
              "        <path d=\"M19 3H5c-1.1 0-2 .9-2 2v14c0 1.1.9 2 2 2h14c1.1 0 2-.9 2-2V5c0-1.1-.9-2-2-2zM9 17H7v-7h2v7zm4 0h-2V7h2v10zm4 0h-2v-4h2v4z\"/>\n",
              "    </g>\n",
              "</svg>\n",
              "  </button>\n",
              "\n",
              "<style>\n",
              "  .colab-df-quickchart {\n",
              "      --bg-color: #E8F0FE;\n",
              "      --fill-color: #1967D2;\n",
              "      --hover-bg-color: #E2EBFA;\n",
              "      --hover-fill-color: #174EA6;\n",
              "      --disabled-fill-color: #AAA;\n",
              "      --disabled-bg-color: #DDD;\n",
              "  }\n",
              "\n",
              "  [theme=dark] .colab-df-quickchart {\n",
              "      --bg-color: #3B4455;\n",
              "      --fill-color: #D2E3FC;\n",
              "      --hover-bg-color: #434B5C;\n",
              "      --hover-fill-color: #FFFFFF;\n",
              "      --disabled-bg-color: #3B4455;\n",
              "      --disabled-fill-color: #666;\n",
              "  }\n",
              "\n",
              "  .colab-df-quickchart {\n",
              "    background-color: var(--bg-color);\n",
              "    border: none;\n",
              "    border-radius: 50%;\n",
              "    cursor: pointer;\n",
              "    display: none;\n",
              "    fill: var(--fill-color);\n",
              "    height: 32px;\n",
              "    padding: 0;\n",
              "    width: 32px;\n",
              "  }\n",
              "\n",
              "  .colab-df-quickchart:hover {\n",
              "    background-color: var(--hover-bg-color);\n",
              "    box-shadow: 0 1px 2px rgba(60, 64, 67, 0.3), 0 1px 3px 1px rgba(60, 64, 67, 0.15);\n",
              "    fill: var(--button-hover-fill-color);\n",
              "  }\n",
              "\n",
              "  .colab-df-quickchart-complete:disabled,\n",
              "  .colab-df-quickchart-complete:disabled:hover {\n",
              "    background-color: var(--disabled-bg-color);\n",
              "    fill: var(--disabled-fill-color);\n",
              "    box-shadow: none;\n",
              "  }\n",
              "\n",
              "  .colab-df-spinner {\n",
              "    border: 2px solid var(--fill-color);\n",
              "    border-color: transparent;\n",
              "    border-bottom-color: var(--fill-color);\n",
              "    animation:\n",
              "      spin 1s steps(1) infinite;\n",
              "  }\n",
              "\n",
              "  @keyframes spin {\n",
              "    0% {\n",
              "      border-color: transparent;\n",
              "      border-bottom-color: var(--fill-color);\n",
              "      border-left-color: var(--fill-color);\n",
              "    }\n",
              "    20% {\n",
              "      border-color: transparent;\n",
              "      border-left-color: var(--fill-color);\n",
              "      border-top-color: var(--fill-color);\n",
              "    }\n",
              "    30% {\n",
              "      border-color: transparent;\n",
              "      border-left-color: var(--fill-color);\n",
              "      border-top-color: var(--fill-color);\n",
              "      border-right-color: var(--fill-color);\n",
              "    }\n",
              "    40% {\n",
              "      border-color: transparent;\n",
              "      border-right-color: var(--fill-color);\n",
              "      border-top-color: var(--fill-color);\n",
              "    }\n",
              "    60% {\n",
              "      border-color: transparent;\n",
              "      border-right-color: var(--fill-color);\n",
              "    }\n",
              "    80% {\n",
              "      border-color: transparent;\n",
              "      border-right-color: var(--fill-color);\n",
              "      border-bottom-color: var(--fill-color);\n",
              "    }\n",
              "    90% {\n",
              "      border-color: transparent;\n",
              "      border-bottom-color: var(--fill-color);\n",
              "    }\n",
              "  }\n",
              "</style>\n",
              "\n",
              "  <script>\n",
              "    async function quickchart(key) {\n",
              "      const quickchartButtonEl =\n",
              "        document.querySelector('#' + key + ' button');\n",
              "      quickchartButtonEl.disabled = true;  // To prevent multiple clicks.\n",
              "      quickchartButtonEl.classList.add('colab-df-spinner');\n",
              "      try {\n",
              "        const charts = await google.colab.kernel.invokeFunction(\n",
              "            'suggestCharts', [key], {});\n",
              "      } catch (error) {\n",
              "        console.error('Error during call to suggestCharts:', error);\n",
              "      }\n",
              "      quickchartButtonEl.classList.remove('colab-df-spinner');\n",
              "      quickchartButtonEl.classList.add('colab-df-quickchart-complete');\n",
              "    }\n",
              "    (() => {\n",
              "      let quickchartButtonEl =\n",
              "        document.querySelector('#df-fd69f711-7bae-4785-b17a-3cd40ee06957 button');\n",
              "      quickchartButtonEl.style.display =\n",
              "        google.colab.kernel.accessAllowed ? 'block' : 'none';\n",
              "    })();\n",
              "  </script>\n",
              "</div>\n",
              "\n",
              "    </div>\n",
              "  </div>\n"
            ],
            "application/vnd.google.colaboratory.intrinsic+json": {
              "type": "dataframe",
              "variable_name": "df"
            }
          },
          "metadata": {},
          "execution_count": 377
        }
      ]
    },
    {
      "cell_type": "markdown",
      "source": [
        "Vamos ver o nome das colunas, para ter uma visao mais abrangente dos dados."
      ],
      "metadata": {
        "id": "_kjrQQRkZhnL"
      }
    },
    {
      "cell_type": "code",
      "source": [
        "print(list(df.columns))"
      ],
      "metadata": {
        "colab": {
          "base_uri": "https://localhost:8080/"
        },
        "id": "0-IkU2RcZ_lh",
        "outputId": "4f71c58a-3b13-4ee7-9ed7-eebce3c290e9"
      },
      "execution_count": null,
      "outputs": [
        {
          "output_type": "stream",
          "name": "stdout",
          "text": [
            "['uid', 'nces_school_id', 'school_name', 'nces_district_id', 'district_name', 'date', 'school_year', 'year', 'time', 'day_of_week', 'city', 'state', 'school_type', 'enrollment', 'killed', 'injured', 'casualties', 'shooting_type', 'age_shooter1', 'gender_shooter1', 'race_ethnicity_shooter1', 'shooter_relationship1', 'shooter_deceased1', 'deceased_notes1', 'age_shooter2', 'gender_shooter2', 'race_ethnicity_shooter2', 'shooter_relationship2', 'shooter_deceased2', 'deceased_notes2', 'white', 'black', 'hispanic', 'asian', 'american_indian_alaska_native', 'hawaiian_native_pacific_islander', 'two_or_more', 'resource_officer', 'weapon', 'weapon_source', 'lat', 'long', 'staffing', 'low_grade', 'high_grade', 'lunch', 'county', 'state_fips', 'county_fips', 'ulocale']\n"
          ]
        }
      ]
    },
    {
      "cell_type": "markdown",
      "source": [
        "Para conhecer qual o conteudo da tabela de estados, vamos dar um \"head\""
      ],
      "metadata": {
        "id": "pldA_oqU9jMg"
      }
    },
    {
      "cell_type": "code",
      "source": [
        "df_states.head()"
      ],
      "metadata": {
        "colab": {
          "base_uri": "https://localhost:8080/",
          "height": 206
        },
        "id": "4kJMxJb0-Pzo",
        "outputId": "a0760906-ef97-4564-db30-47609ecd048e"
      },
      "execution_count": null,
      "outputs": [
        {
          "output_type": "execute_result",
          "data": {
            "text/plain": [
              "        State Abbreviation\n",
              "0     Alabama           AL\n",
              "1      Alaska           AK\n",
              "2     Arizona           AZ\n",
              "3    Arkansas           AR\n",
              "4  California           CA"
            ],
            "text/html": [
              "\n",
              "  <div id=\"df-e4ddd26d-befb-415b-aa90-fb56be283aa5\" class=\"colab-df-container\">\n",
              "    <div>\n",
              "<style scoped>\n",
              "    .dataframe tbody tr th:only-of-type {\n",
              "        vertical-align: middle;\n",
              "    }\n",
              "\n",
              "    .dataframe tbody tr th {\n",
              "        vertical-align: top;\n",
              "    }\n",
              "\n",
              "    .dataframe thead th {\n",
              "        text-align: right;\n",
              "    }\n",
              "</style>\n",
              "<table border=\"1\" class=\"dataframe\">\n",
              "  <thead>\n",
              "    <tr style=\"text-align: right;\">\n",
              "      <th></th>\n",
              "      <th>State</th>\n",
              "      <th>Abbreviation</th>\n",
              "    </tr>\n",
              "  </thead>\n",
              "  <tbody>\n",
              "    <tr>\n",
              "      <th>0</th>\n",
              "      <td>Alabama</td>\n",
              "      <td>AL</td>\n",
              "    </tr>\n",
              "    <tr>\n",
              "      <th>1</th>\n",
              "      <td>Alaska</td>\n",
              "      <td>AK</td>\n",
              "    </tr>\n",
              "    <tr>\n",
              "      <th>2</th>\n",
              "      <td>Arizona</td>\n",
              "      <td>AZ</td>\n",
              "    </tr>\n",
              "    <tr>\n",
              "      <th>3</th>\n",
              "      <td>Arkansas</td>\n",
              "      <td>AR</td>\n",
              "    </tr>\n",
              "    <tr>\n",
              "      <th>4</th>\n",
              "      <td>California</td>\n",
              "      <td>CA</td>\n",
              "    </tr>\n",
              "  </tbody>\n",
              "</table>\n",
              "</div>\n",
              "    <div class=\"colab-df-buttons\">\n",
              "\n",
              "  <div class=\"colab-df-container\">\n",
              "    <button class=\"colab-df-convert\" onclick=\"convertToInteractive('df-e4ddd26d-befb-415b-aa90-fb56be283aa5')\"\n",
              "            title=\"Convert this dataframe to an interactive table.\"\n",
              "            style=\"display:none;\">\n",
              "\n",
              "  <svg xmlns=\"http://www.w3.org/2000/svg\" height=\"24px\" viewBox=\"0 -960 960 960\">\n",
              "    <path d=\"M120-120v-720h720v720H120Zm60-500h600v-160H180v160Zm220 220h160v-160H400v160Zm0 220h160v-160H400v160ZM180-400h160v-160H180v160Zm440 0h160v-160H620v160ZM180-180h160v-160H180v160Zm440 0h160v-160H620v160Z\"/>\n",
              "  </svg>\n",
              "    </button>\n",
              "\n",
              "  <style>\n",
              "    .colab-df-container {\n",
              "      display:flex;\n",
              "      gap: 12px;\n",
              "    }\n",
              "\n",
              "    .colab-df-convert {\n",
              "      background-color: #E8F0FE;\n",
              "      border: none;\n",
              "      border-radius: 50%;\n",
              "      cursor: pointer;\n",
              "      display: none;\n",
              "      fill: #1967D2;\n",
              "      height: 32px;\n",
              "      padding: 0 0 0 0;\n",
              "      width: 32px;\n",
              "    }\n",
              "\n",
              "    .colab-df-convert:hover {\n",
              "      background-color: #E2EBFA;\n",
              "      box-shadow: 0px 1px 2px rgba(60, 64, 67, 0.3), 0px 1px 3px 1px rgba(60, 64, 67, 0.15);\n",
              "      fill: #174EA6;\n",
              "    }\n",
              "\n",
              "    .colab-df-buttons div {\n",
              "      margin-bottom: 4px;\n",
              "    }\n",
              "\n",
              "    [theme=dark] .colab-df-convert {\n",
              "      background-color: #3B4455;\n",
              "      fill: #D2E3FC;\n",
              "    }\n",
              "\n",
              "    [theme=dark] .colab-df-convert:hover {\n",
              "      background-color: #434B5C;\n",
              "      box-shadow: 0px 1px 3px 1px rgba(0, 0, 0, 0.15);\n",
              "      filter: drop-shadow(0px 1px 2px rgba(0, 0, 0, 0.3));\n",
              "      fill: #FFFFFF;\n",
              "    }\n",
              "  </style>\n",
              "\n",
              "    <script>\n",
              "      const buttonEl =\n",
              "        document.querySelector('#df-e4ddd26d-befb-415b-aa90-fb56be283aa5 button.colab-df-convert');\n",
              "      buttonEl.style.display =\n",
              "        google.colab.kernel.accessAllowed ? 'block' : 'none';\n",
              "\n",
              "      async function convertToInteractive(key) {\n",
              "        const element = document.querySelector('#df-e4ddd26d-befb-415b-aa90-fb56be283aa5');\n",
              "        const dataTable =\n",
              "          await google.colab.kernel.invokeFunction('convertToInteractive',\n",
              "                                                    [key], {});\n",
              "        if (!dataTable) return;\n",
              "\n",
              "        const docLinkHtml = 'Like what you see? Visit the ' +\n",
              "          '<a target=\"_blank\" href=https://colab.research.google.com/notebooks/data_table.ipynb>data table notebook</a>'\n",
              "          + ' to learn more about interactive tables.';\n",
              "        element.innerHTML = '';\n",
              "        dataTable['output_type'] = 'display_data';\n",
              "        await google.colab.output.renderOutput(dataTable, element);\n",
              "        const docLink = document.createElement('div');\n",
              "        docLink.innerHTML = docLinkHtml;\n",
              "        element.appendChild(docLink);\n",
              "      }\n",
              "    </script>\n",
              "  </div>\n",
              "\n",
              "\n",
              "<div id=\"df-4c03092a-bfb7-4ab6-b9ed-afc8c814eaed\">\n",
              "  <button class=\"colab-df-quickchart\" onclick=\"quickchart('df-4c03092a-bfb7-4ab6-b9ed-afc8c814eaed')\"\n",
              "            title=\"Suggest charts\"\n",
              "            style=\"display:none;\">\n",
              "\n",
              "<svg xmlns=\"http://www.w3.org/2000/svg\" height=\"24px\"viewBox=\"0 0 24 24\"\n",
              "     width=\"24px\">\n",
              "    <g>\n",
              "        <path d=\"M19 3H5c-1.1 0-2 .9-2 2v14c0 1.1.9 2 2 2h14c1.1 0 2-.9 2-2V5c0-1.1-.9-2-2-2zM9 17H7v-7h2v7zm4 0h-2V7h2v10zm4 0h-2v-4h2v4z\"/>\n",
              "    </g>\n",
              "</svg>\n",
              "  </button>\n",
              "\n",
              "<style>\n",
              "  .colab-df-quickchart {\n",
              "      --bg-color: #E8F0FE;\n",
              "      --fill-color: #1967D2;\n",
              "      --hover-bg-color: #E2EBFA;\n",
              "      --hover-fill-color: #174EA6;\n",
              "      --disabled-fill-color: #AAA;\n",
              "      --disabled-bg-color: #DDD;\n",
              "  }\n",
              "\n",
              "  [theme=dark] .colab-df-quickchart {\n",
              "      --bg-color: #3B4455;\n",
              "      --fill-color: #D2E3FC;\n",
              "      --hover-bg-color: #434B5C;\n",
              "      --hover-fill-color: #FFFFFF;\n",
              "      --disabled-bg-color: #3B4455;\n",
              "      --disabled-fill-color: #666;\n",
              "  }\n",
              "\n",
              "  .colab-df-quickchart {\n",
              "    background-color: var(--bg-color);\n",
              "    border: none;\n",
              "    border-radius: 50%;\n",
              "    cursor: pointer;\n",
              "    display: none;\n",
              "    fill: var(--fill-color);\n",
              "    height: 32px;\n",
              "    padding: 0;\n",
              "    width: 32px;\n",
              "  }\n",
              "\n",
              "  .colab-df-quickchart:hover {\n",
              "    background-color: var(--hover-bg-color);\n",
              "    box-shadow: 0 1px 2px rgba(60, 64, 67, 0.3), 0 1px 3px 1px rgba(60, 64, 67, 0.15);\n",
              "    fill: var(--button-hover-fill-color);\n",
              "  }\n",
              "\n",
              "  .colab-df-quickchart-complete:disabled,\n",
              "  .colab-df-quickchart-complete:disabled:hover {\n",
              "    background-color: var(--disabled-bg-color);\n",
              "    fill: var(--disabled-fill-color);\n",
              "    box-shadow: none;\n",
              "  }\n",
              "\n",
              "  .colab-df-spinner {\n",
              "    border: 2px solid var(--fill-color);\n",
              "    border-color: transparent;\n",
              "    border-bottom-color: var(--fill-color);\n",
              "    animation:\n",
              "      spin 1s steps(1) infinite;\n",
              "  }\n",
              "\n",
              "  @keyframes spin {\n",
              "    0% {\n",
              "      border-color: transparent;\n",
              "      border-bottom-color: var(--fill-color);\n",
              "      border-left-color: var(--fill-color);\n",
              "    }\n",
              "    20% {\n",
              "      border-color: transparent;\n",
              "      border-left-color: var(--fill-color);\n",
              "      border-top-color: var(--fill-color);\n",
              "    }\n",
              "    30% {\n",
              "      border-color: transparent;\n",
              "      border-left-color: var(--fill-color);\n",
              "      border-top-color: var(--fill-color);\n",
              "      border-right-color: var(--fill-color);\n",
              "    }\n",
              "    40% {\n",
              "      border-color: transparent;\n",
              "      border-right-color: var(--fill-color);\n",
              "      border-top-color: var(--fill-color);\n",
              "    }\n",
              "    60% {\n",
              "      border-color: transparent;\n",
              "      border-right-color: var(--fill-color);\n",
              "    }\n",
              "    80% {\n",
              "      border-color: transparent;\n",
              "      border-right-color: var(--fill-color);\n",
              "      border-bottom-color: var(--fill-color);\n",
              "    }\n",
              "    90% {\n",
              "      border-color: transparent;\n",
              "      border-bottom-color: var(--fill-color);\n",
              "    }\n",
              "  }\n",
              "</style>\n",
              "\n",
              "  <script>\n",
              "    async function quickchart(key) {\n",
              "      const quickchartButtonEl =\n",
              "        document.querySelector('#' + key + ' button');\n",
              "      quickchartButtonEl.disabled = true;  // To prevent multiple clicks.\n",
              "      quickchartButtonEl.classList.add('colab-df-spinner');\n",
              "      try {\n",
              "        const charts = await google.colab.kernel.invokeFunction(\n",
              "            'suggestCharts', [key], {});\n",
              "      } catch (error) {\n",
              "        console.error('Error during call to suggestCharts:', error);\n",
              "      }\n",
              "      quickchartButtonEl.classList.remove('colab-df-spinner');\n",
              "      quickchartButtonEl.classList.add('colab-df-quickchart-complete');\n",
              "    }\n",
              "    (() => {\n",
              "      let quickchartButtonEl =\n",
              "        document.querySelector('#df-4c03092a-bfb7-4ab6-b9ed-afc8c814eaed button');\n",
              "      quickchartButtonEl.style.display =\n",
              "        google.colab.kernel.accessAllowed ? 'block' : 'none';\n",
              "    })();\n",
              "  </script>\n",
              "</div>\n",
              "\n",
              "    </div>\n",
              "  </div>\n"
            ],
            "application/vnd.google.colaboratory.intrinsic+json": {
              "type": "dataframe",
              "variable_name": "df_states",
              "summary": "{\n  \"name\": \"df_states\",\n  \"rows\": 51,\n  \"fields\": [\n    {\n      \"column\": \"State\",\n      \"properties\": {\n        \"dtype\": \"string\",\n        \"num_unique_values\": 51,\n        \"samples\": [\n          \"Texas\",\n          \"South Carolina\",\n          \"Virginia\"\n        ],\n        \"semantic_type\": \"\",\n        \"description\": \"\"\n      }\n    },\n    {\n      \"column\": \"Abbreviation\",\n      \"properties\": {\n        \"dtype\": \"string\",\n        \"num_unique_values\": 51,\n        \"samples\": [\n          \"TX\",\n          \"SC\",\n          \"VA\"\n        ],\n        \"semantic_type\": \"\",\n        \"description\": \"\"\n      }\n    }\n  ]\n}"
            }
          },
          "metadata": {},
          "execution_count": 379
        }
      ]
    },
    {
      "cell_type": "markdown",
      "source": [
        "Para conhecer qual o conteudo da tabela de população, vamos dar um \"head\""
      ],
      "metadata": {
        "id": "WXJRG-2jpHcF"
      }
    },
    {
      "cell_type": "code",
      "source": [
        "df_population.head()"
      ],
      "metadata": {
        "colab": {
          "base_uri": "https://localhost:8080/",
          "height": 206
        },
        "id": "nYKal9EdATI4",
        "outputId": "3220118f-1f63-441d-c37f-95909c3edf2b"
      },
      "execution_count": null,
      "outputs": [
        {
          "output_type": "execute_result",
          "data": {
            "text/plain": [
              "    0     1     pop\n",
              "0  AK  1950  135000\n",
              "1  AK  1951  158000\n",
              "2  AK  1952  189000\n",
              "3  AK  1953  205000\n",
              "4  AK  1954  215000"
            ],
            "text/html": [
              "\n",
              "  <div id=\"df-bf7dc11f-f56b-442f-b609-3ac85fef66da\" class=\"colab-df-container\">\n",
              "    <div>\n",
              "<style scoped>\n",
              "    .dataframe tbody tr th:only-of-type {\n",
              "        vertical-align: middle;\n",
              "    }\n",
              "\n",
              "    .dataframe tbody tr th {\n",
              "        vertical-align: top;\n",
              "    }\n",
              "\n",
              "    .dataframe thead th {\n",
              "        text-align: right;\n",
              "    }\n",
              "</style>\n",
              "<table border=\"1\" class=\"dataframe\">\n",
              "  <thead>\n",
              "    <tr style=\"text-align: right;\">\n",
              "      <th></th>\n",
              "      <th>0</th>\n",
              "      <th>1</th>\n",
              "      <th>pop</th>\n",
              "    </tr>\n",
              "  </thead>\n",
              "  <tbody>\n",
              "    <tr>\n",
              "      <th>0</th>\n",
              "      <td>AK</td>\n",
              "      <td>1950</td>\n",
              "      <td>135000</td>\n",
              "    </tr>\n",
              "    <tr>\n",
              "      <th>1</th>\n",
              "      <td>AK</td>\n",
              "      <td>1951</td>\n",
              "      <td>158000</td>\n",
              "    </tr>\n",
              "    <tr>\n",
              "      <th>2</th>\n",
              "      <td>AK</td>\n",
              "      <td>1952</td>\n",
              "      <td>189000</td>\n",
              "    </tr>\n",
              "    <tr>\n",
              "      <th>3</th>\n",
              "      <td>AK</td>\n",
              "      <td>1953</td>\n",
              "      <td>205000</td>\n",
              "    </tr>\n",
              "    <tr>\n",
              "      <th>4</th>\n",
              "      <td>AK</td>\n",
              "      <td>1954</td>\n",
              "      <td>215000</td>\n",
              "    </tr>\n",
              "  </tbody>\n",
              "</table>\n",
              "</div>\n",
              "    <div class=\"colab-df-buttons\">\n",
              "\n",
              "  <div class=\"colab-df-container\">\n",
              "    <button class=\"colab-df-convert\" onclick=\"convertToInteractive('df-bf7dc11f-f56b-442f-b609-3ac85fef66da')\"\n",
              "            title=\"Convert this dataframe to an interactive table.\"\n",
              "            style=\"display:none;\">\n",
              "\n",
              "  <svg xmlns=\"http://www.w3.org/2000/svg\" height=\"24px\" viewBox=\"0 -960 960 960\">\n",
              "    <path d=\"M120-120v-720h720v720H120Zm60-500h600v-160H180v160Zm220 220h160v-160H400v160Zm0 220h160v-160H400v160ZM180-400h160v-160H180v160Zm440 0h160v-160H620v160ZM180-180h160v-160H180v160Zm440 0h160v-160H620v160Z\"/>\n",
              "  </svg>\n",
              "    </button>\n",
              "\n",
              "  <style>\n",
              "    .colab-df-container {\n",
              "      display:flex;\n",
              "      gap: 12px;\n",
              "    }\n",
              "\n",
              "    .colab-df-convert {\n",
              "      background-color: #E8F0FE;\n",
              "      border: none;\n",
              "      border-radius: 50%;\n",
              "      cursor: pointer;\n",
              "      display: none;\n",
              "      fill: #1967D2;\n",
              "      height: 32px;\n",
              "      padding: 0 0 0 0;\n",
              "      width: 32px;\n",
              "    }\n",
              "\n",
              "    .colab-df-convert:hover {\n",
              "      background-color: #E2EBFA;\n",
              "      box-shadow: 0px 1px 2px rgba(60, 64, 67, 0.3), 0px 1px 3px 1px rgba(60, 64, 67, 0.15);\n",
              "      fill: #174EA6;\n",
              "    }\n",
              "\n",
              "    .colab-df-buttons div {\n",
              "      margin-bottom: 4px;\n",
              "    }\n",
              "\n",
              "    [theme=dark] .colab-df-convert {\n",
              "      background-color: #3B4455;\n",
              "      fill: #D2E3FC;\n",
              "    }\n",
              "\n",
              "    [theme=dark] .colab-df-convert:hover {\n",
              "      background-color: #434B5C;\n",
              "      box-shadow: 0px 1px 3px 1px rgba(0, 0, 0, 0.15);\n",
              "      filter: drop-shadow(0px 1px 2px rgba(0, 0, 0, 0.3));\n",
              "      fill: #FFFFFF;\n",
              "    }\n",
              "  </style>\n",
              "\n",
              "    <script>\n",
              "      const buttonEl =\n",
              "        document.querySelector('#df-bf7dc11f-f56b-442f-b609-3ac85fef66da button.colab-df-convert');\n",
              "      buttonEl.style.display =\n",
              "        google.colab.kernel.accessAllowed ? 'block' : 'none';\n",
              "\n",
              "      async function convertToInteractive(key) {\n",
              "        const element = document.querySelector('#df-bf7dc11f-f56b-442f-b609-3ac85fef66da');\n",
              "        const dataTable =\n",
              "          await google.colab.kernel.invokeFunction('convertToInteractive',\n",
              "                                                    [key], {});\n",
              "        if (!dataTable) return;\n",
              "\n",
              "        const docLinkHtml = 'Like what you see? Visit the ' +\n",
              "          '<a target=\"_blank\" href=https://colab.research.google.com/notebooks/data_table.ipynb>data table notebook</a>'\n",
              "          + ' to learn more about interactive tables.';\n",
              "        element.innerHTML = '';\n",
              "        dataTable['output_type'] = 'display_data';\n",
              "        await google.colab.output.renderOutput(dataTable, element);\n",
              "        const docLink = document.createElement('div');\n",
              "        docLink.innerHTML = docLinkHtml;\n",
              "        element.appendChild(docLink);\n",
              "      }\n",
              "    </script>\n",
              "  </div>\n",
              "\n",
              "\n",
              "<div id=\"df-81bb86ab-ef9a-41b2-8516-a4e6a88e350c\">\n",
              "  <button class=\"colab-df-quickchart\" onclick=\"quickchart('df-81bb86ab-ef9a-41b2-8516-a4e6a88e350c')\"\n",
              "            title=\"Suggest charts\"\n",
              "            style=\"display:none;\">\n",
              "\n",
              "<svg xmlns=\"http://www.w3.org/2000/svg\" height=\"24px\"viewBox=\"0 0 24 24\"\n",
              "     width=\"24px\">\n",
              "    <g>\n",
              "        <path d=\"M19 3H5c-1.1 0-2 .9-2 2v14c0 1.1.9 2 2 2h14c1.1 0 2-.9 2-2V5c0-1.1-.9-2-2-2zM9 17H7v-7h2v7zm4 0h-2V7h2v10zm4 0h-2v-4h2v4z\"/>\n",
              "    </g>\n",
              "</svg>\n",
              "  </button>\n",
              "\n",
              "<style>\n",
              "  .colab-df-quickchart {\n",
              "      --bg-color: #E8F0FE;\n",
              "      --fill-color: #1967D2;\n",
              "      --hover-bg-color: #E2EBFA;\n",
              "      --hover-fill-color: #174EA6;\n",
              "      --disabled-fill-color: #AAA;\n",
              "      --disabled-bg-color: #DDD;\n",
              "  }\n",
              "\n",
              "  [theme=dark] .colab-df-quickchart {\n",
              "      --bg-color: #3B4455;\n",
              "      --fill-color: #D2E3FC;\n",
              "      --hover-bg-color: #434B5C;\n",
              "      --hover-fill-color: #FFFFFF;\n",
              "      --disabled-bg-color: #3B4455;\n",
              "      --disabled-fill-color: #666;\n",
              "  }\n",
              "\n",
              "  .colab-df-quickchart {\n",
              "    background-color: var(--bg-color);\n",
              "    border: none;\n",
              "    border-radius: 50%;\n",
              "    cursor: pointer;\n",
              "    display: none;\n",
              "    fill: var(--fill-color);\n",
              "    height: 32px;\n",
              "    padding: 0;\n",
              "    width: 32px;\n",
              "  }\n",
              "\n",
              "  .colab-df-quickchart:hover {\n",
              "    background-color: var(--hover-bg-color);\n",
              "    box-shadow: 0 1px 2px rgba(60, 64, 67, 0.3), 0 1px 3px 1px rgba(60, 64, 67, 0.15);\n",
              "    fill: var(--button-hover-fill-color);\n",
              "  }\n",
              "\n",
              "  .colab-df-quickchart-complete:disabled,\n",
              "  .colab-df-quickchart-complete:disabled:hover {\n",
              "    background-color: var(--disabled-bg-color);\n",
              "    fill: var(--disabled-fill-color);\n",
              "    box-shadow: none;\n",
              "  }\n",
              "\n",
              "  .colab-df-spinner {\n",
              "    border: 2px solid var(--fill-color);\n",
              "    border-color: transparent;\n",
              "    border-bottom-color: var(--fill-color);\n",
              "    animation:\n",
              "      spin 1s steps(1) infinite;\n",
              "  }\n",
              "\n",
              "  @keyframes spin {\n",
              "    0% {\n",
              "      border-color: transparent;\n",
              "      border-bottom-color: var(--fill-color);\n",
              "      border-left-color: var(--fill-color);\n",
              "    }\n",
              "    20% {\n",
              "      border-color: transparent;\n",
              "      border-left-color: var(--fill-color);\n",
              "      border-top-color: var(--fill-color);\n",
              "    }\n",
              "    30% {\n",
              "      border-color: transparent;\n",
              "      border-left-color: var(--fill-color);\n",
              "      border-top-color: var(--fill-color);\n",
              "      border-right-color: var(--fill-color);\n",
              "    }\n",
              "    40% {\n",
              "      border-color: transparent;\n",
              "      border-right-color: var(--fill-color);\n",
              "      border-top-color: var(--fill-color);\n",
              "    }\n",
              "    60% {\n",
              "      border-color: transparent;\n",
              "      border-right-color: var(--fill-color);\n",
              "    }\n",
              "    80% {\n",
              "      border-color: transparent;\n",
              "      border-right-color: var(--fill-color);\n",
              "      border-bottom-color: var(--fill-color);\n",
              "    }\n",
              "    90% {\n",
              "      border-color: transparent;\n",
              "      border-bottom-color: var(--fill-color);\n",
              "    }\n",
              "  }\n",
              "</style>\n",
              "\n",
              "  <script>\n",
              "    async function quickchart(key) {\n",
              "      const quickchartButtonEl =\n",
              "        document.querySelector('#' + key + ' button');\n",
              "      quickchartButtonEl.disabled = true;  // To prevent multiple clicks.\n",
              "      quickchartButtonEl.classList.add('colab-df-spinner');\n",
              "      try {\n",
              "        const charts = await google.colab.kernel.invokeFunction(\n",
              "            'suggestCharts', [key], {});\n",
              "      } catch (error) {\n",
              "        console.error('Error during call to suggestCharts:', error);\n",
              "      }\n",
              "      quickchartButtonEl.classList.remove('colab-df-spinner');\n",
              "      quickchartButtonEl.classList.add('colab-df-quickchart-complete');\n",
              "    }\n",
              "    (() => {\n",
              "      let quickchartButtonEl =\n",
              "        document.querySelector('#df-81bb86ab-ef9a-41b2-8516-a4e6a88e350c button');\n",
              "      quickchartButtonEl.style.display =\n",
              "        google.colab.kernel.accessAllowed ? 'block' : 'none';\n",
              "    })();\n",
              "  </script>\n",
              "</div>\n",
              "\n",
              "    </div>\n",
              "  </div>\n"
            ],
            "application/vnd.google.colaboratory.intrinsic+json": {
              "type": "dataframe",
              "variable_name": "df_population",
              "summary": "{\n  \"name\": \"df_population\",\n  \"rows\": 6020,\n  \"fields\": [\n    {\n      \"column\": 0,\n      \"properties\": {\n        \"dtype\": \"category\",\n        \"num_unique_values\": 51,\n        \"samples\": [\n          \"TX\",\n          \"SC\",\n          \"VT\"\n        ],\n        \"semantic_type\": \"\",\n        \"description\": \"\"\n      }\n    },\n    {\n      \"column\": 1,\n      \"properties\": {\n        \"dtype\": \"number\",\n        \"std\": 34,\n        \"min\": 1900,\n        \"max\": 2019,\n        \"num_unique_values\": 120,\n        \"samples\": [\n          1994,\n          1997,\n          1954\n        ],\n        \"semantic_type\": \"\",\n        \"description\": \"\"\n      }\n    },\n    {\n      \"column\": \"pop\",\n      \"properties\": {\n        \"dtype\": \"number\",\n        \"std\": 4553915,\n        \"min\": 43000,\n        \"max\": 39512223,\n        \"num_unique_values\": 4995,\n        \"samples\": [\n          2361000,\n          1397000,\n          7719000\n        ],\n        \"semantic_type\": \"\",\n        \"description\": \"\"\n      }\n    }\n  ]\n}"
            }
          },
          "metadata": {},
          "execution_count": 380
        }
      ]
    },
    {
      "cell_type": "markdown",
      "source": [
        "Fazer o merge dos dois datasets"
      ],
      "metadata": {
        "id": "zKshHSBjpkgI"
      }
    },
    {
      "cell_type": "code",
      "source": [
        "result = pd.merge(df, df_states, left_on='state', right_on='State', how='inner')\n",
        "\n",
        "result.head()"
      ],
      "metadata": {
        "colab": {
          "base_uri": "https://localhost:8080/",
          "height": 411
        },
        "id": "7zGiwxE7DsYu",
        "outputId": "7a10082a-24e6-45a7-b925-6204cc71c4e2"
      },
      "execution_count": null,
      "outputs": [
        {
          "output_type": "execute_result",
          "data": {
            "text/plain": [
              "   uid nces_school_id                school_name  nces_district_id  \\\n",
              "0    1   080480000707      Columbine High School          804800.0   \n",
              "1   39   080723001239          Ranum High School          807230.0   \n",
              "2   82   080237000087  Platte Canyon High School          802370.0   \n",
              "3  115   080480001315   Deer Creek Middle School          804800.0   \n",
              "4  153   080531000873       Arapahoe High School          805310.0   \n",
              "\n",
              "                                       district_name        date school_year  \\\n",
              "0                               Jefferson County R-1   4/20/1999   1998-1999   \n",
              "1                                     Westminster 50    2/5/2003   2002-2003   \n",
              "2  Platte Canyon, School District No. 1, Of The C...   9/27/2006   2006-2007   \n",
              "3           Jefferson County School District No. R-1   2/23/2010   2009-2010   \n",
              "4  Littleton, School District No. 6, In The Count...  12/13/2013   2013-2014   \n",
              "\n",
              "   year      time day_of_week  ... staffing low_grade high_grade lunch  \\\n",
              "0  1999  11:19 AM     Tuesday  ...    89.60         9         12    41   \n",
              "1  2003   8:40 AM   Wednesday  ...    68.00         9         12   524   \n",
              "2  2006  11:40 AM   Wednesday  ...    26.20         9         12    82   \n",
              "3  2010   3:14 PM     Tuesday  ...    28.20         7          8    60   \n",
              "4  2013  12:30 PM      Friday  ...    98.96         9         12   200   \n",
              "\n",
              "             county  state_fips  county_fips ulocale     State Abbreviation  \n",
              "0  Jefferson County           8         8059    21.0  Colorado           CO  \n",
              "1      Adams County           8         8001    21.0  Colorado           CO  \n",
              "2       Park County           8         8093    43.0  Colorado           CO  \n",
              "3  Jefferson County           8         8059    21.0  Colorado           CO  \n",
              "4   Arapahoe County           8         8005    21.0  Colorado           CO  \n",
              "\n",
              "[5 rows x 52 columns]"
            ],
            "text/html": [
              "\n",
              "  <div id=\"df-52c7cbbf-4921-4eb9-9d7e-7d9368b79b6b\" class=\"colab-df-container\">\n",
              "    <div>\n",
              "<style scoped>\n",
              "    .dataframe tbody tr th:only-of-type {\n",
              "        vertical-align: middle;\n",
              "    }\n",
              "\n",
              "    .dataframe tbody tr th {\n",
              "        vertical-align: top;\n",
              "    }\n",
              "\n",
              "    .dataframe thead th {\n",
              "        text-align: right;\n",
              "    }\n",
              "</style>\n",
              "<table border=\"1\" class=\"dataframe\">\n",
              "  <thead>\n",
              "    <tr style=\"text-align: right;\">\n",
              "      <th></th>\n",
              "      <th>uid</th>\n",
              "      <th>nces_school_id</th>\n",
              "      <th>school_name</th>\n",
              "      <th>nces_district_id</th>\n",
              "      <th>district_name</th>\n",
              "      <th>date</th>\n",
              "      <th>school_year</th>\n",
              "      <th>year</th>\n",
              "      <th>time</th>\n",
              "      <th>day_of_week</th>\n",
              "      <th>...</th>\n",
              "      <th>staffing</th>\n",
              "      <th>low_grade</th>\n",
              "      <th>high_grade</th>\n",
              "      <th>lunch</th>\n",
              "      <th>county</th>\n",
              "      <th>state_fips</th>\n",
              "      <th>county_fips</th>\n",
              "      <th>ulocale</th>\n",
              "      <th>State</th>\n",
              "      <th>Abbreviation</th>\n",
              "    </tr>\n",
              "  </thead>\n",
              "  <tbody>\n",
              "    <tr>\n",
              "      <th>0</th>\n",
              "      <td>1</td>\n",
              "      <td>080480000707</td>\n",
              "      <td>Columbine High School</td>\n",
              "      <td>804800.0</td>\n",
              "      <td>Jefferson County R-1</td>\n",
              "      <td>4/20/1999</td>\n",
              "      <td>1998-1999</td>\n",
              "      <td>1999</td>\n",
              "      <td>11:19 AM</td>\n",
              "      <td>Tuesday</td>\n",
              "      <td>...</td>\n",
              "      <td>89.60</td>\n",
              "      <td>9</td>\n",
              "      <td>12</td>\n",
              "      <td>41</td>\n",
              "      <td>Jefferson County</td>\n",
              "      <td>8</td>\n",
              "      <td>8059</td>\n",
              "      <td>21.0</td>\n",
              "      <td>Colorado</td>\n",
              "      <td>CO</td>\n",
              "    </tr>\n",
              "    <tr>\n",
              "      <th>1</th>\n",
              "      <td>39</td>\n",
              "      <td>080723001239</td>\n",
              "      <td>Ranum High School</td>\n",
              "      <td>807230.0</td>\n",
              "      <td>Westminster 50</td>\n",
              "      <td>2/5/2003</td>\n",
              "      <td>2002-2003</td>\n",
              "      <td>2003</td>\n",
              "      <td>8:40 AM</td>\n",
              "      <td>Wednesday</td>\n",
              "      <td>...</td>\n",
              "      <td>68.00</td>\n",
              "      <td>9</td>\n",
              "      <td>12</td>\n",
              "      <td>524</td>\n",
              "      <td>Adams County</td>\n",
              "      <td>8</td>\n",
              "      <td>8001</td>\n",
              "      <td>21.0</td>\n",
              "      <td>Colorado</td>\n",
              "      <td>CO</td>\n",
              "    </tr>\n",
              "    <tr>\n",
              "      <th>2</th>\n",
              "      <td>82</td>\n",
              "      <td>080237000087</td>\n",
              "      <td>Platte Canyon High School</td>\n",
              "      <td>802370.0</td>\n",
              "      <td>Platte Canyon, School District No. 1, Of The C...</td>\n",
              "      <td>9/27/2006</td>\n",
              "      <td>2006-2007</td>\n",
              "      <td>2006</td>\n",
              "      <td>11:40 AM</td>\n",
              "      <td>Wednesday</td>\n",
              "      <td>...</td>\n",
              "      <td>26.20</td>\n",
              "      <td>9</td>\n",
              "      <td>12</td>\n",
              "      <td>82</td>\n",
              "      <td>Park County</td>\n",
              "      <td>8</td>\n",
              "      <td>8093</td>\n",
              "      <td>43.0</td>\n",
              "      <td>Colorado</td>\n",
              "      <td>CO</td>\n",
              "    </tr>\n",
              "    <tr>\n",
              "      <th>3</th>\n",
              "      <td>115</td>\n",
              "      <td>080480001315</td>\n",
              "      <td>Deer Creek Middle School</td>\n",
              "      <td>804800.0</td>\n",
              "      <td>Jefferson County School District No. R-1</td>\n",
              "      <td>2/23/2010</td>\n",
              "      <td>2009-2010</td>\n",
              "      <td>2010</td>\n",
              "      <td>3:14 PM</td>\n",
              "      <td>Tuesday</td>\n",
              "      <td>...</td>\n",
              "      <td>28.20</td>\n",
              "      <td>7</td>\n",
              "      <td>8</td>\n",
              "      <td>60</td>\n",
              "      <td>Jefferson County</td>\n",
              "      <td>8</td>\n",
              "      <td>8059</td>\n",
              "      <td>21.0</td>\n",
              "      <td>Colorado</td>\n",
              "      <td>CO</td>\n",
              "    </tr>\n",
              "    <tr>\n",
              "      <th>4</th>\n",
              "      <td>153</td>\n",
              "      <td>080531000873</td>\n",
              "      <td>Arapahoe High School</td>\n",
              "      <td>805310.0</td>\n",
              "      <td>Littleton, School District No. 6, In The Count...</td>\n",
              "      <td>12/13/2013</td>\n",
              "      <td>2013-2014</td>\n",
              "      <td>2013</td>\n",
              "      <td>12:30 PM</td>\n",
              "      <td>Friday</td>\n",
              "      <td>...</td>\n",
              "      <td>98.96</td>\n",
              "      <td>9</td>\n",
              "      <td>12</td>\n",
              "      <td>200</td>\n",
              "      <td>Arapahoe County</td>\n",
              "      <td>8</td>\n",
              "      <td>8005</td>\n",
              "      <td>21.0</td>\n",
              "      <td>Colorado</td>\n",
              "      <td>CO</td>\n",
              "    </tr>\n",
              "  </tbody>\n",
              "</table>\n",
              "<p>5 rows × 52 columns</p>\n",
              "</div>\n",
              "    <div class=\"colab-df-buttons\">\n",
              "\n",
              "  <div class=\"colab-df-container\">\n",
              "    <button class=\"colab-df-convert\" onclick=\"convertToInteractive('df-52c7cbbf-4921-4eb9-9d7e-7d9368b79b6b')\"\n",
              "            title=\"Convert this dataframe to an interactive table.\"\n",
              "            style=\"display:none;\">\n",
              "\n",
              "  <svg xmlns=\"http://www.w3.org/2000/svg\" height=\"24px\" viewBox=\"0 -960 960 960\">\n",
              "    <path d=\"M120-120v-720h720v720H120Zm60-500h600v-160H180v160Zm220 220h160v-160H400v160Zm0 220h160v-160H400v160ZM180-400h160v-160H180v160Zm440 0h160v-160H620v160ZM180-180h160v-160H180v160Zm440 0h160v-160H620v160Z\"/>\n",
              "  </svg>\n",
              "    </button>\n",
              "\n",
              "  <style>\n",
              "    .colab-df-container {\n",
              "      display:flex;\n",
              "      gap: 12px;\n",
              "    }\n",
              "\n",
              "    .colab-df-convert {\n",
              "      background-color: #E8F0FE;\n",
              "      border: none;\n",
              "      border-radius: 50%;\n",
              "      cursor: pointer;\n",
              "      display: none;\n",
              "      fill: #1967D2;\n",
              "      height: 32px;\n",
              "      padding: 0 0 0 0;\n",
              "      width: 32px;\n",
              "    }\n",
              "\n",
              "    .colab-df-convert:hover {\n",
              "      background-color: #E2EBFA;\n",
              "      box-shadow: 0px 1px 2px rgba(60, 64, 67, 0.3), 0px 1px 3px 1px rgba(60, 64, 67, 0.15);\n",
              "      fill: #174EA6;\n",
              "    }\n",
              "\n",
              "    .colab-df-buttons div {\n",
              "      margin-bottom: 4px;\n",
              "    }\n",
              "\n",
              "    [theme=dark] .colab-df-convert {\n",
              "      background-color: #3B4455;\n",
              "      fill: #D2E3FC;\n",
              "    }\n",
              "\n",
              "    [theme=dark] .colab-df-convert:hover {\n",
              "      background-color: #434B5C;\n",
              "      box-shadow: 0px 1px 3px 1px rgba(0, 0, 0, 0.15);\n",
              "      filter: drop-shadow(0px 1px 2px rgba(0, 0, 0, 0.3));\n",
              "      fill: #FFFFFF;\n",
              "    }\n",
              "  </style>\n",
              "\n",
              "    <script>\n",
              "      const buttonEl =\n",
              "        document.querySelector('#df-52c7cbbf-4921-4eb9-9d7e-7d9368b79b6b button.colab-df-convert');\n",
              "      buttonEl.style.display =\n",
              "        google.colab.kernel.accessAllowed ? 'block' : 'none';\n",
              "\n",
              "      async function convertToInteractive(key) {\n",
              "        const element = document.querySelector('#df-52c7cbbf-4921-4eb9-9d7e-7d9368b79b6b');\n",
              "        const dataTable =\n",
              "          await google.colab.kernel.invokeFunction('convertToInteractive',\n",
              "                                                    [key], {});\n",
              "        if (!dataTable) return;\n",
              "\n",
              "        const docLinkHtml = 'Like what you see? Visit the ' +\n",
              "          '<a target=\"_blank\" href=https://colab.research.google.com/notebooks/data_table.ipynb>data table notebook</a>'\n",
              "          + ' to learn more about interactive tables.';\n",
              "        element.innerHTML = '';\n",
              "        dataTable['output_type'] = 'display_data';\n",
              "        await google.colab.output.renderOutput(dataTable, element);\n",
              "        const docLink = document.createElement('div');\n",
              "        docLink.innerHTML = docLinkHtml;\n",
              "        element.appendChild(docLink);\n",
              "      }\n",
              "    </script>\n",
              "  </div>\n",
              "\n",
              "\n",
              "<div id=\"df-24f4738b-1b90-4157-8b31-08013e409dd0\">\n",
              "  <button class=\"colab-df-quickchart\" onclick=\"quickchart('df-24f4738b-1b90-4157-8b31-08013e409dd0')\"\n",
              "            title=\"Suggest charts\"\n",
              "            style=\"display:none;\">\n",
              "\n",
              "<svg xmlns=\"http://www.w3.org/2000/svg\" height=\"24px\"viewBox=\"0 0 24 24\"\n",
              "     width=\"24px\">\n",
              "    <g>\n",
              "        <path d=\"M19 3H5c-1.1 0-2 .9-2 2v14c0 1.1.9 2 2 2h14c1.1 0 2-.9 2-2V5c0-1.1-.9-2-2-2zM9 17H7v-7h2v7zm4 0h-2V7h2v10zm4 0h-2v-4h2v4z\"/>\n",
              "    </g>\n",
              "</svg>\n",
              "  </button>\n",
              "\n",
              "<style>\n",
              "  .colab-df-quickchart {\n",
              "      --bg-color: #E8F0FE;\n",
              "      --fill-color: #1967D2;\n",
              "      --hover-bg-color: #E2EBFA;\n",
              "      --hover-fill-color: #174EA6;\n",
              "      --disabled-fill-color: #AAA;\n",
              "      --disabled-bg-color: #DDD;\n",
              "  }\n",
              "\n",
              "  [theme=dark] .colab-df-quickchart {\n",
              "      --bg-color: #3B4455;\n",
              "      --fill-color: #D2E3FC;\n",
              "      --hover-bg-color: #434B5C;\n",
              "      --hover-fill-color: #FFFFFF;\n",
              "      --disabled-bg-color: #3B4455;\n",
              "      --disabled-fill-color: #666;\n",
              "  }\n",
              "\n",
              "  .colab-df-quickchart {\n",
              "    background-color: var(--bg-color);\n",
              "    border: none;\n",
              "    border-radius: 50%;\n",
              "    cursor: pointer;\n",
              "    display: none;\n",
              "    fill: var(--fill-color);\n",
              "    height: 32px;\n",
              "    padding: 0;\n",
              "    width: 32px;\n",
              "  }\n",
              "\n",
              "  .colab-df-quickchart:hover {\n",
              "    background-color: var(--hover-bg-color);\n",
              "    box-shadow: 0 1px 2px rgba(60, 64, 67, 0.3), 0 1px 3px 1px rgba(60, 64, 67, 0.15);\n",
              "    fill: var(--button-hover-fill-color);\n",
              "  }\n",
              "\n",
              "  .colab-df-quickchart-complete:disabled,\n",
              "  .colab-df-quickchart-complete:disabled:hover {\n",
              "    background-color: var(--disabled-bg-color);\n",
              "    fill: var(--disabled-fill-color);\n",
              "    box-shadow: none;\n",
              "  }\n",
              "\n",
              "  .colab-df-spinner {\n",
              "    border: 2px solid var(--fill-color);\n",
              "    border-color: transparent;\n",
              "    border-bottom-color: var(--fill-color);\n",
              "    animation:\n",
              "      spin 1s steps(1) infinite;\n",
              "  }\n",
              "\n",
              "  @keyframes spin {\n",
              "    0% {\n",
              "      border-color: transparent;\n",
              "      border-bottom-color: var(--fill-color);\n",
              "      border-left-color: var(--fill-color);\n",
              "    }\n",
              "    20% {\n",
              "      border-color: transparent;\n",
              "      border-left-color: var(--fill-color);\n",
              "      border-top-color: var(--fill-color);\n",
              "    }\n",
              "    30% {\n",
              "      border-color: transparent;\n",
              "      border-left-color: var(--fill-color);\n",
              "      border-top-color: var(--fill-color);\n",
              "      border-right-color: var(--fill-color);\n",
              "    }\n",
              "    40% {\n",
              "      border-color: transparent;\n",
              "      border-right-color: var(--fill-color);\n",
              "      border-top-color: var(--fill-color);\n",
              "    }\n",
              "    60% {\n",
              "      border-color: transparent;\n",
              "      border-right-color: var(--fill-color);\n",
              "    }\n",
              "    80% {\n",
              "      border-color: transparent;\n",
              "      border-right-color: var(--fill-color);\n",
              "      border-bottom-color: var(--fill-color);\n",
              "    }\n",
              "    90% {\n",
              "      border-color: transparent;\n",
              "      border-bottom-color: var(--fill-color);\n",
              "    }\n",
              "  }\n",
              "</style>\n",
              "\n",
              "  <script>\n",
              "    async function quickchart(key) {\n",
              "      const quickchartButtonEl =\n",
              "        document.querySelector('#' + key + ' button');\n",
              "      quickchartButtonEl.disabled = true;  // To prevent multiple clicks.\n",
              "      quickchartButtonEl.classList.add('colab-df-spinner');\n",
              "      try {\n",
              "        const charts = await google.colab.kernel.invokeFunction(\n",
              "            'suggestCharts', [key], {});\n",
              "      } catch (error) {\n",
              "        console.error('Error during call to suggestCharts:', error);\n",
              "      }\n",
              "      quickchartButtonEl.classList.remove('colab-df-spinner');\n",
              "      quickchartButtonEl.classList.add('colab-df-quickchart-complete');\n",
              "    }\n",
              "    (() => {\n",
              "      let quickchartButtonEl =\n",
              "        document.querySelector('#df-24f4738b-1b90-4157-8b31-08013e409dd0 button');\n",
              "      quickchartButtonEl.style.display =\n",
              "        google.colab.kernel.accessAllowed ? 'block' : 'none';\n",
              "    })();\n",
              "  </script>\n",
              "</div>\n",
              "\n",
              "    </div>\n",
              "  </div>\n"
            ],
            "application/vnd.google.colaboratory.intrinsic+json": {
              "type": "dataframe",
              "variable_name": "result"
            }
          },
          "metadata": {},
          "execution_count": 381
        }
      ]
    },
    {
      "cell_type": "code",
      "source": [
        "other_result = pd.merge(result, df_population, left_on='Abbreviation', right_on=0, how='inner')\n",
        "\n",
        "other_result.head()\n"
      ],
      "metadata": {
        "colab": {
          "base_uri": "https://localhost:8080/",
          "height": 342
        },
        "id": "Pjl3R4L0D875",
        "outputId": "7056c0d3-0f97-4e3f-ca07-fe3760be1dd5"
      },
      "execution_count": null,
      "outputs": [
        {
          "output_type": "execute_result",
          "data": {
            "text/plain": [
              "   uid nces_school_id            school_name  nces_district_id  \\\n",
              "0    1   080480000707  Columbine High School          804800.0   \n",
              "1    1   080480000707  Columbine High School          804800.0   \n",
              "2    1   080480000707  Columbine High School          804800.0   \n",
              "3    1   080480000707  Columbine High School          804800.0   \n",
              "4    1   080480000707  Columbine High School          804800.0   \n",
              "\n",
              "          district_name       date school_year  year      time day_of_week  \\\n",
              "0  Jefferson County R-1  4/20/1999   1998-1999  1999  11:19 AM     Tuesday   \n",
              "1  Jefferson County R-1  4/20/1999   1998-1999  1999  11:19 AM     Tuesday   \n",
              "2  Jefferson County R-1  4/20/1999   1998-1999  1999  11:19 AM     Tuesday   \n",
              "3  Jefferson County R-1  4/20/1999   1998-1999  1999  11:19 AM     Tuesday   \n",
              "4  Jefferson County R-1  4/20/1999   1998-1999  1999  11:19 AM     Tuesday   \n",
              "\n",
              "   ... lunch            county state_fips county_fips  ulocale     State  \\\n",
              "0  ...    41  Jefferson County          8        8059     21.0  Colorado   \n",
              "1  ...    41  Jefferson County          8        8059     21.0  Colorado   \n",
              "2  ...    41  Jefferson County          8        8059     21.0  Colorado   \n",
              "3  ...    41  Jefferson County          8        8059     21.0  Colorado   \n",
              "4  ...    41  Jefferson County          8        8059     21.0  Colorado   \n",
              "\n",
              "   Abbreviation   0     1     pop  \n",
              "0            CO  CO  1900  543000  \n",
              "1            CO  CO  1901  581000  \n",
              "2            CO  CO  1902  621000  \n",
              "3            CO  CO  1903  652000  \n",
              "4            CO  CO  1904  659000  \n",
              "\n",
              "[5 rows x 55 columns]"
            ],
            "text/html": [
              "\n",
              "  <div id=\"df-8c573322-f110-49ab-8dc3-f94e78f71a44\" class=\"colab-df-container\">\n",
              "    <div>\n",
              "<style scoped>\n",
              "    .dataframe tbody tr th:only-of-type {\n",
              "        vertical-align: middle;\n",
              "    }\n",
              "\n",
              "    .dataframe tbody tr th {\n",
              "        vertical-align: top;\n",
              "    }\n",
              "\n",
              "    .dataframe thead th {\n",
              "        text-align: right;\n",
              "    }\n",
              "</style>\n",
              "<table border=\"1\" class=\"dataframe\">\n",
              "  <thead>\n",
              "    <tr style=\"text-align: right;\">\n",
              "      <th></th>\n",
              "      <th>uid</th>\n",
              "      <th>nces_school_id</th>\n",
              "      <th>school_name</th>\n",
              "      <th>nces_district_id</th>\n",
              "      <th>district_name</th>\n",
              "      <th>date</th>\n",
              "      <th>school_year</th>\n",
              "      <th>year</th>\n",
              "      <th>time</th>\n",
              "      <th>day_of_week</th>\n",
              "      <th>...</th>\n",
              "      <th>lunch</th>\n",
              "      <th>county</th>\n",
              "      <th>state_fips</th>\n",
              "      <th>county_fips</th>\n",
              "      <th>ulocale</th>\n",
              "      <th>State</th>\n",
              "      <th>Abbreviation</th>\n",
              "      <th>0</th>\n",
              "      <th>1</th>\n",
              "      <th>pop</th>\n",
              "    </tr>\n",
              "  </thead>\n",
              "  <tbody>\n",
              "    <tr>\n",
              "      <th>0</th>\n",
              "      <td>1</td>\n",
              "      <td>080480000707</td>\n",
              "      <td>Columbine High School</td>\n",
              "      <td>804800.0</td>\n",
              "      <td>Jefferson County R-1</td>\n",
              "      <td>4/20/1999</td>\n",
              "      <td>1998-1999</td>\n",
              "      <td>1999</td>\n",
              "      <td>11:19 AM</td>\n",
              "      <td>Tuesday</td>\n",
              "      <td>...</td>\n",
              "      <td>41</td>\n",
              "      <td>Jefferson County</td>\n",
              "      <td>8</td>\n",
              "      <td>8059</td>\n",
              "      <td>21.0</td>\n",
              "      <td>Colorado</td>\n",
              "      <td>CO</td>\n",
              "      <td>CO</td>\n",
              "      <td>1900</td>\n",
              "      <td>543000</td>\n",
              "    </tr>\n",
              "    <tr>\n",
              "      <th>1</th>\n",
              "      <td>1</td>\n",
              "      <td>080480000707</td>\n",
              "      <td>Columbine High School</td>\n",
              "      <td>804800.0</td>\n",
              "      <td>Jefferson County R-1</td>\n",
              "      <td>4/20/1999</td>\n",
              "      <td>1998-1999</td>\n",
              "      <td>1999</td>\n",
              "      <td>11:19 AM</td>\n",
              "      <td>Tuesday</td>\n",
              "      <td>...</td>\n",
              "      <td>41</td>\n",
              "      <td>Jefferson County</td>\n",
              "      <td>8</td>\n",
              "      <td>8059</td>\n",
              "      <td>21.0</td>\n",
              "      <td>Colorado</td>\n",
              "      <td>CO</td>\n",
              "      <td>CO</td>\n",
              "      <td>1901</td>\n",
              "      <td>581000</td>\n",
              "    </tr>\n",
              "    <tr>\n",
              "      <th>2</th>\n",
              "      <td>1</td>\n",
              "      <td>080480000707</td>\n",
              "      <td>Columbine High School</td>\n",
              "      <td>804800.0</td>\n",
              "      <td>Jefferson County R-1</td>\n",
              "      <td>4/20/1999</td>\n",
              "      <td>1998-1999</td>\n",
              "      <td>1999</td>\n",
              "      <td>11:19 AM</td>\n",
              "      <td>Tuesday</td>\n",
              "      <td>...</td>\n",
              "      <td>41</td>\n",
              "      <td>Jefferson County</td>\n",
              "      <td>8</td>\n",
              "      <td>8059</td>\n",
              "      <td>21.0</td>\n",
              "      <td>Colorado</td>\n",
              "      <td>CO</td>\n",
              "      <td>CO</td>\n",
              "      <td>1902</td>\n",
              "      <td>621000</td>\n",
              "    </tr>\n",
              "    <tr>\n",
              "      <th>3</th>\n",
              "      <td>1</td>\n",
              "      <td>080480000707</td>\n",
              "      <td>Columbine High School</td>\n",
              "      <td>804800.0</td>\n",
              "      <td>Jefferson County R-1</td>\n",
              "      <td>4/20/1999</td>\n",
              "      <td>1998-1999</td>\n",
              "      <td>1999</td>\n",
              "      <td>11:19 AM</td>\n",
              "      <td>Tuesday</td>\n",
              "      <td>...</td>\n",
              "      <td>41</td>\n",
              "      <td>Jefferson County</td>\n",
              "      <td>8</td>\n",
              "      <td>8059</td>\n",
              "      <td>21.0</td>\n",
              "      <td>Colorado</td>\n",
              "      <td>CO</td>\n",
              "      <td>CO</td>\n",
              "      <td>1903</td>\n",
              "      <td>652000</td>\n",
              "    </tr>\n",
              "    <tr>\n",
              "      <th>4</th>\n",
              "      <td>1</td>\n",
              "      <td>080480000707</td>\n",
              "      <td>Columbine High School</td>\n",
              "      <td>804800.0</td>\n",
              "      <td>Jefferson County R-1</td>\n",
              "      <td>4/20/1999</td>\n",
              "      <td>1998-1999</td>\n",
              "      <td>1999</td>\n",
              "      <td>11:19 AM</td>\n",
              "      <td>Tuesday</td>\n",
              "      <td>...</td>\n",
              "      <td>41</td>\n",
              "      <td>Jefferson County</td>\n",
              "      <td>8</td>\n",
              "      <td>8059</td>\n",
              "      <td>21.0</td>\n",
              "      <td>Colorado</td>\n",
              "      <td>CO</td>\n",
              "      <td>CO</td>\n",
              "      <td>1904</td>\n",
              "      <td>659000</td>\n",
              "    </tr>\n",
              "  </tbody>\n",
              "</table>\n",
              "<p>5 rows × 55 columns</p>\n",
              "</div>\n",
              "    <div class=\"colab-df-buttons\">\n",
              "\n",
              "  <div class=\"colab-df-container\">\n",
              "    <button class=\"colab-df-convert\" onclick=\"convertToInteractive('df-8c573322-f110-49ab-8dc3-f94e78f71a44')\"\n",
              "            title=\"Convert this dataframe to an interactive table.\"\n",
              "            style=\"display:none;\">\n",
              "\n",
              "  <svg xmlns=\"http://www.w3.org/2000/svg\" height=\"24px\" viewBox=\"0 -960 960 960\">\n",
              "    <path d=\"M120-120v-720h720v720H120Zm60-500h600v-160H180v160Zm220 220h160v-160H400v160Zm0 220h160v-160H400v160ZM180-400h160v-160H180v160Zm440 0h160v-160H620v160ZM180-180h160v-160H180v160Zm440 0h160v-160H620v160Z\"/>\n",
              "  </svg>\n",
              "    </button>\n",
              "\n",
              "  <style>\n",
              "    .colab-df-container {\n",
              "      display:flex;\n",
              "      gap: 12px;\n",
              "    }\n",
              "\n",
              "    .colab-df-convert {\n",
              "      background-color: #E8F0FE;\n",
              "      border: none;\n",
              "      border-radius: 50%;\n",
              "      cursor: pointer;\n",
              "      display: none;\n",
              "      fill: #1967D2;\n",
              "      height: 32px;\n",
              "      padding: 0 0 0 0;\n",
              "      width: 32px;\n",
              "    }\n",
              "\n",
              "    .colab-df-convert:hover {\n",
              "      background-color: #E2EBFA;\n",
              "      box-shadow: 0px 1px 2px rgba(60, 64, 67, 0.3), 0px 1px 3px 1px rgba(60, 64, 67, 0.15);\n",
              "      fill: #174EA6;\n",
              "    }\n",
              "\n",
              "    .colab-df-buttons div {\n",
              "      margin-bottom: 4px;\n",
              "    }\n",
              "\n",
              "    [theme=dark] .colab-df-convert {\n",
              "      background-color: #3B4455;\n",
              "      fill: #D2E3FC;\n",
              "    }\n",
              "\n",
              "    [theme=dark] .colab-df-convert:hover {\n",
              "      background-color: #434B5C;\n",
              "      box-shadow: 0px 1px 3px 1px rgba(0, 0, 0, 0.15);\n",
              "      filter: drop-shadow(0px 1px 2px rgba(0, 0, 0, 0.3));\n",
              "      fill: #FFFFFF;\n",
              "    }\n",
              "  </style>\n",
              "\n",
              "    <script>\n",
              "      const buttonEl =\n",
              "        document.querySelector('#df-8c573322-f110-49ab-8dc3-f94e78f71a44 button.colab-df-convert');\n",
              "      buttonEl.style.display =\n",
              "        google.colab.kernel.accessAllowed ? 'block' : 'none';\n",
              "\n",
              "      async function convertToInteractive(key) {\n",
              "        const element = document.querySelector('#df-8c573322-f110-49ab-8dc3-f94e78f71a44');\n",
              "        const dataTable =\n",
              "          await google.colab.kernel.invokeFunction('convertToInteractive',\n",
              "                                                    [key], {});\n",
              "        if (!dataTable) return;\n",
              "\n",
              "        const docLinkHtml = 'Like what you see? Visit the ' +\n",
              "          '<a target=\"_blank\" href=https://colab.research.google.com/notebooks/data_table.ipynb>data table notebook</a>'\n",
              "          + ' to learn more about interactive tables.';\n",
              "        element.innerHTML = '';\n",
              "        dataTable['output_type'] = 'display_data';\n",
              "        await google.colab.output.renderOutput(dataTable, element);\n",
              "        const docLink = document.createElement('div');\n",
              "        docLink.innerHTML = docLinkHtml;\n",
              "        element.appendChild(docLink);\n",
              "      }\n",
              "    </script>\n",
              "  </div>\n",
              "\n",
              "\n",
              "<div id=\"df-9370b84b-d47a-4df1-9bfa-042210cad49d\">\n",
              "  <button class=\"colab-df-quickchart\" onclick=\"quickchart('df-9370b84b-d47a-4df1-9bfa-042210cad49d')\"\n",
              "            title=\"Suggest charts\"\n",
              "            style=\"display:none;\">\n",
              "\n",
              "<svg xmlns=\"http://www.w3.org/2000/svg\" height=\"24px\"viewBox=\"0 0 24 24\"\n",
              "     width=\"24px\">\n",
              "    <g>\n",
              "        <path d=\"M19 3H5c-1.1 0-2 .9-2 2v14c0 1.1.9 2 2 2h14c1.1 0 2-.9 2-2V5c0-1.1-.9-2-2-2zM9 17H7v-7h2v7zm4 0h-2V7h2v10zm4 0h-2v-4h2v4z\"/>\n",
              "    </g>\n",
              "</svg>\n",
              "  </button>\n",
              "\n",
              "<style>\n",
              "  .colab-df-quickchart {\n",
              "      --bg-color: #E8F0FE;\n",
              "      --fill-color: #1967D2;\n",
              "      --hover-bg-color: #E2EBFA;\n",
              "      --hover-fill-color: #174EA6;\n",
              "      --disabled-fill-color: #AAA;\n",
              "      --disabled-bg-color: #DDD;\n",
              "  }\n",
              "\n",
              "  [theme=dark] .colab-df-quickchart {\n",
              "      --bg-color: #3B4455;\n",
              "      --fill-color: #D2E3FC;\n",
              "      --hover-bg-color: #434B5C;\n",
              "      --hover-fill-color: #FFFFFF;\n",
              "      --disabled-bg-color: #3B4455;\n",
              "      --disabled-fill-color: #666;\n",
              "  }\n",
              "\n",
              "  .colab-df-quickchart {\n",
              "    background-color: var(--bg-color);\n",
              "    border: none;\n",
              "    border-radius: 50%;\n",
              "    cursor: pointer;\n",
              "    display: none;\n",
              "    fill: var(--fill-color);\n",
              "    height: 32px;\n",
              "    padding: 0;\n",
              "    width: 32px;\n",
              "  }\n",
              "\n",
              "  .colab-df-quickchart:hover {\n",
              "    background-color: var(--hover-bg-color);\n",
              "    box-shadow: 0 1px 2px rgba(60, 64, 67, 0.3), 0 1px 3px 1px rgba(60, 64, 67, 0.15);\n",
              "    fill: var(--button-hover-fill-color);\n",
              "  }\n",
              "\n",
              "  .colab-df-quickchart-complete:disabled,\n",
              "  .colab-df-quickchart-complete:disabled:hover {\n",
              "    background-color: var(--disabled-bg-color);\n",
              "    fill: var(--disabled-fill-color);\n",
              "    box-shadow: none;\n",
              "  }\n",
              "\n",
              "  .colab-df-spinner {\n",
              "    border: 2px solid var(--fill-color);\n",
              "    border-color: transparent;\n",
              "    border-bottom-color: var(--fill-color);\n",
              "    animation:\n",
              "      spin 1s steps(1) infinite;\n",
              "  }\n",
              "\n",
              "  @keyframes spin {\n",
              "    0% {\n",
              "      border-color: transparent;\n",
              "      border-bottom-color: var(--fill-color);\n",
              "      border-left-color: var(--fill-color);\n",
              "    }\n",
              "    20% {\n",
              "      border-color: transparent;\n",
              "      border-left-color: var(--fill-color);\n",
              "      border-top-color: var(--fill-color);\n",
              "    }\n",
              "    30% {\n",
              "      border-color: transparent;\n",
              "      border-left-color: var(--fill-color);\n",
              "      border-top-color: var(--fill-color);\n",
              "      border-right-color: var(--fill-color);\n",
              "    }\n",
              "    40% {\n",
              "      border-color: transparent;\n",
              "      border-right-color: var(--fill-color);\n",
              "      border-top-color: var(--fill-color);\n",
              "    }\n",
              "    60% {\n",
              "      border-color: transparent;\n",
              "      border-right-color: var(--fill-color);\n",
              "    }\n",
              "    80% {\n",
              "      border-color: transparent;\n",
              "      border-right-color: var(--fill-color);\n",
              "      border-bottom-color: var(--fill-color);\n",
              "    }\n",
              "    90% {\n",
              "      border-color: transparent;\n",
              "      border-bottom-color: var(--fill-color);\n",
              "    }\n",
              "  }\n",
              "</style>\n",
              "\n",
              "  <script>\n",
              "    async function quickchart(key) {\n",
              "      const quickchartButtonEl =\n",
              "        document.querySelector('#' + key + ' button');\n",
              "      quickchartButtonEl.disabled = true;  // To prevent multiple clicks.\n",
              "      quickchartButtonEl.classList.add('colab-df-spinner');\n",
              "      try {\n",
              "        const charts = await google.colab.kernel.invokeFunction(\n",
              "            'suggestCharts', [key], {});\n",
              "      } catch (error) {\n",
              "        console.error('Error during call to suggestCharts:', error);\n",
              "      }\n",
              "      quickchartButtonEl.classList.remove('colab-df-spinner');\n",
              "      quickchartButtonEl.classList.add('colab-df-quickchart-complete');\n",
              "    }\n",
              "    (() => {\n",
              "      let quickchartButtonEl =\n",
              "        document.querySelector('#df-9370b84b-d47a-4df1-9bfa-042210cad49d button');\n",
              "      quickchartButtonEl.style.display =\n",
              "        google.colab.kernel.accessAllowed ? 'block' : 'none';\n",
              "    })();\n",
              "  </script>\n",
              "</div>\n",
              "\n",
              "    </div>\n",
              "  </div>\n"
            ],
            "application/vnd.google.colaboratory.intrinsic+json": {
              "type": "dataframe",
              "variable_name": "other_result"
            }
          },
          "metadata": {},
          "execution_count": 382
        }
      ]
    },
    {
      "cell_type": "markdown",
      "source": [
        "Como gera linhas maiores que o necessário, é importante pegar linhas que a coluna do ano é igual à coluna 1."
      ],
      "metadata": {
        "id": "2Z0rZfnTqFUA"
      }
    },
    {
      "cell_type": "code",
      "source": [
        "right = other_result[other_result['year'] == other_result[1]]\n",
        "right = right.drop([0,'State'], axis=1)\n",
        "right.head()"
      ],
      "metadata": {
        "colab": {
          "base_uri": "https://localhost:8080/",
          "height": 411
        },
        "id": "eufkUAJIEo9H",
        "outputId": "9a541efc-84db-4476-f649-26bc106eca7e"
      },
      "execution_count": null,
      "outputs": [
        {
          "output_type": "execute_result",
          "data": {
            "text/plain": [
              "     uid nces_school_id                school_name  nces_district_id  \\\n",
              "99     1   080480000707      Columbine High School          804800.0   \n",
              "223   39   080723001239          Ranum High School          807230.0   \n",
              "346   82   080237000087  Platte Canyon High School          802370.0   \n",
              "470  115   080480001315   Deer Creek Middle School          804800.0   \n",
              "593  153   080531000873       Arapahoe High School          805310.0   \n",
              "\n",
              "                                         district_name        date  \\\n",
              "99                                Jefferson County R-1   4/20/1999   \n",
              "223                                     Westminster 50    2/5/2003   \n",
              "346  Platte Canyon, School District No. 1, Of The C...   9/27/2006   \n",
              "470           Jefferson County School District No. R-1   2/23/2010   \n",
              "593  Littleton, School District No. 6, In The Count...  12/13/2013   \n",
              "\n",
              "    school_year  year      time day_of_week  ... low_grade high_grade lunch  \\\n",
              "99    1998-1999  1999  11:19 AM     Tuesday  ...         9         12    41   \n",
              "223   2002-2003  2003   8:40 AM   Wednesday  ...         9         12   524   \n",
              "346   2006-2007  2006  11:40 AM   Wednesday  ...         9         12    82   \n",
              "470   2009-2010  2010   3:14 PM     Tuesday  ...         7          8    60   \n",
              "593   2013-2014  2013  12:30 PM      Friday  ...         9         12   200   \n",
              "\n",
              "               county  state_fips  county_fips  ulocale Abbreviation     1  \\\n",
              "99   Jefferson County           8         8059     21.0           CO  1999   \n",
              "223      Adams County           8         8001     21.0           CO  2003   \n",
              "346       Park County           8         8093     43.0           CO  2006   \n",
              "470  Jefferson County           8         8059     21.0           CO  2010   \n",
              "593   Arapahoe County           8         8005     21.0           CO  2013   \n",
              "\n",
              "         pop  \n",
              "99   4056133  \n",
              "223  4528732  \n",
              "346  4720423  \n",
              "470  5047349  \n",
              "593  5269035  \n",
              "\n",
              "[5 rows x 53 columns]"
            ],
            "text/html": [
              "\n",
              "  <div id=\"df-7496bcae-ddbc-4b19-8da5-0f3dd4054dea\" class=\"colab-df-container\">\n",
              "    <div>\n",
              "<style scoped>\n",
              "    .dataframe tbody tr th:only-of-type {\n",
              "        vertical-align: middle;\n",
              "    }\n",
              "\n",
              "    .dataframe tbody tr th {\n",
              "        vertical-align: top;\n",
              "    }\n",
              "\n",
              "    .dataframe thead th {\n",
              "        text-align: right;\n",
              "    }\n",
              "</style>\n",
              "<table border=\"1\" class=\"dataframe\">\n",
              "  <thead>\n",
              "    <tr style=\"text-align: right;\">\n",
              "      <th></th>\n",
              "      <th>uid</th>\n",
              "      <th>nces_school_id</th>\n",
              "      <th>school_name</th>\n",
              "      <th>nces_district_id</th>\n",
              "      <th>district_name</th>\n",
              "      <th>date</th>\n",
              "      <th>school_year</th>\n",
              "      <th>year</th>\n",
              "      <th>time</th>\n",
              "      <th>day_of_week</th>\n",
              "      <th>...</th>\n",
              "      <th>low_grade</th>\n",
              "      <th>high_grade</th>\n",
              "      <th>lunch</th>\n",
              "      <th>county</th>\n",
              "      <th>state_fips</th>\n",
              "      <th>county_fips</th>\n",
              "      <th>ulocale</th>\n",
              "      <th>Abbreviation</th>\n",
              "      <th>1</th>\n",
              "      <th>pop</th>\n",
              "    </tr>\n",
              "  </thead>\n",
              "  <tbody>\n",
              "    <tr>\n",
              "      <th>99</th>\n",
              "      <td>1</td>\n",
              "      <td>080480000707</td>\n",
              "      <td>Columbine High School</td>\n",
              "      <td>804800.0</td>\n",
              "      <td>Jefferson County R-1</td>\n",
              "      <td>4/20/1999</td>\n",
              "      <td>1998-1999</td>\n",
              "      <td>1999</td>\n",
              "      <td>11:19 AM</td>\n",
              "      <td>Tuesday</td>\n",
              "      <td>...</td>\n",
              "      <td>9</td>\n",
              "      <td>12</td>\n",
              "      <td>41</td>\n",
              "      <td>Jefferson County</td>\n",
              "      <td>8</td>\n",
              "      <td>8059</td>\n",
              "      <td>21.0</td>\n",
              "      <td>CO</td>\n",
              "      <td>1999</td>\n",
              "      <td>4056133</td>\n",
              "    </tr>\n",
              "    <tr>\n",
              "      <th>223</th>\n",
              "      <td>39</td>\n",
              "      <td>080723001239</td>\n",
              "      <td>Ranum High School</td>\n",
              "      <td>807230.0</td>\n",
              "      <td>Westminster 50</td>\n",
              "      <td>2/5/2003</td>\n",
              "      <td>2002-2003</td>\n",
              "      <td>2003</td>\n",
              "      <td>8:40 AM</td>\n",
              "      <td>Wednesday</td>\n",
              "      <td>...</td>\n",
              "      <td>9</td>\n",
              "      <td>12</td>\n",
              "      <td>524</td>\n",
              "      <td>Adams County</td>\n",
              "      <td>8</td>\n",
              "      <td>8001</td>\n",
              "      <td>21.0</td>\n",
              "      <td>CO</td>\n",
              "      <td>2003</td>\n",
              "      <td>4528732</td>\n",
              "    </tr>\n",
              "    <tr>\n",
              "      <th>346</th>\n",
              "      <td>82</td>\n",
              "      <td>080237000087</td>\n",
              "      <td>Platte Canyon High School</td>\n",
              "      <td>802370.0</td>\n",
              "      <td>Platte Canyon, School District No. 1, Of The C...</td>\n",
              "      <td>9/27/2006</td>\n",
              "      <td>2006-2007</td>\n",
              "      <td>2006</td>\n",
              "      <td>11:40 AM</td>\n",
              "      <td>Wednesday</td>\n",
              "      <td>...</td>\n",
              "      <td>9</td>\n",
              "      <td>12</td>\n",
              "      <td>82</td>\n",
              "      <td>Park County</td>\n",
              "      <td>8</td>\n",
              "      <td>8093</td>\n",
              "      <td>43.0</td>\n",
              "      <td>CO</td>\n",
              "      <td>2006</td>\n",
              "      <td>4720423</td>\n",
              "    </tr>\n",
              "    <tr>\n",
              "      <th>470</th>\n",
              "      <td>115</td>\n",
              "      <td>080480001315</td>\n",
              "      <td>Deer Creek Middle School</td>\n",
              "      <td>804800.0</td>\n",
              "      <td>Jefferson County School District No. R-1</td>\n",
              "      <td>2/23/2010</td>\n",
              "      <td>2009-2010</td>\n",
              "      <td>2010</td>\n",
              "      <td>3:14 PM</td>\n",
              "      <td>Tuesday</td>\n",
              "      <td>...</td>\n",
              "      <td>7</td>\n",
              "      <td>8</td>\n",
              "      <td>60</td>\n",
              "      <td>Jefferson County</td>\n",
              "      <td>8</td>\n",
              "      <td>8059</td>\n",
              "      <td>21.0</td>\n",
              "      <td>CO</td>\n",
              "      <td>2010</td>\n",
              "      <td>5047349</td>\n",
              "    </tr>\n",
              "    <tr>\n",
              "      <th>593</th>\n",
              "      <td>153</td>\n",
              "      <td>080531000873</td>\n",
              "      <td>Arapahoe High School</td>\n",
              "      <td>805310.0</td>\n",
              "      <td>Littleton, School District No. 6, In The Count...</td>\n",
              "      <td>12/13/2013</td>\n",
              "      <td>2013-2014</td>\n",
              "      <td>2013</td>\n",
              "      <td>12:30 PM</td>\n",
              "      <td>Friday</td>\n",
              "      <td>...</td>\n",
              "      <td>9</td>\n",
              "      <td>12</td>\n",
              "      <td>200</td>\n",
              "      <td>Arapahoe County</td>\n",
              "      <td>8</td>\n",
              "      <td>8005</td>\n",
              "      <td>21.0</td>\n",
              "      <td>CO</td>\n",
              "      <td>2013</td>\n",
              "      <td>5269035</td>\n",
              "    </tr>\n",
              "  </tbody>\n",
              "</table>\n",
              "<p>5 rows × 53 columns</p>\n",
              "</div>\n",
              "    <div class=\"colab-df-buttons\">\n",
              "\n",
              "  <div class=\"colab-df-container\">\n",
              "    <button class=\"colab-df-convert\" onclick=\"convertToInteractive('df-7496bcae-ddbc-4b19-8da5-0f3dd4054dea')\"\n",
              "            title=\"Convert this dataframe to an interactive table.\"\n",
              "            style=\"display:none;\">\n",
              "\n",
              "  <svg xmlns=\"http://www.w3.org/2000/svg\" height=\"24px\" viewBox=\"0 -960 960 960\">\n",
              "    <path d=\"M120-120v-720h720v720H120Zm60-500h600v-160H180v160Zm220 220h160v-160H400v160Zm0 220h160v-160H400v160ZM180-400h160v-160H180v160Zm440 0h160v-160H620v160ZM180-180h160v-160H180v160Zm440 0h160v-160H620v160Z\"/>\n",
              "  </svg>\n",
              "    </button>\n",
              "\n",
              "  <style>\n",
              "    .colab-df-container {\n",
              "      display:flex;\n",
              "      gap: 12px;\n",
              "    }\n",
              "\n",
              "    .colab-df-convert {\n",
              "      background-color: #E8F0FE;\n",
              "      border: none;\n",
              "      border-radius: 50%;\n",
              "      cursor: pointer;\n",
              "      display: none;\n",
              "      fill: #1967D2;\n",
              "      height: 32px;\n",
              "      padding: 0 0 0 0;\n",
              "      width: 32px;\n",
              "    }\n",
              "\n",
              "    .colab-df-convert:hover {\n",
              "      background-color: #E2EBFA;\n",
              "      box-shadow: 0px 1px 2px rgba(60, 64, 67, 0.3), 0px 1px 3px 1px rgba(60, 64, 67, 0.15);\n",
              "      fill: #174EA6;\n",
              "    }\n",
              "\n",
              "    .colab-df-buttons div {\n",
              "      margin-bottom: 4px;\n",
              "    }\n",
              "\n",
              "    [theme=dark] .colab-df-convert {\n",
              "      background-color: #3B4455;\n",
              "      fill: #D2E3FC;\n",
              "    }\n",
              "\n",
              "    [theme=dark] .colab-df-convert:hover {\n",
              "      background-color: #434B5C;\n",
              "      box-shadow: 0px 1px 3px 1px rgba(0, 0, 0, 0.15);\n",
              "      filter: drop-shadow(0px 1px 2px rgba(0, 0, 0, 0.3));\n",
              "      fill: #FFFFFF;\n",
              "    }\n",
              "  </style>\n",
              "\n",
              "    <script>\n",
              "      const buttonEl =\n",
              "        document.querySelector('#df-7496bcae-ddbc-4b19-8da5-0f3dd4054dea button.colab-df-convert');\n",
              "      buttonEl.style.display =\n",
              "        google.colab.kernel.accessAllowed ? 'block' : 'none';\n",
              "\n",
              "      async function convertToInteractive(key) {\n",
              "        const element = document.querySelector('#df-7496bcae-ddbc-4b19-8da5-0f3dd4054dea');\n",
              "        const dataTable =\n",
              "          await google.colab.kernel.invokeFunction('convertToInteractive',\n",
              "                                                    [key], {});\n",
              "        if (!dataTable) return;\n",
              "\n",
              "        const docLinkHtml = 'Like what you see? Visit the ' +\n",
              "          '<a target=\"_blank\" href=https://colab.research.google.com/notebooks/data_table.ipynb>data table notebook</a>'\n",
              "          + ' to learn more about interactive tables.';\n",
              "        element.innerHTML = '';\n",
              "        dataTable['output_type'] = 'display_data';\n",
              "        await google.colab.output.renderOutput(dataTable, element);\n",
              "        const docLink = document.createElement('div');\n",
              "        docLink.innerHTML = docLinkHtml;\n",
              "        element.appendChild(docLink);\n",
              "      }\n",
              "    </script>\n",
              "  </div>\n",
              "\n",
              "\n",
              "<div id=\"df-db274b59-1f90-4944-a533-835325f21643\">\n",
              "  <button class=\"colab-df-quickchart\" onclick=\"quickchart('df-db274b59-1f90-4944-a533-835325f21643')\"\n",
              "            title=\"Suggest charts\"\n",
              "            style=\"display:none;\">\n",
              "\n",
              "<svg xmlns=\"http://www.w3.org/2000/svg\" height=\"24px\"viewBox=\"0 0 24 24\"\n",
              "     width=\"24px\">\n",
              "    <g>\n",
              "        <path d=\"M19 3H5c-1.1 0-2 .9-2 2v14c0 1.1.9 2 2 2h14c1.1 0 2-.9 2-2V5c0-1.1-.9-2-2-2zM9 17H7v-7h2v7zm4 0h-2V7h2v10zm4 0h-2v-4h2v4z\"/>\n",
              "    </g>\n",
              "</svg>\n",
              "  </button>\n",
              "\n",
              "<style>\n",
              "  .colab-df-quickchart {\n",
              "      --bg-color: #E8F0FE;\n",
              "      --fill-color: #1967D2;\n",
              "      --hover-bg-color: #E2EBFA;\n",
              "      --hover-fill-color: #174EA6;\n",
              "      --disabled-fill-color: #AAA;\n",
              "      --disabled-bg-color: #DDD;\n",
              "  }\n",
              "\n",
              "  [theme=dark] .colab-df-quickchart {\n",
              "      --bg-color: #3B4455;\n",
              "      --fill-color: #D2E3FC;\n",
              "      --hover-bg-color: #434B5C;\n",
              "      --hover-fill-color: #FFFFFF;\n",
              "      --disabled-bg-color: #3B4455;\n",
              "      --disabled-fill-color: #666;\n",
              "  }\n",
              "\n",
              "  .colab-df-quickchart {\n",
              "    background-color: var(--bg-color);\n",
              "    border: none;\n",
              "    border-radius: 50%;\n",
              "    cursor: pointer;\n",
              "    display: none;\n",
              "    fill: var(--fill-color);\n",
              "    height: 32px;\n",
              "    padding: 0;\n",
              "    width: 32px;\n",
              "  }\n",
              "\n",
              "  .colab-df-quickchart:hover {\n",
              "    background-color: var(--hover-bg-color);\n",
              "    box-shadow: 0 1px 2px rgba(60, 64, 67, 0.3), 0 1px 3px 1px rgba(60, 64, 67, 0.15);\n",
              "    fill: var(--button-hover-fill-color);\n",
              "  }\n",
              "\n",
              "  .colab-df-quickchart-complete:disabled,\n",
              "  .colab-df-quickchart-complete:disabled:hover {\n",
              "    background-color: var(--disabled-bg-color);\n",
              "    fill: var(--disabled-fill-color);\n",
              "    box-shadow: none;\n",
              "  }\n",
              "\n",
              "  .colab-df-spinner {\n",
              "    border: 2px solid var(--fill-color);\n",
              "    border-color: transparent;\n",
              "    border-bottom-color: var(--fill-color);\n",
              "    animation:\n",
              "      spin 1s steps(1) infinite;\n",
              "  }\n",
              "\n",
              "  @keyframes spin {\n",
              "    0% {\n",
              "      border-color: transparent;\n",
              "      border-bottom-color: var(--fill-color);\n",
              "      border-left-color: var(--fill-color);\n",
              "    }\n",
              "    20% {\n",
              "      border-color: transparent;\n",
              "      border-left-color: var(--fill-color);\n",
              "      border-top-color: var(--fill-color);\n",
              "    }\n",
              "    30% {\n",
              "      border-color: transparent;\n",
              "      border-left-color: var(--fill-color);\n",
              "      border-top-color: var(--fill-color);\n",
              "      border-right-color: var(--fill-color);\n",
              "    }\n",
              "    40% {\n",
              "      border-color: transparent;\n",
              "      border-right-color: var(--fill-color);\n",
              "      border-top-color: var(--fill-color);\n",
              "    }\n",
              "    60% {\n",
              "      border-color: transparent;\n",
              "      border-right-color: var(--fill-color);\n",
              "    }\n",
              "    80% {\n",
              "      border-color: transparent;\n",
              "      border-right-color: var(--fill-color);\n",
              "      border-bottom-color: var(--fill-color);\n",
              "    }\n",
              "    90% {\n",
              "      border-color: transparent;\n",
              "      border-bottom-color: var(--fill-color);\n",
              "    }\n",
              "  }\n",
              "</style>\n",
              "\n",
              "  <script>\n",
              "    async function quickchart(key) {\n",
              "      const quickchartButtonEl =\n",
              "        document.querySelector('#' + key + ' button');\n",
              "      quickchartButtonEl.disabled = true;  // To prevent multiple clicks.\n",
              "      quickchartButtonEl.classList.add('colab-df-spinner');\n",
              "      try {\n",
              "        const charts = await google.colab.kernel.invokeFunction(\n",
              "            'suggestCharts', [key], {});\n",
              "      } catch (error) {\n",
              "        console.error('Error during call to suggestCharts:', error);\n",
              "      }\n",
              "      quickchartButtonEl.classList.remove('colab-df-spinner');\n",
              "      quickchartButtonEl.classList.add('colab-df-quickchart-complete');\n",
              "    }\n",
              "    (() => {\n",
              "      let quickchartButtonEl =\n",
              "        document.querySelector('#df-db274b59-1f90-4944-a533-835325f21643 button');\n",
              "      quickchartButtonEl.style.display =\n",
              "        google.colab.kernel.accessAllowed ? 'block' : 'none';\n",
              "    })();\n",
              "  </script>\n",
              "</div>\n",
              "\n",
              "    </div>\n",
              "  </div>\n"
            ],
            "application/vnd.google.colaboratory.intrinsic+json": {
              "type": "dataframe",
              "variable_name": "right"
            }
          },
          "metadata": {},
          "execution_count": 383
        }
      ]
    },
    {
      "cell_type": "markdown",
      "source": [
        "Adicionar o dataset de \"Gun Law Strength\" para análises posteriores."
      ],
      "metadata": {
        "id": "DD1CYq7Eqm5L"
      }
    },
    {
      "cell_type": "code",
      "source": [
        "df_strength.head()"
      ],
      "metadata": {
        "colab": {
          "base_uri": "https://localhost:8080/",
          "height": 206
        },
        "id": "03wLiXf9VKWH",
        "outputId": "280f3254-bb62-451c-a65d-23661913c547"
      },
      "execution_count": null,
      "outputs": [
        {
          "output_type": "execute_result",
          "data": {
            "text/plain": [
              "           state  Gun Law Strength  Gun Violence Rate\n",
              "0     California              89.5                8.6\n",
              "1       New York              83.5                5.3\n",
              "2       Illinois              83.0               14.4\n",
              "3    Connecticut              82.5                6.9\n",
              "4  Massachusetts              81.0                3.7"
            ],
            "text/html": [
              "\n",
              "  <div id=\"df-d8bc54ab-4e21-4ef2-9cfa-68d3701af315\" class=\"colab-df-container\">\n",
              "    <div>\n",
              "<style scoped>\n",
              "    .dataframe tbody tr th:only-of-type {\n",
              "        vertical-align: middle;\n",
              "    }\n",
              "\n",
              "    .dataframe tbody tr th {\n",
              "        vertical-align: top;\n",
              "    }\n",
              "\n",
              "    .dataframe thead th {\n",
              "        text-align: right;\n",
              "    }\n",
              "</style>\n",
              "<table border=\"1\" class=\"dataframe\">\n",
              "  <thead>\n",
              "    <tr style=\"text-align: right;\">\n",
              "      <th></th>\n",
              "      <th>state</th>\n",
              "      <th>Gun Law Strength</th>\n",
              "      <th>Gun Violence Rate</th>\n",
              "    </tr>\n",
              "  </thead>\n",
              "  <tbody>\n",
              "    <tr>\n",
              "      <th>0</th>\n",
              "      <td>California</td>\n",
              "      <td>89.5</td>\n",
              "      <td>8.6</td>\n",
              "    </tr>\n",
              "    <tr>\n",
              "      <th>1</th>\n",
              "      <td>New York</td>\n",
              "      <td>83.5</td>\n",
              "      <td>5.3</td>\n",
              "    </tr>\n",
              "    <tr>\n",
              "      <th>2</th>\n",
              "      <td>Illinois</td>\n",
              "      <td>83.0</td>\n",
              "      <td>14.4</td>\n",
              "    </tr>\n",
              "    <tr>\n",
              "      <th>3</th>\n",
              "      <td>Connecticut</td>\n",
              "      <td>82.5</td>\n",
              "      <td>6.9</td>\n",
              "    </tr>\n",
              "    <tr>\n",
              "      <th>4</th>\n",
              "      <td>Massachusetts</td>\n",
              "      <td>81.0</td>\n",
              "      <td>3.7</td>\n",
              "    </tr>\n",
              "  </tbody>\n",
              "</table>\n",
              "</div>\n",
              "    <div class=\"colab-df-buttons\">\n",
              "\n",
              "  <div class=\"colab-df-container\">\n",
              "    <button class=\"colab-df-convert\" onclick=\"convertToInteractive('df-d8bc54ab-4e21-4ef2-9cfa-68d3701af315')\"\n",
              "            title=\"Convert this dataframe to an interactive table.\"\n",
              "            style=\"display:none;\">\n",
              "\n",
              "  <svg xmlns=\"http://www.w3.org/2000/svg\" height=\"24px\" viewBox=\"0 -960 960 960\">\n",
              "    <path d=\"M120-120v-720h720v720H120Zm60-500h600v-160H180v160Zm220 220h160v-160H400v160Zm0 220h160v-160H400v160ZM180-400h160v-160H180v160Zm440 0h160v-160H620v160ZM180-180h160v-160H180v160Zm440 0h160v-160H620v160Z\"/>\n",
              "  </svg>\n",
              "    </button>\n",
              "\n",
              "  <style>\n",
              "    .colab-df-container {\n",
              "      display:flex;\n",
              "      gap: 12px;\n",
              "    }\n",
              "\n",
              "    .colab-df-convert {\n",
              "      background-color: #E8F0FE;\n",
              "      border: none;\n",
              "      border-radius: 50%;\n",
              "      cursor: pointer;\n",
              "      display: none;\n",
              "      fill: #1967D2;\n",
              "      height: 32px;\n",
              "      padding: 0 0 0 0;\n",
              "      width: 32px;\n",
              "    }\n",
              "\n",
              "    .colab-df-convert:hover {\n",
              "      background-color: #E2EBFA;\n",
              "      box-shadow: 0px 1px 2px rgba(60, 64, 67, 0.3), 0px 1px 3px 1px rgba(60, 64, 67, 0.15);\n",
              "      fill: #174EA6;\n",
              "    }\n",
              "\n",
              "    .colab-df-buttons div {\n",
              "      margin-bottom: 4px;\n",
              "    }\n",
              "\n",
              "    [theme=dark] .colab-df-convert {\n",
              "      background-color: #3B4455;\n",
              "      fill: #D2E3FC;\n",
              "    }\n",
              "\n",
              "    [theme=dark] .colab-df-convert:hover {\n",
              "      background-color: #434B5C;\n",
              "      box-shadow: 0px 1px 3px 1px rgba(0, 0, 0, 0.15);\n",
              "      filter: drop-shadow(0px 1px 2px rgba(0, 0, 0, 0.3));\n",
              "      fill: #FFFFFF;\n",
              "    }\n",
              "  </style>\n",
              "\n",
              "    <script>\n",
              "      const buttonEl =\n",
              "        document.querySelector('#df-d8bc54ab-4e21-4ef2-9cfa-68d3701af315 button.colab-df-convert');\n",
              "      buttonEl.style.display =\n",
              "        google.colab.kernel.accessAllowed ? 'block' : 'none';\n",
              "\n",
              "      async function convertToInteractive(key) {\n",
              "        const element = document.querySelector('#df-d8bc54ab-4e21-4ef2-9cfa-68d3701af315');\n",
              "        const dataTable =\n",
              "          await google.colab.kernel.invokeFunction('convertToInteractive',\n",
              "                                                    [key], {});\n",
              "        if (!dataTable) return;\n",
              "\n",
              "        const docLinkHtml = 'Like what you see? Visit the ' +\n",
              "          '<a target=\"_blank\" href=https://colab.research.google.com/notebooks/data_table.ipynb>data table notebook</a>'\n",
              "          + ' to learn more about interactive tables.';\n",
              "        element.innerHTML = '';\n",
              "        dataTable['output_type'] = 'display_data';\n",
              "        await google.colab.output.renderOutput(dataTable, element);\n",
              "        const docLink = document.createElement('div');\n",
              "        docLink.innerHTML = docLinkHtml;\n",
              "        element.appendChild(docLink);\n",
              "      }\n",
              "    </script>\n",
              "  </div>\n",
              "\n",
              "\n",
              "<div id=\"df-bb2b9978-a604-470a-810b-c7f7fc880339\">\n",
              "  <button class=\"colab-df-quickchart\" onclick=\"quickchart('df-bb2b9978-a604-470a-810b-c7f7fc880339')\"\n",
              "            title=\"Suggest charts\"\n",
              "            style=\"display:none;\">\n",
              "\n",
              "<svg xmlns=\"http://www.w3.org/2000/svg\" height=\"24px\"viewBox=\"0 0 24 24\"\n",
              "     width=\"24px\">\n",
              "    <g>\n",
              "        <path d=\"M19 3H5c-1.1 0-2 .9-2 2v14c0 1.1.9 2 2 2h14c1.1 0 2-.9 2-2V5c0-1.1-.9-2-2-2zM9 17H7v-7h2v7zm4 0h-2V7h2v10zm4 0h-2v-4h2v4z\"/>\n",
              "    </g>\n",
              "</svg>\n",
              "  </button>\n",
              "\n",
              "<style>\n",
              "  .colab-df-quickchart {\n",
              "      --bg-color: #E8F0FE;\n",
              "      --fill-color: #1967D2;\n",
              "      --hover-bg-color: #E2EBFA;\n",
              "      --hover-fill-color: #174EA6;\n",
              "      --disabled-fill-color: #AAA;\n",
              "      --disabled-bg-color: #DDD;\n",
              "  }\n",
              "\n",
              "  [theme=dark] .colab-df-quickchart {\n",
              "      --bg-color: #3B4455;\n",
              "      --fill-color: #D2E3FC;\n",
              "      --hover-bg-color: #434B5C;\n",
              "      --hover-fill-color: #FFFFFF;\n",
              "      --disabled-bg-color: #3B4455;\n",
              "      --disabled-fill-color: #666;\n",
              "  }\n",
              "\n",
              "  .colab-df-quickchart {\n",
              "    background-color: var(--bg-color);\n",
              "    border: none;\n",
              "    border-radius: 50%;\n",
              "    cursor: pointer;\n",
              "    display: none;\n",
              "    fill: var(--fill-color);\n",
              "    height: 32px;\n",
              "    padding: 0;\n",
              "    width: 32px;\n",
              "  }\n",
              "\n",
              "  .colab-df-quickchart:hover {\n",
              "    background-color: var(--hover-bg-color);\n",
              "    box-shadow: 0 1px 2px rgba(60, 64, 67, 0.3), 0 1px 3px 1px rgba(60, 64, 67, 0.15);\n",
              "    fill: var(--button-hover-fill-color);\n",
              "  }\n",
              "\n",
              "  .colab-df-quickchart-complete:disabled,\n",
              "  .colab-df-quickchart-complete:disabled:hover {\n",
              "    background-color: var(--disabled-bg-color);\n",
              "    fill: var(--disabled-fill-color);\n",
              "    box-shadow: none;\n",
              "  }\n",
              "\n",
              "  .colab-df-spinner {\n",
              "    border: 2px solid var(--fill-color);\n",
              "    border-color: transparent;\n",
              "    border-bottom-color: var(--fill-color);\n",
              "    animation:\n",
              "      spin 1s steps(1) infinite;\n",
              "  }\n",
              "\n",
              "  @keyframes spin {\n",
              "    0% {\n",
              "      border-color: transparent;\n",
              "      border-bottom-color: var(--fill-color);\n",
              "      border-left-color: var(--fill-color);\n",
              "    }\n",
              "    20% {\n",
              "      border-color: transparent;\n",
              "      border-left-color: var(--fill-color);\n",
              "      border-top-color: var(--fill-color);\n",
              "    }\n",
              "    30% {\n",
              "      border-color: transparent;\n",
              "      border-left-color: var(--fill-color);\n",
              "      border-top-color: var(--fill-color);\n",
              "      border-right-color: var(--fill-color);\n",
              "    }\n",
              "    40% {\n",
              "      border-color: transparent;\n",
              "      border-right-color: var(--fill-color);\n",
              "      border-top-color: var(--fill-color);\n",
              "    }\n",
              "    60% {\n",
              "      border-color: transparent;\n",
              "      border-right-color: var(--fill-color);\n",
              "    }\n",
              "    80% {\n",
              "      border-color: transparent;\n",
              "      border-right-color: var(--fill-color);\n",
              "      border-bottom-color: var(--fill-color);\n",
              "    }\n",
              "    90% {\n",
              "      border-color: transparent;\n",
              "      border-bottom-color: var(--fill-color);\n",
              "    }\n",
              "  }\n",
              "</style>\n",
              "\n",
              "  <script>\n",
              "    async function quickchart(key) {\n",
              "      const quickchartButtonEl =\n",
              "        document.querySelector('#' + key + ' button');\n",
              "      quickchartButtonEl.disabled = true;  // To prevent multiple clicks.\n",
              "      quickchartButtonEl.classList.add('colab-df-spinner');\n",
              "      try {\n",
              "        const charts = await google.colab.kernel.invokeFunction(\n",
              "            'suggestCharts', [key], {});\n",
              "      } catch (error) {\n",
              "        console.error('Error during call to suggestCharts:', error);\n",
              "      }\n",
              "      quickchartButtonEl.classList.remove('colab-df-spinner');\n",
              "      quickchartButtonEl.classList.add('colab-df-quickchart-complete');\n",
              "    }\n",
              "    (() => {\n",
              "      let quickchartButtonEl =\n",
              "        document.querySelector('#df-bb2b9978-a604-470a-810b-c7f7fc880339 button');\n",
              "      quickchartButtonEl.style.display =\n",
              "        google.colab.kernel.accessAllowed ? 'block' : 'none';\n",
              "    })();\n",
              "  </script>\n",
              "</div>\n",
              "\n",
              "    </div>\n",
              "  </div>\n"
            ],
            "application/vnd.google.colaboratory.intrinsic+json": {
              "type": "dataframe",
              "variable_name": "df_strength",
              "summary": "{\n  \"name\": \"df_strength\",\n  \"rows\": 50,\n  \"fields\": [\n    {\n      \"column\": \"state\",\n      \"properties\": {\n        \"dtype\": \"string\",\n        \"num_unique_values\": 50,\n        \"samples\": [\n          \"Minnesota\",\n          \"Kentucky\",\n          \"Iowa\"\n        ],\n        \"semantic_type\": \"\",\n        \"description\": \"\"\n      }\n    },\n    {\n      \"column\": \"Gun Law Strength\",\n      \"properties\": {\n        \"dtype\": \"number\",\n        \"std\": 27.96018305974934,\n        \"min\": 3.0,\n        \"max\": 89.5,\n        \"num_unique_values\": 40,\n        \"samples\": [\n          28.0,\n          40.0,\n          40.5\n        ],\n        \"semantic_type\": \"\",\n        \"description\": \"\"\n      }\n    },\n    {\n      \"column\": \"Gun Violence Rate\",\n      \"properties\": {\n        \"dtype\": \"number\",\n        \"std\": 6.243911646801324,\n        \"min\": 3.1,\n        \"max\": 29.6,\n        \"num_unique_values\": 47,\n        \"samples\": [\n          17.4,\n          19.8,\n          20.5\n        ],\n        \"semantic_type\": \"\",\n        \"description\": \"\"\n      }\n    }\n  ]\n}"
            }
          },
          "metadata": {},
          "execution_count": 384
        }
      ]
    },
    {
      "cell_type": "markdown",
      "source": [
        "Fazer o merge com a tabela anterior, para ter as colunas de população, Gun Law Strength e Gun Violence Rate."
      ],
      "metadata": {
        "id": "-8v5qDXtq7zT"
      }
    },
    {
      "cell_type": "code",
      "source": [
        "final_result = pd.merge(right, df_strength, left_on='state', right_on='state', how='inner')\n",
        "\n",
        "final_result.head()"
      ],
      "metadata": {
        "colab": {
          "base_uri": "https://localhost:8080/",
          "height": 446
        },
        "id": "_nE4_jr_V-TH",
        "outputId": "e2c457b5-a2aa-4e0c-ed98-121deef83088"
      },
      "execution_count": null,
      "outputs": [
        {
          "output_type": "execute_result",
          "data": {
            "text/plain": [
              "   uid nces_school_id                school_name  nces_district_id  \\\n",
              "0    1   080480000707      Columbine High School          804800.0   \n",
              "1   39   080723001239          Ranum High School          807230.0   \n",
              "2   82   080237000087  Platte Canyon High School          802370.0   \n",
              "3  115   080480001315   Deer Creek Middle School          804800.0   \n",
              "4  153   080531000873       Arapahoe High School          805310.0   \n",
              "\n",
              "                                       district_name        date school_year  \\\n",
              "0                               Jefferson County R-1   4/20/1999   1998-1999   \n",
              "1                                     Westminster 50    2/5/2003   2002-2003   \n",
              "2  Platte Canyon, School District No. 1, Of The C...   9/27/2006   2006-2007   \n",
              "3           Jefferson County School District No. R-1   2/23/2010   2009-2010   \n",
              "4  Littleton, School District No. 6, In The Count...  12/13/2013   2013-2014   \n",
              "\n",
              "   year      time day_of_week  ... lunch            county state_fips  \\\n",
              "0  1999  11:19 AM     Tuesday  ...    41  Jefferson County          8   \n",
              "1  2003   8:40 AM   Wednesday  ...   524      Adams County          8   \n",
              "2  2006  11:40 AM   Wednesday  ...    82       Park County          8   \n",
              "3  2010   3:14 PM     Tuesday  ...    60  Jefferson County          8   \n",
              "4  2013  12:30 PM      Friday  ...   200   Arapahoe County          8   \n",
              "\n",
              "  county_fips  ulocale  Abbreviation     1      pop  Gun Law Strength  \\\n",
              "0        8059     21.0            CO  1999  4056133              63.0   \n",
              "1        8001     21.0            CO  2003  4528732              63.0   \n",
              "2        8093     43.0            CO  2006  4720423              63.0   \n",
              "3        8059     21.0            CO  2010  5047349              63.0   \n",
              "4        8005     21.0            CO  2013  5269035              63.0   \n",
              "\n",
              "  Gun Violence Rate  \n",
              "0              17.1  \n",
              "1              17.1  \n",
              "2              17.1  \n",
              "3              17.1  \n",
              "4              17.1  \n",
              "\n",
              "[5 rows x 55 columns]"
            ],
            "text/html": [
              "\n",
              "  <div id=\"df-0215d0a4-e62e-4543-93c0-f1804c9418c7\" class=\"colab-df-container\">\n",
              "    <div>\n",
              "<style scoped>\n",
              "    .dataframe tbody tr th:only-of-type {\n",
              "        vertical-align: middle;\n",
              "    }\n",
              "\n",
              "    .dataframe tbody tr th {\n",
              "        vertical-align: top;\n",
              "    }\n",
              "\n",
              "    .dataframe thead th {\n",
              "        text-align: right;\n",
              "    }\n",
              "</style>\n",
              "<table border=\"1\" class=\"dataframe\">\n",
              "  <thead>\n",
              "    <tr style=\"text-align: right;\">\n",
              "      <th></th>\n",
              "      <th>uid</th>\n",
              "      <th>nces_school_id</th>\n",
              "      <th>school_name</th>\n",
              "      <th>nces_district_id</th>\n",
              "      <th>district_name</th>\n",
              "      <th>date</th>\n",
              "      <th>school_year</th>\n",
              "      <th>year</th>\n",
              "      <th>time</th>\n",
              "      <th>day_of_week</th>\n",
              "      <th>...</th>\n",
              "      <th>lunch</th>\n",
              "      <th>county</th>\n",
              "      <th>state_fips</th>\n",
              "      <th>county_fips</th>\n",
              "      <th>ulocale</th>\n",
              "      <th>Abbreviation</th>\n",
              "      <th>1</th>\n",
              "      <th>pop</th>\n",
              "      <th>Gun Law Strength</th>\n",
              "      <th>Gun Violence Rate</th>\n",
              "    </tr>\n",
              "  </thead>\n",
              "  <tbody>\n",
              "    <tr>\n",
              "      <th>0</th>\n",
              "      <td>1</td>\n",
              "      <td>080480000707</td>\n",
              "      <td>Columbine High School</td>\n",
              "      <td>804800.0</td>\n",
              "      <td>Jefferson County R-1</td>\n",
              "      <td>4/20/1999</td>\n",
              "      <td>1998-1999</td>\n",
              "      <td>1999</td>\n",
              "      <td>11:19 AM</td>\n",
              "      <td>Tuesday</td>\n",
              "      <td>...</td>\n",
              "      <td>41</td>\n",
              "      <td>Jefferson County</td>\n",
              "      <td>8</td>\n",
              "      <td>8059</td>\n",
              "      <td>21.0</td>\n",
              "      <td>CO</td>\n",
              "      <td>1999</td>\n",
              "      <td>4056133</td>\n",
              "      <td>63.0</td>\n",
              "      <td>17.1</td>\n",
              "    </tr>\n",
              "    <tr>\n",
              "      <th>1</th>\n",
              "      <td>39</td>\n",
              "      <td>080723001239</td>\n",
              "      <td>Ranum High School</td>\n",
              "      <td>807230.0</td>\n",
              "      <td>Westminster 50</td>\n",
              "      <td>2/5/2003</td>\n",
              "      <td>2002-2003</td>\n",
              "      <td>2003</td>\n",
              "      <td>8:40 AM</td>\n",
              "      <td>Wednesday</td>\n",
              "      <td>...</td>\n",
              "      <td>524</td>\n",
              "      <td>Adams County</td>\n",
              "      <td>8</td>\n",
              "      <td>8001</td>\n",
              "      <td>21.0</td>\n",
              "      <td>CO</td>\n",
              "      <td>2003</td>\n",
              "      <td>4528732</td>\n",
              "      <td>63.0</td>\n",
              "      <td>17.1</td>\n",
              "    </tr>\n",
              "    <tr>\n",
              "      <th>2</th>\n",
              "      <td>82</td>\n",
              "      <td>080237000087</td>\n",
              "      <td>Platte Canyon High School</td>\n",
              "      <td>802370.0</td>\n",
              "      <td>Platte Canyon, School District No. 1, Of The C...</td>\n",
              "      <td>9/27/2006</td>\n",
              "      <td>2006-2007</td>\n",
              "      <td>2006</td>\n",
              "      <td>11:40 AM</td>\n",
              "      <td>Wednesday</td>\n",
              "      <td>...</td>\n",
              "      <td>82</td>\n",
              "      <td>Park County</td>\n",
              "      <td>8</td>\n",
              "      <td>8093</td>\n",
              "      <td>43.0</td>\n",
              "      <td>CO</td>\n",
              "      <td>2006</td>\n",
              "      <td>4720423</td>\n",
              "      <td>63.0</td>\n",
              "      <td>17.1</td>\n",
              "    </tr>\n",
              "    <tr>\n",
              "      <th>3</th>\n",
              "      <td>115</td>\n",
              "      <td>080480001315</td>\n",
              "      <td>Deer Creek Middle School</td>\n",
              "      <td>804800.0</td>\n",
              "      <td>Jefferson County School District No. R-1</td>\n",
              "      <td>2/23/2010</td>\n",
              "      <td>2009-2010</td>\n",
              "      <td>2010</td>\n",
              "      <td>3:14 PM</td>\n",
              "      <td>Tuesday</td>\n",
              "      <td>...</td>\n",
              "      <td>60</td>\n",
              "      <td>Jefferson County</td>\n",
              "      <td>8</td>\n",
              "      <td>8059</td>\n",
              "      <td>21.0</td>\n",
              "      <td>CO</td>\n",
              "      <td>2010</td>\n",
              "      <td>5047349</td>\n",
              "      <td>63.0</td>\n",
              "      <td>17.1</td>\n",
              "    </tr>\n",
              "    <tr>\n",
              "      <th>4</th>\n",
              "      <td>153</td>\n",
              "      <td>080531000873</td>\n",
              "      <td>Arapahoe High School</td>\n",
              "      <td>805310.0</td>\n",
              "      <td>Littleton, School District No. 6, In The Count...</td>\n",
              "      <td>12/13/2013</td>\n",
              "      <td>2013-2014</td>\n",
              "      <td>2013</td>\n",
              "      <td>12:30 PM</td>\n",
              "      <td>Friday</td>\n",
              "      <td>...</td>\n",
              "      <td>200</td>\n",
              "      <td>Arapahoe County</td>\n",
              "      <td>8</td>\n",
              "      <td>8005</td>\n",
              "      <td>21.0</td>\n",
              "      <td>CO</td>\n",
              "      <td>2013</td>\n",
              "      <td>5269035</td>\n",
              "      <td>63.0</td>\n",
              "      <td>17.1</td>\n",
              "    </tr>\n",
              "  </tbody>\n",
              "</table>\n",
              "<p>5 rows × 55 columns</p>\n",
              "</div>\n",
              "    <div class=\"colab-df-buttons\">\n",
              "\n",
              "  <div class=\"colab-df-container\">\n",
              "    <button class=\"colab-df-convert\" onclick=\"convertToInteractive('df-0215d0a4-e62e-4543-93c0-f1804c9418c7')\"\n",
              "            title=\"Convert this dataframe to an interactive table.\"\n",
              "            style=\"display:none;\">\n",
              "\n",
              "  <svg xmlns=\"http://www.w3.org/2000/svg\" height=\"24px\" viewBox=\"0 -960 960 960\">\n",
              "    <path d=\"M120-120v-720h720v720H120Zm60-500h600v-160H180v160Zm220 220h160v-160H400v160Zm0 220h160v-160H400v160ZM180-400h160v-160H180v160Zm440 0h160v-160H620v160ZM180-180h160v-160H180v160Zm440 0h160v-160H620v160Z\"/>\n",
              "  </svg>\n",
              "    </button>\n",
              "\n",
              "  <style>\n",
              "    .colab-df-container {\n",
              "      display:flex;\n",
              "      gap: 12px;\n",
              "    }\n",
              "\n",
              "    .colab-df-convert {\n",
              "      background-color: #E8F0FE;\n",
              "      border: none;\n",
              "      border-radius: 50%;\n",
              "      cursor: pointer;\n",
              "      display: none;\n",
              "      fill: #1967D2;\n",
              "      height: 32px;\n",
              "      padding: 0 0 0 0;\n",
              "      width: 32px;\n",
              "    }\n",
              "\n",
              "    .colab-df-convert:hover {\n",
              "      background-color: #E2EBFA;\n",
              "      box-shadow: 0px 1px 2px rgba(60, 64, 67, 0.3), 0px 1px 3px 1px rgba(60, 64, 67, 0.15);\n",
              "      fill: #174EA6;\n",
              "    }\n",
              "\n",
              "    .colab-df-buttons div {\n",
              "      margin-bottom: 4px;\n",
              "    }\n",
              "\n",
              "    [theme=dark] .colab-df-convert {\n",
              "      background-color: #3B4455;\n",
              "      fill: #D2E3FC;\n",
              "    }\n",
              "\n",
              "    [theme=dark] .colab-df-convert:hover {\n",
              "      background-color: #434B5C;\n",
              "      box-shadow: 0px 1px 3px 1px rgba(0, 0, 0, 0.15);\n",
              "      filter: drop-shadow(0px 1px 2px rgba(0, 0, 0, 0.3));\n",
              "      fill: #FFFFFF;\n",
              "    }\n",
              "  </style>\n",
              "\n",
              "    <script>\n",
              "      const buttonEl =\n",
              "        document.querySelector('#df-0215d0a4-e62e-4543-93c0-f1804c9418c7 button.colab-df-convert');\n",
              "      buttonEl.style.display =\n",
              "        google.colab.kernel.accessAllowed ? 'block' : 'none';\n",
              "\n",
              "      async function convertToInteractive(key) {\n",
              "        const element = document.querySelector('#df-0215d0a4-e62e-4543-93c0-f1804c9418c7');\n",
              "        const dataTable =\n",
              "          await google.colab.kernel.invokeFunction('convertToInteractive',\n",
              "                                                    [key], {});\n",
              "        if (!dataTable) return;\n",
              "\n",
              "        const docLinkHtml = 'Like what you see? Visit the ' +\n",
              "          '<a target=\"_blank\" href=https://colab.research.google.com/notebooks/data_table.ipynb>data table notebook</a>'\n",
              "          + ' to learn more about interactive tables.';\n",
              "        element.innerHTML = '';\n",
              "        dataTable['output_type'] = 'display_data';\n",
              "        await google.colab.output.renderOutput(dataTable, element);\n",
              "        const docLink = document.createElement('div');\n",
              "        docLink.innerHTML = docLinkHtml;\n",
              "        element.appendChild(docLink);\n",
              "      }\n",
              "    </script>\n",
              "  </div>\n",
              "\n",
              "\n",
              "<div id=\"df-e865ca4a-2a6a-4cc7-964a-1bb2943dc955\">\n",
              "  <button class=\"colab-df-quickchart\" onclick=\"quickchart('df-e865ca4a-2a6a-4cc7-964a-1bb2943dc955')\"\n",
              "            title=\"Suggest charts\"\n",
              "            style=\"display:none;\">\n",
              "\n",
              "<svg xmlns=\"http://www.w3.org/2000/svg\" height=\"24px\"viewBox=\"0 0 24 24\"\n",
              "     width=\"24px\">\n",
              "    <g>\n",
              "        <path d=\"M19 3H5c-1.1 0-2 .9-2 2v14c0 1.1.9 2 2 2h14c1.1 0 2-.9 2-2V5c0-1.1-.9-2-2-2zM9 17H7v-7h2v7zm4 0h-2V7h2v10zm4 0h-2v-4h2v4z\"/>\n",
              "    </g>\n",
              "</svg>\n",
              "  </button>\n",
              "\n",
              "<style>\n",
              "  .colab-df-quickchart {\n",
              "      --bg-color: #E8F0FE;\n",
              "      --fill-color: #1967D2;\n",
              "      --hover-bg-color: #E2EBFA;\n",
              "      --hover-fill-color: #174EA6;\n",
              "      --disabled-fill-color: #AAA;\n",
              "      --disabled-bg-color: #DDD;\n",
              "  }\n",
              "\n",
              "  [theme=dark] .colab-df-quickchart {\n",
              "      --bg-color: #3B4455;\n",
              "      --fill-color: #D2E3FC;\n",
              "      --hover-bg-color: #434B5C;\n",
              "      --hover-fill-color: #FFFFFF;\n",
              "      --disabled-bg-color: #3B4455;\n",
              "      --disabled-fill-color: #666;\n",
              "  }\n",
              "\n",
              "  .colab-df-quickchart {\n",
              "    background-color: var(--bg-color);\n",
              "    border: none;\n",
              "    border-radius: 50%;\n",
              "    cursor: pointer;\n",
              "    display: none;\n",
              "    fill: var(--fill-color);\n",
              "    height: 32px;\n",
              "    padding: 0;\n",
              "    width: 32px;\n",
              "  }\n",
              "\n",
              "  .colab-df-quickchart:hover {\n",
              "    background-color: var(--hover-bg-color);\n",
              "    box-shadow: 0 1px 2px rgba(60, 64, 67, 0.3), 0 1px 3px 1px rgba(60, 64, 67, 0.15);\n",
              "    fill: var(--button-hover-fill-color);\n",
              "  }\n",
              "\n",
              "  .colab-df-quickchart-complete:disabled,\n",
              "  .colab-df-quickchart-complete:disabled:hover {\n",
              "    background-color: var(--disabled-bg-color);\n",
              "    fill: var(--disabled-fill-color);\n",
              "    box-shadow: none;\n",
              "  }\n",
              "\n",
              "  .colab-df-spinner {\n",
              "    border: 2px solid var(--fill-color);\n",
              "    border-color: transparent;\n",
              "    border-bottom-color: var(--fill-color);\n",
              "    animation:\n",
              "      spin 1s steps(1) infinite;\n",
              "  }\n",
              "\n",
              "  @keyframes spin {\n",
              "    0% {\n",
              "      border-color: transparent;\n",
              "      border-bottom-color: var(--fill-color);\n",
              "      border-left-color: var(--fill-color);\n",
              "    }\n",
              "    20% {\n",
              "      border-color: transparent;\n",
              "      border-left-color: var(--fill-color);\n",
              "      border-top-color: var(--fill-color);\n",
              "    }\n",
              "    30% {\n",
              "      border-color: transparent;\n",
              "      border-left-color: var(--fill-color);\n",
              "      border-top-color: var(--fill-color);\n",
              "      border-right-color: var(--fill-color);\n",
              "    }\n",
              "    40% {\n",
              "      border-color: transparent;\n",
              "      border-right-color: var(--fill-color);\n",
              "      border-top-color: var(--fill-color);\n",
              "    }\n",
              "    60% {\n",
              "      border-color: transparent;\n",
              "      border-right-color: var(--fill-color);\n",
              "    }\n",
              "    80% {\n",
              "      border-color: transparent;\n",
              "      border-right-color: var(--fill-color);\n",
              "      border-bottom-color: var(--fill-color);\n",
              "    }\n",
              "    90% {\n",
              "      border-color: transparent;\n",
              "      border-bottom-color: var(--fill-color);\n",
              "    }\n",
              "  }\n",
              "</style>\n",
              "\n",
              "  <script>\n",
              "    async function quickchart(key) {\n",
              "      const quickchartButtonEl =\n",
              "        document.querySelector('#' + key + ' button');\n",
              "      quickchartButtonEl.disabled = true;  // To prevent multiple clicks.\n",
              "      quickchartButtonEl.classList.add('colab-df-spinner');\n",
              "      try {\n",
              "        const charts = await google.colab.kernel.invokeFunction(\n",
              "            'suggestCharts', [key], {});\n",
              "      } catch (error) {\n",
              "        console.error('Error during call to suggestCharts:', error);\n",
              "      }\n",
              "      quickchartButtonEl.classList.remove('colab-df-spinner');\n",
              "      quickchartButtonEl.classList.add('colab-df-quickchart-complete');\n",
              "    }\n",
              "    (() => {\n",
              "      let quickchartButtonEl =\n",
              "        document.querySelector('#df-e865ca4a-2a6a-4cc7-964a-1bb2943dc955 button');\n",
              "      quickchartButtonEl.style.display =\n",
              "        google.colab.kernel.accessAllowed ? 'block' : 'none';\n",
              "    })();\n",
              "  </script>\n",
              "</div>\n",
              "\n",
              "    </div>\n",
              "  </div>\n"
            ],
            "application/vnd.google.colaboratory.intrinsic+json": {
              "type": "dataframe",
              "variable_name": "final_result"
            }
          },
          "metadata": {},
          "execution_count": 385
        }
      ]
    },
    {
      "cell_type": "markdown",
      "source": [
        "## **Análise Exploratória dos dados**"
      ],
      "metadata": {
        "id": "rlEqaCtrvXYB"
      }
    },
    {
      "cell_type": "markdown",
      "source": [
        "**Vamos observar a tendência geral ao longo dos anos da ocorrência de massacres nos EUA**"
      ],
      "metadata": {
        "id": "IumsrqGDv1HT"
      }
    },
    {
      "cell_type": "markdown",
      "source": [
        "Preparação do dataset de interesse"
      ],
      "metadata": {
        "id": "frRMywxwv7gR"
      }
    },
    {
      "cell_type": "code",
      "source": [
        "ocorrencias_por_ano = df.loc[:, ['uid','year']]"
      ],
      "metadata": {
        "id": "JITe32POwEza"
      },
      "execution_count": null,
      "outputs": []
    },
    {
      "cell_type": "markdown",
      "source": [
        "Vamos plotar o gráfico"
      ],
      "metadata": {
        "id": "EffMF3NKwHm4"
      }
    },
    {
      "cell_type": "code",
      "source": [
        "fig = px.histogram(\n",
        "    ocorrencias_por_ano,\n",
        "    x = 'year',\n",
        "    nbins = len(ocorrencias_por_ano['year'].unique()),\n",
        "    color_discrete_sequence = px.colors.sequential.Sunset_r\n",
        "\n",
        ")\n",
        "fig.update_layout(\n",
        "    title ={\n",
        "        'text': \"Ocorrências de massacre nos EUA\",\n",
        "        'y':0.95,\n",
        "        'x':0.42,\n",
        "        'xanchor': 'right',\n",
        "        'yanchor': 'top'\n",
        "    },\n",
        "    xaxis_title_text = 'Ano',\n",
        "    yaxis_title_text = 'Ocorrências',\n",
        "    bargap = 0.2,\n",
        "\n",
        "    paper_bgcolor = 'white',\n",
        "    font = dict(\n",
        "        family = \"Arial, sans-serif\",\n",
        "        size = 13,\n",
        "        color = \"black\"\n",
        "    )\n",
        ")\n",
        "fig.show()"
      ],
      "metadata": {
        "colab": {
          "base_uri": "https://localhost:8080/",
          "height": 542
        },
        "id": "g_SzzVkCwLoB",
        "outputId": "f88b6a86-d960-4e64-ccec-503967e62f15"
      },
      "execution_count": null,
      "outputs": [
        {
          "output_type": "display_data",
          "data": {
            "text/html": [
              "<html>\n",
              "<head><meta charset=\"utf-8\" /></head>\n",
              "<body>\n",
              "    <div>            <script src=\"https://cdnjs.cloudflare.com/ajax/libs/mathjax/2.7.5/MathJax.js?config=TeX-AMS-MML_SVG\"></script><script type=\"text/javascript\">if (window.MathJax && window.MathJax.Hub && window.MathJax.Hub.Config) {window.MathJax.Hub.Config({SVG: {font: \"STIX-Web\"}});}</script>                <script type=\"text/javascript\">window.PlotlyConfig = {MathJaxConfig: 'local'};</script>\n",
              "        <script charset=\"utf-8\" src=\"https://cdn.plot.ly/plotly-2.24.1.min.js\"></script>                <div id=\"b50a65bb-5036-4632-b3b4-925e8a5c73e4\" class=\"plotly-graph-div\" style=\"height:525px; width:100%;\"></div>            <script type=\"text/javascript\">                                    window.PLOTLYENV=window.PLOTLYENV || {};                                    if (document.getElementById(\"b50a65bb-5036-4632-b3b4-925e8a5c73e4\")) {                    Plotly.newPlot(                        \"b50a65bb-5036-4632-b3b4-925e8a5c73e4\",                        [{\"alignmentgroup\":\"True\",\"bingroup\":\"x\",\"hovertemplate\":\"year=%{x}\\u003cbr\\u003ecount=%{y}\\u003cextra\\u003e\\u003c\\u002fextra\\u003e\",\"legendgroup\":\"\",\"marker\":{\"color\":\"rgb(92, 83, 165)\",\"pattern\":{\"shape\":\"\"}},\"name\":\"\",\"nbinsx\":25,\"offsetgroup\":\"\",\"orientation\":\"v\",\"showlegend\":false,\"x\":[1999,1999,1999,1999,1999,1999,1999,2000,2000,2000,2000,2000,2000,2000,2000,2000,2000,2000,2000,2001,2001,2001,2001,2001,2001,2001,2001,2001,2001,2001,2001,2001,2002,2002,2002,2002,2002,2003,2003,2003,2003,2003,2003,2003,2003,2003,2003,2003,2003,2004,2004,2004,2004,2004,2004,2004,2004,2004,2005,2005,2005,2005,2005,2005,2005,2005,2005,2005,2005,2005,2005,2006,2006,2006,2006,2006,2006,2006,2006,2006,2006,2006,2006,2006,2006,2006,2007,2007,2007,2007,2007,2007,2007,2007,2007,2007,2008,2008,2008,2008,2008,2008,2008,2008,2008,2009,2009,2009,2009,2009,2009,2009,2009,2009,2010,2010,2010,2010,2010,2010,2010,2010,2010,2011,2011,2011,2011,2011,2011,2011,2012,2012,2012,2012,2012,2012,2012,2012,2012,2012,2012,2013,2013,2013,2013,2013,2013,2013,2013,2013,2013,2013,2013,2013,2014,2014,2014,2014,2014,2014,2014,2014,2014,2014,2014,2014,2014,2014,2014,2014,2015,2015,2015,2015,2015,2015,2015,2016,2016,2016,2016,2016,2016,2016,2016,2016,2016,2016,2016,2016,2017,2017,2017,2017,2017,2017,2017,2017,2017,2017,2017,2017,2017,2017,2017,2018,2018,2018,2018,2018,2018,2018,2018,2018,2018,2018,2018,2018,2018,2018,2018,2018,2018,2018,2018,2018,2018,2018,2018,2018,2018,2018,2018,2018,2018,2019,2019,2019,2019,2019,2019,2019,2019,2019,2019,2019,2019,2019,2019,2019,2019,2019,2019,2019,2019,2019,2019,2019,2019,2019,2019,2019,2020,2020,2020,2020,2020,2020,2020,2020,2020,2021,2021,2021,2021,2021,2021,2021,2021,2021,2021,2021,2021,2021,2021,2021,2021,2021,2021,2021,2021,2021,2021,2021,2021,2021,2021,2021,2021,2021,2021,2021,2021,2021,2021,2021,2021,2021,2021,2021,2021,2021,2021,2022,2022,2022,2022,2022,2022,2022,2022,2022,2022,2022,2022,2022,2022,2022,2022,2022,2022,2022,2022,2022,2022,2022,2022,2022,2022,2022,2022,2022,2022,2022,2022,2022,2022,2022,2022,2022,2022,2022,2022,2022,2022,2022,2022,2022,2022,2023,2023,2023,2023,2023,2023,2023,2023,2023,2023,2023,2023,2023,2023,2023,2023,2023,2023,2023,2023,2023,2023,2023,2023,2023,2023,2023,2023],\"xaxis\":\"x\",\"yaxis\":\"y\",\"type\":\"histogram\"}],                        {\"template\":{\"data\":{\"histogram2dcontour\":[{\"type\":\"histogram2dcontour\",\"colorbar\":{\"outlinewidth\":0,\"ticks\":\"\"},\"colorscale\":[[0.0,\"#0d0887\"],[0.1111111111111111,\"#46039f\"],[0.2222222222222222,\"#7201a8\"],[0.3333333333333333,\"#9c179e\"],[0.4444444444444444,\"#bd3786\"],[0.5555555555555556,\"#d8576b\"],[0.6666666666666666,\"#ed7953\"],[0.7777777777777778,\"#fb9f3a\"],[0.8888888888888888,\"#fdca26\"],[1.0,\"#f0f921\"]]}],\"choropleth\":[{\"type\":\"choropleth\",\"colorbar\":{\"outlinewidth\":0,\"ticks\":\"\"}}],\"histogram2d\":[{\"type\":\"histogram2d\",\"colorbar\":{\"outlinewidth\":0,\"ticks\":\"\"},\"colorscale\":[[0.0,\"#0d0887\"],[0.1111111111111111,\"#46039f\"],[0.2222222222222222,\"#7201a8\"],[0.3333333333333333,\"#9c179e\"],[0.4444444444444444,\"#bd3786\"],[0.5555555555555556,\"#d8576b\"],[0.6666666666666666,\"#ed7953\"],[0.7777777777777778,\"#fb9f3a\"],[0.8888888888888888,\"#fdca26\"],[1.0,\"#f0f921\"]]}],\"heatmap\":[{\"type\":\"heatmap\",\"colorbar\":{\"outlinewidth\":0,\"ticks\":\"\"},\"colorscale\":[[0.0,\"#0d0887\"],[0.1111111111111111,\"#46039f\"],[0.2222222222222222,\"#7201a8\"],[0.3333333333333333,\"#9c179e\"],[0.4444444444444444,\"#bd3786\"],[0.5555555555555556,\"#d8576b\"],[0.6666666666666666,\"#ed7953\"],[0.7777777777777778,\"#fb9f3a\"],[0.8888888888888888,\"#fdca26\"],[1.0,\"#f0f921\"]]}],\"heatmapgl\":[{\"type\":\"heatmapgl\",\"colorbar\":{\"outlinewidth\":0,\"ticks\":\"\"},\"colorscale\":[[0.0,\"#0d0887\"],[0.1111111111111111,\"#46039f\"],[0.2222222222222222,\"#7201a8\"],[0.3333333333333333,\"#9c179e\"],[0.4444444444444444,\"#bd3786\"],[0.5555555555555556,\"#d8576b\"],[0.6666666666666666,\"#ed7953\"],[0.7777777777777778,\"#fb9f3a\"],[0.8888888888888888,\"#fdca26\"],[1.0,\"#f0f921\"]]}],\"contourcarpet\":[{\"type\":\"contourcarpet\",\"colorbar\":{\"outlinewidth\":0,\"ticks\":\"\"}}],\"contour\":[{\"type\":\"contour\",\"colorbar\":{\"outlinewidth\":0,\"ticks\":\"\"},\"colorscale\":[[0.0,\"#0d0887\"],[0.1111111111111111,\"#46039f\"],[0.2222222222222222,\"#7201a8\"],[0.3333333333333333,\"#9c179e\"],[0.4444444444444444,\"#bd3786\"],[0.5555555555555556,\"#d8576b\"],[0.6666666666666666,\"#ed7953\"],[0.7777777777777778,\"#fb9f3a\"],[0.8888888888888888,\"#fdca26\"],[1.0,\"#f0f921\"]]}],\"surface\":[{\"type\":\"surface\",\"colorbar\":{\"outlinewidth\":0,\"ticks\":\"\"},\"colorscale\":[[0.0,\"#0d0887\"],[0.1111111111111111,\"#46039f\"],[0.2222222222222222,\"#7201a8\"],[0.3333333333333333,\"#9c179e\"],[0.4444444444444444,\"#bd3786\"],[0.5555555555555556,\"#d8576b\"],[0.6666666666666666,\"#ed7953\"],[0.7777777777777778,\"#fb9f3a\"],[0.8888888888888888,\"#fdca26\"],[1.0,\"#f0f921\"]]}],\"mesh3d\":[{\"type\":\"mesh3d\",\"colorbar\":{\"outlinewidth\":0,\"ticks\":\"\"}}],\"scatter\":[{\"fillpattern\":{\"fillmode\":\"overlay\",\"size\":10,\"solidity\":0.2},\"type\":\"scatter\"}],\"parcoords\":[{\"type\":\"parcoords\",\"line\":{\"colorbar\":{\"outlinewidth\":0,\"ticks\":\"\"}}}],\"scatterpolargl\":[{\"type\":\"scatterpolargl\",\"marker\":{\"colorbar\":{\"outlinewidth\":0,\"ticks\":\"\"}}}],\"bar\":[{\"error_x\":{\"color\":\"#2a3f5f\"},\"error_y\":{\"color\":\"#2a3f5f\"},\"marker\":{\"line\":{\"color\":\"#E5ECF6\",\"width\":0.5},\"pattern\":{\"fillmode\":\"overlay\",\"size\":10,\"solidity\":0.2}},\"type\":\"bar\"}],\"scattergeo\":[{\"type\":\"scattergeo\",\"marker\":{\"colorbar\":{\"outlinewidth\":0,\"ticks\":\"\"}}}],\"scatterpolar\":[{\"type\":\"scatterpolar\",\"marker\":{\"colorbar\":{\"outlinewidth\":0,\"ticks\":\"\"}}}],\"histogram\":[{\"marker\":{\"pattern\":{\"fillmode\":\"overlay\",\"size\":10,\"solidity\":0.2}},\"type\":\"histogram\"}],\"scattergl\":[{\"type\":\"scattergl\",\"marker\":{\"colorbar\":{\"outlinewidth\":0,\"ticks\":\"\"}}}],\"scatter3d\":[{\"type\":\"scatter3d\",\"line\":{\"colorbar\":{\"outlinewidth\":0,\"ticks\":\"\"}},\"marker\":{\"colorbar\":{\"outlinewidth\":0,\"ticks\":\"\"}}}],\"scattermapbox\":[{\"type\":\"scattermapbox\",\"marker\":{\"colorbar\":{\"outlinewidth\":0,\"ticks\":\"\"}}}],\"scatterternary\":[{\"type\":\"scatterternary\",\"marker\":{\"colorbar\":{\"outlinewidth\":0,\"ticks\":\"\"}}}],\"scattercarpet\":[{\"type\":\"scattercarpet\",\"marker\":{\"colorbar\":{\"outlinewidth\":0,\"ticks\":\"\"}}}],\"carpet\":[{\"aaxis\":{\"endlinecolor\":\"#2a3f5f\",\"gridcolor\":\"white\",\"linecolor\":\"white\",\"minorgridcolor\":\"white\",\"startlinecolor\":\"#2a3f5f\"},\"baxis\":{\"endlinecolor\":\"#2a3f5f\",\"gridcolor\":\"white\",\"linecolor\":\"white\",\"minorgridcolor\":\"white\",\"startlinecolor\":\"#2a3f5f\"},\"type\":\"carpet\"}],\"table\":[{\"cells\":{\"fill\":{\"color\":\"#EBF0F8\"},\"line\":{\"color\":\"white\"}},\"header\":{\"fill\":{\"color\":\"#C8D4E3\"},\"line\":{\"color\":\"white\"}},\"type\":\"table\"}],\"barpolar\":[{\"marker\":{\"line\":{\"color\":\"#E5ECF6\",\"width\":0.5},\"pattern\":{\"fillmode\":\"overlay\",\"size\":10,\"solidity\":0.2}},\"type\":\"barpolar\"}],\"pie\":[{\"automargin\":true,\"type\":\"pie\"}]},\"layout\":{\"autotypenumbers\":\"strict\",\"colorway\":[\"#636efa\",\"#EF553B\",\"#00cc96\",\"#ab63fa\",\"#FFA15A\",\"#19d3f3\",\"#FF6692\",\"#B6E880\",\"#FF97FF\",\"#FECB52\"],\"font\":{\"color\":\"#2a3f5f\"},\"hovermode\":\"closest\",\"hoverlabel\":{\"align\":\"left\"},\"paper_bgcolor\":\"white\",\"plot_bgcolor\":\"#E5ECF6\",\"polar\":{\"bgcolor\":\"#E5ECF6\",\"angularaxis\":{\"gridcolor\":\"white\",\"linecolor\":\"white\",\"ticks\":\"\"},\"radialaxis\":{\"gridcolor\":\"white\",\"linecolor\":\"white\",\"ticks\":\"\"}},\"ternary\":{\"bgcolor\":\"#E5ECF6\",\"aaxis\":{\"gridcolor\":\"white\",\"linecolor\":\"white\",\"ticks\":\"\"},\"baxis\":{\"gridcolor\":\"white\",\"linecolor\":\"white\",\"ticks\":\"\"},\"caxis\":{\"gridcolor\":\"white\",\"linecolor\":\"white\",\"ticks\":\"\"}},\"coloraxis\":{\"colorbar\":{\"outlinewidth\":0,\"ticks\":\"\"}},\"colorscale\":{\"sequential\":[[0.0,\"#0d0887\"],[0.1111111111111111,\"#46039f\"],[0.2222222222222222,\"#7201a8\"],[0.3333333333333333,\"#9c179e\"],[0.4444444444444444,\"#bd3786\"],[0.5555555555555556,\"#d8576b\"],[0.6666666666666666,\"#ed7953\"],[0.7777777777777778,\"#fb9f3a\"],[0.8888888888888888,\"#fdca26\"],[1.0,\"#f0f921\"]],\"sequentialminus\":[[0.0,\"#0d0887\"],[0.1111111111111111,\"#46039f\"],[0.2222222222222222,\"#7201a8\"],[0.3333333333333333,\"#9c179e\"],[0.4444444444444444,\"#bd3786\"],[0.5555555555555556,\"#d8576b\"],[0.6666666666666666,\"#ed7953\"],[0.7777777777777778,\"#fb9f3a\"],[0.8888888888888888,\"#fdca26\"],[1.0,\"#f0f921\"]],\"diverging\":[[0,\"#8e0152\"],[0.1,\"#c51b7d\"],[0.2,\"#de77ae\"],[0.3,\"#f1b6da\"],[0.4,\"#fde0ef\"],[0.5,\"#f7f7f7\"],[0.6,\"#e6f5d0\"],[0.7,\"#b8e186\"],[0.8,\"#7fbc41\"],[0.9,\"#4d9221\"],[1,\"#276419\"]]},\"xaxis\":{\"gridcolor\":\"white\",\"linecolor\":\"white\",\"ticks\":\"\",\"title\":{\"standoff\":15},\"zerolinecolor\":\"white\",\"automargin\":true,\"zerolinewidth\":2},\"yaxis\":{\"gridcolor\":\"white\",\"linecolor\":\"white\",\"ticks\":\"\",\"title\":{\"standoff\":15},\"zerolinecolor\":\"white\",\"automargin\":true,\"zerolinewidth\":2},\"scene\":{\"xaxis\":{\"backgroundcolor\":\"#E5ECF6\",\"gridcolor\":\"white\",\"linecolor\":\"white\",\"showbackground\":true,\"ticks\":\"\",\"zerolinecolor\":\"white\",\"gridwidth\":2},\"yaxis\":{\"backgroundcolor\":\"#E5ECF6\",\"gridcolor\":\"white\",\"linecolor\":\"white\",\"showbackground\":true,\"ticks\":\"\",\"zerolinecolor\":\"white\",\"gridwidth\":2},\"zaxis\":{\"backgroundcolor\":\"#E5ECF6\",\"gridcolor\":\"white\",\"linecolor\":\"white\",\"showbackground\":true,\"ticks\":\"\",\"zerolinecolor\":\"white\",\"gridwidth\":2}},\"shapedefaults\":{\"line\":{\"color\":\"#2a3f5f\"}},\"annotationdefaults\":{\"arrowcolor\":\"#2a3f5f\",\"arrowhead\":0,\"arrowwidth\":1},\"geo\":{\"bgcolor\":\"white\",\"landcolor\":\"#E5ECF6\",\"subunitcolor\":\"white\",\"showland\":true,\"showlakes\":true,\"lakecolor\":\"white\"},\"title\":{\"x\":0.05},\"mapbox\":{\"style\":\"light\"}}},\"xaxis\":{\"anchor\":\"y\",\"domain\":[0.0,1.0],\"title\":{\"text\":\"Ano\"}},\"yaxis\":{\"anchor\":\"x\",\"domain\":[0.0,1.0],\"title\":{\"text\":\"Ocorr\\u00eancias\"}},\"legend\":{\"tracegroupgap\":0},\"margin\":{\"t\":60},\"barmode\":\"relative\",\"title\":{\"text\":\"Ocorr\\u00eancias de massacre nos EUA\",\"y\":0.95,\"x\":0.42,\"xanchor\":\"right\",\"yanchor\":\"top\"},\"font\":{\"family\":\"Arial, sans-serif\",\"size\":13,\"color\":\"black\"},\"bargap\":0.2,\"paper_bgcolor\":\"white\"},                        {\"responsive\": true}                    ).then(function(){\n",
              "                            \n",
              "var gd = document.getElementById('b50a65bb-5036-4632-b3b4-925e8a5c73e4');\n",
              "var x = new MutationObserver(function (mutations, observer) {{\n",
              "        var display = window.getComputedStyle(gd).display;\n",
              "        if (!display || display === 'none') {{\n",
              "            console.log([gd, 'removed!']);\n",
              "            Plotly.purge(gd);\n",
              "            observer.disconnect();\n",
              "        }}\n",
              "}});\n",
              "\n",
              "// Listen for the removal of the full notebook cells\n",
              "var notebookContainer = gd.closest('#notebook-container');\n",
              "if (notebookContainer) {{\n",
              "    x.observe(notebookContainer, {childList: true});\n",
              "}}\n",
              "\n",
              "// Listen for the clearing of the current output cell\n",
              "var outputEl = gd.closest('.output');\n",
              "if (outputEl) {{\n",
              "    x.observe(outputEl, {childList: true});\n",
              "}}\n",
              "\n",
              "                        })                };                            </script>        </div>\n",
              "</body>\n",
              "</html>"
            ]
          },
          "metadata": {}
        }
      ]
    },
    {
      "cell_type": "markdown",
      "source": [
        "Observamos que, em geral, houve um crescimento do número de ocorrências de massacres em escolas ao longo dos anos."
      ],
      "metadata": {
        "id": "tIKXfakjwXyG"
      }
    },
    {
      "cell_type": "markdown",
      "source": [
        "**Incidentes por mês**"
      ],
      "metadata": {
        "id": "BqsYzGEtwZBE"
      }
    },
    {
      "cell_type": "markdown",
      "source": [
        "Preparação do dataset de interesse"
      ],
      "metadata": {
        "id": "XHi49gxcwn9f"
      }
    },
    {
      "cell_type": "code",
      "source": [
        "incidentes_por_mes = df.loc[:, ['uid', 'date', 'killed', 'injured', 'casualties']]\n",
        "incidentes_por_mes['date'] = pd.to_datetime(incidentes_por_mes['date'])\n",
        "incidentes_por_mes['month'] = incidentes_por_mes['date'].dt.month\n",
        "months = [\n",
        "    'Janeiro',\n",
        "    'Fevereiro',\n",
        "    'Março',\n",
        "    'Abril',\n",
        "    'Maio',\n",
        "    'Junho',\n",
        "    'Julho',\n",
        "    'Agosto',\n",
        "    'Setembro',\n",
        "    'Outubro',\n",
        "    'Novembro',\n",
        "    'Dezembro'\n",
        "]\n",
        "incidentes_por_mes['month'] = incidentes_por_mes['month'].apply(lambda x: months[x-1])"
      ],
      "metadata": {
        "id": "4cBN-dINwrir"
      },
      "execution_count": null,
      "outputs": []
    },
    {
      "cell_type": "markdown",
      "source": [
        "Vamos plotar o gráfico"
      ],
      "metadata": {
        "id": "7Eu2EWM7wvvx"
      }
    },
    {
      "cell_type": "code",
      "source": [
        "fig = px.histogram(\n",
        "    incidentes_por_mes,\n",
        "    x = 'month',\n",
        "    color_discrete_sequence = px.colors.sequential.Sunset_r,\n",
        "\n",
        ")\n",
        "\n",
        "\n",
        "fig.update_xaxes(categoryorder='array', categoryarray=months)\n",
        "fig.update_layout(\n",
        "    title ={\n",
        "        'text': \"Ocorrências por mês\",\n",
        "        'y':0.95,\n",
        "        'x':0.28,\n",
        "        'xanchor': 'right',\n",
        "        'yanchor': 'top'\n",
        "    },\n",
        "    xaxis_title_text = 'Mês',\n",
        "    yaxis_title_text = 'Ocorrências',\n",
        "    bargap = 0.2,\n",
        "    font = dict(\n",
        "        family = \"Arial, sans-serif\",\n",
        "        size = 13,\n",
        "        color = \"black\"\n",
        "    )\n",
        ")\n",
        "\n",
        "fig.show()"
      ],
      "metadata": {
        "colab": {
          "base_uri": "https://localhost:8080/",
          "height": 542
        },
        "id": "mqua92eEwyYS",
        "outputId": "5edc7c0d-c7b3-456d-ed45-1eece458b211"
      },
      "execution_count": null,
      "outputs": [
        {
          "output_type": "display_data",
          "data": {
            "text/html": [
              "<html>\n",
              "<head><meta charset=\"utf-8\" /></head>\n",
              "<body>\n",
              "    <div>            <script src=\"https://cdnjs.cloudflare.com/ajax/libs/mathjax/2.7.5/MathJax.js?config=TeX-AMS-MML_SVG\"></script><script type=\"text/javascript\">if (window.MathJax && window.MathJax.Hub && window.MathJax.Hub.Config) {window.MathJax.Hub.Config({SVG: {font: \"STIX-Web\"}});}</script>                <script type=\"text/javascript\">window.PlotlyConfig = {MathJaxConfig: 'local'};</script>\n",
              "        <script charset=\"utf-8\" src=\"https://cdn.plot.ly/plotly-2.24.1.min.js\"></script>                <div id=\"8c3aad65-b94a-48e9-a04d-62cd0a30875a\" class=\"plotly-graph-div\" style=\"height:525px; width:100%;\"></div>            <script type=\"text/javascript\">                                    window.PLOTLYENV=window.PLOTLYENV || {};                                    if (document.getElementById(\"8c3aad65-b94a-48e9-a04d-62cd0a30875a\")) {                    Plotly.newPlot(                        \"8c3aad65-b94a-48e9-a04d-62cd0a30875a\",                        [{\"alignmentgroup\":\"True\",\"bingroup\":\"x\",\"hovertemplate\":\"month=%{x}\\u003cbr\\u003ecount=%{y}\\u003cextra\\u003e\\u003c\\u002fextra\\u003e\",\"legendgroup\":\"\",\"marker\":{\"color\":\"rgb(92, 83, 165)\",\"pattern\":{\"shape\":\"\"}},\"name\":\"\",\"offsetgroup\":\"\",\"orientation\":\"v\",\"showlegend\":false,\"x\":[\"Abril\",\"Abril\",\"Maio\",\"Outubro\",\"Novembro\",\"Novembro\",\"Dezembro\",\"Janeiro\",\"Janeiro\",\"Fevereiro\",\"Fevereiro\",\"Fevereiro\",\"Fevereiro\",\"Abril\",\"Maio\",\"Maio\",\"Julho\",\"Setembro\",\"Setembro\",\"Janeiro\",\"Janeiro\",\"Fevereiro\",\"Mar\\u00e7o\",\"Mar\\u00e7o\",\"Mar\\u00e7o\",\"Mar\\u00e7o\",\"Abril\",\"Maio\",\"Julho\",\"Setembro\",\"Outubro\",\"Novembro\",\"Janeiro\",\"Fevereiro\",\"Outubro\",\"Outubro\",\"Novembro\",\"Janeiro\",\"Fevereiro\",\"Abril\",\"Abril\",\"Abril\",\"Abril\",\"Setembro\",\"Setembro\",\"Setembro\",\"Setembro\",\"Outubro\",\"Novembro\",\"Fevereiro\",\"Fevereiro\",\"Fevereiro\",\"Junho\",\"Agosto\",\"Setembro\",\"Outubro\",\"Novembro\",\"Dezembro\",\"Janeiro\",\"Fevereiro\",\"Mar\\u00e7o\",\"Mar\\u00e7o\",\"Abril\",\"Maio\",\"Agosto\",\"Setembro\",\"Setembro\",\"Outubro\",\"Outubro\",\"Novembro\",\"Dezembro\",\"Janeiro\",\"Janeiro\",\"Janeiro\",\"Janeiro\",\"Janeiro\",\"Fevereiro\",\"Fevereiro\",\"Mar\\u00e7o\",\"Junho\",\"Agosto\",\"Setembro\",\"Setembro\",\"Setembro\",\"Outubro\",\"Outubro\",\"Janeiro\",\"Janeiro\",\"Janeiro\",\"Mar\\u00e7o\",\"Abril\",\"Abril\",\"Maio\",\"Junho\",\"Outubro\",\"Outubro\",\"Janeiro\",\"Fevereiro\",\"Fevereiro\",\"Fevereiro\",\"Fevereiro\",\"Mar\\u00e7o\",\"Abril\",\"Agosto\",\"Novembro\",\"Fevereiro\",\"Fevereiro\",\"Mar\\u00e7o\",\"Maio\",\"Setembro\",\"Setembro\",\"Outubro\",\"Outubro\",\"Dezembro\",\"Fevereiro\",\"Fevereiro\",\"Abril\",\"Maio\",\"Agosto\",\"Setembro\",\"Outubro\",\"Outubro\",\"Novembro\",\"Janeiro\",\"Janeiro\",\"Fevereiro\",\"Mar\\u00e7o\",\"Abril\",\"Abril\",\"Outubro\",\"Janeiro\",\"Janeiro\",\"Fevereiro\",\"Fevereiro\",\"Fevereiro\",\"Mar\\u00e7o\",\"Mar\\u00e7o\",\"Maio\",\"Agosto\",\"Setembro\",\"Dezembro\",\"Janeiro\",\"Janeiro\",\"Janeiro\",\"Abril\",\"Maio\",\"Agosto\",\"Agosto\",\"Outubro\",\"Outubro\",\"Outubro\",\"Outubro\",\"Dezembro\",\"Dezembro\",\"Janeiro\",\"Janeiro\",\"Janeiro\",\"Janeiro\",\"Janeiro\",\"Janeiro\",\"Fevereiro\",\"Fevereiro\",\"Fevereiro\",\"Mar\\u00e7o\",\"Abril\",\"Junho\",\"Setembro\",\"Setembro\",\"Setembro\",\"Outubro\",\"Janeiro\",\"Abril\",\"Agosto\",\"Setembro\",\"Outubro\",\"Novembro\",\"Novembro\",\"Janeiro\",\"Janeiro\",\"Fevereiro\",\"Fevereiro\",\"Mar\\u00e7o\",\"Setembro\",\"Setembro\",\"Outubro\",\"Outubro\",\"Outubro\",\"Outubro\",\"Novembro\",\"Dezembro\",\"Janeiro\",\"Fevereiro\",\"Mar\\u00e7o\",\"Abril\",\"Maio\",\"Maio\",\"Junho\",\"Setembro\",\"Setembro\",\"Setembro\",\"Novembro\",\"Novembro\",\"Novembro\",\"Dezembro\",\"Dezembro\",\"Janeiro\",\"Janeiro\",\"Janeiro\",\"Janeiro\",\"Fevereiro\",\"Fevereiro\",\"Fevereiro\",\"Mar\\u00e7o\",\"Mar\\u00e7o\",\"Mar\\u00e7o\",\"Mar\\u00e7o\",\"Mar\\u00e7o\",\"Mar\\u00e7o\",\"Abril\",\"Abril\",\"Abril\",\"Abril\",\"Maio\",\"Maio\",\"Maio\",\"Maio\",\"Agosto\",\"Setembro\",\"Setembro\",\"Outubro\",\"Outubro\",\"Outubro\",\"Outubro\",\"Novembro\",\"Dezembro\",\"Janeiro\",\"Janeiro\",\"Fevereiro\",\"Fevereiro\",\"Fevereiro\",\"Mar\\u00e7o\",\"Mar\\u00e7o\",\"Abril\",\"Abril\",\"Abril\",\"Abril\",\"Maio\",\"Junho\",\"Junho\",\"Agosto\",\"Agosto\",\"Setembro\",\"Setembro\",\"Outubro\",\"Novembro\",\"Novembro\",\"Novembro\",\"Dezembro\",\"Dezembro\",\"Dezembro\",\"Dezembro\",\"Dezembro\",\"Janeiro\",\"Janeiro\",\"Fevereiro\",\"Fevereiro\",\"Fevereiro\",\"Mar\\u00e7o\",\"Outubro\",\"Novembro\",\"Novembro\",\"Mar\\u00e7o\",\"Mar\\u00e7o\",\"Mar\\u00e7o\",\"Mar\\u00e7o\",\"Mar\\u00e7o\",\"Abril\",\"Abril\",\"Abril\",\"Abril\",\"Abril\",\"Abril\",\"Maio\",\"Maio\",\"Junho\",\"Agosto\",\"Agosto\",\"Agosto\",\"Agosto\",\"Agosto\",\"Setembro\",\"Setembro\",\"Setembro\",\"Setembro\",\"Setembro\",\"Setembro\",\"Outubro\",\"Outubro\",\"Outubro\",\"Outubro\",\"Outubro\",\"Outubro\",\"Novembro\",\"Novembro\",\"Novembro\",\"Novembro\",\"Novembro\",\"Novembro\",\"Dezembro\",\"Dezembro\",\"Dezembro\",\"Dezembro\",\"Dezembro\",\"Janeiro\",\"Janeiro\",\"Janeiro\",\"Janeiro\",\"Fevereiro\",\"Fevereiro\",\"Fevereiro\",\"Fevereiro\",\"Mar\\u00e7o\",\"Mar\\u00e7o\",\"Mar\\u00e7o\",\"Mar\\u00e7o\",\"Mar\\u00e7o\",\"Mar\\u00e7o\",\"Mar\\u00e7o\",\"Mar\\u00e7o\",\"Mar\\u00e7o\",\"Mar\\u00e7o\",\"Abril\",\"Abril\",\"Abril\",\"Abril\",\"Abril\",\"Maio\",\"Maio\",\"Maio\",\"Maio\",\"Maio\",\"Junho\",\"Junho\",\"Julho\",\"Agosto\",\"Setembro\",\"Setembro\",\"Setembro\",\"Setembro\",\"Outubro\",\"Outubro\",\"Outubro\",\"Novembro\",\"Novembro\",\"Novembro\",\"Dezembro\",\"Dezembro\",\"Dezembro\",\"Dezembro\",\"Janeiro\",\"Janeiro\",\"Janeiro\",\"Janeiro\",\"Janeiro\",\"Janeiro\",\"Janeiro\",\"Janeiro\",\"Janeiro\",\"Fevereiro\",\"Fevereiro\",\"Fevereiro\",\"Fevereiro\",\"Mar\\u00e7o\",\"Mar\\u00e7o\",\"Mar\\u00e7o\",\"Mar\\u00e7o\",\"Mar\\u00e7o\",\"Mar\\u00e7o\",\"Abril\",\"Abril\",\"Maio\",\"Maio\",\"Maio\",\"Maio\",\"Maio\",\"Maio\",\"Junho\"],\"xaxis\":\"x\",\"yaxis\":\"y\",\"type\":\"histogram\"}],                        {\"template\":{\"data\":{\"histogram2dcontour\":[{\"type\":\"histogram2dcontour\",\"colorbar\":{\"outlinewidth\":0,\"ticks\":\"\"},\"colorscale\":[[0.0,\"#0d0887\"],[0.1111111111111111,\"#46039f\"],[0.2222222222222222,\"#7201a8\"],[0.3333333333333333,\"#9c179e\"],[0.4444444444444444,\"#bd3786\"],[0.5555555555555556,\"#d8576b\"],[0.6666666666666666,\"#ed7953\"],[0.7777777777777778,\"#fb9f3a\"],[0.8888888888888888,\"#fdca26\"],[1.0,\"#f0f921\"]]}],\"choropleth\":[{\"type\":\"choropleth\",\"colorbar\":{\"outlinewidth\":0,\"ticks\":\"\"}}],\"histogram2d\":[{\"type\":\"histogram2d\",\"colorbar\":{\"outlinewidth\":0,\"ticks\":\"\"},\"colorscale\":[[0.0,\"#0d0887\"],[0.1111111111111111,\"#46039f\"],[0.2222222222222222,\"#7201a8\"],[0.3333333333333333,\"#9c179e\"],[0.4444444444444444,\"#bd3786\"],[0.5555555555555556,\"#d8576b\"],[0.6666666666666666,\"#ed7953\"],[0.7777777777777778,\"#fb9f3a\"],[0.8888888888888888,\"#fdca26\"],[1.0,\"#f0f921\"]]}],\"heatmap\":[{\"type\":\"heatmap\",\"colorbar\":{\"outlinewidth\":0,\"ticks\":\"\"},\"colorscale\":[[0.0,\"#0d0887\"],[0.1111111111111111,\"#46039f\"],[0.2222222222222222,\"#7201a8\"],[0.3333333333333333,\"#9c179e\"],[0.4444444444444444,\"#bd3786\"],[0.5555555555555556,\"#d8576b\"],[0.6666666666666666,\"#ed7953\"],[0.7777777777777778,\"#fb9f3a\"],[0.8888888888888888,\"#fdca26\"],[1.0,\"#f0f921\"]]}],\"heatmapgl\":[{\"type\":\"heatmapgl\",\"colorbar\":{\"outlinewidth\":0,\"ticks\":\"\"},\"colorscale\":[[0.0,\"#0d0887\"],[0.1111111111111111,\"#46039f\"],[0.2222222222222222,\"#7201a8\"],[0.3333333333333333,\"#9c179e\"],[0.4444444444444444,\"#bd3786\"],[0.5555555555555556,\"#d8576b\"],[0.6666666666666666,\"#ed7953\"],[0.7777777777777778,\"#fb9f3a\"],[0.8888888888888888,\"#fdca26\"],[1.0,\"#f0f921\"]]}],\"contourcarpet\":[{\"type\":\"contourcarpet\",\"colorbar\":{\"outlinewidth\":0,\"ticks\":\"\"}}],\"contour\":[{\"type\":\"contour\",\"colorbar\":{\"outlinewidth\":0,\"ticks\":\"\"},\"colorscale\":[[0.0,\"#0d0887\"],[0.1111111111111111,\"#46039f\"],[0.2222222222222222,\"#7201a8\"],[0.3333333333333333,\"#9c179e\"],[0.4444444444444444,\"#bd3786\"],[0.5555555555555556,\"#d8576b\"],[0.6666666666666666,\"#ed7953\"],[0.7777777777777778,\"#fb9f3a\"],[0.8888888888888888,\"#fdca26\"],[1.0,\"#f0f921\"]]}],\"surface\":[{\"type\":\"surface\",\"colorbar\":{\"outlinewidth\":0,\"ticks\":\"\"},\"colorscale\":[[0.0,\"#0d0887\"],[0.1111111111111111,\"#46039f\"],[0.2222222222222222,\"#7201a8\"],[0.3333333333333333,\"#9c179e\"],[0.4444444444444444,\"#bd3786\"],[0.5555555555555556,\"#d8576b\"],[0.6666666666666666,\"#ed7953\"],[0.7777777777777778,\"#fb9f3a\"],[0.8888888888888888,\"#fdca26\"],[1.0,\"#f0f921\"]]}],\"mesh3d\":[{\"type\":\"mesh3d\",\"colorbar\":{\"outlinewidth\":0,\"ticks\":\"\"}}],\"scatter\":[{\"fillpattern\":{\"fillmode\":\"overlay\",\"size\":10,\"solidity\":0.2},\"type\":\"scatter\"}],\"parcoords\":[{\"type\":\"parcoords\",\"line\":{\"colorbar\":{\"outlinewidth\":0,\"ticks\":\"\"}}}],\"scatterpolargl\":[{\"type\":\"scatterpolargl\",\"marker\":{\"colorbar\":{\"outlinewidth\":0,\"ticks\":\"\"}}}],\"bar\":[{\"error_x\":{\"color\":\"#2a3f5f\"},\"error_y\":{\"color\":\"#2a3f5f\"},\"marker\":{\"line\":{\"color\":\"#E5ECF6\",\"width\":0.5},\"pattern\":{\"fillmode\":\"overlay\",\"size\":10,\"solidity\":0.2}},\"type\":\"bar\"}],\"scattergeo\":[{\"type\":\"scattergeo\",\"marker\":{\"colorbar\":{\"outlinewidth\":0,\"ticks\":\"\"}}}],\"scatterpolar\":[{\"type\":\"scatterpolar\",\"marker\":{\"colorbar\":{\"outlinewidth\":0,\"ticks\":\"\"}}}],\"histogram\":[{\"marker\":{\"pattern\":{\"fillmode\":\"overlay\",\"size\":10,\"solidity\":0.2}},\"type\":\"histogram\"}],\"scattergl\":[{\"type\":\"scattergl\",\"marker\":{\"colorbar\":{\"outlinewidth\":0,\"ticks\":\"\"}}}],\"scatter3d\":[{\"type\":\"scatter3d\",\"line\":{\"colorbar\":{\"outlinewidth\":0,\"ticks\":\"\"}},\"marker\":{\"colorbar\":{\"outlinewidth\":0,\"ticks\":\"\"}}}],\"scattermapbox\":[{\"type\":\"scattermapbox\",\"marker\":{\"colorbar\":{\"outlinewidth\":0,\"ticks\":\"\"}}}],\"scatterternary\":[{\"type\":\"scatterternary\",\"marker\":{\"colorbar\":{\"outlinewidth\":0,\"ticks\":\"\"}}}],\"scattercarpet\":[{\"type\":\"scattercarpet\",\"marker\":{\"colorbar\":{\"outlinewidth\":0,\"ticks\":\"\"}}}],\"carpet\":[{\"aaxis\":{\"endlinecolor\":\"#2a3f5f\",\"gridcolor\":\"white\",\"linecolor\":\"white\",\"minorgridcolor\":\"white\",\"startlinecolor\":\"#2a3f5f\"},\"baxis\":{\"endlinecolor\":\"#2a3f5f\",\"gridcolor\":\"white\",\"linecolor\":\"white\",\"minorgridcolor\":\"white\",\"startlinecolor\":\"#2a3f5f\"},\"type\":\"carpet\"}],\"table\":[{\"cells\":{\"fill\":{\"color\":\"#EBF0F8\"},\"line\":{\"color\":\"white\"}},\"header\":{\"fill\":{\"color\":\"#C8D4E3\"},\"line\":{\"color\":\"white\"}},\"type\":\"table\"}],\"barpolar\":[{\"marker\":{\"line\":{\"color\":\"#E5ECF6\",\"width\":0.5},\"pattern\":{\"fillmode\":\"overlay\",\"size\":10,\"solidity\":0.2}},\"type\":\"barpolar\"}],\"pie\":[{\"automargin\":true,\"type\":\"pie\"}]},\"layout\":{\"autotypenumbers\":\"strict\",\"colorway\":[\"#636efa\",\"#EF553B\",\"#00cc96\",\"#ab63fa\",\"#FFA15A\",\"#19d3f3\",\"#FF6692\",\"#B6E880\",\"#FF97FF\",\"#FECB52\"],\"font\":{\"color\":\"#2a3f5f\"},\"hovermode\":\"closest\",\"hoverlabel\":{\"align\":\"left\"},\"paper_bgcolor\":\"white\",\"plot_bgcolor\":\"#E5ECF6\",\"polar\":{\"bgcolor\":\"#E5ECF6\",\"angularaxis\":{\"gridcolor\":\"white\",\"linecolor\":\"white\",\"ticks\":\"\"},\"radialaxis\":{\"gridcolor\":\"white\",\"linecolor\":\"white\",\"ticks\":\"\"}},\"ternary\":{\"bgcolor\":\"#E5ECF6\",\"aaxis\":{\"gridcolor\":\"white\",\"linecolor\":\"white\",\"ticks\":\"\"},\"baxis\":{\"gridcolor\":\"white\",\"linecolor\":\"white\",\"ticks\":\"\"},\"caxis\":{\"gridcolor\":\"white\",\"linecolor\":\"white\",\"ticks\":\"\"}},\"coloraxis\":{\"colorbar\":{\"outlinewidth\":0,\"ticks\":\"\"}},\"colorscale\":{\"sequential\":[[0.0,\"#0d0887\"],[0.1111111111111111,\"#46039f\"],[0.2222222222222222,\"#7201a8\"],[0.3333333333333333,\"#9c179e\"],[0.4444444444444444,\"#bd3786\"],[0.5555555555555556,\"#d8576b\"],[0.6666666666666666,\"#ed7953\"],[0.7777777777777778,\"#fb9f3a\"],[0.8888888888888888,\"#fdca26\"],[1.0,\"#f0f921\"]],\"sequentialminus\":[[0.0,\"#0d0887\"],[0.1111111111111111,\"#46039f\"],[0.2222222222222222,\"#7201a8\"],[0.3333333333333333,\"#9c179e\"],[0.4444444444444444,\"#bd3786\"],[0.5555555555555556,\"#d8576b\"],[0.6666666666666666,\"#ed7953\"],[0.7777777777777778,\"#fb9f3a\"],[0.8888888888888888,\"#fdca26\"],[1.0,\"#f0f921\"]],\"diverging\":[[0,\"#8e0152\"],[0.1,\"#c51b7d\"],[0.2,\"#de77ae\"],[0.3,\"#f1b6da\"],[0.4,\"#fde0ef\"],[0.5,\"#f7f7f7\"],[0.6,\"#e6f5d0\"],[0.7,\"#b8e186\"],[0.8,\"#7fbc41\"],[0.9,\"#4d9221\"],[1,\"#276419\"]]},\"xaxis\":{\"gridcolor\":\"white\",\"linecolor\":\"white\",\"ticks\":\"\",\"title\":{\"standoff\":15},\"zerolinecolor\":\"white\",\"automargin\":true,\"zerolinewidth\":2},\"yaxis\":{\"gridcolor\":\"white\",\"linecolor\":\"white\",\"ticks\":\"\",\"title\":{\"standoff\":15},\"zerolinecolor\":\"white\",\"automargin\":true,\"zerolinewidth\":2},\"scene\":{\"xaxis\":{\"backgroundcolor\":\"#E5ECF6\",\"gridcolor\":\"white\",\"linecolor\":\"white\",\"showbackground\":true,\"ticks\":\"\",\"zerolinecolor\":\"white\",\"gridwidth\":2},\"yaxis\":{\"backgroundcolor\":\"#E5ECF6\",\"gridcolor\":\"white\",\"linecolor\":\"white\",\"showbackground\":true,\"ticks\":\"\",\"zerolinecolor\":\"white\",\"gridwidth\":2},\"zaxis\":{\"backgroundcolor\":\"#E5ECF6\",\"gridcolor\":\"white\",\"linecolor\":\"white\",\"showbackground\":true,\"ticks\":\"\",\"zerolinecolor\":\"white\",\"gridwidth\":2}},\"shapedefaults\":{\"line\":{\"color\":\"#2a3f5f\"}},\"annotationdefaults\":{\"arrowcolor\":\"#2a3f5f\",\"arrowhead\":0,\"arrowwidth\":1},\"geo\":{\"bgcolor\":\"white\",\"landcolor\":\"#E5ECF6\",\"subunitcolor\":\"white\",\"showland\":true,\"showlakes\":true,\"lakecolor\":\"white\"},\"title\":{\"x\":0.05},\"mapbox\":{\"style\":\"light\"}}},\"xaxis\":{\"anchor\":\"y\",\"domain\":[0.0,1.0],\"title\":{\"text\":\"M\\u00eas\"},\"categoryorder\":\"array\",\"categoryarray\":[\"Janeiro\",\"Fevereiro\",\"Mar\\u00e7o\",\"Abril\",\"Maio\",\"Junho\",\"Julho\",\"Agosto\",\"Setembro\",\"Outubro\",\"Novembro\",\"Dezembro\"]},\"yaxis\":{\"anchor\":\"x\",\"domain\":[0.0,1.0],\"title\":{\"text\":\"Ocorr\\u00eancias\"}},\"legend\":{\"tracegroupgap\":0},\"margin\":{\"t\":60},\"barmode\":\"relative\",\"title\":{\"text\":\"Ocorr\\u00eancias por m\\u00eas\",\"y\":0.95,\"x\":0.28,\"xanchor\":\"right\",\"yanchor\":\"top\"},\"font\":{\"family\":\"Arial, sans-serif\",\"size\":13,\"color\":\"black\"},\"bargap\":0.2},                        {\"responsive\": true}                    ).then(function(){\n",
              "                            \n",
              "var gd = document.getElementById('8c3aad65-b94a-48e9-a04d-62cd0a30875a');\n",
              "var x = new MutationObserver(function (mutations, observer) {{\n",
              "        var display = window.getComputedStyle(gd).display;\n",
              "        if (!display || display === 'none') {{\n",
              "            console.log([gd, 'removed!']);\n",
              "            Plotly.purge(gd);\n",
              "            observer.disconnect();\n",
              "        }}\n",
              "}});\n",
              "\n",
              "// Listen for the removal of the full notebook cells\n",
              "var notebookContainer = gd.closest('#notebook-container');\n",
              "if (notebookContainer) {{\n",
              "    x.observe(notebookContainer, {childList: true});\n",
              "}}\n",
              "\n",
              "// Listen for the clearing of the current output cell\n",
              "var outputEl = gd.closest('.output');\n",
              "if (outputEl) {{\n",
              "    x.observe(outputEl, {childList: true});\n",
              "}}\n",
              "\n",
              "                        })                };                            </script>        </div>\n",
              "</body>\n",
              "</html>"
            ]
          },
          "metadata": {}
        }
      ]
    },
    {
      "cell_type": "markdown",
      "source": [
        "**Vamos analisar o número de ocorrências por mês divididos em períodos:**"
      ],
      "metadata": {
        "id": "pAEX5cRTxWUk"
      }
    },
    {
      "cell_type": "markdown",
      "source": [
        "Separar os datasets de interesse"
      ],
      "metadata": {
        "id": "W1U8KMMrxnTP"
      }
    },
    {
      "cell_type": "code",
      "source": [
        "from plotly.subplots import make_subplots\n",
        "import plotly.express as px\n",
        "ocorrencias_por_mes_periodo1 = incidentes_por_mes.loc[(incidentes_por_mes['date'] >= '1999-01-01') & (incidentes_por_mes['date'] <= '2005-12-31')]\n",
        "ocorrencias_por_mes_periodo2 = incidentes_por_mes.loc[(incidentes_por_mes['date'] >= '2006-01-01') & (incidentes_por_mes['date'] <= '2012-12-31')]\n",
        "ocorrencias_por_mes_periodo3 = incidentes_por_mes.loc[(incidentes_por_mes['date'] >= '2013-01-01') & (incidentes_por_mes['date'] <= '2023-12-31')]\n"
      ],
      "metadata": {
        "id": "7vcX6I1sylFH"
      },
      "execution_count": null,
      "outputs": []
    },
    {
      "cell_type": "code",
      "source": [
        "fig = make_subplots(rows=1, cols=3, subplot_titles=[\n",
        "    \"Ocorrências por mês nos anos [1999, 2005]\",\n",
        "    \"Ocorrências por mês nos anos [2006, 2012]\",\n",
        "    \"Ocorrências por mês nos anos [2013, 2023]\"\n",
        "])\n",
        "\n",
        "# Primeiro histograma\n",
        "fig1 = px.histogram(\n",
        "    ocorrencias_por_mes_periodo1,\n",
        "    x='month',\n",
        "    color_discrete_sequence=px.colors.sequential.Sunset_r,\n",
        ")\n",
        "fig1.update_xaxes(categoryorder='array', categoryarray=months)\n",
        "\n",
        "fig2  = px.histogram(\n",
        "    ocorrencias_por_mes_periodo2,\n",
        "    x='month',\n",
        "    color_discrete_sequence=px.colors.sequential.Sunset_r,\n",
        ")\n",
        "fig2.update_xaxes(categoryorder='array', categoryarray=months)\n",
        "\n",
        "fig3 = px.histogram(\n",
        "    ocorrencias_por_mes_periodo3,\n",
        "    x='month',\n",
        "    color_discrete_sequence=px.colors.sequential.Sunset_r,\n",
        ")\n",
        "fig3.update_xaxes(categoryorder='array', categoryarray=months)\n",
        "\n",
        "fig.add_trace(fig1.data[0], row=1, col=1)\n",
        "fig.add_trace(fig2.data[0], row=1, col=2)\n",
        "fig.add_trace(fig3.data[0], row=1, col=3)\n",
        "fig.update_xaxes(categoryorder='array', categoryarray=months)\n",
        "\n",
        "fig.update_layout(\n",
        "    yaxis_title_text = 'Ocorrências',\n",
        "    bargap = 0.2,\n",
        "    font = dict(\n",
        "        family = \"Arial, sans-serif\",\n",
        "        size = 13,\n",
        "        color = \"black\"\n",
        "    )\n",
        ")\n"
      ],
      "metadata": {
        "colab": {
          "base_uri": "https://localhost:8080/",
          "height": 542
        },
        "id": "iBaAmGDmxc_6",
        "outputId": "fa25d5ec-f6aa-4697-89da-e794a39c2469"
      },
      "execution_count": null,
      "outputs": [
        {
          "output_type": "display_data",
          "data": {
            "text/html": [
              "<html>\n",
              "<head><meta charset=\"utf-8\" /></head>\n",
              "<body>\n",
              "    <div>            <script src=\"https://cdnjs.cloudflare.com/ajax/libs/mathjax/2.7.5/MathJax.js?config=TeX-AMS-MML_SVG\"></script><script type=\"text/javascript\">if (window.MathJax && window.MathJax.Hub && window.MathJax.Hub.Config) {window.MathJax.Hub.Config({SVG: {font: \"STIX-Web\"}});}</script>                <script type=\"text/javascript\">window.PlotlyConfig = {MathJaxConfig: 'local'};</script>\n",
              "        <script charset=\"utf-8\" src=\"https://cdn.plot.ly/plotly-2.24.1.min.js\"></script>                <div id=\"603a05e1-93a8-4c87-9c40-4e5b5dbd7fc4\" class=\"plotly-graph-div\" style=\"height:525px; width:100%;\"></div>            <script type=\"text/javascript\">                                    window.PLOTLYENV=window.PLOTLYENV || {};                                    if (document.getElementById(\"603a05e1-93a8-4c87-9c40-4e5b5dbd7fc4\")) {                    Plotly.newPlot(                        \"603a05e1-93a8-4c87-9c40-4e5b5dbd7fc4\",                        [{\"alignmentgroup\":\"True\",\"bingroup\":\"x\",\"hovertemplate\":\"month=%{x}\\u003cbr\\u003ecount=%{y}\\u003cextra\\u003e\\u003c\\u002fextra\\u003e\",\"legendgroup\":\"\",\"marker\":{\"color\":\"rgb(92, 83, 165)\",\"pattern\":{\"shape\":\"\"}},\"name\":\"\",\"offsetgroup\":\"\",\"orientation\":\"v\",\"showlegend\":false,\"x\":[\"Abril\",\"Abril\",\"Maio\",\"Outubro\",\"Novembro\",\"Novembro\",\"Dezembro\",\"Janeiro\",\"Janeiro\",\"Fevereiro\",\"Fevereiro\",\"Fevereiro\",\"Fevereiro\",\"Abril\",\"Maio\",\"Maio\",\"Julho\",\"Setembro\",\"Setembro\",\"Janeiro\",\"Janeiro\",\"Fevereiro\",\"Mar\\u00e7o\",\"Mar\\u00e7o\",\"Mar\\u00e7o\",\"Mar\\u00e7o\",\"Abril\",\"Maio\",\"Julho\",\"Setembro\",\"Outubro\",\"Novembro\",\"Janeiro\",\"Fevereiro\",\"Outubro\",\"Outubro\",\"Novembro\",\"Janeiro\",\"Fevereiro\",\"Abril\",\"Abril\",\"Abril\",\"Abril\",\"Setembro\",\"Setembro\",\"Setembro\",\"Setembro\",\"Outubro\",\"Novembro\",\"Fevereiro\",\"Fevereiro\",\"Fevereiro\",\"Junho\",\"Agosto\",\"Setembro\",\"Outubro\",\"Novembro\",\"Dezembro\",\"Janeiro\",\"Fevereiro\",\"Mar\\u00e7o\",\"Mar\\u00e7o\",\"Abril\",\"Maio\",\"Agosto\",\"Setembro\",\"Setembro\",\"Outubro\",\"Outubro\",\"Novembro\",\"Dezembro\"],\"xaxis\":\"x\",\"yaxis\":\"y\",\"type\":\"histogram\"},{\"alignmentgroup\":\"True\",\"bingroup\":\"x\",\"hovertemplate\":\"month=%{x}\\u003cbr\\u003ecount=%{y}\\u003cextra\\u003e\\u003c\\u002fextra\\u003e\",\"legendgroup\":\"\",\"marker\":{\"color\":\"rgb(92, 83, 165)\",\"pattern\":{\"shape\":\"\"}},\"name\":\"\",\"offsetgroup\":\"\",\"orientation\":\"v\",\"showlegend\":false,\"x\":[\"Janeiro\",\"Janeiro\",\"Janeiro\",\"Janeiro\",\"Janeiro\",\"Fevereiro\",\"Fevereiro\",\"Mar\\u00e7o\",\"Junho\",\"Agosto\",\"Setembro\",\"Setembro\",\"Setembro\",\"Outubro\",\"Outubro\",\"Janeiro\",\"Janeiro\",\"Janeiro\",\"Mar\\u00e7o\",\"Abril\",\"Abril\",\"Maio\",\"Junho\",\"Outubro\",\"Outubro\",\"Janeiro\",\"Fevereiro\",\"Fevereiro\",\"Fevereiro\",\"Fevereiro\",\"Mar\\u00e7o\",\"Abril\",\"Agosto\",\"Novembro\",\"Fevereiro\",\"Fevereiro\",\"Mar\\u00e7o\",\"Maio\",\"Setembro\",\"Setembro\",\"Outubro\",\"Outubro\",\"Dezembro\",\"Fevereiro\",\"Fevereiro\",\"Abril\",\"Maio\",\"Agosto\",\"Setembro\",\"Outubro\",\"Outubro\",\"Novembro\",\"Janeiro\",\"Janeiro\",\"Fevereiro\",\"Mar\\u00e7o\",\"Abril\",\"Abril\",\"Outubro\",\"Janeiro\",\"Janeiro\",\"Fevereiro\",\"Fevereiro\",\"Fevereiro\",\"Mar\\u00e7o\",\"Mar\\u00e7o\",\"Maio\",\"Agosto\",\"Setembro\",\"Dezembro\"],\"xaxis\":\"x2\",\"yaxis\":\"y2\",\"type\":\"histogram\"},{\"alignmentgroup\":\"True\",\"bingroup\":\"x\",\"hovertemplate\":\"month=%{x}\\u003cbr\\u003ecount=%{y}\\u003cextra\\u003e\\u003c\\u002fextra\\u003e\",\"legendgroup\":\"\",\"marker\":{\"color\":\"rgb(92, 83, 165)\",\"pattern\":{\"shape\":\"\"}},\"name\":\"\",\"offsetgroup\":\"\",\"orientation\":\"v\",\"showlegend\":false,\"x\":[\"Janeiro\",\"Janeiro\",\"Janeiro\",\"Abril\",\"Maio\",\"Agosto\",\"Agosto\",\"Outubro\",\"Outubro\",\"Outubro\",\"Outubro\",\"Dezembro\",\"Dezembro\",\"Janeiro\",\"Janeiro\",\"Janeiro\",\"Janeiro\",\"Janeiro\",\"Janeiro\",\"Fevereiro\",\"Fevereiro\",\"Fevereiro\",\"Mar\\u00e7o\",\"Abril\",\"Junho\",\"Setembro\",\"Setembro\",\"Setembro\",\"Outubro\",\"Janeiro\",\"Abril\",\"Agosto\",\"Setembro\",\"Outubro\",\"Novembro\",\"Novembro\",\"Janeiro\",\"Janeiro\",\"Fevereiro\",\"Fevereiro\",\"Mar\\u00e7o\",\"Setembro\",\"Setembro\",\"Outubro\",\"Outubro\",\"Outubro\",\"Outubro\",\"Novembro\",\"Dezembro\",\"Janeiro\",\"Fevereiro\",\"Mar\\u00e7o\",\"Abril\",\"Maio\",\"Maio\",\"Junho\",\"Setembro\",\"Setembro\",\"Setembro\",\"Novembro\",\"Novembro\",\"Novembro\",\"Dezembro\",\"Dezembro\",\"Janeiro\",\"Janeiro\",\"Janeiro\",\"Janeiro\",\"Fevereiro\",\"Fevereiro\",\"Fevereiro\",\"Mar\\u00e7o\",\"Mar\\u00e7o\",\"Mar\\u00e7o\",\"Mar\\u00e7o\",\"Mar\\u00e7o\",\"Mar\\u00e7o\",\"Abril\",\"Abril\",\"Abril\",\"Abril\",\"Maio\",\"Maio\",\"Maio\",\"Maio\",\"Agosto\",\"Setembro\",\"Setembro\",\"Outubro\",\"Outubro\",\"Outubro\",\"Outubro\",\"Novembro\",\"Dezembro\",\"Janeiro\",\"Janeiro\",\"Fevereiro\",\"Fevereiro\",\"Fevereiro\",\"Mar\\u00e7o\",\"Mar\\u00e7o\",\"Abril\",\"Abril\",\"Abril\",\"Abril\",\"Maio\",\"Junho\",\"Junho\",\"Agosto\",\"Agosto\",\"Setembro\",\"Setembro\",\"Outubro\",\"Novembro\",\"Novembro\",\"Novembro\",\"Dezembro\",\"Dezembro\",\"Dezembro\",\"Dezembro\",\"Dezembro\",\"Janeiro\",\"Janeiro\",\"Fevereiro\",\"Fevereiro\",\"Fevereiro\",\"Mar\\u00e7o\",\"Outubro\",\"Novembro\",\"Novembro\",\"Mar\\u00e7o\",\"Mar\\u00e7o\",\"Mar\\u00e7o\",\"Mar\\u00e7o\",\"Mar\\u00e7o\",\"Abril\",\"Abril\",\"Abril\",\"Abril\",\"Abril\",\"Abril\",\"Maio\",\"Maio\",\"Junho\",\"Agosto\",\"Agosto\",\"Agosto\",\"Agosto\",\"Agosto\",\"Setembro\",\"Setembro\",\"Setembro\",\"Setembro\",\"Setembro\",\"Setembro\",\"Outubro\",\"Outubro\",\"Outubro\",\"Outubro\",\"Outubro\",\"Outubro\",\"Novembro\",\"Novembro\",\"Novembro\",\"Novembro\",\"Novembro\",\"Novembro\",\"Dezembro\",\"Dezembro\",\"Dezembro\",\"Dezembro\",\"Dezembro\",\"Janeiro\",\"Janeiro\",\"Janeiro\",\"Janeiro\",\"Fevereiro\",\"Fevereiro\",\"Fevereiro\",\"Fevereiro\",\"Mar\\u00e7o\",\"Mar\\u00e7o\",\"Mar\\u00e7o\",\"Mar\\u00e7o\",\"Mar\\u00e7o\",\"Mar\\u00e7o\",\"Mar\\u00e7o\",\"Mar\\u00e7o\",\"Mar\\u00e7o\",\"Mar\\u00e7o\",\"Abril\",\"Abril\",\"Abril\",\"Abril\",\"Abril\",\"Maio\",\"Maio\",\"Maio\",\"Maio\",\"Maio\",\"Junho\",\"Junho\",\"Julho\",\"Agosto\",\"Setembro\",\"Setembro\",\"Setembro\",\"Setembro\",\"Outubro\",\"Outubro\",\"Outubro\",\"Novembro\",\"Novembro\",\"Novembro\",\"Dezembro\",\"Dezembro\",\"Dezembro\",\"Dezembro\",\"Janeiro\",\"Janeiro\",\"Janeiro\",\"Janeiro\",\"Janeiro\",\"Janeiro\",\"Janeiro\",\"Janeiro\",\"Janeiro\",\"Fevereiro\",\"Fevereiro\",\"Fevereiro\",\"Fevereiro\",\"Mar\\u00e7o\",\"Mar\\u00e7o\",\"Mar\\u00e7o\",\"Mar\\u00e7o\",\"Mar\\u00e7o\",\"Mar\\u00e7o\",\"Abril\",\"Abril\",\"Maio\",\"Maio\",\"Maio\",\"Maio\",\"Maio\",\"Maio\",\"Junho\"],\"xaxis\":\"x3\",\"yaxis\":\"y3\",\"type\":\"histogram\"}],                        {\"template\":{\"data\":{\"histogram2dcontour\":[{\"type\":\"histogram2dcontour\",\"colorbar\":{\"outlinewidth\":0,\"ticks\":\"\"},\"colorscale\":[[0.0,\"#0d0887\"],[0.1111111111111111,\"#46039f\"],[0.2222222222222222,\"#7201a8\"],[0.3333333333333333,\"#9c179e\"],[0.4444444444444444,\"#bd3786\"],[0.5555555555555556,\"#d8576b\"],[0.6666666666666666,\"#ed7953\"],[0.7777777777777778,\"#fb9f3a\"],[0.8888888888888888,\"#fdca26\"],[1.0,\"#f0f921\"]]}],\"choropleth\":[{\"type\":\"choropleth\",\"colorbar\":{\"outlinewidth\":0,\"ticks\":\"\"}}],\"histogram2d\":[{\"type\":\"histogram2d\",\"colorbar\":{\"outlinewidth\":0,\"ticks\":\"\"},\"colorscale\":[[0.0,\"#0d0887\"],[0.1111111111111111,\"#46039f\"],[0.2222222222222222,\"#7201a8\"],[0.3333333333333333,\"#9c179e\"],[0.4444444444444444,\"#bd3786\"],[0.5555555555555556,\"#d8576b\"],[0.6666666666666666,\"#ed7953\"],[0.7777777777777778,\"#fb9f3a\"],[0.8888888888888888,\"#fdca26\"],[1.0,\"#f0f921\"]]}],\"heatmap\":[{\"type\":\"heatmap\",\"colorbar\":{\"outlinewidth\":0,\"ticks\":\"\"},\"colorscale\":[[0.0,\"#0d0887\"],[0.1111111111111111,\"#46039f\"],[0.2222222222222222,\"#7201a8\"],[0.3333333333333333,\"#9c179e\"],[0.4444444444444444,\"#bd3786\"],[0.5555555555555556,\"#d8576b\"],[0.6666666666666666,\"#ed7953\"],[0.7777777777777778,\"#fb9f3a\"],[0.8888888888888888,\"#fdca26\"],[1.0,\"#f0f921\"]]}],\"heatmapgl\":[{\"type\":\"heatmapgl\",\"colorbar\":{\"outlinewidth\":0,\"ticks\":\"\"},\"colorscale\":[[0.0,\"#0d0887\"],[0.1111111111111111,\"#46039f\"],[0.2222222222222222,\"#7201a8\"],[0.3333333333333333,\"#9c179e\"],[0.4444444444444444,\"#bd3786\"],[0.5555555555555556,\"#d8576b\"],[0.6666666666666666,\"#ed7953\"],[0.7777777777777778,\"#fb9f3a\"],[0.8888888888888888,\"#fdca26\"],[1.0,\"#f0f921\"]]}],\"contourcarpet\":[{\"type\":\"contourcarpet\",\"colorbar\":{\"outlinewidth\":0,\"ticks\":\"\"}}],\"contour\":[{\"type\":\"contour\",\"colorbar\":{\"outlinewidth\":0,\"ticks\":\"\"},\"colorscale\":[[0.0,\"#0d0887\"],[0.1111111111111111,\"#46039f\"],[0.2222222222222222,\"#7201a8\"],[0.3333333333333333,\"#9c179e\"],[0.4444444444444444,\"#bd3786\"],[0.5555555555555556,\"#d8576b\"],[0.6666666666666666,\"#ed7953\"],[0.7777777777777778,\"#fb9f3a\"],[0.8888888888888888,\"#fdca26\"],[1.0,\"#f0f921\"]]}],\"surface\":[{\"type\":\"surface\",\"colorbar\":{\"outlinewidth\":0,\"ticks\":\"\"},\"colorscale\":[[0.0,\"#0d0887\"],[0.1111111111111111,\"#46039f\"],[0.2222222222222222,\"#7201a8\"],[0.3333333333333333,\"#9c179e\"],[0.4444444444444444,\"#bd3786\"],[0.5555555555555556,\"#d8576b\"],[0.6666666666666666,\"#ed7953\"],[0.7777777777777778,\"#fb9f3a\"],[0.8888888888888888,\"#fdca26\"],[1.0,\"#f0f921\"]]}],\"mesh3d\":[{\"type\":\"mesh3d\",\"colorbar\":{\"outlinewidth\":0,\"ticks\":\"\"}}],\"scatter\":[{\"fillpattern\":{\"fillmode\":\"overlay\",\"size\":10,\"solidity\":0.2},\"type\":\"scatter\"}],\"parcoords\":[{\"type\":\"parcoords\",\"line\":{\"colorbar\":{\"outlinewidth\":0,\"ticks\":\"\"}}}],\"scatterpolargl\":[{\"type\":\"scatterpolargl\",\"marker\":{\"colorbar\":{\"outlinewidth\":0,\"ticks\":\"\"}}}],\"bar\":[{\"error_x\":{\"color\":\"#2a3f5f\"},\"error_y\":{\"color\":\"#2a3f5f\"},\"marker\":{\"line\":{\"color\":\"#E5ECF6\",\"width\":0.5},\"pattern\":{\"fillmode\":\"overlay\",\"size\":10,\"solidity\":0.2}},\"type\":\"bar\"}],\"scattergeo\":[{\"type\":\"scattergeo\",\"marker\":{\"colorbar\":{\"outlinewidth\":0,\"ticks\":\"\"}}}],\"scatterpolar\":[{\"type\":\"scatterpolar\",\"marker\":{\"colorbar\":{\"outlinewidth\":0,\"ticks\":\"\"}}}],\"histogram\":[{\"marker\":{\"pattern\":{\"fillmode\":\"overlay\",\"size\":10,\"solidity\":0.2}},\"type\":\"histogram\"}],\"scattergl\":[{\"type\":\"scattergl\",\"marker\":{\"colorbar\":{\"outlinewidth\":0,\"ticks\":\"\"}}}],\"scatter3d\":[{\"type\":\"scatter3d\",\"line\":{\"colorbar\":{\"outlinewidth\":0,\"ticks\":\"\"}},\"marker\":{\"colorbar\":{\"outlinewidth\":0,\"ticks\":\"\"}}}],\"scattermapbox\":[{\"type\":\"scattermapbox\",\"marker\":{\"colorbar\":{\"outlinewidth\":0,\"ticks\":\"\"}}}],\"scatterternary\":[{\"type\":\"scatterternary\",\"marker\":{\"colorbar\":{\"outlinewidth\":0,\"ticks\":\"\"}}}],\"scattercarpet\":[{\"type\":\"scattercarpet\",\"marker\":{\"colorbar\":{\"outlinewidth\":0,\"ticks\":\"\"}}}],\"carpet\":[{\"aaxis\":{\"endlinecolor\":\"#2a3f5f\",\"gridcolor\":\"white\",\"linecolor\":\"white\",\"minorgridcolor\":\"white\",\"startlinecolor\":\"#2a3f5f\"},\"baxis\":{\"endlinecolor\":\"#2a3f5f\",\"gridcolor\":\"white\",\"linecolor\":\"white\",\"minorgridcolor\":\"white\",\"startlinecolor\":\"#2a3f5f\"},\"type\":\"carpet\"}],\"table\":[{\"cells\":{\"fill\":{\"color\":\"#EBF0F8\"},\"line\":{\"color\":\"white\"}},\"header\":{\"fill\":{\"color\":\"#C8D4E3\"},\"line\":{\"color\":\"white\"}},\"type\":\"table\"}],\"barpolar\":[{\"marker\":{\"line\":{\"color\":\"#E5ECF6\",\"width\":0.5},\"pattern\":{\"fillmode\":\"overlay\",\"size\":10,\"solidity\":0.2}},\"type\":\"barpolar\"}],\"pie\":[{\"automargin\":true,\"type\":\"pie\"}]},\"layout\":{\"autotypenumbers\":\"strict\",\"colorway\":[\"#636efa\",\"#EF553B\",\"#00cc96\",\"#ab63fa\",\"#FFA15A\",\"#19d3f3\",\"#FF6692\",\"#B6E880\",\"#FF97FF\",\"#FECB52\"],\"font\":{\"color\":\"#2a3f5f\"},\"hovermode\":\"closest\",\"hoverlabel\":{\"align\":\"left\"},\"paper_bgcolor\":\"white\",\"plot_bgcolor\":\"#E5ECF6\",\"polar\":{\"bgcolor\":\"#E5ECF6\",\"angularaxis\":{\"gridcolor\":\"white\",\"linecolor\":\"white\",\"ticks\":\"\"},\"radialaxis\":{\"gridcolor\":\"white\",\"linecolor\":\"white\",\"ticks\":\"\"}},\"ternary\":{\"bgcolor\":\"#E5ECF6\",\"aaxis\":{\"gridcolor\":\"white\",\"linecolor\":\"white\",\"ticks\":\"\"},\"baxis\":{\"gridcolor\":\"white\",\"linecolor\":\"white\",\"ticks\":\"\"},\"caxis\":{\"gridcolor\":\"white\",\"linecolor\":\"white\",\"ticks\":\"\"}},\"coloraxis\":{\"colorbar\":{\"outlinewidth\":0,\"ticks\":\"\"}},\"colorscale\":{\"sequential\":[[0.0,\"#0d0887\"],[0.1111111111111111,\"#46039f\"],[0.2222222222222222,\"#7201a8\"],[0.3333333333333333,\"#9c179e\"],[0.4444444444444444,\"#bd3786\"],[0.5555555555555556,\"#d8576b\"],[0.6666666666666666,\"#ed7953\"],[0.7777777777777778,\"#fb9f3a\"],[0.8888888888888888,\"#fdca26\"],[1.0,\"#f0f921\"]],\"sequentialminus\":[[0.0,\"#0d0887\"],[0.1111111111111111,\"#46039f\"],[0.2222222222222222,\"#7201a8\"],[0.3333333333333333,\"#9c179e\"],[0.4444444444444444,\"#bd3786\"],[0.5555555555555556,\"#d8576b\"],[0.6666666666666666,\"#ed7953\"],[0.7777777777777778,\"#fb9f3a\"],[0.8888888888888888,\"#fdca26\"],[1.0,\"#f0f921\"]],\"diverging\":[[0,\"#8e0152\"],[0.1,\"#c51b7d\"],[0.2,\"#de77ae\"],[0.3,\"#f1b6da\"],[0.4,\"#fde0ef\"],[0.5,\"#f7f7f7\"],[0.6,\"#e6f5d0\"],[0.7,\"#b8e186\"],[0.8,\"#7fbc41\"],[0.9,\"#4d9221\"],[1,\"#276419\"]]},\"xaxis\":{\"gridcolor\":\"white\",\"linecolor\":\"white\",\"ticks\":\"\",\"title\":{\"standoff\":15},\"zerolinecolor\":\"white\",\"automargin\":true,\"zerolinewidth\":2},\"yaxis\":{\"gridcolor\":\"white\",\"linecolor\":\"white\",\"ticks\":\"\",\"title\":{\"standoff\":15},\"zerolinecolor\":\"white\",\"automargin\":true,\"zerolinewidth\":2},\"scene\":{\"xaxis\":{\"backgroundcolor\":\"#E5ECF6\",\"gridcolor\":\"white\",\"linecolor\":\"white\",\"showbackground\":true,\"ticks\":\"\",\"zerolinecolor\":\"white\",\"gridwidth\":2},\"yaxis\":{\"backgroundcolor\":\"#E5ECF6\",\"gridcolor\":\"white\",\"linecolor\":\"white\",\"showbackground\":true,\"ticks\":\"\",\"zerolinecolor\":\"white\",\"gridwidth\":2},\"zaxis\":{\"backgroundcolor\":\"#E5ECF6\",\"gridcolor\":\"white\",\"linecolor\":\"white\",\"showbackground\":true,\"ticks\":\"\",\"zerolinecolor\":\"white\",\"gridwidth\":2}},\"shapedefaults\":{\"line\":{\"color\":\"#2a3f5f\"}},\"annotationdefaults\":{\"arrowcolor\":\"#2a3f5f\",\"arrowhead\":0,\"arrowwidth\":1},\"geo\":{\"bgcolor\":\"white\",\"landcolor\":\"#E5ECF6\",\"subunitcolor\":\"white\",\"showland\":true,\"showlakes\":true,\"lakecolor\":\"white\"},\"title\":{\"x\":0.05},\"mapbox\":{\"style\":\"light\"}}},\"xaxis\":{\"anchor\":\"y\",\"domain\":[0.0,0.2888888888888889],\"categoryorder\":\"array\",\"categoryarray\":[\"Janeiro\",\"Fevereiro\",\"Mar\\u00e7o\",\"Abril\",\"Maio\",\"Junho\",\"Julho\",\"Agosto\",\"Setembro\",\"Outubro\",\"Novembro\",\"Dezembro\"]},\"yaxis\":{\"anchor\":\"x\",\"domain\":[0.0,1.0],\"title\":{\"text\":\"Ocorr\\u00eancias\"}},\"xaxis2\":{\"anchor\":\"y2\",\"domain\":[0.35555555555555557,0.6444444444444445],\"categoryorder\":\"array\",\"categoryarray\":[\"Janeiro\",\"Fevereiro\",\"Mar\\u00e7o\",\"Abril\",\"Maio\",\"Junho\",\"Julho\",\"Agosto\",\"Setembro\",\"Outubro\",\"Novembro\",\"Dezembro\"]},\"yaxis2\":{\"anchor\":\"x2\",\"domain\":[0.0,1.0]},\"xaxis3\":{\"anchor\":\"y3\",\"domain\":[0.7111111111111111,1.0],\"categoryorder\":\"array\",\"categoryarray\":[\"Janeiro\",\"Fevereiro\",\"Mar\\u00e7o\",\"Abril\",\"Maio\",\"Junho\",\"Julho\",\"Agosto\",\"Setembro\",\"Outubro\",\"Novembro\",\"Dezembro\"]},\"yaxis3\":{\"anchor\":\"x3\",\"domain\":[0.0,1.0]},\"annotations\":[{\"font\":{\"size\":16},\"showarrow\":false,\"text\":\"Ocorr\\u00eancias por m\\u00eas nos anos [1999, 2005]\",\"x\":0.14444444444444446,\"xanchor\":\"center\",\"xref\":\"paper\",\"y\":1.0,\"yanchor\":\"bottom\",\"yref\":\"paper\"},{\"font\":{\"size\":16},\"showarrow\":false,\"text\":\"Ocorr\\u00eancias por m\\u00eas nos anos [2006, 2012]\",\"x\":0.5,\"xanchor\":\"center\",\"xref\":\"paper\",\"y\":1.0,\"yanchor\":\"bottom\",\"yref\":\"paper\"},{\"font\":{\"size\":16},\"showarrow\":false,\"text\":\"Ocorr\\u00eancias por m\\u00eas nos anos [2013, 2023]\",\"x\":0.8555555555555556,\"xanchor\":\"center\",\"xref\":\"paper\",\"y\":1.0,\"yanchor\":\"bottom\",\"yref\":\"paper\"}],\"font\":{\"family\":\"Arial, sans-serif\",\"size\":13,\"color\":\"black\"},\"bargap\":0.2},                        {\"responsive\": true}                    ).then(function(){\n",
              "                            \n",
              "var gd = document.getElementById('603a05e1-93a8-4c87-9c40-4e5b5dbd7fc4');\n",
              "var x = new MutationObserver(function (mutations, observer) {{\n",
              "        var display = window.getComputedStyle(gd).display;\n",
              "        if (!display || display === 'none') {{\n",
              "            console.log([gd, 'removed!']);\n",
              "            Plotly.purge(gd);\n",
              "            observer.disconnect();\n",
              "        }}\n",
              "}});\n",
              "\n",
              "// Listen for the removal of the full notebook cells\n",
              "var notebookContainer = gd.closest('#notebook-container');\n",
              "if (notebookContainer) {{\n",
              "    x.observe(notebookContainer, {childList: true});\n",
              "}}\n",
              "\n",
              "// Listen for the clearing of the current output cell\n",
              "var outputEl = gd.closest('.output');\n",
              "if (outputEl) {{\n",
              "    x.observe(outputEl, {childList: true});\n",
              "}}\n",
              "\n",
              "                        })                };                            </script>        </div>\n",
              "</body>\n",
              "</html>"
            ]
          },
          "metadata": {}
        }
      ]
    },
    {
      "cell_type": "markdown",
      "source": [
        "As ocorrências se concentram, em sua maioria, nos meses letivos, como já era de se esperar."
      ],
      "metadata": {
        "id": "H5zR3BI31Y1c"
      }
    },
    {
      "cell_type": "markdown",
      "source": [
        "**Vamos verificar a relação entre a idade e o sexo dos autores dos massacres**"
      ],
      "metadata": {
        "id": "GOKd_epb2DUT"
      }
    },
    {
      "cell_type": "markdown",
      "source": [
        "Preparação do dataset de interesse"
      ],
      "metadata": {
        "id": "cE40afSc2RG_"
      }
    },
    {
      "cell_type": "code",
      "source": [
        "participantes = df.loc[:, ['age_shooter1', 'gender_shooter1', 'age_shooter2', 'gender_shooter2']]\n",
        "#juntar dados em duas colunas\n",
        "# Concatenar as colunas age_shooter1 e age_shooter2\n",
        "combined_ages = pd.concat([participantes['age_shooter1'], participantes['age_shooter2']])\n",
        "combined_genders = pd.concat([participantes['gender_shooter1'], participantes['gender_shooter2']]).reset_index(drop=True)\n",
        "# Resetar o índice para garantir que não haja índices duplicados\n",
        "combined_ages = combined_ages.reset_index(drop=True)\n",
        "\n",
        "# Criar um novo DataFrame com as colunas combinadas\n",
        "combined_participants = pd.DataFrame({\n",
        "    'combined_age': combined_ages,\n",
        "    'combined_gender': combined_genders\n",
        "})\n",
        "combined_participants = combined_participants.dropna()\n",
        "# Resetar o índice do DataFrame resultante\n",
        "combined_participants = combined_participants.reset_index(drop=True)"
      ],
      "metadata": {
        "id": "JTOfELjU2P0X"
      },
      "execution_count": null,
      "outputs": []
    },
    {
      "cell_type": "markdown",
      "source": [
        "Vamos plotar o gráfico dos dados"
      ],
      "metadata": {
        "id": "5EpuvWAP2hNV"
      }
    },
    {
      "cell_type": "code",
      "source": [
        "fig = px.box(\n",
        "    combined_participants,\n",
        "    x = 'combined_gender',\n",
        "    y = 'combined_age',\n",
        "    points = \"all\",\n",
        "    color_discrete_map={\"m\": \"blue\", \"f\": \"red\"},\n",
        "    color = 'combined_gender',\n",
        "    height = 600,\n",
        "    width = 900\n",
        ")\n",
        "fig.update_yaxes(range = [0, 80])\n",
        "fig.update_layout(\n",
        "    title=\"Idade dos envolvidos\",\n",
        "    xaxis_title=\"Sexo\",\n",
        "    yaxis_title=\"Idade\",\n",
        "    height=600,\n",
        "    width=900\n",
        ")\n",
        "\n",
        "fig.show()"
      ],
      "metadata": {
        "colab": {
          "base_uri": "https://localhost:8080/",
          "height": 617
        },
        "id": "NlAV3U6x2nkI",
        "outputId": "75afd0b0-daac-4383-c238-0a57adee6017"
      },
      "execution_count": null,
      "outputs": [
        {
          "output_type": "display_data",
          "data": {
            "text/html": [
              "<html>\n",
              "<head><meta charset=\"utf-8\" /></head>\n",
              "<body>\n",
              "    <div>            <script src=\"https://cdnjs.cloudflare.com/ajax/libs/mathjax/2.7.5/MathJax.js?config=TeX-AMS-MML_SVG\"></script><script type=\"text/javascript\">if (window.MathJax && window.MathJax.Hub && window.MathJax.Hub.Config) {window.MathJax.Hub.Config({SVG: {font: \"STIX-Web\"}});}</script>                <script type=\"text/javascript\">window.PlotlyConfig = {MathJaxConfig: 'local'};</script>\n",
              "        <script charset=\"utf-8\" src=\"https://cdn.plot.ly/plotly-2.24.1.min.js\"></script>                <div id=\"a358d9d2-5540-4e63-95ef-e3c6655643b0\" class=\"plotly-graph-div\" style=\"height:600px; width:900px;\"></div>            <script type=\"text/javascript\">                                    window.PLOTLYENV=window.PLOTLYENV || {};                                    if (document.getElementById(\"a358d9d2-5540-4e63-95ef-e3c6655643b0\")) {                    Plotly.newPlot(                        \"a358d9d2-5540-4e63-95ef-e3c6655643b0\",                        [{\"alignmentgroup\":\"True\",\"boxpoints\":\"all\",\"hovertemplate\":\"combined_gender=%{x}\\u003cbr\\u003ecombined_age=%{y}\\u003cextra\\u003e\\u003c\\u002fextra\\u003e\",\"legendgroup\":\"m\",\"marker\":{\"color\":\"blue\"},\"name\":\"m\",\"notched\":false,\"offsetgroup\":\"m\",\"orientation\":\"v\",\"showlegend\":true,\"x\":[\"m\",\"m\",\"m\",\"m\",\"m\",\"m\",\"m\",\"m\",\"m\",\"m\",\"m\",\"m\",\"m\",\"m\",\"m\",\"m\",\"m\",\"m\",\"m\",\"m\",\"m\",\"m\",\"m\",\"m\",\"m\",\"m\",\"m\",\"m\",\"m\",\"m\",\"m\",\"m\",\"m\",\"m\",\"m\",\"m\",\"m\",\"m\",\"m\",\"m\",\"m\",\"m\",\"m\",\"m\",\"m\",\"m\",\"m\",\"m\",\"m\",\"m\",\"m\",\"m\",\"m\",\"m\",\"m\",\"m\",\"m\",\"m\",\"m\",\"m\",\"m\",\"m\",\"m\",\"m\",\"m\",\"m\",\"m\",\"m\",\"m\",\"m\",\"m\",\"m\",\"m\",\"m\",\"m\",\"m\",\"m\",\"m\",\"m\",\"m\",\"m\",\"m\",\"m\",\"m\",\"m\",\"m\",\"m\",\"m\",\"m\",\"m\",\"m\",\"m\",\"m\",\"m\",\"m\",\"m\",\"m\",\"m\",\"m\",\"m\",\"m\",\"m\",\"m\",\"m\",\"m\",\"m\",\"m\",\"m\",\"m\",\"m\",\"m\",\"m\",\"m\",\"m\",\"m\",\"m\",\"m\",\"m\",\"m\",\"m\",\"m\",\"m\",\"m\",\"m\",\"m\",\"m\",\"m\",\"m\",\"m\",\"m\",\"m\",\"m\",\"m\",\"m\",\"m\",\"m\",\"m\",\"m\",\"m\",\"m\",\"m\",\"m\",\"m\",\"m\",\"m\",\"m\",\"m\",\"m\",\"m\",\"m\",\"m\",\"m\",\"m\",\"m\",\"m\",\"m\",\"m\",\"m\",\"m\",\"m\",\"m\",\"m\",\"m\",\"m\",\"m\",\"m\",\"m\",\"m\",\"m\",\"m\",\"m\",\"m\",\"m\",\"m\",\"m\",\"m\",\"m\",\"m\",\"m\",\"m\",\"m\",\"m\",\"m\",\"m\",\"m\",\"m\",\"m\",\"m\",\"m\",\"m\",\"m\",\"m\",\"m\",\"m\",\"m\",\"m\",\"m\",\"m\",\"m\",\"m\",\"m\",\"m\",\"m\",\"m\",\"m\",\"m\",\"m\",\"m\",\"m\",\"m\",\"m\",\"m\",\"m\",\"m\",\"m\",\"m\",\"m\",\"m\",\"m\",\"m\",\"m\",\"m\",\"m\",\"m\",\"m\",\"m\",\"m\",\"m\",\"m\",\"m\",\"m\",\"m\",\"m\",\"m\",\"m\",\"m\",\"m\",\"m\",\"m\",\"m\",\"m\",\"m\",\"m\",\"m\",\"m\",\"m\",\"m\",\"m\",\"m\",\"m\",\"m\",\"m\",\"m\",\"m\",\"m\",\"m\",\"m\",\"m\",\"m\",\"m\",\"m\",\"m\",\"m\",\"m\",\"m\"],\"x0\":\" \",\"xaxis\":\"x\",\"y\":[18.0,14.0,15.0,17.0,12.0,13.0,16.0,13.0,11.0,19.0,6.0,39.0,13.0,13.0,14.0,13.0,17.0,19.0,14.0,15.0,18.0,17.0,14.0,16.0,16.0,17.0,17.0,17.0,15.0,41.0,14.0,15.0,19.0,14.0,20.0,16.0,15.0,13.0,15.0,18.0,16.0,19.0,16.0,15.0,16.0,16.0,45.0,47.0,14.0,15.0,17.0,15.0,15.0,18.0,18.0,19.0,14.0,16.0,23.0,14.0,14.0,21.0,19.0,53.0,15.0,32.0,13.0,18.0,16.0,17.0,15.0,15.0,14.0,17.0,14.0,16.0,16.0,56.0,17.0,14.0,38.0,15.0,17.0,15.0,16.0,16.0,28.0,28.0,14.0,32.0,15.0,15.0,14.0,41.0,15.0,17.0,17.0,44.0,15.0,17.0,6.0,15.0,18.0,14.0,9.0,17.0,28.0,16.0,49.0,15.0,14.0,20.0,16.0,15.0,17.0,11.0,20.0,18.0,16.0,12.0,8.0,17.0,18.0,16.0,12.0,17.0,18.0,17.0,17.0,42.0,17.0,15.0,16.0,15.0,15.0,48.0,16.0,16.0,15.0,17.0,16.0,14.0,19.0,14.0,16.0,14.0,50.0,15.0,17.0,14.0,16.0,53.0,7.0,18.0,15.0,14.0,21.0,44.0,21.0,15.0,16.0,15.0,16.0,19.0,53.0,17.0,17.0,20.0,19.0,19.0,14.0,19.0,17.0,13.0,34.0,16.0,24.0,26.0,18.0,16.0,29.0,14.0,30.0,25.0,16.0,16.0,26.0,72.0,16.0,27.0,38.0,16.0,22.0,16.0,15.0,55.0,12.0,15.0,19.0,15.0,17.0,12.0,47.0,15.0,32.0,15.0,17.0,13.0,14.0,15.0,15.0,15.0,15.0,13.0,25.0,18.0,13.0,45.0,15.0,15.0,21.0,15.0,16.0,16.0,17.0,19.0,18.0,17.0,15.0,20.0,8.0,12.0,14.0,23.0,17.0,8.0,17.0,18.0,12.0,17.0,17.0,19.0,14.0,15.0,16.0,6.0,16.0,17.0,18.0,14.0,18.0,15.0,22.0,17.0,17.0,20.0,15.0,17.0,18.0,15.0,16.0,17.0,18.0,18.0,15.0],\"y0\":\" \",\"yaxis\":\"y\",\"type\":\"box\"},{\"alignmentgroup\":\"True\",\"boxpoints\":\"all\",\"hovertemplate\":\"combined_gender=%{x}\\u003cbr\\u003ecombined_age=%{y}\\u003cextra\\u003e\\u003c\\u002fextra\\u003e\",\"legendgroup\":\"f\",\"marker\":{\"color\":\"red\"},\"name\":\"f\",\"notched\":false,\"offsetgroup\":\"f\",\"orientation\":\"v\",\"showlegend\":true,\"x\":[\"f\",\"f\",\"f\",\"f\",\"f\",\"f\",\"f\",\"f\",\"f\",\"f\",\"f\",\"f\"],\"x0\":\" \",\"xaxis\":\"x\",\"y\":[33.0,14.0,30.0,28.0,28.0,15.0,22.0,15.0,14.0,12.0,28.0,27.0],\"y0\":\" \",\"yaxis\":\"y\",\"type\":\"box\"}],                        {\"template\":{\"data\":{\"histogram2dcontour\":[{\"type\":\"histogram2dcontour\",\"colorbar\":{\"outlinewidth\":0,\"ticks\":\"\"},\"colorscale\":[[0.0,\"#0d0887\"],[0.1111111111111111,\"#46039f\"],[0.2222222222222222,\"#7201a8\"],[0.3333333333333333,\"#9c179e\"],[0.4444444444444444,\"#bd3786\"],[0.5555555555555556,\"#d8576b\"],[0.6666666666666666,\"#ed7953\"],[0.7777777777777778,\"#fb9f3a\"],[0.8888888888888888,\"#fdca26\"],[1.0,\"#f0f921\"]]}],\"choropleth\":[{\"type\":\"choropleth\",\"colorbar\":{\"outlinewidth\":0,\"ticks\":\"\"}}],\"histogram2d\":[{\"type\":\"histogram2d\",\"colorbar\":{\"outlinewidth\":0,\"ticks\":\"\"},\"colorscale\":[[0.0,\"#0d0887\"],[0.1111111111111111,\"#46039f\"],[0.2222222222222222,\"#7201a8\"],[0.3333333333333333,\"#9c179e\"],[0.4444444444444444,\"#bd3786\"],[0.5555555555555556,\"#d8576b\"],[0.6666666666666666,\"#ed7953\"],[0.7777777777777778,\"#fb9f3a\"],[0.8888888888888888,\"#fdca26\"],[1.0,\"#f0f921\"]]}],\"heatmap\":[{\"type\":\"heatmap\",\"colorbar\":{\"outlinewidth\":0,\"ticks\":\"\"},\"colorscale\":[[0.0,\"#0d0887\"],[0.1111111111111111,\"#46039f\"],[0.2222222222222222,\"#7201a8\"],[0.3333333333333333,\"#9c179e\"],[0.4444444444444444,\"#bd3786\"],[0.5555555555555556,\"#d8576b\"],[0.6666666666666666,\"#ed7953\"],[0.7777777777777778,\"#fb9f3a\"],[0.8888888888888888,\"#fdca26\"],[1.0,\"#f0f921\"]]}],\"heatmapgl\":[{\"type\":\"heatmapgl\",\"colorbar\":{\"outlinewidth\":0,\"ticks\":\"\"},\"colorscale\":[[0.0,\"#0d0887\"],[0.1111111111111111,\"#46039f\"],[0.2222222222222222,\"#7201a8\"],[0.3333333333333333,\"#9c179e\"],[0.4444444444444444,\"#bd3786\"],[0.5555555555555556,\"#d8576b\"],[0.6666666666666666,\"#ed7953\"],[0.7777777777777778,\"#fb9f3a\"],[0.8888888888888888,\"#fdca26\"],[1.0,\"#f0f921\"]]}],\"contourcarpet\":[{\"type\":\"contourcarpet\",\"colorbar\":{\"outlinewidth\":0,\"ticks\":\"\"}}],\"contour\":[{\"type\":\"contour\",\"colorbar\":{\"outlinewidth\":0,\"ticks\":\"\"},\"colorscale\":[[0.0,\"#0d0887\"],[0.1111111111111111,\"#46039f\"],[0.2222222222222222,\"#7201a8\"],[0.3333333333333333,\"#9c179e\"],[0.4444444444444444,\"#bd3786\"],[0.5555555555555556,\"#d8576b\"],[0.6666666666666666,\"#ed7953\"],[0.7777777777777778,\"#fb9f3a\"],[0.8888888888888888,\"#fdca26\"],[1.0,\"#f0f921\"]]}],\"surface\":[{\"type\":\"surface\",\"colorbar\":{\"outlinewidth\":0,\"ticks\":\"\"},\"colorscale\":[[0.0,\"#0d0887\"],[0.1111111111111111,\"#46039f\"],[0.2222222222222222,\"#7201a8\"],[0.3333333333333333,\"#9c179e\"],[0.4444444444444444,\"#bd3786\"],[0.5555555555555556,\"#d8576b\"],[0.6666666666666666,\"#ed7953\"],[0.7777777777777778,\"#fb9f3a\"],[0.8888888888888888,\"#fdca26\"],[1.0,\"#f0f921\"]]}],\"mesh3d\":[{\"type\":\"mesh3d\",\"colorbar\":{\"outlinewidth\":0,\"ticks\":\"\"}}],\"scatter\":[{\"fillpattern\":{\"fillmode\":\"overlay\",\"size\":10,\"solidity\":0.2},\"type\":\"scatter\"}],\"parcoords\":[{\"type\":\"parcoords\",\"line\":{\"colorbar\":{\"outlinewidth\":0,\"ticks\":\"\"}}}],\"scatterpolargl\":[{\"type\":\"scatterpolargl\",\"marker\":{\"colorbar\":{\"outlinewidth\":0,\"ticks\":\"\"}}}],\"bar\":[{\"error_x\":{\"color\":\"#2a3f5f\"},\"error_y\":{\"color\":\"#2a3f5f\"},\"marker\":{\"line\":{\"color\":\"#E5ECF6\",\"width\":0.5},\"pattern\":{\"fillmode\":\"overlay\",\"size\":10,\"solidity\":0.2}},\"type\":\"bar\"}],\"scattergeo\":[{\"type\":\"scattergeo\",\"marker\":{\"colorbar\":{\"outlinewidth\":0,\"ticks\":\"\"}}}],\"scatterpolar\":[{\"type\":\"scatterpolar\",\"marker\":{\"colorbar\":{\"outlinewidth\":0,\"ticks\":\"\"}}}],\"histogram\":[{\"marker\":{\"pattern\":{\"fillmode\":\"overlay\",\"size\":10,\"solidity\":0.2}},\"type\":\"histogram\"}],\"scattergl\":[{\"type\":\"scattergl\",\"marker\":{\"colorbar\":{\"outlinewidth\":0,\"ticks\":\"\"}}}],\"scatter3d\":[{\"type\":\"scatter3d\",\"line\":{\"colorbar\":{\"outlinewidth\":0,\"ticks\":\"\"}},\"marker\":{\"colorbar\":{\"outlinewidth\":0,\"ticks\":\"\"}}}],\"scattermapbox\":[{\"type\":\"scattermapbox\",\"marker\":{\"colorbar\":{\"outlinewidth\":0,\"ticks\":\"\"}}}],\"scatterternary\":[{\"type\":\"scatterternary\",\"marker\":{\"colorbar\":{\"outlinewidth\":0,\"ticks\":\"\"}}}],\"scattercarpet\":[{\"type\":\"scattercarpet\",\"marker\":{\"colorbar\":{\"outlinewidth\":0,\"ticks\":\"\"}}}],\"carpet\":[{\"aaxis\":{\"endlinecolor\":\"#2a3f5f\",\"gridcolor\":\"white\",\"linecolor\":\"white\",\"minorgridcolor\":\"white\",\"startlinecolor\":\"#2a3f5f\"},\"baxis\":{\"endlinecolor\":\"#2a3f5f\",\"gridcolor\":\"white\",\"linecolor\":\"white\",\"minorgridcolor\":\"white\",\"startlinecolor\":\"#2a3f5f\"},\"type\":\"carpet\"}],\"table\":[{\"cells\":{\"fill\":{\"color\":\"#EBF0F8\"},\"line\":{\"color\":\"white\"}},\"header\":{\"fill\":{\"color\":\"#C8D4E3\"},\"line\":{\"color\":\"white\"}},\"type\":\"table\"}],\"barpolar\":[{\"marker\":{\"line\":{\"color\":\"#E5ECF6\",\"width\":0.5},\"pattern\":{\"fillmode\":\"overlay\",\"size\":10,\"solidity\":0.2}},\"type\":\"barpolar\"}],\"pie\":[{\"automargin\":true,\"type\":\"pie\"}]},\"layout\":{\"autotypenumbers\":\"strict\",\"colorway\":[\"#636efa\",\"#EF553B\",\"#00cc96\",\"#ab63fa\",\"#FFA15A\",\"#19d3f3\",\"#FF6692\",\"#B6E880\",\"#FF97FF\",\"#FECB52\"],\"font\":{\"color\":\"#2a3f5f\"},\"hovermode\":\"closest\",\"hoverlabel\":{\"align\":\"left\"},\"paper_bgcolor\":\"white\",\"plot_bgcolor\":\"#E5ECF6\",\"polar\":{\"bgcolor\":\"#E5ECF6\",\"angularaxis\":{\"gridcolor\":\"white\",\"linecolor\":\"white\",\"ticks\":\"\"},\"radialaxis\":{\"gridcolor\":\"white\",\"linecolor\":\"white\",\"ticks\":\"\"}},\"ternary\":{\"bgcolor\":\"#E5ECF6\",\"aaxis\":{\"gridcolor\":\"white\",\"linecolor\":\"white\",\"ticks\":\"\"},\"baxis\":{\"gridcolor\":\"white\",\"linecolor\":\"white\",\"ticks\":\"\"},\"caxis\":{\"gridcolor\":\"white\",\"linecolor\":\"white\",\"ticks\":\"\"}},\"coloraxis\":{\"colorbar\":{\"outlinewidth\":0,\"ticks\":\"\"}},\"colorscale\":{\"sequential\":[[0.0,\"#0d0887\"],[0.1111111111111111,\"#46039f\"],[0.2222222222222222,\"#7201a8\"],[0.3333333333333333,\"#9c179e\"],[0.4444444444444444,\"#bd3786\"],[0.5555555555555556,\"#d8576b\"],[0.6666666666666666,\"#ed7953\"],[0.7777777777777778,\"#fb9f3a\"],[0.8888888888888888,\"#fdca26\"],[1.0,\"#f0f921\"]],\"sequentialminus\":[[0.0,\"#0d0887\"],[0.1111111111111111,\"#46039f\"],[0.2222222222222222,\"#7201a8\"],[0.3333333333333333,\"#9c179e\"],[0.4444444444444444,\"#bd3786\"],[0.5555555555555556,\"#d8576b\"],[0.6666666666666666,\"#ed7953\"],[0.7777777777777778,\"#fb9f3a\"],[0.8888888888888888,\"#fdca26\"],[1.0,\"#f0f921\"]],\"diverging\":[[0,\"#8e0152\"],[0.1,\"#c51b7d\"],[0.2,\"#de77ae\"],[0.3,\"#f1b6da\"],[0.4,\"#fde0ef\"],[0.5,\"#f7f7f7\"],[0.6,\"#e6f5d0\"],[0.7,\"#b8e186\"],[0.8,\"#7fbc41\"],[0.9,\"#4d9221\"],[1,\"#276419\"]]},\"xaxis\":{\"gridcolor\":\"white\",\"linecolor\":\"white\",\"ticks\":\"\",\"title\":{\"standoff\":15},\"zerolinecolor\":\"white\",\"automargin\":true,\"zerolinewidth\":2},\"yaxis\":{\"gridcolor\":\"white\",\"linecolor\":\"white\",\"ticks\":\"\",\"title\":{\"standoff\":15},\"zerolinecolor\":\"white\",\"automargin\":true,\"zerolinewidth\":2},\"scene\":{\"xaxis\":{\"backgroundcolor\":\"#E5ECF6\",\"gridcolor\":\"white\",\"linecolor\":\"white\",\"showbackground\":true,\"ticks\":\"\",\"zerolinecolor\":\"white\",\"gridwidth\":2},\"yaxis\":{\"backgroundcolor\":\"#E5ECF6\",\"gridcolor\":\"white\",\"linecolor\":\"white\",\"showbackground\":true,\"ticks\":\"\",\"zerolinecolor\":\"white\",\"gridwidth\":2},\"zaxis\":{\"backgroundcolor\":\"#E5ECF6\",\"gridcolor\":\"white\",\"linecolor\":\"white\",\"showbackground\":true,\"ticks\":\"\",\"zerolinecolor\":\"white\",\"gridwidth\":2}},\"shapedefaults\":{\"line\":{\"color\":\"#2a3f5f\"}},\"annotationdefaults\":{\"arrowcolor\":\"#2a3f5f\",\"arrowhead\":0,\"arrowwidth\":1},\"geo\":{\"bgcolor\":\"white\",\"landcolor\":\"#E5ECF6\",\"subunitcolor\":\"white\",\"showland\":true,\"showlakes\":true,\"lakecolor\":\"white\"},\"title\":{\"x\":0.05},\"mapbox\":{\"style\":\"light\"}}},\"xaxis\":{\"anchor\":\"y\",\"domain\":[0.0,1.0],\"title\":{\"text\":\"Sexo\"},\"categoryorder\":\"array\",\"categoryarray\":[\"m\",\"f\"]},\"yaxis\":{\"anchor\":\"x\",\"domain\":[0.0,1.0],\"title\":{\"text\":\"Idade\"},\"range\":[0,80]},\"legend\":{\"title\":{\"text\":\"combined_gender\"},\"tracegroupgap\":0},\"margin\":{\"t\":60},\"boxmode\":\"overlay\",\"height\":600,\"width\":900,\"title\":{\"text\":\"Idade dos envolvidos\"}},                        {\"responsive\": true}                    ).then(function(){\n",
              "                            \n",
              "var gd = document.getElementById('a358d9d2-5540-4e63-95ef-e3c6655643b0');\n",
              "var x = new MutationObserver(function (mutations, observer) {{\n",
              "        var display = window.getComputedStyle(gd).display;\n",
              "        if (!display || display === 'none') {{\n",
              "            console.log([gd, 'removed!']);\n",
              "            Plotly.purge(gd);\n",
              "            observer.disconnect();\n",
              "        }}\n",
              "}});\n",
              "\n",
              "// Listen for the removal of the full notebook cells\n",
              "var notebookContainer = gd.closest('#notebook-container');\n",
              "if (notebookContainer) {{\n",
              "    x.observe(notebookContainer, {childList: true});\n",
              "}}\n",
              "\n",
              "// Listen for the clearing of the current output cell\n",
              "var outputEl = gd.closest('.output');\n",
              "if (outputEl) {{\n",
              "    x.observe(outputEl, {childList: true});\n",
              "}}\n",
              "\n",
              "                        })                };                            </script>        </div>\n",
              "</body>\n",
              "</html>"
            ]
          },
          "metadata": {}
        }
      ]
    },
    {
      "cell_type": "markdown",
      "source": [
        "**Vamos analisar agora, a quantidade de mortes e feridos ao longo dos anos**"
      ],
      "metadata": {
        "id": "EEfBP-Xd2v9a"
      }
    },
    {
      "cell_type": "markdown",
      "source": [
        "Preparação do dataset de interesse"
      ],
      "metadata": {
        "id": "gKcEYMeG2xMV"
      }
    },
    {
      "cell_type": "code",
      "source": [
        "feridos_ao_longo_dos_anos = df.loc[:, ['year', 'killed', 'injured', 'casualties']]"
      ],
      "metadata": {
        "id": "YbF7Wl_022Jx"
      },
      "execution_count": null,
      "outputs": []
    },
    {
      "cell_type": "markdown",
      "source": [
        "Vamos plotar o gráfico"
      ],
      "metadata": {
        "id": "55YW5eZR24pT"
      }
    },
    {
      "cell_type": "code",
      "source": [
        "soma_feridos_por_ano = feridos_ao_longo_dos_anos.groupby('year')['injured'].sum().reset_index()\n",
        "soma_mortes_por_ano = feridos_ao_longo_dos_anos.groupby('year')['killed'].sum().reset_index()\n",
        "fig = go.Figure()\n",
        "fig.add_trace(go.Scatter(\n",
        "    x = soma_feridos_por_ano['year'],\n",
        "    y = soma_feridos_por_ano['injured'],\n",
        "    mode = 'lines+markers',\n",
        "    name = 'Feridos',\n",
        "    line=dict(color='red', width=2),\n",
        "    marker=dict(color='red', size=8)\n",
        "))\n",
        "\n",
        "fig.add_trace(go.Scatter(\n",
        "    x = soma_mortes_por_ano['year'],\n",
        "    y = soma_mortes_por_ano['killed'],\n",
        "    mode = 'lines+markers',\n",
        "    name = 'Mortos',\n",
        "    line=dict(color='black', width=2),\n",
        "    marker=dict(color='black', size=8),\n",
        "\n",
        "))\n",
        "fig.update_layout(\n",
        "    title=\"Soma de Mortes e Feridos ao Longo dos Anos\",\n",
        "    xaxis_title=\"Ano\",\n",
        "    yaxis_title=\"Número de Pessoas\",\n",
        "    height=600,\n",
        "    width=900\n",
        ")"
      ],
      "metadata": {
        "colab": {
          "base_uri": "https://localhost:8080/",
          "height": 617
        },
        "id": "202QTg1D2-oU",
        "outputId": "d3ef95aa-2142-41c7-963c-a9aa3b151e53"
      },
      "execution_count": null,
      "outputs": [
        {
          "output_type": "display_data",
          "data": {
            "text/html": [
              "<html>\n",
              "<head><meta charset=\"utf-8\" /></head>\n",
              "<body>\n",
              "    <div>            <script src=\"https://cdnjs.cloudflare.com/ajax/libs/mathjax/2.7.5/MathJax.js?config=TeX-AMS-MML_SVG\"></script><script type=\"text/javascript\">if (window.MathJax && window.MathJax.Hub && window.MathJax.Hub.Config) {window.MathJax.Hub.Config({SVG: {font: \"STIX-Web\"}});}</script>                <script type=\"text/javascript\">window.PlotlyConfig = {MathJaxConfig: 'local'};</script>\n",
              "        <script charset=\"utf-8\" src=\"https://cdn.plot.ly/plotly-2.24.1.min.js\"></script>                <div id=\"f79e9d81-4aaf-4017-acd6-2b2627a7ee83\" class=\"plotly-graph-div\" style=\"height:600px; width:900px;\"></div>            <script type=\"text/javascript\">                                    window.PLOTLYENV=window.PLOTLYENV || {};                                    if (document.getElementById(\"f79e9d81-4aaf-4017-acd6-2b2627a7ee83\")) {                    Plotly.newPlot(                        \"f79e9d81-4aaf-4017-acd6-2b2627a7ee83\",                        [{\"line\":{\"color\":\"red\",\"width\":2},\"marker\":{\"color\":\"red\",\"size\":8},\"mode\":\"lines+markers\",\"name\":\"Feridos\",\"x\":[1999,2000,2001,2002,2003,2004,2005,2006,2007,2008,2009,2010,2011,2012,2013,2014,2015,2016,2017,2018,2019,2020,2021,2022,2023],\"y\":[35,3,22,7,8,9,17,16,17,5,4,6,9,8,13,14,2,18,16,62,20,5,36,58,19],\"type\":\"scatter\"},{\"line\":{\"color\":\"black\",\"width\":2},\"marker\":{\"color\":\"black\",\"size\":8},\"mode\":\"lines+markers\",\"name\":\"Mortos\",\"x\":[1999,2000,2001,2002,2003,2004,2005,2006,2007,2008,2009,2010,2011,2012,2013,2014,2015,2016,2017,2018,2019,2020,2021,2022,2023],\"y\":[14,4,5,1,5,3,9,9,1,5,1,3,2,32,3,6,0,2,5,33,4,1,9,34,10],\"type\":\"scatter\"}],                        {\"template\":{\"data\":{\"histogram2dcontour\":[{\"type\":\"histogram2dcontour\",\"colorbar\":{\"outlinewidth\":0,\"ticks\":\"\"},\"colorscale\":[[0.0,\"#0d0887\"],[0.1111111111111111,\"#46039f\"],[0.2222222222222222,\"#7201a8\"],[0.3333333333333333,\"#9c179e\"],[0.4444444444444444,\"#bd3786\"],[0.5555555555555556,\"#d8576b\"],[0.6666666666666666,\"#ed7953\"],[0.7777777777777778,\"#fb9f3a\"],[0.8888888888888888,\"#fdca26\"],[1.0,\"#f0f921\"]]}],\"choropleth\":[{\"type\":\"choropleth\",\"colorbar\":{\"outlinewidth\":0,\"ticks\":\"\"}}],\"histogram2d\":[{\"type\":\"histogram2d\",\"colorbar\":{\"outlinewidth\":0,\"ticks\":\"\"},\"colorscale\":[[0.0,\"#0d0887\"],[0.1111111111111111,\"#46039f\"],[0.2222222222222222,\"#7201a8\"],[0.3333333333333333,\"#9c179e\"],[0.4444444444444444,\"#bd3786\"],[0.5555555555555556,\"#d8576b\"],[0.6666666666666666,\"#ed7953\"],[0.7777777777777778,\"#fb9f3a\"],[0.8888888888888888,\"#fdca26\"],[1.0,\"#f0f921\"]]}],\"heatmap\":[{\"type\":\"heatmap\",\"colorbar\":{\"outlinewidth\":0,\"ticks\":\"\"},\"colorscale\":[[0.0,\"#0d0887\"],[0.1111111111111111,\"#46039f\"],[0.2222222222222222,\"#7201a8\"],[0.3333333333333333,\"#9c179e\"],[0.4444444444444444,\"#bd3786\"],[0.5555555555555556,\"#d8576b\"],[0.6666666666666666,\"#ed7953\"],[0.7777777777777778,\"#fb9f3a\"],[0.8888888888888888,\"#fdca26\"],[1.0,\"#f0f921\"]]}],\"heatmapgl\":[{\"type\":\"heatmapgl\",\"colorbar\":{\"outlinewidth\":0,\"ticks\":\"\"},\"colorscale\":[[0.0,\"#0d0887\"],[0.1111111111111111,\"#46039f\"],[0.2222222222222222,\"#7201a8\"],[0.3333333333333333,\"#9c179e\"],[0.4444444444444444,\"#bd3786\"],[0.5555555555555556,\"#d8576b\"],[0.6666666666666666,\"#ed7953\"],[0.7777777777777778,\"#fb9f3a\"],[0.8888888888888888,\"#fdca26\"],[1.0,\"#f0f921\"]]}],\"contourcarpet\":[{\"type\":\"contourcarpet\",\"colorbar\":{\"outlinewidth\":0,\"ticks\":\"\"}}],\"contour\":[{\"type\":\"contour\",\"colorbar\":{\"outlinewidth\":0,\"ticks\":\"\"},\"colorscale\":[[0.0,\"#0d0887\"],[0.1111111111111111,\"#46039f\"],[0.2222222222222222,\"#7201a8\"],[0.3333333333333333,\"#9c179e\"],[0.4444444444444444,\"#bd3786\"],[0.5555555555555556,\"#d8576b\"],[0.6666666666666666,\"#ed7953\"],[0.7777777777777778,\"#fb9f3a\"],[0.8888888888888888,\"#fdca26\"],[1.0,\"#f0f921\"]]}],\"surface\":[{\"type\":\"surface\",\"colorbar\":{\"outlinewidth\":0,\"ticks\":\"\"},\"colorscale\":[[0.0,\"#0d0887\"],[0.1111111111111111,\"#46039f\"],[0.2222222222222222,\"#7201a8\"],[0.3333333333333333,\"#9c179e\"],[0.4444444444444444,\"#bd3786\"],[0.5555555555555556,\"#d8576b\"],[0.6666666666666666,\"#ed7953\"],[0.7777777777777778,\"#fb9f3a\"],[0.8888888888888888,\"#fdca26\"],[1.0,\"#f0f921\"]]}],\"mesh3d\":[{\"type\":\"mesh3d\",\"colorbar\":{\"outlinewidth\":0,\"ticks\":\"\"}}],\"scatter\":[{\"fillpattern\":{\"fillmode\":\"overlay\",\"size\":10,\"solidity\":0.2},\"type\":\"scatter\"}],\"parcoords\":[{\"type\":\"parcoords\",\"line\":{\"colorbar\":{\"outlinewidth\":0,\"ticks\":\"\"}}}],\"scatterpolargl\":[{\"type\":\"scatterpolargl\",\"marker\":{\"colorbar\":{\"outlinewidth\":0,\"ticks\":\"\"}}}],\"bar\":[{\"error_x\":{\"color\":\"#2a3f5f\"},\"error_y\":{\"color\":\"#2a3f5f\"},\"marker\":{\"line\":{\"color\":\"#E5ECF6\",\"width\":0.5},\"pattern\":{\"fillmode\":\"overlay\",\"size\":10,\"solidity\":0.2}},\"type\":\"bar\"}],\"scattergeo\":[{\"type\":\"scattergeo\",\"marker\":{\"colorbar\":{\"outlinewidth\":0,\"ticks\":\"\"}}}],\"scatterpolar\":[{\"type\":\"scatterpolar\",\"marker\":{\"colorbar\":{\"outlinewidth\":0,\"ticks\":\"\"}}}],\"histogram\":[{\"marker\":{\"pattern\":{\"fillmode\":\"overlay\",\"size\":10,\"solidity\":0.2}},\"type\":\"histogram\"}],\"scattergl\":[{\"type\":\"scattergl\",\"marker\":{\"colorbar\":{\"outlinewidth\":0,\"ticks\":\"\"}}}],\"scatter3d\":[{\"type\":\"scatter3d\",\"line\":{\"colorbar\":{\"outlinewidth\":0,\"ticks\":\"\"}},\"marker\":{\"colorbar\":{\"outlinewidth\":0,\"ticks\":\"\"}}}],\"scattermapbox\":[{\"type\":\"scattermapbox\",\"marker\":{\"colorbar\":{\"outlinewidth\":0,\"ticks\":\"\"}}}],\"scatterternary\":[{\"type\":\"scatterternary\",\"marker\":{\"colorbar\":{\"outlinewidth\":0,\"ticks\":\"\"}}}],\"scattercarpet\":[{\"type\":\"scattercarpet\",\"marker\":{\"colorbar\":{\"outlinewidth\":0,\"ticks\":\"\"}}}],\"carpet\":[{\"aaxis\":{\"endlinecolor\":\"#2a3f5f\",\"gridcolor\":\"white\",\"linecolor\":\"white\",\"minorgridcolor\":\"white\",\"startlinecolor\":\"#2a3f5f\"},\"baxis\":{\"endlinecolor\":\"#2a3f5f\",\"gridcolor\":\"white\",\"linecolor\":\"white\",\"minorgridcolor\":\"white\",\"startlinecolor\":\"#2a3f5f\"},\"type\":\"carpet\"}],\"table\":[{\"cells\":{\"fill\":{\"color\":\"#EBF0F8\"},\"line\":{\"color\":\"white\"}},\"header\":{\"fill\":{\"color\":\"#C8D4E3\"},\"line\":{\"color\":\"white\"}},\"type\":\"table\"}],\"barpolar\":[{\"marker\":{\"line\":{\"color\":\"#E5ECF6\",\"width\":0.5},\"pattern\":{\"fillmode\":\"overlay\",\"size\":10,\"solidity\":0.2}},\"type\":\"barpolar\"}],\"pie\":[{\"automargin\":true,\"type\":\"pie\"}]},\"layout\":{\"autotypenumbers\":\"strict\",\"colorway\":[\"#636efa\",\"#EF553B\",\"#00cc96\",\"#ab63fa\",\"#FFA15A\",\"#19d3f3\",\"#FF6692\",\"#B6E880\",\"#FF97FF\",\"#FECB52\"],\"font\":{\"color\":\"#2a3f5f\"},\"hovermode\":\"closest\",\"hoverlabel\":{\"align\":\"left\"},\"paper_bgcolor\":\"white\",\"plot_bgcolor\":\"#E5ECF6\",\"polar\":{\"bgcolor\":\"#E5ECF6\",\"angularaxis\":{\"gridcolor\":\"white\",\"linecolor\":\"white\",\"ticks\":\"\"},\"radialaxis\":{\"gridcolor\":\"white\",\"linecolor\":\"white\",\"ticks\":\"\"}},\"ternary\":{\"bgcolor\":\"#E5ECF6\",\"aaxis\":{\"gridcolor\":\"white\",\"linecolor\":\"white\",\"ticks\":\"\"},\"baxis\":{\"gridcolor\":\"white\",\"linecolor\":\"white\",\"ticks\":\"\"},\"caxis\":{\"gridcolor\":\"white\",\"linecolor\":\"white\",\"ticks\":\"\"}},\"coloraxis\":{\"colorbar\":{\"outlinewidth\":0,\"ticks\":\"\"}},\"colorscale\":{\"sequential\":[[0.0,\"#0d0887\"],[0.1111111111111111,\"#46039f\"],[0.2222222222222222,\"#7201a8\"],[0.3333333333333333,\"#9c179e\"],[0.4444444444444444,\"#bd3786\"],[0.5555555555555556,\"#d8576b\"],[0.6666666666666666,\"#ed7953\"],[0.7777777777777778,\"#fb9f3a\"],[0.8888888888888888,\"#fdca26\"],[1.0,\"#f0f921\"]],\"sequentialminus\":[[0.0,\"#0d0887\"],[0.1111111111111111,\"#46039f\"],[0.2222222222222222,\"#7201a8\"],[0.3333333333333333,\"#9c179e\"],[0.4444444444444444,\"#bd3786\"],[0.5555555555555556,\"#d8576b\"],[0.6666666666666666,\"#ed7953\"],[0.7777777777777778,\"#fb9f3a\"],[0.8888888888888888,\"#fdca26\"],[1.0,\"#f0f921\"]],\"diverging\":[[0,\"#8e0152\"],[0.1,\"#c51b7d\"],[0.2,\"#de77ae\"],[0.3,\"#f1b6da\"],[0.4,\"#fde0ef\"],[0.5,\"#f7f7f7\"],[0.6,\"#e6f5d0\"],[0.7,\"#b8e186\"],[0.8,\"#7fbc41\"],[0.9,\"#4d9221\"],[1,\"#276419\"]]},\"xaxis\":{\"gridcolor\":\"white\",\"linecolor\":\"white\",\"ticks\":\"\",\"title\":{\"standoff\":15},\"zerolinecolor\":\"white\",\"automargin\":true,\"zerolinewidth\":2},\"yaxis\":{\"gridcolor\":\"white\",\"linecolor\":\"white\",\"ticks\":\"\",\"title\":{\"standoff\":15},\"zerolinecolor\":\"white\",\"automargin\":true,\"zerolinewidth\":2},\"scene\":{\"xaxis\":{\"backgroundcolor\":\"#E5ECF6\",\"gridcolor\":\"white\",\"linecolor\":\"white\",\"showbackground\":true,\"ticks\":\"\",\"zerolinecolor\":\"white\",\"gridwidth\":2},\"yaxis\":{\"backgroundcolor\":\"#E5ECF6\",\"gridcolor\":\"white\",\"linecolor\":\"white\",\"showbackground\":true,\"ticks\":\"\",\"zerolinecolor\":\"white\",\"gridwidth\":2},\"zaxis\":{\"backgroundcolor\":\"#E5ECF6\",\"gridcolor\":\"white\",\"linecolor\":\"white\",\"showbackground\":true,\"ticks\":\"\",\"zerolinecolor\":\"white\",\"gridwidth\":2}},\"shapedefaults\":{\"line\":{\"color\":\"#2a3f5f\"}},\"annotationdefaults\":{\"arrowcolor\":\"#2a3f5f\",\"arrowhead\":0,\"arrowwidth\":1},\"geo\":{\"bgcolor\":\"white\",\"landcolor\":\"#E5ECF6\",\"subunitcolor\":\"white\",\"showland\":true,\"showlakes\":true,\"lakecolor\":\"white\"},\"title\":{\"x\":0.05},\"mapbox\":{\"style\":\"light\"}}},\"title\":{\"text\":\"Soma de Mortes e Feridos ao Longo dos Anos\"},\"xaxis\":{\"title\":{\"text\":\"Ano\"}},\"yaxis\":{\"title\":{\"text\":\"N\\u00famero de Pessoas\"}},\"height\":600,\"width\":900},                        {\"responsive\": true}                    ).then(function(){\n",
              "                            \n",
              "var gd = document.getElementById('f79e9d81-4aaf-4017-acd6-2b2627a7ee83');\n",
              "var x = new MutationObserver(function (mutations, observer) {{\n",
              "        var display = window.getComputedStyle(gd).display;\n",
              "        if (!display || display === 'none') {{\n",
              "            console.log([gd, 'removed!']);\n",
              "            Plotly.purge(gd);\n",
              "            observer.disconnect();\n",
              "        }}\n",
              "}});\n",
              "\n",
              "// Listen for the removal of the full notebook cells\n",
              "var notebookContainer = gd.closest('#notebook-container');\n",
              "if (notebookContainer) {{\n",
              "    x.observe(notebookContainer, {childList: true});\n",
              "}}\n",
              "\n",
              "// Listen for the clearing of the current output cell\n",
              "var outputEl = gd.closest('.output');\n",
              "if (outputEl) {{\n",
              "    x.observe(outputEl, {childList: true});\n",
              "}}\n",
              "\n",
              "                        })                };                            </script>        </div>\n",
              "</body>\n",
              "</html>"
            ]
          },
          "metadata": {}
        }
      ]
    },
    {
      "cell_type": "markdown",
      "source": [
        "## **Primeira pergunta**"
      ],
      "metadata": {
        "id": "WJnvUz9scR0Z"
      }
    },
    {
      "cell_type": "markdown",
      "source": [
        "Ao enfrentar uma dificuldade na primeira questão, mudamos a pergunta para **qual a probabilidade da arma ser de facil acesso para o atirador?** Seja por familia, amigos, casa dos amigos ou o próprio atirador."
      ],
      "metadata": {
        "id": "ol-J571sbT_p"
      }
    },
    {
      "cell_type": "markdown",
      "source": [
        "Vamos considerar a seguinte hipótese nula:\n",
        "\n",
        "**Hipótese Nula (H0): A probabilidade de uma arma ser de fácil acesso é 0,5.**\n",
        "\n",
        "Para isso, podemos calcular o **intervalo de confiança** de armas que tiveram a origem \"near\" ou \"no_near\". Se não houver sobreposição, isso sugere uma diferença significativa entre as duas proporções.\n"
      ],
      "metadata": {
        "id": "v9oHxsdRnghA"
      }
    },
    {
      "cell_type": "code",
      "source": [
        "df_cleaned = right.dropna(subset=['weapon_source'])\n",
        "\n",
        "df_cleaned['weapon_source'] = df_cleaned['weapon_source'].replace({\n",
        "    \"father\": \"near\",\n",
        "    \"mother\": \"near\",\n",
        "    \"parent\": \"near\",\n",
        "    \"family home\": \"near\",\n",
        "    \"stepfather\": \"near\",\n",
        "    \"grandfather\" : \"near\",\n",
        "    \"family member\" : \"near\",\n",
        "    \"grandmother's boyfriend\" : \"near\",\n",
        "    \"stepmother\" : \"near\",\n",
        "    \"father's bedroom\" : \"near\",\n",
        "    \"older brother\" : \"near\",\n",
        "    \"relatives\" : \"near\",\n",
        "    \"grandparents\" : \"near\",\n",
        "    \"guardian (uncle)\" : \"near\",\n",
        "    \"relative\" : \"near\",\n",
        "    \"brother\" : \"near\",\n",
        "    \"mom's gun; kept in her car\" : \"near\",\n",
        "    \"uncle\" : \"near\",\n",
        "    \"stepfather's bedroom\" : \"near\",\n",
        "    \"father's gun, kept by 17 year old who shared room with shooter\" : \"near\",\n",
        "    \"gift from grandparents\":\"near\",\n",
        "    \"legally purchased by shooter\": \"near\",\n",
        "    \"friend's home\":\"near\",\n",
        "    \"puchased legally by shooter from Dicker & Deal\":\"near\",\n",
        "    \"legally purchased at pawn shop that morning\":\"near\",\n",
        "    \"classmate, who took from parents\":\"near\",\n",
        "    \"contructed from parts legally purchased by shooter\":\"near\",\n",
        "    \"legally purchased by shooter at Cabela's\":\"near\",\n",
        "    \"owner's gun\":\"near\",\n",
        "    \"legally owned by shooter\":\"near\",\n",
        "    \"mother's friend, home shooter was staying\":\"near\",\n",
        "    \"stolen from neighbor\":\"near\",\n",
        "    \"legally purchased at gun show\":\"near\",\n",
        "    \"purchased from someone in apartment complex\":\"near\",\n",
        "    \"purchased legally by shooter\":\"near\",\n",
        "    \"purchased from friends\":\"near\",\n",
        "    \"boyfriend of child's mother\" : \"near\",\n",
        "    \"puchased by shooter and friends\":\"near\",\n",
        "    \"uncle's friend, found in open shoebox\":\"near\"\n",
        "})\n",
        "\n",
        "#definir quais são other\n",
        "df_cleaned['weapon_source'] = df_cleaned['weapon_source'].replace({\n",
        "    \"department issued\": \"no_near\",\n",
        "    \"purchased from friend\":\"no_near\",\n",
        "    \"stolen\":\"no_near\",\n",
        "    \"police\":\"no_near\",\n",
        "    \"ghost gun\":\"no_near\",\n",
        "    \"police weapon\":\"no_near\",\n",
        "    \"acquaintence of shooter\":\"no_near\",\n",
        "    \"police issued weapon\":\"no_near\",\n",
        "    \"police issued\":\"no_near\",\n",
        "    \"illegally purchased\":\"no_near\",\n",
        "    \"SRO\":\"no_near\"\n",
        "})\n"
      ],
      "metadata": {
        "colab": {
          "base_uri": "https://localhost:8080/"
        },
        "id": "63NCOZSGipMv",
        "outputId": "dcc82e48-aeb2-49cf-b481-b329dcad6445"
      },
      "execution_count": null,
      "outputs": [
        {
          "output_type": "stream",
          "name": "stderr",
          "text": [
            "<ipython-input-396-f03e4ec6c887>:3: SettingWithCopyWarning:\n",
            "\n",
            "\n",
            "A value is trying to be set on a copy of a slice from a DataFrame.\n",
            "Try using .loc[row_indexer,col_indexer] = value instead\n",
            "\n",
            "See the caveats in the documentation: https://pandas.pydata.org/pandas-docs/stable/user_guide/indexing.html#returning-a-view-versus-a-copy\n",
            "\n",
            "<ipython-input-396-f03e4ec6c887>:46: SettingWithCopyWarning:\n",
            "\n",
            "\n",
            "A value is trying to be set on a copy of a slice from a DataFrame.\n",
            "Try using .loc[row_indexer,col_indexer] = value instead\n",
            "\n",
            "See the caveats in the documentation: https://pandas.pydata.org/pandas-docs/stable/user_guide/indexing.html#returning-a-view-versus-a-copy\n",
            "\n"
          ]
        }
      ]
    },
    {
      "cell_type": "markdown",
      "source": [
        "Para calcular o intervalo de confiança, vamos utilizar a função **\"proportion_confint\"** que irá tratar como uma binomial."
      ],
      "metadata": {
        "id": "UtIsdyvWnMlP"
      }
    },
    {
      "cell_type": "code",
      "source": [
        "# Dados\n",
        "sucesso = len(df_cleaned[df_cleaned['weapon_source'] == 'near'])  # Número de sucessos\n",
        "total = len(df_cleaned)   # Tamanho da amostra\n",
        "conf_level = 0.95  # Nível de confiança\n",
        "\n",
        "# Calculando o intervalo de confiança\n",
        "conf_interval_legal = smp.proportion_confint(sucesso, total, alpha=1-conf_level, method='agresti_coull')\n",
        "\n",
        "print(f\"Intervalo de confiança de {conf_level*100}%: {conf_interval_legal}\")\n",
        "\n",
        "\n",
        "sucesso = len(df_cleaned[df_cleaned['weapon_source'] == 'no_near'])  # Número de sucessos\n",
        "\n",
        "conf_interval_no_legal = smp.proportion_confint(sucesso, total, alpha=1-conf_level, method='agresti_coull')\n",
        "\n",
        "print(f\"Intervalo de confiança de {conf_level*100}%: {conf_interval_no_legal}\")\n"
      ],
      "metadata": {
        "colab": {
          "base_uri": "https://localhost:8080/"
        },
        "id": "FQmkxjcKnWTV",
        "outputId": "278e18aa-c98b-4b93-f5ca-1613629605b1"
      },
      "execution_count": null,
      "outputs": [
        {
          "output_type": "stream",
          "name": "stdout",
          "text": [
            "Intervalo de confiança de 95.0%: (0.6107127046073404, 0.7879591974655795)\n",
            "Intervalo de confiança de 95.0%: (0.19432389931288357, 0.3681093788997653)\n"
          ]
        }
      ]
    },
    {
      "cell_type": "markdown",
      "source": [
        "É possível observar que os intervalos **não se sobrepoem**, mas para a melhor visualização, podemos fazer um gráfico."
      ],
      "metadata": {
        "id": "2qss6DaPnzuE"
      }
    },
    {
      "cell_type": "code",
      "source": [
        "# Calcula a probabilidade de cada categoria\n",
        "prop_legal = df_cleaned['weapon_source'].value_counts()['near'] / len(df_cleaned)\n",
        "prop_no_legal = df_cleaned['weapon_source'].value_counts()['no_near'] / len(df_cleaned)\n",
        "\n",
        "print(prop_legal)\n",
        "\n",
        "plt.figure(figsize=(10, 6))\n",
        "categories = ['Fácil acesso','Dificil acesso']\n",
        "means = [prop_legal, prop_no_legal]\n",
        "errors_lower = [prop_legal - conf_interval_legal[0], prop_no_legal - conf_interval_no_legal[0]]\n",
        "errors_upper = [conf_interval_legal[1] - prop_legal, conf_interval_no_legal[1] - prop_no_legal]\n",
        "\n",
        "plt.bar(categories, means, yerr=[errors_lower, errors_upper], capsize=10, color=['crimson','cadetblue'])\n",
        "plt.ylabel('Proporção')\n",
        "plt.title('Comparação entre os Intervalos de Confiança')\n",
        "plt.grid(True)\n",
        "\n",
        "# Adicionando a linha do intervalo de confiança\n",
        "plt.errorbar(categories, means, yerr=[[errors_lower[0]], [errors_upper[0]]], fmt='o', color='black')\n",
        "\n",
        "plt.show()"
      ],
      "metadata": {
        "colab": {
          "base_uri": "https://localhost:8080/",
          "height": 563
        },
        "id": "Twt_dY3joPVY",
        "outputId": "44612671-f5ed-415f-a561-e784bbb9048e"
      },
      "execution_count": null,
      "outputs": [
        {
          "output_type": "stream",
          "name": "stdout",
          "text": [
            "0.7070707070707071\n"
          ]
        },
        {
          "output_type": "display_data",
          "data": {
            "text/plain": [
              "<Figure size 1000x600 with 1 Axes>"
            ],
            "image/png": "[encoded data removed]"
          },
          "metadata": {}
        }
      ]
    },
    {
      "cell_type": "markdown",
      "source": [
        "**Como não há a sobreposicao dos intervalos, pode se concluir que há uma significativa diferenca entre as probabilidades, o que indica que a H0, que seupõe que ambas as probabilidades são iguais, não é satisfeita.**"
      ],
      "metadata": {
        "id": "_I3UFp4kpR9R"
      }
    },
    {
      "cell_type": "markdown",
      "source": [
        "Podemos fazer outra pergunta, **há uma probabilidade maior de ocorrer tiroteios em escolas públicas?** Para isso, vamos seguir os mesmos passos anteriores e comparar os intervalos de confiança.\n",
        "\n",
        "Nossa hipótese nula é de que a probabilidade de ocorrência em escolas publicas é igual a 0,5."
      ],
      "metadata": {
        "id": "ybZ0m00LTCAK"
      }
    },
    {
      "cell_type": "code",
      "source": [
        "# Dados\n",
        "sucesso = len(df[df['school_type'] == 'public'])  # Número de sucessos\n",
        "total = len(df)   # Tamanho da amostra\n",
        "conf_level = 0.95  # Nível de confiança\n",
        "\n",
        "# Calculando o intervalo de confiança\n",
        "conf_interval_legal = smp.proportion_confint(sucesso, total, alpha=1-conf_level, method='agresti_coull')\n",
        "\n",
        "print(f\"Intervalo de confiança de {conf_level*100}%: {conf_interval_legal}\")\n",
        "\n",
        "\n",
        "sucesso = len(df[df['school_type'] == 'private'])  # Número de sucessos\n",
        "\n",
        "conf_interval_no_legal = smp.proportion_confint(sucesso, total, alpha=1-conf_level, method='agresti_coull')\n",
        "\n",
        "print(f\"Intervalo de confiança de {conf_level*100}%: {conf_interval_no_legal}\")"
      ],
      "metadata": {
        "colab": {
          "base_uri": "https://localhost:8080/"
        },
        "id": "WDNQAzjlToia",
        "outputId": "7cf59838-6a43-4f45-e1d3-2e72bda29a43"
      },
      "execution_count": null,
      "outputs": [
        {
          "output_type": "stream",
          "name": "stdout",
          "text": [
            "Intervalo de confiança de 95.0%: (0.9090096331338601, 0.9583497330472047)\n",
            "Intervalo de confiança de 95.0%: (0.04165026695279528, 0.09099036686613993)\n"
          ]
        }
      ]
    },
    {
      "cell_type": "markdown",
      "source": [
        "É possível observar que os intervalos **não se sobrepoem**, mas para a melhor visualizacao, vamos fazer um gráfico."
      ],
      "metadata": {
        "id": "WHA-1MmJUaCh"
      }
    },
    {
      "cell_type": "code",
      "source": [
        "# Calcula a probabilidade de cada categoria\n",
        "prop_legal = df_cleaned['school_type'].value_counts()['public'] / len(df_cleaned)\n",
        "prop_no_legal = df_cleaned['school_type'].value_counts()['private'] / len(df_cleaned)\n",
        "\n",
        "print(prop_legal)\n",
        "\n",
        "plt.figure(figsize=(10, 6))\n",
        "categories = ['Publico','Privado']\n",
        "means = [prop_legal, prop_no_legal]\n",
        "errors_lower = [prop_legal - conf_interval_legal[0], prop_no_legal - conf_interval_no_legal[0]]\n",
        "errors_upper = [conf_interval_legal[1] - prop_legal, conf_interval_no_legal[1] - prop_no_legal]\n",
        "\n",
        "plt.bar(categories, means, yerr=[errors_lower, errors_upper], capsize=10, color=['crimson','cadetblue'])\n",
        "plt.ylabel('Proporção')\n",
        "plt.title('Comparação entre os Intervalos de Confiança')\n",
        "plt.grid(True)\n",
        "\n",
        "# Adicionando a linha do intervalo de confiança\n",
        "plt.errorbar(categories, means, yerr=[[errors_lower[0]], [errors_upper[0]]], fmt='o', color='black')\n",
        "\n",
        "plt.show()"
      ],
      "metadata": {
        "colab": {
          "base_uri": "https://localhost:8080/",
          "height": 563
        },
        "id": "KF-fnscFUb1N",
        "outputId": "49e32208-f73b-471e-b342-e739836aa988"
      },
      "execution_count": null,
      "outputs": [
        {
          "output_type": "stream",
          "name": "stdout",
          "text": [
            "0.9494949494949495\n"
          ]
        },
        {
          "output_type": "display_data",
          "data": {
            "text/plain": [
              "<Figure size 1000x600 with 1 Axes>"
            ],
            "image/png": "[encoded data removed]"
          },
          "metadata": {}
        }
      ]
    },
    {
      "cell_type": "markdown",
      "source": [
        "**Como não há a sobreposicao dos intervalos, pode se concluir que há uma significativa diferença entre as probabilidades, o que indica que a H0, que supõe que ambas a probabilidades são iguais, não é satisfeita.**\n",
        "\n"
      ],
      "metadata": {
        "id": "NOnQrW-fVUCb"
      }
    },
    {
      "cell_type": "markdown",
      "source": [
        "## **Segunda pergunta**"
      ],
      "metadata": {
        "id": "rhnZPMbZTsb9"
      }
    },
    {
      "cell_type": "markdown",
      "source": [
        "**Qual a relação entre legalização de porte de armas e ocorrência de massacre?**"
      ],
      "metadata": {
        "id": "BPgIjNWvT18n"
      }
    },
    {
      "cell_type": "markdown",
      "source": [
        "Para responder a essa pergunta, utilizaremos além do dataset principal, o dataset Firearms Provisions in US States."
      ],
      "metadata": {
        "id": "tHrM0jO1bxrK"
      }
    },
    {
      "cell_type": "code",
      "source": [
        "print(df_firearms.head())"
      ],
      "metadata": {
        "colab": {
          "base_uri": "https://localhost:8080/"
        },
        "id": "yxs5XzOUcLVn",
        "outputId": "2a0de277-fa25-49a1-e136-8d3a55490f5b"
      },
      "execution_count": null,
      "outputs": [
        {
          "output_type": "stream",
          "name": "stdout",
          "text": [
            "        state  year  age18longgunpossess  age18longgunsale  \\\n",
            "0     Alabama  1991                    0                 0   \n",
            "1      Alaska  1991                    0                 0   \n",
            "2     Arizona  1991                    0                 0   \n",
            "3    Arkansas  1991                    0                 0   \n",
            "4  California  1991                    0                 1   \n",
            "\n",
            "   age21handgunpossess  age21handgunsale  age21longgunpossess  \\\n",
            "0                    0                 0                    0   \n",
            "1                    0                 0                    0   \n",
            "2                    0                 0                    0   \n",
            "3                    0                 0                    0   \n",
            "4                    0                 1                    0   \n",
            "\n",
            "   age21longgunsale  age21longgunsaled  alcoholism  ...  universal  \\\n",
            "0                 0                  0           1  ...          0   \n",
            "1                 0                  0           0  ...          0   \n",
            "2                 0                  0           0  ...          0   \n",
            "3                 0                  0           0  ...          0   \n",
            "4                 0                  0           1  ...          1   \n",
            "\n",
            "   universalh  universalpermit  universalpermith  violent  violenth  \\\n",
            "0           0                0                 0        0         0   \n",
            "1           0                0                 0        0         0   \n",
            "2           0                0                 0        0         0   \n",
            "3           0                0                 0        0         0   \n",
            "4           1                1                 1        1         1   \n",
            "\n",
            "   violentpartial  waiting  waitingh  lawtotal  \n",
            "0               0        0         1        15  \n",
            "1               0        0         0        10  \n",
            "2               0        0         0        12  \n",
            "3               0        0         0        15  \n",
            "4               1        1         1        58  \n",
            "\n",
            "[5 rows x 136 columns]\n"
          ]
        }
      ]
    },
    {
      "cell_type": "markdown",
      "source": [
        "Primeiro vamos separar as colunas de interesse de cada dataset"
      ],
      "metadata": {
        "id": "FABJooOjceJ1"
      }
    },
    {
      "cell_type": "markdown",
      "source": [
        "- No dataset df as seguintes foram consideradas interessantes para a resolução da pergunta: 'uid','date', 'state', que significam, respectivamente, o id de cada caso, a data do incidente e o estado onde cada incidente aconteceu. Após a seleção delas, foram feitas algumas alterações para facilitar o merge com a segunda tabela de interesse."
      ],
      "metadata": {
        "id": "AFgeMZ61cpsn"
      }
    },
    {
      "cell_type": "code",
      "source": [
        "#Seleção das colunas de interesse\n",
        "colums_dt = df.loc[:, ['uid','date', 'state']]\n",
        "#mudar data de df para que date apresente somente o ano\n",
        "colums_dt['date'] = pd.to_datetime(colums_dt['date']).dt.year\n",
        "#vamos adicionar um id para cada estado\n",
        "colums_dt['id_estado'] = colums_dt['state'].astype('category').cat.codes\n",
        "colums_dt.rename(columns={'date':'year'}, inplace =True)"
      ],
      "metadata": {
        "id": "CGK0zeZOckGa"
      },
      "execution_count": null,
      "outputs": []
    },
    {
      "cell_type": "markdown",
      "source": [
        "- No dataset df_firearms, as seguintes colunas foram consideradas de interesse: 'state', 'year', 'permitlaw', que representam, respectivamente, o nome do Estado analisado, o ano da legislação analisada e se nela existe ou não a exigência de licença para a compra de armas.\n",
        "- No dataset2, foram necessárias fazer algumas mudanças: os dados de interesse do distrito federal (Washington, D.C.) foram acrescentados, já que o dataset só analisava os estados dos EUA.\n",
        "- Foi criada criada uma coluna com os mesmos ids de df para cada estado.\n",
        "- Além disso, df_firearms só analisava os anos 1991 até 2017, por isso, limitamos a análise dos dois datasets a esse intervalo."
      ],
      "metadata": {
        "id": "bLl47VW5ew-9"
      }
    },
    {
      "cell_type": "code",
      "source": [
        "#Seleção das colunas de interesse\n",
        "colums_dt2 = df_firearms.loc[:,['state', 'year', 'permitlaw']]\n",
        "\n",
        "#vamos adicionar os dados do District of Columbia\n",
        "anos = list(range(1991, 2018))\n",
        "dc = []\n",
        "\n",
        "years = list(range(1991, 2018))\n",
        "data_dc = {\n",
        "    'state': ['District of Columbia'] * len(years),\n",
        "    'year': years,\n",
        "    'permitlaw': [1] * len(years),\n",
        "}\n",
        "\n",
        "df_dc = pd.DataFrame(data_dc)\n",
        "colums_dt2 = pd.concat([colums_dt2, df_dc], ignore_index=True)\n",
        "\n",
        "#vamos criar uma nova coluna de id_estado para colums_dt2, de forma que para todo state igual ao state em colums_dt, eles tenha o mesmo id_estado\n",
        "# Criar um dicionário de mapeamento de estados para id_estado a partir de colums_dt\n",
        "state_to_id = dict(zip(colums_dt['state'], colums_dt['id_estado']))\n",
        "\n",
        "# Aplicar o mapeamento em colums_dt2 para criar a nova coluna id_estado\n",
        "colums_dt2['id_estado'] = colums_dt2['state'].map(state_to_id)\n",
        "\n",
        "# Converter a coluna id_estado para inteiro\n",
        "colums_dt2['id_estado'] = colums_dt2['id_estado'].fillna(-1).astype(int)"
      ],
      "metadata": {
        "id": "FkhsI_EuflSH"
      },
      "execution_count": null,
      "outputs": []
    },
    {
      "cell_type": "markdown",
      "source": [
        "Agora, vamos fazer o merge dos dois datasets resultantes e :"
      ],
      "metadata": {
        "id": "oy6sbwvJf9Iw"
      }
    },
    {
      "cell_type": "code",
      "source": [
        "#VAMOS FAZER O MERGE DAS DUAS TABELAS\n",
        "merge_df = pd.merge(colums_dt, colums_dt2, on = ['id_estado', 'year', 'state'])"
      ],
      "metadata": {
        "id": "LKU3eq9ogCHK"
      },
      "execution_count": null,
      "outputs": []
    },
    {
      "cell_type": "code",
      "source": [
        "print(merge_df.head())"
      ],
      "metadata": {
        "colab": {
          "base_uri": "https://localhost:8080/"
        },
        "id": "xvpubZ0UgIFD",
        "outputId": "72e166dc-839e-4ea8-fc23-bd0221a6bbc8"
      },
      "execution_count": null,
      "outputs": [
        {
          "output_type": "stream",
          "name": "stdout",
          "text": [
            "   uid  year          state  id_estado  permitlaw\n",
            "0    1  1999       Colorado          5          0\n",
            "1    2  1999      Louisiana         18          0\n",
            "2    3  1999        Georgia         10          0\n",
            "3    4  1999   Pennsylvania         37          0\n",
            "4    5  1999  Massachusetts         20          1\n"
          ]
        }
      ]
    },
    {
      "cell_type": "markdown",
      "source": [
        "Vamos adicionar uma coluna com a somatória da ocorrência de massacres em cada estado."
      ],
      "metadata": {
        "id": "Fz8IsuDMgf7h"
      }
    },
    {
      "cell_type": "code",
      "source": [
        "#adicionar uma coluna com a somatória de ocorrências de massacres em cada Estado\n",
        "massacres_por_estado = merge_df.groupby('state').size().reset_index(name='massacre_count')\n",
        "merge_df.loc[:, 'massacres_por_estado'] = merge_df['state'].map(massacres_por_estado.set_index('state')['massacre_count'])"
      ],
      "metadata": {
        "id": "cM05UkZXgm9i"
      },
      "execution_count": null,
      "outputs": []
    },
    {
      "cell_type": "markdown",
      "source": [
        "Agora, vamos plotar um gráfico para visualizar a relação entre a exigência da licença para compra de armas e a ocorrência de massacres:"
      ],
      "metadata": {
        "id": "lcnRWqdEgvPS"
      }
    },
    {
      "cell_type": "code",
      "source": [
        "#agora vamos começar a ver se existem relações entre a ocorrência de massacre em cada\n",
        "#estado e a flexibilidade de compra de armas\n",
        "\n",
        "#podemos comparar qual estado tem mais ocorrencias de massacres\n",
        "color_discrete_sequence = px.colors.sequential.Viridis\n",
        "merge_df = merge_df.sort_values(by='state')\n",
        "fig = px.histogram(\n",
        "                    merge_df,\n",
        "                    x = merge_df['state'],\n",
        "                    title = \"Ocorrência de massacres em escolas dos EUA\",\n",
        "                    labels={'x' : 'Estados', 'y' : 'Ocorrências'},\n",
        "                    color_discrete_sequence = px.colors.sequential.Sunset_r\n",
        "                   )\n",
        "\n",
        "#vamos criar um gráfico com os estados em x e a somatória da coluna permit de cada estado em y\n",
        "valores_permit = merge_df.groupby('state')['permitlaw'].sum().reset_index(name='soma_permit')\n",
        "fig_line = go.Figure()\n",
        "fig_line.add_trace(go.Scatter(\n",
        "    x = valores_permit['state'],\n",
        "    y = valores_permit['soma_permit'],\n",
        "    mode = 'lines+markers',\n",
        "    name = 'Dessas ocorrências, quantas a legislação exigia licença para compra de armas',\n",
        "    line=dict(color='orange', width=2),\n",
        "    marker=dict(color='orange', size=8)\n",
        "))\n",
        "\n",
        "fig_combined = go.Figure(data=fig.data + fig_line.data)\n",
        "\n",
        "fig_combined.update_layout(\n",
        "    title='Ocorrência de Massacres e Flexibilidade de Compra de Armas por Estado',\n",
        "    xaxis=dict(title='Estados'),\n",
        "    yaxis=dict(title='Ocorrências de massacres', titlefont=dict(color='indigo')),\n",
        "    yaxis2=dict(\n",
        "        title='Somatória de Permits',\n",
        "        titlefont=dict(color='orange'),\n",
        "        overlaying='y',\n",
        "        side='right'\n",
        "    ),\n",
        "    legend=dict(x=0.99, y=0.9, xanchor='right', yanchor='top'),\n",
        "\n",
        "    paper_bgcolor='white',\n",
        "    font=dict(size=12)\n",
        ")\n",
        "\n",
        "fig_combined.show()"
      ],
      "metadata": {
        "colab": {
          "base_uri": "https://localhost:8080/",
          "height": 542
        },
        "id": "3EF2IDGvgx00",
        "outputId": "8aeef748-2dbb-49e8-ea10-30fd2484f8da"
      },
      "execution_count": null,
      "outputs": [
        {
          "output_type": "display_data",
          "data": {
            "text/html": [
              "<html>\n",
              "<head><meta charset=\"utf-8\" /></head>\n",
              "<body>\n",
              "    <div>            <script src=\"https://cdnjs.cloudflare.com/ajax/libs/mathjax/2.7.5/MathJax.js?config=TeX-AMS-MML_SVG\"></script><script type=\"text/javascript\">if (window.MathJax && window.MathJax.Hub && window.MathJax.Hub.Config) {window.MathJax.Hub.Config({SVG: {font: \"STIX-Web\"}});}</script>                <script type=\"text/javascript\">window.PlotlyConfig = {MathJaxConfig: 'local'};</script>\n",
              "        <script charset=\"utf-8\" src=\"https://cdn.plot.ly/plotly-2.24.1.min.js\"></script>                <div id=\"dc66e503-25d8-4c95-84ae-d5109b73e921\" class=\"plotly-graph-div\" style=\"height:525px; width:100%;\"></div>            <script type=\"text/javascript\">                                    window.PLOTLYENV=window.PLOTLYENV || {};                                    if (document.getElementById(\"dc66e503-25d8-4c95-84ae-d5109b73e921\")) {                    Plotly.newPlot(                        \"dc66e503-25d8-4c95-84ae-d5109b73e921\",                        [{\"alignmentgroup\":\"True\",\"bingroup\":\"x\",\"hovertemplate\":\"state=%{x}\\u003cbr\\u003ecount=%{y}\\u003cextra\\u003e\\u003c\\u002fextra\\u003e\",\"legendgroup\":\"\",\"marker\":{\"color\":\"rgb(92, 83, 165)\",\"pattern\":{\"shape\":\"\"}},\"name\":\"\",\"offsetgroup\":\"\",\"orientation\":\"v\",\"showlegend\":false,\"x\":[\"Alabama\",\"Alabama\",\"Alabama\",\"Alabama\",\"Alabama\",\"Alabama\",\"Arizona\",\"Arizona\",\"Arkansas\",\"California\",\"California\",\"California\",\"California\",\"California\",\"California\",\"California\",\"California\",\"California\",\"California\",\"California\",\"California\",\"California\",\"California\",\"California\",\"California\",\"California\",\"California\",\"California\",\"California\",\"California\",\"California\",\"California\",\"California\",\"California\",\"Colorado\",\"Colorado\",\"Colorado\",\"Colorado\",\"Colorado\",\"Connecticut\",\"Connecticut\",\"District of Columbia\",\"District of Columbia\",\"Florida\",\"Florida\",\"Florida\",\"Florida\",\"Florida\",\"Florida\",\"Florida\",\"Florida\",\"Florida\",\"Florida\",\"Florida\",\"Florida\",\"Florida\",\"Florida\",\"Florida\",\"Georgia\",\"Georgia\",\"Georgia\",\"Georgia\",\"Georgia\",\"Georgia\",\"Georgia\",\"Georgia\",\"Hawaii\",\"Illinois\",\"Illinois\",\"Illinois\",\"Illinois\",\"Illinois\",\"Illinois\",\"Illinois\",\"Illinois\",\"Illinois\",\"Illinois\",\"Indiana\",\"Indiana\",\"Indiana\",\"Kentucky\",\"Kentucky\",\"Louisiana\",\"Louisiana\",\"Louisiana\",\"Louisiana\",\"Louisiana\",\"Louisiana\",\"Louisiana\",\"Louisiana\",\"Louisiana\",\"Maryland\",\"Maryland\",\"Maryland\",\"Maryland\",\"Massachusetts\",\"Michigan\",\"Michigan\",\"Michigan\",\"Michigan\",\"Michigan\",\"Michigan\",\"Michigan\",\"Michigan\",\"Minnesota\",\"Minnesota\",\"Minnesota\",\"Mississippi\",\"Mississippi\",\"Mississippi\",\"Mississippi\",\"Missouri\",\"Missouri\",\"Missouri\",\"Missouri\",\"Nebraska\",\"Nevada\",\"Nevada\",\"New Hampshire\",\"New Jersey\",\"New Mexico\",\"New Mexico\",\"New Mexico\",\"New York\",\"New York\",\"New York\",\"North Carolina\",\"North Carolina\",\"North Carolina\",\"North Carolina\",\"North Carolina\",\"North Carolina\",\"North Carolina\",\"North Carolina\",\"North Carolina\",\"North Carolina\",\"North Carolina\",\"Ohio\",\"Ohio\",\"Ohio\",\"Ohio\",\"Ohio\",\"Ohio\",\"Ohio\",\"Ohio\",\"Ohio\",\"Ohio\",\"Oklahoma\",\"Oklahoma\",\"Oklahoma\",\"Oregon\",\"Oregon\",\"Oregon\",\"Oregon\",\"Pennsylvania\",\"Pennsylvania\",\"Pennsylvania\",\"Pennsylvania\",\"Pennsylvania\",\"Pennsylvania\",\"Pennsylvania\",\"Pennsylvania\",\"Pennsylvania\",\"Pennsylvania\",\"Pennsylvania\",\"Rhode Island\",\"South Carolina\",\"South Carolina\",\"South Carolina\",\"South Dakota\",\"Tennessee\",\"Tennessee\",\"Tennessee\",\"Tennessee\",\"Tennessee\",\"Tennessee\",\"Tennessee\",\"Tennessee\",\"Texas\",\"Texas\",\"Texas\",\"Texas\",\"Texas\",\"Texas\",\"Texas\",\"Texas\",\"Texas\",\"Texas\",\"Texas\",\"Texas\",\"Utah\",\"Utah\",\"Virginia\",\"Virginia\",\"Virginia\",\"Washington\",\"Washington\",\"Washington\",\"Washington\",\"Washington\",\"Washington\",\"Washington\",\"Wisconsin\",\"Wisconsin\",\"Wisconsin\"],\"xaxis\":\"x\",\"yaxis\":\"y\",\"type\":\"histogram\"},{\"line\":{\"color\":\"orange\",\"width\":2},\"marker\":{\"color\":\"orange\",\"size\":8},\"mode\":\"lines+markers\",\"name\":\"Dessas ocorr\\u00eancias, quantas a legisla\\u00e7\\u00e3o exigia licen\\u00e7a para compra de armas\",\"x\":[\"Alabama\",\"Arizona\",\"Arkansas\",\"California\",\"Colorado\",\"Connecticut\",\"District of Columbia\",\"Florida\",\"Georgia\",\"Hawaii\",\"Illinois\",\"Indiana\",\"Kentucky\",\"Louisiana\",\"Maryland\",\"Massachusetts\",\"Michigan\",\"Minnesota\",\"Mississippi\",\"Missouri\",\"Nebraska\",\"Nevada\",\"New Hampshire\",\"New Jersey\",\"New Mexico\",\"New York\",\"North Carolina\",\"Ohio\",\"Oklahoma\",\"Oregon\",\"Pennsylvania\",\"Rhode Island\",\"South Carolina\",\"South Dakota\",\"Tennessee\",\"Texas\",\"Utah\",\"Virginia\",\"Washington\",\"Wisconsin\"],\"y\":[0,0,0,0,0,2,2,0,0,1,10,0,0,0,4,1,6,0,0,3,1,0,0,1,0,3,11,0,0,0,0,1,0,0,0,0,0,0,3,0],\"type\":\"scatter\"}],                        {\"template\":{\"data\":{\"histogram2dcontour\":[{\"type\":\"histogram2dcontour\",\"colorbar\":{\"outlinewidth\":0,\"ticks\":\"\"},\"colorscale\":[[0.0,\"#0d0887\"],[0.1111111111111111,\"#46039f\"],[0.2222222222222222,\"#7201a8\"],[0.3333333333333333,\"#9c179e\"],[0.4444444444444444,\"#bd3786\"],[0.5555555555555556,\"#d8576b\"],[0.6666666666666666,\"#ed7953\"],[0.7777777777777778,\"#fb9f3a\"],[0.8888888888888888,\"#fdca26\"],[1.0,\"#f0f921\"]]}],\"choropleth\":[{\"type\":\"choropleth\",\"colorbar\":{\"outlinewidth\":0,\"ticks\":\"\"}}],\"histogram2d\":[{\"type\":\"histogram2d\",\"colorbar\":{\"outlinewidth\":0,\"ticks\":\"\"},\"colorscale\":[[0.0,\"#0d0887\"],[0.1111111111111111,\"#46039f\"],[0.2222222222222222,\"#7201a8\"],[0.3333333333333333,\"#9c179e\"],[0.4444444444444444,\"#bd3786\"],[0.5555555555555556,\"#d8576b\"],[0.6666666666666666,\"#ed7953\"],[0.7777777777777778,\"#fb9f3a\"],[0.8888888888888888,\"#fdca26\"],[1.0,\"#f0f921\"]]}],\"heatmap\":[{\"type\":\"heatmap\",\"colorbar\":{\"outlinewidth\":0,\"ticks\":\"\"},\"colorscale\":[[0.0,\"#0d0887\"],[0.1111111111111111,\"#46039f\"],[0.2222222222222222,\"#7201a8\"],[0.3333333333333333,\"#9c179e\"],[0.4444444444444444,\"#bd3786\"],[0.5555555555555556,\"#d8576b\"],[0.6666666666666666,\"#ed7953\"],[0.7777777777777778,\"#fb9f3a\"],[0.8888888888888888,\"#fdca26\"],[1.0,\"#f0f921\"]]}],\"heatmapgl\":[{\"type\":\"heatmapgl\",\"colorbar\":{\"outlinewidth\":0,\"ticks\":\"\"},\"colorscale\":[[0.0,\"#0d0887\"],[0.1111111111111111,\"#46039f\"],[0.2222222222222222,\"#7201a8\"],[0.3333333333333333,\"#9c179e\"],[0.4444444444444444,\"#bd3786\"],[0.5555555555555556,\"#d8576b\"],[0.6666666666666666,\"#ed7953\"],[0.7777777777777778,\"#fb9f3a\"],[0.8888888888888888,\"#fdca26\"],[1.0,\"#f0f921\"]]}],\"contourcarpet\":[{\"type\":\"contourcarpet\",\"colorbar\":{\"outlinewidth\":0,\"ticks\":\"\"}}],\"contour\":[{\"type\":\"contour\",\"colorbar\":{\"outlinewidth\":0,\"ticks\":\"\"},\"colorscale\":[[0.0,\"#0d0887\"],[0.1111111111111111,\"#46039f\"],[0.2222222222222222,\"#7201a8\"],[0.3333333333333333,\"#9c179e\"],[0.4444444444444444,\"#bd3786\"],[0.5555555555555556,\"#d8576b\"],[0.6666666666666666,\"#ed7953\"],[0.7777777777777778,\"#fb9f3a\"],[0.8888888888888888,\"#fdca26\"],[1.0,\"#f0f921\"]]}],\"surface\":[{\"type\":\"surface\",\"colorbar\":{\"outlinewidth\":0,\"ticks\":\"\"},\"colorscale\":[[0.0,\"#0d0887\"],[0.1111111111111111,\"#46039f\"],[0.2222222222222222,\"#7201a8\"],[0.3333333333333333,\"#9c179e\"],[0.4444444444444444,\"#bd3786\"],[0.5555555555555556,\"#d8576b\"],[0.6666666666666666,\"#ed7953\"],[0.7777777777777778,\"#fb9f3a\"],[0.8888888888888888,\"#fdca26\"],[1.0,\"#f0f921\"]]}],\"mesh3d\":[{\"type\":\"mesh3d\",\"colorbar\":{\"outlinewidth\":0,\"ticks\":\"\"}}],\"scatter\":[{\"fillpattern\":{\"fillmode\":\"overlay\",\"size\":10,\"solidity\":0.2},\"type\":\"scatter\"}],\"parcoords\":[{\"type\":\"parcoords\",\"line\":{\"colorbar\":{\"outlinewidth\":0,\"ticks\":\"\"}}}],\"scatterpolargl\":[{\"type\":\"scatterpolargl\",\"marker\":{\"colorbar\":{\"outlinewidth\":0,\"ticks\":\"\"}}}],\"bar\":[{\"error_x\":{\"color\":\"#2a3f5f\"},\"error_y\":{\"color\":\"#2a3f5f\"},\"marker\":{\"line\":{\"color\":\"#E5ECF6\",\"width\":0.5},\"pattern\":{\"fillmode\":\"overlay\",\"size\":10,\"solidity\":0.2}},\"type\":\"bar\"}],\"scattergeo\":[{\"type\":\"scattergeo\",\"marker\":{\"colorbar\":{\"outlinewidth\":0,\"ticks\":\"\"}}}],\"scatterpolar\":[{\"type\":\"scatterpolar\",\"marker\":{\"colorbar\":{\"outlinewidth\":0,\"ticks\":\"\"}}}],\"histogram\":[{\"marker\":{\"pattern\":{\"fillmode\":\"overlay\",\"size\":10,\"solidity\":0.2}},\"type\":\"histogram\"}],\"scattergl\":[{\"type\":\"scattergl\",\"marker\":{\"colorbar\":{\"outlinewidth\":0,\"ticks\":\"\"}}}],\"scatter3d\":[{\"type\":\"scatter3d\",\"line\":{\"colorbar\":{\"outlinewidth\":0,\"ticks\":\"\"}},\"marker\":{\"colorbar\":{\"outlinewidth\":0,\"ticks\":\"\"}}}],\"scattermapbox\":[{\"type\":\"scattermapbox\",\"marker\":{\"colorbar\":{\"outlinewidth\":0,\"ticks\":\"\"}}}],\"scatterternary\":[{\"type\":\"scatterternary\",\"marker\":{\"colorbar\":{\"outlinewidth\":0,\"ticks\":\"\"}}}],\"scattercarpet\":[{\"type\":\"scattercarpet\",\"marker\":{\"colorbar\":{\"outlinewidth\":0,\"ticks\":\"\"}}}],\"carpet\":[{\"aaxis\":{\"endlinecolor\":\"#2a3f5f\",\"gridcolor\":\"white\",\"linecolor\":\"white\",\"minorgridcolor\":\"white\",\"startlinecolor\":\"#2a3f5f\"},\"baxis\":{\"endlinecolor\":\"#2a3f5f\",\"gridcolor\":\"white\",\"linecolor\":\"white\",\"minorgridcolor\":\"white\",\"startlinecolor\":\"#2a3f5f\"},\"type\":\"carpet\"}],\"table\":[{\"cells\":{\"fill\":{\"color\":\"#EBF0F8\"},\"line\":{\"color\":\"white\"}},\"header\":{\"fill\":{\"color\":\"#C8D4E3\"},\"line\":{\"color\":\"white\"}},\"type\":\"table\"}],\"barpolar\":[{\"marker\":{\"line\":{\"color\":\"#E5ECF6\",\"width\":0.5},\"pattern\":{\"fillmode\":\"overlay\",\"size\":10,\"solidity\":0.2}},\"type\":\"barpolar\"}],\"pie\":[{\"automargin\":true,\"type\":\"pie\"}]},\"layout\":{\"autotypenumbers\":\"strict\",\"colorway\":[\"#636efa\",\"#EF553B\",\"#00cc96\",\"#ab63fa\",\"#FFA15A\",\"#19d3f3\",\"#FF6692\",\"#B6E880\",\"#FF97FF\",\"#FECB52\"],\"font\":{\"color\":\"#2a3f5f\"},\"hovermode\":\"closest\",\"hoverlabel\":{\"align\":\"left\"},\"paper_bgcolor\":\"white\",\"plot_bgcolor\":\"#E5ECF6\",\"polar\":{\"bgcolor\":\"#E5ECF6\",\"angularaxis\":{\"gridcolor\":\"white\",\"linecolor\":\"white\",\"ticks\":\"\"},\"radialaxis\":{\"gridcolor\":\"white\",\"linecolor\":\"white\",\"ticks\":\"\"}},\"ternary\":{\"bgcolor\":\"#E5ECF6\",\"aaxis\":{\"gridcolor\":\"white\",\"linecolor\":\"white\",\"ticks\":\"\"},\"baxis\":{\"gridcolor\":\"white\",\"linecolor\":\"white\",\"ticks\":\"\"},\"caxis\":{\"gridcolor\":\"white\",\"linecolor\":\"white\",\"ticks\":\"\"}},\"coloraxis\":{\"colorbar\":{\"outlinewidth\":0,\"ticks\":\"\"}},\"colorscale\":{\"sequential\":[[0.0,\"#0d0887\"],[0.1111111111111111,\"#46039f\"],[0.2222222222222222,\"#7201a8\"],[0.3333333333333333,\"#9c179e\"],[0.4444444444444444,\"#bd3786\"],[0.5555555555555556,\"#d8576b\"],[0.6666666666666666,\"#ed7953\"],[0.7777777777777778,\"#fb9f3a\"],[0.8888888888888888,\"#fdca26\"],[1.0,\"#f0f921\"]],\"sequentialminus\":[[0.0,\"#0d0887\"],[0.1111111111111111,\"#46039f\"],[0.2222222222222222,\"#7201a8\"],[0.3333333333333333,\"#9c179e\"],[0.4444444444444444,\"#bd3786\"],[0.5555555555555556,\"#d8576b\"],[0.6666666666666666,\"#ed7953\"],[0.7777777777777778,\"#fb9f3a\"],[0.8888888888888888,\"#fdca26\"],[1.0,\"#f0f921\"]],\"diverging\":[[0,\"#8e0152\"],[0.1,\"#c51b7d\"],[0.2,\"#de77ae\"],[0.3,\"#f1b6da\"],[0.4,\"#fde0ef\"],[0.5,\"#f7f7f7\"],[0.6,\"#e6f5d0\"],[0.7,\"#b8e186\"],[0.8,\"#7fbc41\"],[0.9,\"#4d9221\"],[1,\"#276419\"]]},\"xaxis\":{\"gridcolor\":\"white\",\"linecolor\":\"white\",\"ticks\":\"\",\"title\":{\"standoff\":15},\"zerolinecolor\":\"white\",\"automargin\":true,\"zerolinewidth\":2},\"yaxis\":{\"gridcolor\":\"white\",\"linecolor\":\"white\",\"ticks\":\"\",\"title\":{\"standoff\":15},\"zerolinecolor\":\"white\",\"automargin\":true,\"zerolinewidth\":2},\"scene\":{\"xaxis\":{\"backgroundcolor\":\"#E5ECF6\",\"gridcolor\":\"white\",\"linecolor\":\"white\",\"showbackground\":true,\"ticks\":\"\",\"zerolinecolor\":\"white\",\"gridwidth\":2},\"yaxis\":{\"backgroundcolor\":\"#E5ECF6\",\"gridcolor\":\"white\",\"linecolor\":\"white\",\"showbackground\":true,\"ticks\":\"\",\"zerolinecolor\":\"white\",\"gridwidth\":2},\"zaxis\":{\"backgroundcolor\":\"#E5ECF6\",\"gridcolor\":\"white\",\"linecolor\":\"white\",\"showbackground\":true,\"ticks\":\"\",\"zerolinecolor\":\"white\",\"gridwidth\":2}},\"shapedefaults\":{\"line\":{\"color\":\"#2a3f5f\"}},\"annotationdefaults\":{\"arrowcolor\":\"#2a3f5f\",\"arrowhead\":0,\"arrowwidth\":1},\"geo\":{\"bgcolor\":\"white\",\"landcolor\":\"#E5ECF6\",\"subunitcolor\":\"white\",\"showland\":true,\"showlakes\":true,\"lakecolor\":\"white\"},\"title\":{\"x\":0.05},\"mapbox\":{\"style\":\"light\"}}},\"yaxis\":{\"title\":{\"text\":\"Ocorr\\u00eancias de massacres\",\"font\":{\"color\":\"indigo\"}}},\"yaxis2\":{\"title\":{\"text\":\"Somat\\u00f3ria de Permits\",\"font\":{\"color\":\"orange\"}},\"overlaying\":\"y\",\"side\":\"right\"},\"legend\":{\"x\":0.99,\"y\":0.9,\"xanchor\":\"right\",\"yanchor\":\"top\"},\"font\":{\"size\":12},\"title\":{\"text\":\"Ocorr\\u00eancia de Massacres e Flexibilidade de Compra de Armas por Estado\"},\"xaxis\":{\"title\":{\"text\":\"Estados\"}},\"paper_bgcolor\":\"white\"},                        {\"responsive\": true}                    ).then(function(){\n",
              "                            \n",
              "var gd = document.getElementById('dc66e503-25d8-4c95-84ae-d5109b73e921');\n",
              "var x = new MutationObserver(function (mutations, observer) {{\n",
              "        var display = window.getComputedStyle(gd).display;\n",
              "        if (!display || display === 'none') {{\n",
              "            console.log([gd, 'removed!']);\n",
              "            Plotly.purge(gd);\n",
              "            observer.disconnect();\n",
              "        }}\n",
              "}});\n",
              "\n",
              "// Listen for the removal of the full notebook cells\n",
              "var notebookContainer = gd.closest('#notebook-container');\n",
              "if (notebookContainer) {{\n",
              "    x.observe(notebookContainer, {childList: true});\n",
              "}}\n",
              "\n",
              "// Listen for the clearing of the current output cell\n",
              "var outputEl = gd.closest('.output');\n",
              "if (outputEl) {{\n",
              "    x.observe(outputEl, {childList: true});\n",
              "}}\n",
              "\n",
              "                        })                };                            </script>        </div>\n",
              "</body>\n",
              "</html>"
            ]
          },
          "metadata": {}
        }
      ]
    },
    {
      "cell_type": "markdown",
      "source": [
        "**Por meio da análise do gráfico acima, é possível concluir que a maior parte dos massacres ocorreram em estados que não possuiam a obrigatoriedade de licença para a compra de armas no ano analisado. Isso nos permite inferir, em primeira análise, que sim, existe uma ligação entre a alta flexibilidade na aquisição de armamentos e na incidência de massacres.**"
      ],
      "metadata": {
        "id": "7tIjys91hOOa"
      }
    },
    {
      "cell_type": "markdown",
      "source": [
        "Vamos agora considerar a população de cada estado na contagem, para termos uma melhor compreensão da quantidade de ocorrências em relação ao tamanho populacional."
      ],
      "metadata": {
        "id": "gAxKg-PSjf8i"
      }
    },
    {
      "cell_type": "markdown",
      "source": [
        "Para isso vamos fazer o merge das tabelas df_states e df_population:"
      ],
      "metadata": {
        "id": "IHg5d0BMlFIp"
      }
    },
    {
      "cell_type": "code",
      "source": [
        "#renomeando as colunas de cada dataset\n",
        "df_states.rename(columns={1: 'sigla'}, inplace = True)\n",
        "df_population.rename(columns={2: 'pop'},  inplace=True)\n",
        "df_population.rename(columns={0: 'sigla'},  inplace=True)\n",
        "df_population.rename(columns={1: 'year'},  inplace=True)\n",
        "#converter as siglas em State para os nomes dos estados\n",
        "merge_pop = pd.merge(df_states, df_population, right_on='sigla', left_on = 'Abbreviation', how = 'inner')\n",
        "merge_pop.drop(merge_pop.columns[1], axis = 1, inplace = True)\n"
      ],
      "metadata": {
        "id": "hGI_z9BllWko"
      },
      "execution_count": null,
      "outputs": []
    },
    {
      "cell_type": "markdown",
      "source": [
        "Vamos fazer o merge desse dataset resultante com as colunas uid, date, state, de df."
      ],
      "metadata": {
        "id": "vtNfBcTKmtj6"
      }
    },
    {
      "cell_type": "code",
      "source": [
        "df_interesse = df.loc[:, ['uid','date', 'state']]\n",
        "#mudar data de df para que date apresente somente o ano\n",
        "df_interesse['date'] = pd.to_datetime(df_interesse['date']).dt.year\n",
        "\n",
        "#vamos fazer o merge dessas duas tabelas\n",
        "merge_dff = pd.merge(df_interesse, merge_pop, left_on = 'state', right_on = 'State', how = 'inner')\n",
        "merge_dff = merge_dff[merge_dff['year'] == merge_dff['date']]\n",
        "merge_dff.drop(merge_dff.columns[1], axis = 1, inplace = True)\n",
        "merge_dff.drop(merge_dff.columns[1], axis = 1, inplace = True)"
      ],
      "metadata": {
        "id": "qrbT14IjnEk7"
      },
      "execution_count": null,
      "outputs": []
    },
    {
      "cell_type": "markdown",
      "source": [
        "Agora, vamos fazer o mesmo procedimento feito para geração da tabela anterior, mas agora levando em consideração a população de cada estado."
      ],
      "metadata": {
        "id": "ta9cDsLmoI6R"
      }
    },
    {
      "cell_type": "code",
      "source": [
        "##DF2\n",
        "colums_dt2 = df_firearms.loc[:,['state', 'year', 'permitlaw']]\n",
        "\n",
        "#vamos adicionar os dados do District of Columbia\n",
        "anos = list(range(1991, 2024))\n",
        "dc = []\n",
        "\n",
        "years = list(range(1991, 2024))\n",
        "data_dc = {\n",
        "    'state': ['District of Columbia'] * len(years),\n",
        "    'year': years,\n",
        "    'permitlaw': [1] * len(years),\n",
        "}\n",
        "\n",
        "df_dc = pd.DataFrame(data_dc)\n",
        "colums_dt2 = pd.concat([colums_dt2, df_dc], ignore_index=True)\n",
        "\n",
        "#vamos criar uma nova coluna de id_estado para colums_dt2, de forma que para todo state igual ao state em colums_dt, eles tenha o mesmo id_estado\n",
        "# Criar um dicionário de mapeamento de estados para id_estado a partir de colums_dt\n",
        "state_to_id = dict(zip(colums_dt['state'], colums_dt['id_estado']))\n",
        "\n",
        "# Aplicar o mapeamento em colums_dt2 para criar a nova coluna id_estado\n",
        "colums_dt2['id_estado'] = colums_dt2['state'].map(state_to_id)\n",
        "\n",
        "# Converter a coluna id_estado para inteiro\n",
        "colums_dt2['id_estado'] = colums_dt2['id_estado'].fillna(-1).astype(int)\n",
        "\n",
        "#vamos fazer o merge\n",
        "merge_pop_final = pd.merge(colums_dt2, merge_dff, left_on = ['state'], right_on = ['State'], how = 'inner')\n",
        "merge_pop_final = merge_pop_final[merge_pop_final['year_y'] == merge_pop_final['year_x']]\n",
        "merge_pop_final.drop(merge_pop_final.columns[1], axis = 1, inplace = True)\n",
        "merge_pop_final.drop(merge_pop_final.columns[0], axis = 1, inplace = True)\n",
        "#merge_pop.drop(merge_pop.columns[3], axis = 1, inplace = True)\n",
        "merge_pop_final.rename(columns = {\"year_y\" : \"year\"}, inplace = True)\n",
        "print(merge_pop_final.head())"
      ],
      "metadata": {
        "colab": {
          "base_uri": "https://localhost:8080/"
        },
        "id": "qXxHM48AoR4h",
        "outputId": "eab6d9e8-ad64-4fbe-c498-0dd06e86c1ef"
      },
      "execution_count": null,
      "outputs": [
        {
          "output_type": "stream",
          "name": "stdout",
          "text": [
            "     permitlaw  id_estado  uid    State sigla  year      pop\n",
            "228          0          0  114  Alabama    AL  2010  4785437\n",
            "253          0          0  136  Alabama    AL  2012  4815588\n",
            "302          0          0  181  Alabama    AL  2016  4863525\n",
            "303          0          0  184  Alabama    AL  2016  4863525\n",
            "316          0          0  238  Alabama    AL  2017  4874486\n"
          ]
        }
      ]
    },
    {
      "cell_type": "markdown",
      "source": [
        "Agora, vamos plotar o gráfico"
      ],
      "metadata": {
        "id": "cQ7FwiltpPxD"
      }
    },
    {
      "cell_type": "code",
      "source": [
        "color_discrete_sequence = px.colors.sequential.Viridis\n",
        "\n",
        "merge_pop_final = merge_pop_final.sort_values(by='State')\n",
        "fig = px.histogram(\n",
        "                    merge_pop_final,\n",
        "                    x = merge_pop_final['State'],\n",
        "                    y = merge_pop_final['State'].count()/merge_pop_final['pop']*1000000,\n",
        "                    title = \"Ocorrência de massacres em escolas dos EUA\",\n",
        "                    labels={'x' : 'Estados', 'y' : 'Ocorrências'},\n",
        "                    color_discrete_sequence = px.colors.sequential.Sunset_r\n",
        "                   )\n",
        "fig.show()"
      ],
      "metadata": {
        "colab": {
          "base_uri": "https://localhost:8080/",
          "height": 542
        },
        "id": "qtSl2BiPpSvL",
        "outputId": "10d13cc6-4514-4219-f3a4-ed67a88ebbd9"
      },
      "execution_count": null,
      "outputs": [
        {
          "output_type": "display_data",
          "data": {
            "text/html": [
              "<html>\n",
              "<head><meta charset=\"utf-8\" /></head>\n",
              "<body>\n",
              "    <div>            <script src=\"https://cdnjs.cloudflare.com/ajax/libs/mathjax/2.7.5/MathJax.js?config=TeX-AMS-MML_SVG\"></script><script type=\"text/javascript\">if (window.MathJax && window.MathJax.Hub && window.MathJax.Hub.Config) {window.MathJax.Hub.Config({SVG: {font: \"STIX-Web\"}});}</script>                <script type=\"text/javascript\">window.PlotlyConfig = {MathJaxConfig: 'local'};</script>\n",
              "        <script charset=\"utf-8\" src=\"https://cdn.plot.ly/plotly-2.24.1.min.js\"></script>                <div id=\"216ea36b-0ff0-4c9e-9dea-53de7b53e5de\" class=\"plotly-graph-div\" style=\"height:525px; width:100%;\"></div>            <script type=\"text/javascript\">                                    window.PLOTLYENV=window.PLOTLYENV || {};                                    if (document.getElementById(\"216ea36b-0ff0-4c9e-9dea-53de7b53e5de\")) {                    Plotly.newPlot(                        \"216ea36b-0ff0-4c9e-9dea-53de7b53e5de\",                        [{\"alignmentgroup\":\"True\",\"bingroup\":\"x\",\"histfunc\":\"sum\",\"hovertemplate\":\"State=%{x}\\u003cbr\\u003esum of Ocorr\\u00eancias=%{y}\\u003cextra\\u003e\\u003c\\u002fextra\\u003e\",\"legendgroup\":\"\",\"marker\":{\"color\":\"rgb(92, 83, 165)\",\"pattern\":{\"shape\":\"\"}},\"name\":\"\",\"offsetgroup\":\"\",\"orientation\":\"v\",\"showlegend\":false,\"x\":[\"Alabama\",\"Alabama\",\"Alabama\",\"Alabama\",\"Alabama\",\"Alabama\",\"Arizona\",\"Arizona\",\"Arkansas\",\"California\",\"California\",\"California\",\"California\",\"California\",\"California\",\"California\",\"California\",\"California\",\"California\",\"California\",\"California\",\"California\",\"California\",\"California\",\"California\",\"California\",\"California\",\"California\",\"California\",\"California\",\"California\",\"California\",\"California\",\"California\",\"Colorado\",\"Colorado\",\"Colorado\",\"Colorado\",\"Colorado\",\"Connecticut\",\"Connecticut\",\"District of Columbia\",\"District of Columbia\",\"District of Columbia\",\"District of Columbia\",\"Florida\",\"Florida\",\"Florida\",\"Florida\",\"Florida\",\"Florida\",\"Florida\",\"Florida\",\"Florida\",\"Florida\",\"Florida\",\"Florida\",\"Florida\",\"Florida\",\"Florida\",\"Georgia\",\"Georgia\",\"Georgia\",\"Georgia\",\"Georgia\",\"Georgia\",\"Georgia\",\"Georgia\",\"Hawaii\",\"Illinois\",\"Illinois\",\"Illinois\",\"Illinois\",\"Illinois\",\"Illinois\",\"Illinois\",\"Illinois\",\"Illinois\",\"Illinois\",\"Indiana\",\"Indiana\",\"Indiana\",\"Kentucky\",\"Kentucky\",\"Louisiana\",\"Louisiana\",\"Louisiana\",\"Louisiana\",\"Louisiana\",\"Louisiana\",\"Louisiana\",\"Louisiana\",\"Louisiana\",\"Maryland\",\"Maryland\",\"Maryland\",\"Maryland\",\"Massachusetts\",\"Michigan\",\"Michigan\",\"Michigan\",\"Michigan\",\"Michigan\",\"Michigan\",\"Michigan\",\"Michigan\",\"Minnesota\",\"Minnesota\",\"Minnesota\",\"Mississippi\",\"Mississippi\",\"Mississippi\",\"Mississippi\",\"Missouri\",\"Missouri\",\"Missouri\",\"Missouri\",\"Nebraska\",\"Nevada\",\"Nevada\",\"New Hampshire\",\"New Jersey\",\"New Mexico\",\"New Mexico\",\"New Mexico\",\"New York\",\"New York\",\"New York\",\"North Carolina\",\"North Carolina\",\"North Carolina\",\"North Carolina\",\"North Carolina\",\"North Carolina\",\"North Carolina\",\"North Carolina\",\"North Carolina\",\"North Carolina\",\"North Carolina\",\"Ohio\",\"Ohio\",\"Ohio\",\"Ohio\",\"Ohio\",\"Ohio\",\"Ohio\",\"Ohio\",\"Ohio\",\"Ohio\",\"Oklahoma\",\"Oklahoma\",\"Oklahoma\",\"Oregon\",\"Oregon\",\"Oregon\",\"Oregon\",\"Pennsylvania\",\"Pennsylvania\",\"Pennsylvania\",\"Pennsylvania\",\"Pennsylvania\",\"Pennsylvania\",\"Pennsylvania\",\"Pennsylvania\",\"Pennsylvania\",\"Pennsylvania\",\"Pennsylvania\",\"Rhode Island\",\"South Carolina\",\"South Carolina\",\"South Carolina\",\"South Dakota\",\"Tennessee\",\"Tennessee\",\"Tennessee\",\"Tennessee\",\"Tennessee\",\"Tennessee\",\"Tennessee\",\"Tennessee\",\"Texas\",\"Texas\",\"Texas\",\"Texas\",\"Texas\",\"Texas\",\"Texas\",\"Texas\",\"Texas\",\"Texas\",\"Texas\",\"Texas\",\"Utah\",\"Utah\",\"Virginia\",\"Virginia\",\"Virginia\",\"Washington\",\"Washington\",\"Washington\",\"Washington\",\"Washington\",\"Washington\",\"Washington\",\"Wisconsin\",\"Wisconsin\",\"Wisconsin\"],\"xaxis\":\"x\",\"y\":[43.25623762260374,42.98540489759506,42.56172220765802,42.56172220765802,42.46601590403583,42.46601590403583,40.1117237461017,29.82248275194379,69.23266791932086,5.546697809633151,5.546697809633151,5.546697809633151,5.4997069612660425,5.4997069612660425,5.259347174766354,5.410238947777002,5.285045616198915,5.600463123128292,5.259347174766354,5.410238947777002,5.655067594859046,5.655067594859046,5.746615562689996,6.0903889631324635,6.003574650158363,6.003574650158363,6.003574650158363,6.003574650158363,6.003574650158363,5.871814211032833,5.871814211032833,5.818762253132686,5.746615562689996,5.9360212191824795,51.03382951200072,45.7081584867464,43.85200224640885,41.01162808436666,39.28613114166066,58.1165683598241,57.58722865495986,364.11481402000345,364.59452509361444,293.30541028042546,293.30541028042546,11.269696244120565,11.601813649315172,12.899193426521178,12.899193426521178,10.242939769237948,10.430360188554712,10.590607481849771,11.394292615342444,10.590607481849771,11.172698889557873,10.864295657478044,11.097622406775148,10.590607481849771,10.590607481849771,10.726599094965225,20.757125685599338,20.757125685599338,20.56166522867452,20.337090717277402,20.337090717277402,19.88409589321376,26.578533789405565,22.13906584692943,146.33753211295843,16.19866861029822,16.19866861029822,16.06582424314251,16.415669494047656,16.304519912229697,16.415669494047656,16.415669494047656,16.441916784361403,16.068297249526683,16.647685356494904,33.78069637192057,33.21029480634307,31.76538181068201,46.89253160545304,50.883304671529835,44.32016717481415,44.32016717481415,47.34637302766332,46.08553475250064,45.47213919834596,46.289204664252324,46.22728414705636,46.08553475250064,45.78590510771632,35.16226962768083,37.317906195042845,38.04874982285274,38.51384200505667,33.5213497800627,20.79889876362102,20.718397937368383,20.594684959522493,20.697342461227976,20.905731210267117,20.80282629006918,20.755804054781684,20.594684959522493,40.43286211143922,37.759721212864136,40.9611261104027,71.65084233007154,70.2217174400215,72.16788131835031,72.6735766248074,36.47689576330548,35.749443034039686,35.42880145905047,34.17983746248887,112.45892804367101,82.05630727589708,74.56852919880258,156.31701997837237,24.203044602703514,118.97618407167539,98.95859228295082,99.0635384921668,10.721463323324217,10.81629027369917,10.797239474478012,20.839862569663786,20.159262065829633,20.839862569663786,24.57702290566662,21.029455867401055,20.839862569663786,22.235472797584475,23.213382571123226,24.57702290566662,21.433914375343253,21.2319103098464,17.999267508070105,17.9759419371865,17.923749253501818,18.216149663885638,17.79211078898127,17.79211078898127,17.753534625824962,17.753534625824962,17.999267508070105,17.880767929745684,61.643027905530715,59.924182881658425,59.924182881658425,52.22994092717986,52.22994092717986,56.38970242309548,55.60903036924665,16.194300310390755,16.186654174010283,16.186654174010283,16.626519378730425,16.545692608687414,16.545692608687414,16.679126323190545,17.258606291670777,16.72773502104058,16.830677690896067,16.47572731381891,193.21561182143517,45.09929688671056,44.653941659517365,41.75097539959919,242.39216476109735,31.64545834930257,32.57118337717855,34.55149900927332,33.133725314374225,34.55149900927332,34.55149900927332,33.133725314374225,33.133725314374225,7.415524813169972,7.535477903648977,7.817142018135316,7.93575306328694,7.93575306328694,8.68580680004681,8.861460694070699,8.861460694070699,9.087667144478937,9.709365391187518,9.709365391187518,8.071550906394224,68.05029015065742,68.05029015065742,26.975165255465892,25.798574946542736,26.11678593963086,35.02234662580839,30.012796760589804,29.342327867202577,28.895855845694456,27.884939465433586,33.911549831548065,32.03547363828731,37.11237070059013,37.11237070059013,36.376576647819384],\"yaxis\":\"y\",\"type\":\"histogram\"}],                        {\"template\":{\"data\":{\"histogram2dcontour\":[{\"type\":\"histogram2dcontour\",\"colorbar\":{\"outlinewidth\":0,\"ticks\":\"\"},\"colorscale\":[[0.0,\"#0d0887\"],[0.1111111111111111,\"#46039f\"],[0.2222222222222222,\"#7201a8\"],[0.3333333333333333,\"#9c179e\"],[0.4444444444444444,\"#bd3786\"],[0.5555555555555556,\"#d8576b\"],[0.6666666666666666,\"#ed7953\"],[0.7777777777777778,\"#fb9f3a\"],[0.8888888888888888,\"#fdca26\"],[1.0,\"#f0f921\"]]}],\"choropleth\":[{\"type\":\"choropleth\",\"colorbar\":{\"outlinewidth\":0,\"ticks\":\"\"}}],\"histogram2d\":[{\"type\":\"histogram2d\",\"colorbar\":{\"outlinewidth\":0,\"ticks\":\"\"},\"colorscale\":[[0.0,\"#0d0887\"],[0.1111111111111111,\"#46039f\"],[0.2222222222222222,\"#7201a8\"],[0.3333333333333333,\"#9c179e\"],[0.4444444444444444,\"#bd3786\"],[0.5555555555555556,\"#d8576b\"],[0.6666666666666666,\"#ed7953\"],[0.7777777777777778,\"#fb9f3a\"],[0.8888888888888888,\"#fdca26\"],[1.0,\"#f0f921\"]]}],\"heatmap\":[{\"type\":\"heatmap\",\"colorbar\":{\"outlinewidth\":0,\"ticks\":\"\"},\"colorscale\":[[0.0,\"#0d0887\"],[0.1111111111111111,\"#46039f\"],[0.2222222222222222,\"#7201a8\"],[0.3333333333333333,\"#9c179e\"],[0.4444444444444444,\"#bd3786\"],[0.5555555555555556,\"#d8576b\"],[0.6666666666666666,\"#ed7953\"],[0.7777777777777778,\"#fb9f3a\"],[0.8888888888888888,\"#fdca26\"],[1.0,\"#f0f921\"]]}],\"heatmapgl\":[{\"type\":\"heatmapgl\",\"colorbar\":{\"outlinewidth\":0,\"ticks\":\"\"},\"colorscale\":[[0.0,\"#0d0887\"],[0.1111111111111111,\"#46039f\"],[0.2222222222222222,\"#7201a8\"],[0.3333333333333333,\"#9c179e\"],[0.4444444444444444,\"#bd3786\"],[0.5555555555555556,\"#d8576b\"],[0.6666666666666666,\"#ed7953\"],[0.7777777777777778,\"#fb9f3a\"],[0.8888888888888888,\"#fdca26\"],[1.0,\"#f0f921\"]]}],\"contourcarpet\":[{\"type\":\"contourcarpet\",\"colorbar\":{\"outlinewidth\":0,\"ticks\":\"\"}}],\"contour\":[{\"type\":\"contour\",\"colorbar\":{\"outlinewidth\":0,\"ticks\":\"\"},\"colorscale\":[[0.0,\"#0d0887\"],[0.1111111111111111,\"#46039f\"],[0.2222222222222222,\"#7201a8\"],[0.3333333333333333,\"#9c179e\"],[0.4444444444444444,\"#bd3786\"],[0.5555555555555556,\"#d8576b\"],[0.6666666666666666,\"#ed7953\"],[0.7777777777777778,\"#fb9f3a\"],[0.8888888888888888,\"#fdca26\"],[1.0,\"#f0f921\"]]}],\"surface\":[{\"type\":\"surface\",\"colorbar\":{\"outlinewidth\":0,\"ticks\":\"\"},\"colorscale\":[[0.0,\"#0d0887\"],[0.1111111111111111,\"#46039f\"],[0.2222222222222222,\"#7201a8\"],[0.3333333333333333,\"#9c179e\"],[0.4444444444444444,\"#bd3786\"],[0.5555555555555556,\"#d8576b\"],[0.6666666666666666,\"#ed7953\"],[0.7777777777777778,\"#fb9f3a\"],[0.8888888888888888,\"#fdca26\"],[1.0,\"#f0f921\"]]}],\"mesh3d\":[{\"type\":\"mesh3d\",\"colorbar\":{\"outlinewidth\":0,\"ticks\":\"\"}}],\"scatter\":[{\"fillpattern\":{\"fillmode\":\"overlay\",\"size\":10,\"solidity\":0.2},\"type\":\"scatter\"}],\"parcoords\":[{\"type\":\"parcoords\",\"line\":{\"colorbar\":{\"outlinewidth\":0,\"ticks\":\"\"}}}],\"scatterpolargl\":[{\"type\":\"scatterpolargl\",\"marker\":{\"colorbar\":{\"outlinewidth\":0,\"ticks\":\"\"}}}],\"bar\":[{\"error_x\":{\"color\":\"#2a3f5f\"},\"error_y\":{\"color\":\"#2a3f5f\"},\"marker\":{\"line\":{\"color\":\"#E5ECF6\",\"width\":0.5},\"pattern\":{\"fillmode\":\"overlay\",\"size\":10,\"solidity\":0.2}},\"type\":\"bar\"}],\"scattergeo\":[{\"type\":\"scattergeo\",\"marker\":{\"colorbar\":{\"outlinewidth\":0,\"ticks\":\"\"}}}],\"scatterpolar\":[{\"type\":\"scatterpolar\",\"marker\":{\"colorbar\":{\"outlinewidth\":0,\"ticks\":\"\"}}}],\"histogram\":[{\"marker\":{\"pattern\":{\"fillmode\":\"overlay\",\"size\":10,\"solidity\":0.2}},\"type\":\"histogram\"}],\"scattergl\":[{\"type\":\"scattergl\",\"marker\":{\"colorbar\":{\"outlinewidth\":0,\"ticks\":\"\"}}}],\"scatter3d\":[{\"type\":\"scatter3d\",\"line\":{\"colorbar\":{\"outlinewidth\":0,\"ticks\":\"\"}},\"marker\":{\"colorbar\":{\"outlinewidth\":0,\"ticks\":\"\"}}}],\"scattermapbox\":[{\"type\":\"scattermapbox\",\"marker\":{\"colorbar\":{\"outlinewidth\":0,\"ticks\":\"\"}}}],\"scatterternary\":[{\"type\":\"scatterternary\",\"marker\":{\"colorbar\":{\"outlinewidth\":0,\"ticks\":\"\"}}}],\"scattercarpet\":[{\"type\":\"scattercarpet\",\"marker\":{\"colorbar\":{\"outlinewidth\":0,\"ticks\":\"\"}}}],\"carpet\":[{\"aaxis\":{\"endlinecolor\":\"#2a3f5f\",\"gridcolor\":\"white\",\"linecolor\":\"white\",\"minorgridcolor\":\"white\",\"startlinecolor\":\"#2a3f5f\"},\"baxis\":{\"endlinecolor\":\"#2a3f5f\",\"gridcolor\":\"white\",\"linecolor\":\"white\",\"minorgridcolor\":\"white\",\"startlinecolor\":\"#2a3f5f\"},\"type\":\"carpet\"}],\"table\":[{\"cells\":{\"fill\":{\"color\":\"#EBF0F8\"},\"line\":{\"color\":\"white\"}},\"header\":{\"fill\":{\"color\":\"#C8D4E3\"},\"line\":{\"color\":\"white\"}},\"type\":\"table\"}],\"barpolar\":[{\"marker\":{\"line\":{\"color\":\"#E5ECF6\",\"width\":0.5},\"pattern\":{\"fillmode\":\"overlay\",\"size\":10,\"solidity\":0.2}},\"type\":\"barpolar\"}],\"pie\":[{\"automargin\":true,\"type\":\"pie\"}]},\"layout\":{\"autotypenumbers\":\"strict\",\"colorway\":[\"#636efa\",\"#EF553B\",\"#00cc96\",\"#ab63fa\",\"#FFA15A\",\"#19d3f3\",\"#FF6692\",\"#B6E880\",\"#FF97FF\",\"#FECB52\"],\"font\":{\"color\":\"#2a3f5f\"},\"hovermode\":\"closest\",\"hoverlabel\":{\"align\":\"left\"},\"paper_bgcolor\":\"white\",\"plot_bgcolor\":\"#E5ECF6\",\"polar\":{\"bgcolor\":\"#E5ECF6\",\"angularaxis\":{\"gridcolor\":\"white\",\"linecolor\":\"white\",\"ticks\":\"\"},\"radialaxis\":{\"gridcolor\":\"white\",\"linecolor\":\"white\",\"ticks\":\"\"}},\"ternary\":{\"bgcolor\":\"#E5ECF6\",\"aaxis\":{\"gridcolor\":\"white\",\"linecolor\":\"white\",\"ticks\":\"\"},\"baxis\":{\"gridcolor\":\"white\",\"linecolor\":\"white\",\"ticks\":\"\"},\"caxis\":{\"gridcolor\":\"white\",\"linecolor\":\"white\",\"ticks\":\"\"}},\"coloraxis\":{\"colorbar\":{\"outlinewidth\":0,\"ticks\":\"\"}},\"colorscale\":{\"sequential\":[[0.0,\"#0d0887\"],[0.1111111111111111,\"#46039f\"],[0.2222222222222222,\"#7201a8\"],[0.3333333333333333,\"#9c179e\"],[0.4444444444444444,\"#bd3786\"],[0.5555555555555556,\"#d8576b\"],[0.6666666666666666,\"#ed7953\"],[0.7777777777777778,\"#fb9f3a\"],[0.8888888888888888,\"#fdca26\"],[1.0,\"#f0f921\"]],\"sequentialminus\":[[0.0,\"#0d0887\"],[0.1111111111111111,\"#46039f\"],[0.2222222222222222,\"#7201a8\"],[0.3333333333333333,\"#9c179e\"],[0.4444444444444444,\"#bd3786\"],[0.5555555555555556,\"#d8576b\"],[0.6666666666666666,\"#ed7953\"],[0.7777777777777778,\"#fb9f3a\"],[0.8888888888888888,\"#fdca26\"],[1.0,\"#f0f921\"]],\"diverging\":[[0,\"#8e0152\"],[0.1,\"#c51b7d\"],[0.2,\"#de77ae\"],[0.3,\"#f1b6da\"],[0.4,\"#fde0ef\"],[0.5,\"#f7f7f7\"],[0.6,\"#e6f5d0\"],[0.7,\"#b8e186\"],[0.8,\"#7fbc41\"],[0.9,\"#4d9221\"],[1,\"#276419\"]]},\"xaxis\":{\"gridcolor\":\"white\",\"linecolor\":\"white\",\"ticks\":\"\",\"title\":{\"standoff\":15},\"zerolinecolor\":\"white\",\"automargin\":true,\"zerolinewidth\":2},\"yaxis\":{\"gridcolor\":\"white\",\"linecolor\":\"white\",\"ticks\":\"\",\"title\":{\"standoff\":15},\"zerolinecolor\":\"white\",\"automargin\":true,\"zerolinewidth\":2},\"scene\":{\"xaxis\":{\"backgroundcolor\":\"#E5ECF6\",\"gridcolor\":\"white\",\"linecolor\":\"white\",\"showbackground\":true,\"ticks\":\"\",\"zerolinecolor\":\"white\",\"gridwidth\":2},\"yaxis\":{\"backgroundcolor\":\"#E5ECF6\",\"gridcolor\":\"white\",\"linecolor\":\"white\",\"showbackground\":true,\"ticks\":\"\",\"zerolinecolor\":\"white\",\"gridwidth\":2},\"zaxis\":{\"backgroundcolor\":\"#E5ECF6\",\"gridcolor\":\"white\",\"linecolor\":\"white\",\"showbackground\":true,\"ticks\":\"\",\"zerolinecolor\":\"white\",\"gridwidth\":2}},\"shapedefaults\":{\"line\":{\"color\":\"#2a3f5f\"}},\"annotationdefaults\":{\"arrowcolor\":\"#2a3f5f\",\"arrowhead\":0,\"arrowwidth\":1},\"geo\":{\"bgcolor\":\"white\",\"landcolor\":\"#E5ECF6\",\"subunitcolor\":\"white\",\"showland\":true,\"showlakes\":true,\"lakecolor\":\"white\"},\"title\":{\"x\":0.05},\"mapbox\":{\"style\":\"light\"}}},\"xaxis\":{\"anchor\":\"y\",\"domain\":[0.0,1.0],\"title\":{\"text\":\"State\"}},\"yaxis\":{\"anchor\":\"x\",\"domain\":[0.0,1.0],\"title\":{\"text\":\"sum of Ocorr\\u00eancias\"}},\"legend\":{\"tracegroupgap\":0},\"title\":{\"text\":\"Ocorr\\u00eancia de massacres em escolas dos EUA\"},\"barmode\":\"relative\"},                        {\"responsive\": true}                    ).then(function(){\n",
              "                            \n",
              "var gd = document.getElementById('216ea36b-0ff0-4c9e-9dea-53de7b53e5de');\n",
              "var x = new MutationObserver(function (mutations, observer) {{\n",
              "        var display = window.getComputedStyle(gd).display;\n",
              "        if (!display || display === 'none') {{\n",
              "            console.log([gd, 'removed!']);\n",
              "            Plotly.purge(gd);\n",
              "            observer.disconnect();\n",
              "        }}\n",
              "}});\n",
              "\n",
              "// Listen for the removal of the full notebook cells\n",
              "var notebookContainer = gd.closest('#notebook-container');\n",
              "if (notebookContainer) {{\n",
              "    x.observe(notebookContainer, {childList: true});\n",
              "}}\n",
              "\n",
              "// Listen for the clearing of the current output cell\n",
              "var outputEl = gd.closest('.output');\n",
              "if (outputEl) {{\n",
              "    x.observe(outputEl, {childList: true});\n",
              "}}\n",
              "\n",
              "                        })                };                            </script>        </div>\n",
              "</body>\n",
              "</html>"
            ]
          },
          "metadata": {}
        }
      ]
    },
    {
      "cell_type": "markdown",
      "source": [
        "Podemos concluir que, ao contrário do que o gráfico anterior sugeria, a Califórnia não é o estado com o maior número de massacres em relação à sua população."
      ],
      "metadata": {
        "id": "b8COhgtbqYq4"
      }
    },
    {
      "cell_type": "markdown",
      "source": [
        "Agora, vamos analisar a ocorrência de massacres em função da exigência de licença para a compra, utilizando um boxplot."
      ],
      "metadata": {
        "id": "IbyUYF27q6UU"
      }
    },
    {
      "cell_type": "code",
      "source": [
        "color_map = {\n",
        "    'Categoria1': 'green',  # Substitua 'Categoria1' pela categoria real e 'green' pela cor desejada\n",
        "    'Categoria2': 'purple',  # Substitua 'Categoria2' pela categoria real e 'purple' pela cor desejada\n",
        "}\n",
        "\n",
        "fig = px.box(\n",
        "    merge_df,\n",
        "    x = 'permitlaw',\n",
        "    y = 'massacres_por_estado',\n",
        "    points = \"all\",\n",
        "    color = \"permitlaw\",\n",
        "    title = \"Box Plot de Massacres por Estado e Lei de exigência de licença para a compra de armas\",\n",
        "    color_discrete_map=color_map\n",
        ")\n",
        "fig.update_layout(\n",
        "    height=600,\n",
        "    width=900\n",
        ")\n",
        "fig.show()"
      ],
      "metadata": {
        "colab": {
          "base_uri": "https://localhost:8080/",
          "height": 617
        },
        "id": "wbgAqxfgsSp6",
        "outputId": "6aa93db7-fbca-4ba5-faf4-e86d08c4f451"
      },
      "execution_count": null,
      "outputs": [
        {
          "output_type": "display_data",
          "data": {
            "text/html": [
              "<html>\n",
              "<head><meta charset=\"utf-8\" /></head>\n",
              "<body>\n",
              "    <div>            <script src=\"https://cdnjs.cloudflare.com/ajax/libs/mathjax/2.7.5/MathJax.js?config=TeX-AMS-MML_SVG\"></script><script type=\"text/javascript\">if (window.MathJax && window.MathJax.Hub && window.MathJax.Hub.Config) {window.MathJax.Hub.Config({SVG: {font: \"STIX-Web\"}});}</script>                <script type=\"text/javascript\">window.PlotlyConfig = {MathJaxConfig: 'local'};</script>\n",
              "        <script charset=\"utf-8\" src=\"https://cdn.plot.ly/plotly-2.24.1.min.js\"></script>                <div id=\"2bb5e61c-1f3c-4b76-aa43-b71b1b28ad42\" class=\"plotly-graph-div\" style=\"height:600px; width:900px;\"></div>            <script type=\"text/javascript\">                                    window.PLOTLYENV=window.PLOTLYENV || {};                                    if (document.getElementById(\"2bb5e61c-1f3c-4b76-aa43-b71b1b28ad42\")) {                    Plotly.newPlot(                        \"2bb5e61c-1f3c-4b76-aa43-b71b1b28ad42\",                        [{\"alignmentgroup\":\"True\",\"boxpoints\":\"all\",\"hovertemplate\":\"permitlaw=%{x}\\u003cbr\\u003emassacres_por_estado=%{y}\\u003cextra\\u003e\\u003c\\u002fextra\\u003e\",\"legendgroup\":\"0\",\"marker\":{\"color\":\"#00cc96\"},\"name\":\"0\",\"notched\":false,\"offsetgroup\":\"0\",\"orientation\":\"v\",\"showlegend\":true,\"x\":[0,0,0,0,0,0,0,0,0,0,0,0,0,0,0,0,0,0,0,0,0,0,0,0,0,0,0,0,0,0,0,0,0,0,0,0,0,0,0,0,0,0,0,0,0,0,0,0,0,0,0,0,0,0,0,0,0,0,0,0,0,0,0,0,0,0,0,0,0,0,0,0,0,0,0,0,0,0,0,0,0,0,0,0,0,0,0,0,0,0,0,0,0,0,0,0,0,0,0,0,0,0,0,0,0,0,0,0,0,0,0,0,0,0,0,0,0,0,0,0,0,0,0,0,0,0,0,0,0,0,0,0,0,0,0,0,0,0,0,0,0,0,0,0,0,0,0,0,0,0,0,0,0,0,0,0],\"x0\":\" \",\"xaxis\":\"x\",\"y\":[6,6,6,6,6,6,2,2,1,25,25,25,25,25,25,25,25,25,25,25,25,25,25,25,25,25,25,25,25,25,25,25,25,25,5,5,5,5,5,15,15,15,15,15,15,15,15,15,15,15,15,15,15,15,8,8,8,8,8,8,8,8,3,3,3,2,2,9,9,9,9,9,9,9,9,9,8,8,3,3,3,4,4,4,4,4,2,2,1,3,3,3,10,10,10,10,10,10,10,10,10,10,3,3,3,4,4,4,4,11,11,11,11,11,11,11,11,11,11,11,3,3,3,1,8,8,8,8,8,8,8,8,12,12,12,12,12,12,12,12,12,12,12,12,2,2,3,3,3,7,7,7,7,3,3,3],\"y0\":\" \",\"yaxis\":\"y\",\"type\":\"box\"},{\"alignmentgroup\":\"True\",\"boxpoints\":\"all\",\"hovertemplate\":\"permitlaw=%{x}\\u003cbr\\u003emassacres_por_estado=%{y}\\u003cextra\\u003e\\u003c\\u002fextra\\u003e\",\"legendgroup\":\"1\",\"marker\":{\"color\":\"#ab63fa\"},\"name\":\"1\",\"notched\":false,\"offsetgroup\":\"1\",\"orientation\":\"v\",\"showlegend\":true,\"x\":[1,1,1,1,1,1,1,1,1,1,1,1,1,1,1,1,1,1,1,1,1,1,1,1,1,1,1,1,1,1,1,1,1,1,1,1,1,1,1,1,1,1,1,1,1,1,1,1,1],\"x0\":\" \",\"xaxis\":\"x\",\"y\":[2,2,2,2,1,10,10,10,10,10,10,10,10,10,10,4,4,4,4,1,8,8,8,8,8,8,4,4,4,1,1,3,3,3,11,11,11,11,11,11,11,11,11,11,11,1,7,7,7],\"y0\":\" \",\"yaxis\":\"y\",\"type\":\"box\"}],                        {\"template\":{\"data\":{\"histogram2dcontour\":[{\"type\":\"histogram2dcontour\",\"colorbar\":{\"outlinewidth\":0,\"ticks\":\"\"},\"colorscale\":[[0.0,\"#0d0887\"],[0.1111111111111111,\"#46039f\"],[0.2222222222222222,\"#7201a8\"],[0.3333333333333333,\"#9c179e\"],[0.4444444444444444,\"#bd3786\"],[0.5555555555555556,\"#d8576b\"],[0.6666666666666666,\"#ed7953\"],[0.7777777777777778,\"#fb9f3a\"],[0.8888888888888888,\"#fdca26\"],[1.0,\"#f0f921\"]]}],\"choropleth\":[{\"type\":\"choropleth\",\"colorbar\":{\"outlinewidth\":0,\"ticks\":\"\"}}],\"histogram2d\":[{\"type\":\"histogram2d\",\"colorbar\":{\"outlinewidth\":0,\"ticks\":\"\"},\"colorscale\":[[0.0,\"#0d0887\"],[0.1111111111111111,\"#46039f\"],[0.2222222222222222,\"#7201a8\"],[0.3333333333333333,\"#9c179e\"],[0.4444444444444444,\"#bd3786\"],[0.5555555555555556,\"#d8576b\"],[0.6666666666666666,\"#ed7953\"],[0.7777777777777778,\"#fb9f3a\"],[0.8888888888888888,\"#fdca26\"],[1.0,\"#f0f921\"]]}],\"heatmap\":[{\"type\":\"heatmap\",\"colorbar\":{\"outlinewidth\":0,\"ticks\":\"\"},\"colorscale\":[[0.0,\"#0d0887\"],[0.1111111111111111,\"#46039f\"],[0.2222222222222222,\"#7201a8\"],[0.3333333333333333,\"#9c179e\"],[0.4444444444444444,\"#bd3786\"],[0.5555555555555556,\"#d8576b\"],[0.6666666666666666,\"#ed7953\"],[0.7777777777777778,\"#fb9f3a\"],[0.8888888888888888,\"#fdca26\"],[1.0,\"#f0f921\"]]}],\"heatmapgl\":[{\"type\":\"heatmapgl\",\"colorbar\":{\"outlinewidth\":0,\"ticks\":\"\"},\"colorscale\":[[0.0,\"#0d0887\"],[0.1111111111111111,\"#46039f\"],[0.2222222222222222,\"#7201a8\"],[0.3333333333333333,\"#9c179e\"],[0.4444444444444444,\"#bd3786\"],[0.5555555555555556,\"#d8576b\"],[0.6666666666666666,\"#ed7953\"],[0.7777777777777778,\"#fb9f3a\"],[0.8888888888888888,\"#fdca26\"],[1.0,\"#f0f921\"]]}],\"contourcarpet\":[{\"type\":\"contourcarpet\",\"colorbar\":{\"outlinewidth\":0,\"ticks\":\"\"}}],\"contour\":[{\"type\":\"contour\",\"colorbar\":{\"outlinewidth\":0,\"ticks\":\"\"},\"colorscale\":[[0.0,\"#0d0887\"],[0.1111111111111111,\"#46039f\"],[0.2222222222222222,\"#7201a8\"],[0.3333333333333333,\"#9c179e\"],[0.4444444444444444,\"#bd3786\"],[0.5555555555555556,\"#d8576b\"],[0.6666666666666666,\"#ed7953\"],[0.7777777777777778,\"#fb9f3a\"],[0.8888888888888888,\"#fdca26\"],[1.0,\"#f0f921\"]]}],\"surface\":[{\"type\":\"surface\",\"colorbar\":{\"outlinewidth\":0,\"ticks\":\"\"},\"colorscale\":[[0.0,\"#0d0887\"],[0.1111111111111111,\"#46039f\"],[0.2222222222222222,\"#7201a8\"],[0.3333333333333333,\"#9c179e\"],[0.4444444444444444,\"#bd3786\"],[0.5555555555555556,\"#d8576b\"],[0.6666666666666666,\"#ed7953\"],[0.7777777777777778,\"#fb9f3a\"],[0.8888888888888888,\"#fdca26\"],[1.0,\"#f0f921\"]]}],\"mesh3d\":[{\"type\":\"mesh3d\",\"colorbar\":{\"outlinewidth\":0,\"ticks\":\"\"}}],\"scatter\":[{\"fillpattern\":{\"fillmode\":\"overlay\",\"size\":10,\"solidity\":0.2},\"type\":\"scatter\"}],\"parcoords\":[{\"type\":\"parcoords\",\"line\":{\"colorbar\":{\"outlinewidth\":0,\"ticks\":\"\"}}}],\"scatterpolargl\":[{\"type\":\"scatterpolargl\",\"marker\":{\"colorbar\":{\"outlinewidth\":0,\"ticks\":\"\"}}}],\"bar\":[{\"error_x\":{\"color\":\"#2a3f5f\"},\"error_y\":{\"color\":\"#2a3f5f\"},\"marker\":{\"line\":{\"color\":\"#E5ECF6\",\"width\":0.5},\"pattern\":{\"fillmode\":\"overlay\",\"size\":10,\"solidity\":0.2}},\"type\":\"bar\"}],\"scattergeo\":[{\"type\":\"scattergeo\",\"marker\":{\"colorbar\":{\"outlinewidth\":0,\"ticks\":\"\"}}}],\"scatterpolar\":[{\"type\":\"scatterpolar\",\"marker\":{\"colorbar\":{\"outlinewidth\":0,\"ticks\":\"\"}}}],\"histogram\":[{\"marker\":{\"pattern\":{\"fillmode\":\"overlay\",\"size\":10,\"solidity\":0.2}},\"type\":\"histogram\"}],\"scattergl\":[{\"type\":\"scattergl\",\"marker\":{\"colorbar\":{\"outlinewidth\":0,\"ticks\":\"\"}}}],\"scatter3d\":[{\"type\":\"scatter3d\",\"line\":{\"colorbar\":{\"outlinewidth\":0,\"ticks\":\"\"}},\"marker\":{\"colorbar\":{\"outlinewidth\":0,\"ticks\":\"\"}}}],\"scattermapbox\":[{\"type\":\"scattermapbox\",\"marker\":{\"colorbar\":{\"outlinewidth\":0,\"ticks\":\"\"}}}],\"scatterternary\":[{\"type\":\"scatterternary\",\"marker\":{\"colorbar\":{\"outlinewidth\":0,\"ticks\":\"\"}}}],\"scattercarpet\":[{\"type\":\"scattercarpet\",\"marker\":{\"colorbar\":{\"outlinewidth\":0,\"ticks\":\"\"}}}],\"carpet\":[{\"aaxis\":{\"endlinecolor\":\"#2a3f5f\",\"gridcolor\":\"white\",\"linecolor\":\"white\",\"minorgridcolor\":\"white\",\"startlinecolor\":\"#2a3f5f\"},\"baxis\":{\"endlinecolor\":\"#2a3f5f\",\"gridcolor\":\"white\",\"linecolor\":\"white\",\"minorgridcolor\":\"white\",\"startlinecolor\":\"#2a3f5f\"},\"type\":\"carpet\"}],\"table\":[{\"cells\":{\"fill\":{\"color\":\"#EBF0F8\"},\"line\":{\"color\":\"white\"}},\"header\":{\"fill\":{\"color\":\"#C8D4E3\"},\"line\":{\"color\":\"white\"}},\"type\":\"table\"}],\"barpolar\":[{\"marker\":{\"line\":{\"color\":\"#E5ECF6\",\"width\":0.5},\"pattern\":{\"fillmode\":\"overlay\",\"size\":10,\"solidity\":0.2}},\"type\":\"barpolar\"}],\"pie\":[{\"automargin\":true,\"type\":\"pie\"}]},\"layout\":{\"autotypenumbers\":\"strict\",\"colorway\":[\"#636efa\",\"#EF553B\",\"#00cc96\",\"#ab63fa\",\"#FFA15A\",\"#19d3f3\",\"#FF6692\",\"#B6E880\",\"#FF97FF\",\"#FECB52\"],\"font\":{\"color\":\"#2a3f5f\"},\"hovermode\":\"closest\",\"hoverlabel\":{\"align\":\"left\"},\"paper_bgcolor\":\"white\",\"plot_bgcolor\":\"#E5ECF6\",\"polar\":{\"bgcolor\":\"#E5ECF6\",\"angularaxis\":{\"gridcolor\":\"white\",\"linecolor\":\"white\",\"ticks\":\"\"},\"radialaxis\":{\"gridcolor\":\"white\",\"linecolor\":\"white\",\"ticks\":\"\"}},\"ternary\":{\"bgcolor\":\"#E5ECF6\",\"aaxis\":{\"gridcolor\":\"white\",\"linecolor\":\"white\",\"ticks\":\"\"},\"baxis\":{\"gridcolor\":\"white\",\"linecolor\":\"white\",\"ticks\":\"\"},\"caxis\":{\"gridcolor\":\"white\",\"linecolor\":\"white\",\"ticks\":\"\"}},\"coloraxis\":{\"colorbar\":{\"outlinewidth\":0,\"ticks\":\"\"}},\"colorscale\":{\"sequential\":[[0.0,\"#0d0887\"],[0.1111111111111111,\"#46039f\"],[0.2222222222222222,\"#7201a8\"],[0.3333333333333333,\"#9c179e\"],[0.4444444444444444,\"#bd3786\"],[0.5555555555555556,\"#d8576b\"],[0.6666666666666666,\"#ed7953\"],[0.7777777777777778,\"#fb9f3a\"],[0.8888888888888888,\"#fdca26\"],[1.0,\"#f0f921\"]],\"sequentialminus\":[[0.0,\"#0d0887\"],[0.1111111111111111,\"#46039f\"],[0.2222222222222222,\"#7201a8\"],[0.3333333333333333,\"#9c179e\"],[0.4444444444444444,\"#bd3786\"],[0.5555555555555556,\"#d8576b\"],[0.6666666666666666,\"#ed7953\"],[0.7777777777777778,\"#fb9f3a\"],[0.8888888888888888,\"#fdca26\"],[1.0,\"#f0f921\"]],\"diverging\":[[0,\"#8e0152\"],[0.1,\"#c51b7d\"],[0.2,\"#de77ae\"],[0.3,\"#f1b6da\"],[0.4,\"#fde0ef\"],[0.5,\"#f7f7f7\"],[0.6,\"#e6f5d0\"],[0.7,\"#b8e186\"],[0.8,\"#7fbc41\"],[0.9,\"#4d9221\"],[1,\"#276419\"]]},\"xaxis\":{\"gridcolor\":\"white\",\"linecolor\":\"white\",\"ticks\":\"\",\"title\":{\"standoff\":15},\"zerolinecolor\":\"white\",\"automargin\":true,\"zerolinewidth\":2},\"yaxis\":{\"gridcolor\":\"white\",\"linecolor\":\"white\",\"ticks\":\"\",\"title\":{\"standoff\":15},\"zerolinecolor\":\"white\",\"automargin\":true,\"zerolinewidth\":2},\"scene\":{\"xaxis\":{\"backgroundcolor\":\"#E5ECF6\",\"gridcolor\":\"white\",\"linecolor\":\"white\",\"showbackground\":true,\"ticks\":\"\",\"zerolinecolor\":\"white\",\"gridwidth\":2},\"yaxis\":{\"backgroundcolor\":\"#E5ECF6\",\"gridcolor\":\"white\",\"linecolor\":\"white\",\"showbackground\":true,\"ticks\":\"\",\"zerolinecolor\":\"white\",\"gridwidth\":2},\"zaxis\":{\"backgroundcolor\":\"#E5ECF6\",\"gridcolor\":\"white\",\"linecolor\":\"white\",\"showbackground\":true,\"ticks\":\"\",\"zerolinecolor\":\"white\",\"gridwidth\":2}},\"shapedefaults\":{\"line\":{\"color\":\"#2a3f5f\"}},\"annotationdefaults\":{\"arrowcolor\":\"#2a3f5f\",\"arrowhead\":0,\"arrowwidth\":1},\"geo\":{\"bgcolor\":\"white\",\"landcolor\":\"#E5ECF6\",\"subunitcolor\":\"white\",\"showland\":true,\"showlakes\":true,\"lakecolor\":\"white\"},\"title\":{\"x\":0.05},\"mapbox\":{\"style\":\"light\"}}},\"xaxis\":{\"anchor\":\"y\",\"domain\":[0.0,1.0],\"title\":{\"text\":\"permitlaw\"},\"categoryorder\":\"array\",\"categoryarray\":[0,1]},\"yaxis\":{\"anchor\":\"x\",\"domain\":[0.0,1.0],\"title\":{\"text\":\"massacres_por_estado\"}},\"legend\":{\"title\":{\"text\":\"permitlaw\"},\"tracegroupgap\":0},\"title\":{\"text\":\"Box Plot de Massacres por Estado e Lei de exig\\u00eancia de licen\\u00e7a para a compra de armas\"},\"boxmode\":\"overlay\",\"height\":600,\"width\":900},                        {\"responsive\": true}                    ).then(function(){\n",
              "                            \n",
              "var gd = document.getElementById('2bb5e61c-1f3c-4b76-aa43-b71b1b28ad42');\n",
              "var x = new MutationObserver(function (mutations, observer) {{\n",
              "        var display = window.getComputedStyle(gd).display;\n",
              "        if (!display || display === 'none') {{\n",
              "            console.log([gd, 'removed!']);\n",
              "            Plotly.purge(gd);\n",
              "            observer.disconnect();\n",
              "        }}\n",
              "}});\n",
              "\n",
              "// Listen for the removal of the full notebook cells\n",
              "var notebookContainer = gd.closest('#notebook-container');\n",
              "if (notebookContainer) {{\n",
              "    x.observe(notebookContainer, {childList: true});\n",
              "}}\n",
              "\n",
              "// Listen for the clearing of the current output cell\n",
              "var outputEl = gd.closest('.output');\n",
              "if (outputEl) {{\n",
              "    x.observe(outputEl, {childList: true});\n",
              "}}\n",
              "\n",
              "                        })                };                            </script>        </div>\n",
              "</body>\n",
              "</html>"
            ]
          },
          "metadata": {}
        }
      ]
    },
    {
      "cell_type": "markdown",
      "source": [
        "**É possível observar que a ocorrência de massacres é maior em estados que não exigem licença para a compra.**"
      ],
      "metadata": {
        "id": "MQdJE6u_sVnV"
      }
    },
    {
      "cell_type": "markdown",
      "source": [
        "**Vamos analisar o número de ocorrências com base na presença ou ausência da Lei de Arma de Fogo para maiores de 21 anos.**"
      ],
      "metadata": {
        "id": "3Sx3kbyC5MXs"
      }
    },
    {
      "cell_type": "markdown",
      "source": [
        "Vamos separar o dataset de interesse."
      ],
      "metadata": {
        "id": "9t815bqO6Hr_"
      }
    },
    {
      "cell_type": "code",
      "source": [
        "#Seleção das colunas de interesse\n",
        "colums_dt2 = df_firearms.loc[:,['state', 'year', 'age21handgunpossess']]\n",
        "\n",
        "#vamos criar uma nova coluna de id_estado para colums_dt2, de forma que para todo state igual ao state em colums_dt, eles tenha o mesmo id_estado\n",
        "# Criar um dicionário de mapeamento de estados para id_estado a partir de colums_dt\n",
        "state_to_id = dict(zip(colums_dt['state'], colums_dt['id_estado']))\n",
        "\n",
        "# Aplicar o mapeamento em colums_dt2 para criar a nova coluna id_estado\n",
        "colums_dt2['id_estado'] = colums_dt2['state'].map(state_to_id)\n",
        "\n",
        "# Converter a coluna id_estado para inteiro\n",
        "colums_dt2['id_estado'] = colums_dt2['id_estado'].fillna(-1).astype(int)\n",
        "\n",
        "## VAMOS FAZER O MERGE DAS DUAS TABELAS\n",
        "merge_df_age21 = pd.merge(colums_dt, colums_dt2, on = ['id_estado', 'year', 'state'])\n",
        "\n",
        "#adicionar uma coluna com a somatória de ocorrências de massacres em cada Estado\n",
        "massacres_por_estado = merge_df.groupby('state').size().reset_index(name='massacre_count')\n",
        "merge_df_age21.loc[:, 'massacres_por_estado'] = merge_df['state'].map(massacres_por_estado.set_index('state')['massacre_count'])"
      ],
      "metadata": {
        "id": "am7mB7iT6T7j"
      },
      "execution_count": null,
      "outputs": []
    },
    {
      "cell_type": "markdown",
      "source": [
        "Vamos plotar o gráfico"
      ],
      "metadata": {
        "id": "8vgLA-n16f4b"
      }
    },
    {
      "cell_type": "code",
      "source": [
        "color_map = {\n",
        "    'Categoria1': 'green',  # Substitua 'Categoria1' pela categoria real e 'green' pela cor desejada\n",
        "    'Categoria2': 'purple',  # Substitua 'Categoria2' pela categoria real e 'purple' pela cor desejada\n",
        "}\n",
        "\n",
        "fig = px.box(\n",
        "    merge_df_age21,\n",
        "    x = 'age21handgunpossess',\n",
        "    y = 'massacres_por_estado',\n",
        "    points = \"all\",\n",
        "    color = \"age21handgunpossess\",\n",
        "    title = \"Box Plot de Massacres por Estado e Lei de Posse de Arma de Fogo maiores de 21 Anos\",\n",
        "    color_discrete_map=color_map\n",
        ")\n",
        "fig.update_layout(\n",
        "    height=600,\n",
        "    width=900\n",
        ")\n",
        "fig.show()"
      ],
      "metadata": {
        "colab": {
          "base_uri": "https://localhost:8080/",
          "height": 617
        },
        "id": "QWU-uUdg6i54",
        "outputId": "66e830c9-999a-402e-cf85-48ec6fca2ccb"
      },
      "execution_count": null,
      "outputs": [
        {
          "output_type": "display_data",
          "data": {
            "text/html": [
              "<html>\n",
              "<head><meta charset=\"utf-8\" /></head>\n",
              "<body>\n",
              "    <div>            <script src=\"https://cdnjs.cloudflare.com/ajax/libs/mathjax/2.7.5/MathJax.js?config=TeX-AMS-MML_SVG\"></script><script type=\"text/javascript\">if (window.MathJax && window.MathJax.Hub && window.MathJax.Hub.Config) {window.MathJax.Hub.Config({SVG: {font: \"STIX-Web\"}});}</script>                <script type=\"text/javascript\">window.PlotlyConfig = {MathJaxConfig: 'local'};</script>\n",
              "        <script charset=\"utf-8\" src=\"https://cdn.plot.ly/plotly-2.24.1.min.js\"></script>                <div id=\"e78fb160-a7aa-4556-9ce8-04ab06232ef9\" class=\"plotly-graph-div\" style=\"height:600px; width:900px;\"></div>            <script type=\"text/javascript\">                                    window.PLOTLYENV=window.PLOTLYENV || {};                                    if (document.getElementById(\"e78fb160-a7aa-4556-9ce8-04ab06232ef9\")) {                    Plotly.newPlot(                        \"e78fb160-a7aa-4556-9ce8-04ab06232ef9\",                        [{\"alignmentgroup\":\"True\",\"boxpoints\":\"all\",\"hovertemplate\":\"age21handgunpossess=%{x}\\u003cbr\\u003emassacres_por_estado=%{y}\\u003cextra\\u003e\\u003c\\u002fextra\\u003e\",\"legendgroup\":\"0\",\"marker\":{\"color\":\"#00cc96\"},\"name\":\"0\",\"notched\":false,\"offsetgroup\":\"0\",\"orientation\":\"v\",\"showlegend\":true,\"x\":[0,0,0,0,0,0,0,0,0,0,0,0,0,0,0,0,0,0,0,0,0,0,0,0,0,0,0,0,0,0,0,0,0,0,0,0,0,0,0,0,0,0,0,0,0,0,0,0,0,0,0,0,0,0,0,0,0,0,0,0,0,0,0,0,0,0,0,0,0,0,0,0,0,0,0,0,0,0,0,0,0,0,0,0,0,0,0,0,0,0,0,0,0,0,0,0,0,0,0,0,0,0,0,0,0,0,0,0,0,0,0,0,0,0,0,0,0,0,0,0,0,0,0,0,0,0,0,0,0,0,0,0,0,0,0,0,0,0,0,0,0,0,0,0,0,0,0,0,0,0,0,0,0,0,0,0,0,0,0,0,0,0,0,0,0,0,0,0,0,0,0,0,0,0,0,0,0,0,0,0,0,0,0,0,0,0,0,0,0,0],\"x0\":\" \",\"xaxis\":\"x\",\"y\":[5,9,8,11,3,3,15,15,25,10,4,3,3,8,2,7,10,9,25,25,25,25,25,12,12,11,3,9,2,8,25,4,5,2,9,25,25,11,4,7,3,11,2,3,11,25,3,4,9,4,10,10,10,8,8,8,3,12,11,15,4,8,8,3,3,15,3,25,25,12,12,11,11,4,2,11,5,4,7,10,10,11,8,10,4,12,15,8,11,8,8,8,10,25,25,4,15,8,25,15,9,3,3,3,6,5,3,25,25,25,8,3,3,1,25,25,3,15,12,11,12,12,1,7,10,15,11,10,2,15,15,15,15,25,25,8,8,10,11,12,2,5,8,3,11,10,1,4,4,11,11,11,4,8,15,2,7,3,7,8,8,1,12,15,1,11,2,10,10,6,6,12,3,25,2,2,8,10,10,9,9,6,6,25,25,10,10,7,8,8],\"y0\":\" \",\"yaxis\":\"y\",\"type\":\"box\"},{\"alignmentgroup\":\"True\",\"boxpoints\":\"all\",\"hovertemplate\":\"age21handgunpossess=%{x}\\u003cbr\\u003emassacres_por_estado=%{y}\\u003cextra\\u003e\\u003c\\u002fextra\\u003e\",\"legendgroup\":\"1\",\"marker\":{\"color\":\"#ab63fa\"},\"name\":\"1\",\"notched\":false,\"offsetgroup\":\"1\",\"orientation\":\"v\",\"showlegend\":true,\"x\":[1,1,1,1,1,1,1,1,1,1,1,1,1],\"x0\":\" \",\"xaxis\":\"x\",\"y\":[1,4,3,4,1,1,11,10,9,2,6,4,11],\"y0\":\" \",\"yaxis\":\"y\",\"type\":\"box\"}],                        {\"template\":{\"data\":{\"histogram2dcontour\":[{\"type\":\"histogram2dcontour\",\"colorbar\":{\"outlinewidth\":0,\"ticks\":\"\"},\"colorscale\":[[0.0,\"#0d0887\"],[0.1111111111111111,\"#46039f\"],[0.2222222222222222,\"#7201a8\"],[0.3333333333333333,\"#9c179e\"],[0.4444444444444444,\"#bd3786\"],[0.5555555555555556,\"#d8576b\"],[0.6666666666666666,\"#ed7953\"],[0.7777777777777778,\"#fb9f3a\"],[0.8888888888888888,\"#fdca26\"],[1.0,\"#f0f921\"]]}],\"choropleth\":[{\"type\":\"choropleth\",\"colorbar\":{\"outlinewidth\":0,\"ticks\":\"\"}}],\"histogram2d\":[{\"type\":\"histogram2d\",\"colorbar\":{\"outlinewidth\":0,\"ticks\":\"\"},\"colorscale\":[[0.0,\"#0d0887\"],[0.1111111111111111,\"#46039f\"],[0.2222222222222222,\"#7201a8\"],[0.3333333333333333,\"#9c179e\"],[0.4444444444444444,\"#bd3786\"],[0.5555555555555556,\"#d8576b\"],[0.6666666666666666,\"#ed7953\"],[0.7777777777777778,\"#fb9f3a\"],[0.8888888888888888,\"#fdca26\"],[1.0,\"#f0f921\"]]}],\"heatmap\":[{\"type\":\"heatmap\",\"colorbar\":{\"outlinewidth\":0,\"ticks\":\"\"},\"colorscale\":[[0.0,\"#0d0887\"],[0.1111111111111111,\"#46039f\"],[0.2222222222222222,\"#7201a8\"],[0.3333333333333333,\"#9c179e\"],[0.4444444444444444,\"#bd3786\"],[0.5555555555555556,\"#d8576b\"],[0.6666666666666666,\"#ed7953\"],[0.7777777777777778,\"#fb9f3a\"],[0.8888888888888888,\"#fdca26\"],[1.0,\"#f0f921\"]]}],\"heatmapgl\":[{\"type\":\"heatmapgl\",\"colorbar\":{\"outlinewidth\":0,\"ticks\":\"\"},\"colorscale\":[[0.0,\"#0d0887\"],[0.1111111111111111,\"#46039f\"],[0.2222222222222222,\"#7201a8\"],[0.3333333333333333,\"#9c179e\"],[0.4444444444444444,\"#bd3786\"],[0.5555555555555556,\"#d8576b\"],[0.6666666666666666,\"#ed7953\"],[0.7777777777777778,\"#fb9f3a\"],[0.8888888888888888,\"#fdca26\"],[1.0,\"#f0f921\"]]}],\"contourcarpet\":[{\"type\":\"contourcarpet\",\"colorbar\":{\"outlinewidth\":0,\"ticks\":\"\"}}],\"contour\":[{\"type\":\"contour\",\"colorbar\":{\"outlinewidth\":0,\"ticks\":\"\"},\"colorscale\":[[0.0,\"#0d0887\"],[0.1111111111111111,\"#46039f\"],[0.2222222222222222,\"#7201a8\"],[0.3333333333333333,\"#9c179e\"],[0.4444444444444444,\"#bd3786\"],[0.5555555555555556,\"#d8576b\"],[0.6666666666666666,\"#ed7953\"],[0.7777777777777778,\"#fb9f3a\"],[0.8888888888888888,\"#fdca26\"],[1.0,\"#f0f921\"]]}],\"surface\":[{\"type\":\"surface\",\"colorbar\":{\"outlinewidth\":0,\"ticks\":\"\"},\"colorscale\":[[0.0,\"#0d0887\"],[0.1111111111111111,\"#46039f\"],[0.2222222222222222,\"#7201a8\"],[0.3333333333333333,\"#9c179e\"],[0.4444444444444444,\"#bd3786\"],[0.5555555555555556,\"#d8576b\"],[0.6666666666666666,\"#ed7953\"],[0.7777777777777778,\"#fb9f3a\"],[0.8888888888888888,\"#fdca26\"],[1.0,\"#f0f921\"]]}],\"mesh3d\":[{\"type\":\"mesh3d\",\"colorbar\":{\"outlinewidth\":0,\"ticks\":\"\"}}],\"scatter\":[{\"fillpattern\":{\"fillmode\":\"overlay\",\"size\":10,\"solidity\":0.2},\"type\":\"scatter\"}],\"parcoords\":[{\"type\":\"parcoords\",\"line\":{\"colorbar\":{\"outlinewidth\":0,\"ticks\":\"\"}}}],\"scatterpolargl\":[{\"type\":\"scatterpolargl\",\"marker\":{\"colorbar\":{\"outlinewidth\":0,\"ticks\":\"\"}}}],\"bar\":[{\"error_x\":{\"color\":\"#2a3f5f\"},\"error_y\":{\"color\":\"#2a3f5f\"},\"marker\":{\"line\":{\"color\":\"#E5ECF6\",\"width\":0.5},\"pattern\":{\"fillmode\":\"overlay\",\"size\":10,\"solidity\":0.2}},\"type\":\"bar\"}],\"scattergeo\":[{\"type\":\"scattergeo\",\"marker\":{\"colorbar\":{\"outlinewidth\":0,\"ticks\":\"\"}}}],\"scatterpolar\":[{\"type\":\"scatterpolar\",\"marker\":{\"colorbar\":{\"outlinewidth\":0,\"ticks\":\"\"}}}],\"histogram\":[{\"marker\":{\"pattern\":{\"fillmode\":\"overlay\",\"size\":10,\"solidity\":0.2}},\"type\":\"histogram\"}],\"scattergl\":[{\"type\":\"scattergl\",\"marker\":{\"colorbar\":{\"outlinewidth\":0,\"ticks\":\"\"}}}],\"scatter3d\":[{\"type\":\"scatter3d\",\"line\":{\"colorbar\":{\"outlinewidth\":0,\"ticks\":\"\"}},\"marker\":{\"colorbar\":{\"outlinewidth\":0,\"ticks\":\"\"}}}],\"scattermapbox\":[{\"type\":\"scattermapbox\",\"marker\":{\"colorbar\":{\"outlinewidth\":0,\"ticks\":\"\"}}}],\"scatterternary\":[{\"type\":\"scatterternary\",\"marker\":{\"colorbar\":{\"outlinewidth\":0,\"ticks\":\"\"}}}],\"scattercarpet\":[{\"type\":\"scattercarpet\",\"marker\":{\"colorbar\":{\"outlinewidth\":0,\"ticks\":\"\"}}}],\"carpet\":[{\"aaxis\":{\"endlinecolor\":\"#2a3f5f\",\"gridcolor\":\"white\",\"linecolor\":\"white\",\"minorgridcolor\":\"white\",\"startlinecolor\":\"#2a3f5f\"},\"baxis\":{\"endlinecolor\":\"#2a3f5f\",\"gridcolor\":\"white\",\"linecolor\":\"white\",\"minorgridcolor\":\"white\",\"startlinecolor\":\"#2a3f5f\"},\"type\":\"carpet\"}],\"table\":[{\"cells\":{\"fill\":{\"color\":\"#EBF0F8\"},\"line\":{\"color\":\"white\"}},\"header\":{\"fill\":{\"color\":\"#C8D4E3\"},\"line\":{\"color\":\"white\"}},\"type\":\"table\"}],\"barpolar\":[{\"marker\":{\"line\":{\"color\":\"#E5ECF6\",\"width\":0.5},\"pattern\":{\"fillmode\":\"overlay\",\"size\":10,\"solidity\":0.2}},\"type\":\"barpolar\"}],\"pie\":[{\"automargin\":true,\"type\":\"pie\"}]},\"layout\":{\"autotypenumbers\":\"strict\",\"colorway\":[\"#636efa\",\"#EF553B\",\"#00cc96\",\"#ab63fa\",\"#FFA15A\",\"#19d3f3\",\"#FF6692\",\"#B6E880\",\"#FF97FF\",\"#FECB52\"],\"font\":{\"color\":\"#2a3f5f\"},\"hovermode\":\"closest\",\"hoverlabel\":{\"align\":\"left\"},\"paper_bgcolor\":\"white\",\"plot_bgcolor\":\"#E5ECF6\",\"polar\":{\"bgcolor\":\"#E5ECF6\",\"angularaxis\":{\"gridcolor\":\"white\",\"linecolor\":\"white\",\"ticks\":\"\"},\"radialaxis\":{\"gridcolor\":\"white\",\"linecolor\":\"white\",\"ticks\":\"\"}},\"ternary\":{\"bgcolor\":\"#E5ECF6\",\"aaxis\":{\"gridcolor\":\"white\",\"linecolor\":\"white\",\"ticks\":\"\"},\"baxis\":{\"gridcolor\":\"white\",\"linecolor\":\"white\",\"ticks\":\"\"},\"caxis\":{\"gridcolor\":\"white\",\"linecolor\":\"white\",\"ticks\":\"\"}},\"coloraxis\":{\"colorbar\":{\"outlinewidth\":0,\"ticks\":\"\"}},\"colorscale\":{\"sequential\":[[0.0,\"#0d0887\"],[0.1111111111111111,\"#46039f\"],[0.2222222222222222,\"#7201a8\"],[0.3333333333333333,\"#9c179e\"],[0.4444444444444444,\"#bd3786\"],[0.5555555555555556,\"#d8576b\"],[0.6666666666666666,\"#ed7953\"],[0.7777777777777778,\"#fb9f3a\"],[0.8888888888888888,\"#fdca26\"],[1.0,\"#f0f921\"]],\"sequentialminus\":[[0.0,\"#0d0887\"],[0.1111111111111111,\"#46039f\"],[0.2222222222222222,\"#7201a8\"],[0.3333333333333333,\"#9c179e\"],[0.4444444444444444,\"#bd3786\"],[0.5555555555555556,\"#d8576b\"],[0.6666666666666666,\"#ed7953\"],[0.7777777777777778,\"#fb9f3a\"],[0.8888888888888888,\"#fdca26\"],[1.0,\"#f0f921\"]],\"diverging\":[[0,\"#8e0152\"],[0.1,\"#c51b7d\"],[0.2,\"#de77ae\"],[0.3,\"#f1b6da\"],[0.4,\"#fde0ef\"],[0.5,\"#f7f7f7\"],[0.6,\"#e6f5d0\"],[0.7,\"#b8e186\"],[0.8,\"#7fbc41\"],[0.9,\"#4d9221\"],[1,\"#276419\"]]},\"xaxis\":{\"gridcolor\":\"white\",\"linecolor\":\"white\",\"ticks\":\"\",\"title\":{\"standoff\":15},\"zerolinecolor\":\"white\",\"automargin\":true,\"zerolinewidth\":2},\"yaxis\":{\"gridcolor\":\"white\",\"linecolor\":\"white\",\"ticks\":\"\",\"title\":{\"standoff\":15},\"zerolinecolor\":\"white\",\"automargin\":true,\"zerolinewidth\":2},\"scene\":{\"xaxis\":{\"backgroundcolor\":\"#E5ECF6\",\"gridcolor\":\"white\",\"linecolor\":\"white\",\"showbackground\":true,\"ticks\":\"\",\"zerolinecolor\":\"white\",\"gridwidth\":2},\"yaxis\":{\"backgroundcolor\":\"#E5ECF6\",\"gridcolor\":\"white\",\"linecolor\":\"white\",\"showbackground\":true,\"ticks\":\"\",\"zerolinecolor\":\"white\",\"gridwidth\":2},\"zaxis\":{\"backgroundcolor\":\"#E5ECF6\",\"gridcolor\":\"white\",\"linecolor\":\"white\",\"showbackground\":true,\"ticks\":\"\",\"zerolinecolor\":\"white\",\"gridwidth\":2}},\"shapedefaults\":{\"line\":{\"color\":\"#2a3f5f\"}},\"annotationdefaults\":{\"arrowcolor\":\"#2a3f5f\",\"arrowhead\":0,\"arrowwidth\":1},\"geo\":{\"bgcolor\":\"white\",\"landcolor\":\"#E5ECF6\",\"subunitcolor\":\"white\",\"showland\":true,\"showlakes\":true,\"lakecolor\":\"white\"},\"title\":{\"x\":0.05},\"mapbox\":{\"style\":\"light\"}}},\"xaxis\":{\"anchor\":\"y\",\"domain\":[0.0,1.0],\"title\":{\"text\":\"age21handgunpossess\"},\"categoryorder\":\"array\",\"categoryarray\":[0,1]},\"yaxis\":{\"anchor\":\"x\",\"domain\":[0.0,1.0],\"title\":{\"text\":\"massacres_por_estado\"}},\"legend\":{\"title\":{\"text\":\"age21handgunpossess\"},\"tracegroupgap\":0},\"title\":{\"text\":\"Box Plot de Massacres por Estado e Lei de Posse de Arma de Fogo maiores de 21 Anos\"},\"boxmode\":\"overlay\",\"height\":600,\"width\":900},                        {\"responsive\": true}                    ).then(function(){\n",
              "                            \n",
              "var gd = document.getElementById('e78fb160-a7aa-4556-9ce8-04ab06232ef9');\n",
              "var x = new MutationObserver(function (mutations, observer) {{\n",
              "        var display = window.getComputedStyle(gd).display;\n",
              "        if (!display || display === 'none') {{\n",
              "            console.log([gd, 'removed!']);\n",
              "            Plotly.purge(gd);\n",
              "            observer.disconnect();\n",
              "        }}\n",
              "}});\n",
              "\n",
              "// Listen for the removal of the full notebook cells\n",
              "var notebookContainer = gd.closest('#notebook-container');\n",
              "if (notebookContainer) {{\n",
              "    x.observe(notebookContainer, {childList: true});\n",
              "}}\n",
              "\n",
              "// Listen for the clearing of the current output cell\n",
              "var outputEl = gd.closest('.output');\n",
              "if (outputEl) {{\n",
              "    x.observe(outputEl, {childList: true});\n",
              "}}\n",
              "\n",
              "                        })                };                            </script>        </div>\n",
              "</body>\n",
              "</html>"
            ]
          },
          "metadata": {}
        }
      ]
    },
    {
      "cell_type": "markdown",
      "source": [
        "**Pode-se observar que a ocorrência de massacres é maior em estados que não exigem a idade mínima de 21 anos para a compra de armas de fogo.**"
      ],
      "metadata": {
        "id": "FqUu95Kt6pfp"
      }
    },
    {
      "cell_type": "markdown",
      "source": [
        "## **Terceira pergunta**"
      ],
      "metadata": {
        "id": "7xzSAns4kv52"
      }
    },
    {
      "cell_type": "markdown",
      "source": [
        "**Qual a relação entre a força da lei de armas e a ocorrência de massacres?**\n",
        "\n",
        "**Para explorar essa relação, vamos analisar como está dispersão dos dados em um gráfico onde o eixo x é a força da lei e o eixo y é a quantidade de ocorrência de massacres.**"
      ],
      "metadata": {
        "id": "sbDLlw-oUgaf"
      }
    },
    {
      "cell_type": "code",
      "source": [
        "final_result['pop'] = final_result['pop'].astype(int)\n",
        "media = final_result.groupby('state')['pop'].mean().reset_index(name='media')\n",
        "\n",
        "grouped = (final_result.groupby('state').size().reset_index(name='counts')*100000)\n",
        "other_ = final_result.groupby('state')['Gun Law Strength'].mean().reset_index(name='Gun Law Strength')"
      ],
      "metadata": {
        "id": "_adx2bzmXrgu"
      },
      "execution_count": null,
      "outputs": []
    },
    {
      "cell_type": "markdown",
      "source": [
        "Ao criar dois vetores, um da força da lei, que é representado no código abaixo por x e outro com a proporção de ocorrencias de massacres pela população, representado por y. **Essa proporção é necessária, porque estado com um número maior de pessoas, podem tender ter mais ocorrências de massacres. Então, para contornar essa variação, será trabalhado com proporção.**"
      ],
      "metadata": {
        "id": "AjoK3AHndnO2"
      }
    },
    {
      "cell_type": "code",
      "source": [
        "# Mesclar os DataFrames\n",
        "merged_df = pd.merge(grouped, other_, on='state')\n",
        "# x serão os estados e y serão as contagens\n",
        "x = other_['Gun Law Strength']\n",
        "y = grouped['counts']/media['media']"
      ],
      "metadata": {
        "id": "uBHZDK8xdlRa"
      },
      "execution_count": null,
      "outputs": []
    },
    {
      "cell_type": "markdown",
      "source": [
        "Abaixo é apresentado o gráfico de dispersão dos dados."
      ],
      "metadata": {
        "id": "OZY1GeIse72H"
      }
    },
    {
      "cell_type": "code",
      "source": [
        "plt.scatter(x, y, edgecolor='k', alpha=0.6)\n",
        "plt.xlabel('Gun Law Strength')\n",
        "plt.ylabel('counts')\n",
        "plt.title('Counts of States with Gun Law Strength')\n",
        "plt.xticks(rotation=90)  # Rotacionar os rótulos do eixo x se necessário\n",
        "plt.show()"
      ],
      "metadata": {
        "colab": {
          "base_uri": "https://localhost:8080/",
          "height": 475
        },
        "id": "9Xi36iYsfBog",
        "outputId": "a147d2b7-93cc-46b5-820a-30726243725e"
      },
      "execution_count": null,
      "outputs": [
        {
          "output_type": "display_data",
          "data": {
            "text/plain": [
              "<Figure size 640x480 with 1 Axes>"
            ],
            "image/png": "[encoded data removed]"
          },
          "metadata": {}
        }
      ]
    },
    {
      "cell_type": "markdown",
      "source": [
        "É possível analisar **uma maior concentração do lado esquerd**o, por isso podemos ter uma melhor visualização dos dados em um histograma de duas dimensões."
      ],
      "metadata": {
        "id": "atfCMQ_WfcBm"
      }
    },
    {
      "cell_type": "code",
      "source": [
        "plt.hist2d(x, y, bins=10, cmap='Greens')\n",
        "plt.xlabel('Gun Law Strength')\n",
        "plt.ylabel('Ocorrencia de massacre')\n",
        "plt.title(' Gun Law Strength e ocorrências de massacre')\n",
        "plt.colorbar()\n",
        "plt.show()\n"
      ],
      "metadata": {
        "colab": {
          "base_uri": "https://localhost:8080/",
          "height": 472
        },
        "id": "j6N8Wma0ysTH",
        "outputId": "cba61fa4-d781-42c7-a79d-a365e13c0067"
      },
      "execution_count": null,
      "outputs": [
        {
          "output_type": "display_data",
          "data": {
            "text/plain": [
              "<Figure size 640x480 with 2 Axes>"
            ],
            "image/png": "[encoded data removed]"
          },
          "metadata": {}
        }
      ]
    },
    {
      "cell_type": "markdown",
      "source": [
        "Como pensado anteriormente, há uma maior concentração do lado esquerdo. O que há uma possível relação de quão maior for a força da lei, menor os casos de school shooting. Entretanto, para ter certeza, podemos aplicar uma **regressão linear** e encontrar uma função que relacione essas variáveis."
      ],
      "metadata": {
        "id": "baW5KlVjfux9"
      }
    },
    {
      "cell_type": "code",
      "source": [
        "reg = LinearRegression()\n",
        "x = x.values.reshape(-1, 1)\n",
        "y = y.values.reshape(-1, 1)\n",
        "reg.fit(x, y)\n",
        "y_pred = reg.predict(x)\n",
        "\n",
        "# Plotar os dados e a linha de regressão\n",
        "plt.scatter(x, y, edgecolor='k', alpha=0.6, label='Dados ')\n",
        "plt.plot(x, y_pred, color='red', label='Regressão linear')\n",
        "\n",
        "plt.xlabel('Gun Law Strength')\n",
        "plt.ylabel('Proporção de massacres')\n",
        "plt.title('Proporção de massacres vs Gun Law Strength')\n",
        "plt.xticks(rotation=90)  # Rotacionar os rótulos do eixo x se necessário\n",
        "plt.legend()\n",
        "plt.show()"
      ],
      "metadata": {
        "colab": {
          "base_uri": "https://localhost:8080/",
          "height": 475
        },
        "id": "hKmqu1P43afr",
        "outputId": "735d920f-7bda-43f6-8a6a-359d15ad4ff0"
      },
      "execution_count": null,
      "outputs": [
        {
          "output_type": "display_data",
          "data": {
            "text/plain": [
              "<Figure size 640x480 with 1 Axes>"
            ],
            "image/png": "[encoded data removed]"
          },
          "metadata": {}
        }
      ]
    },
    {
      "cell_type": "markdown",
      "source": [
        "**É possível visualizar que há uma relação pequena onde, a cada vez que o rigor da lei aumenta, os casos de massacre diminuem.**\n",
        "\n",
        "Outra análise possivel, é comparar com a taxa de violência daquele estado, ou seja, **se um estado for mais violento terá mais casos de school shooting?**"
      ],
      "metadata": {
        "id": "ektpuk7n7T96"
      }
    },
    {
      "cell_type": "code",
      "source": [
        "final_result['pop'] = final_result['pop'].astype(int)\n",
        "media = final_result.groupby('state')['pop'].mean().reset_index(name='media')\n",
        "\n",
        "grouped = (final_result.groupby('state').size().reset_index(name='counts')*100000)\n",
        "other_ = final_result.groupby('state')['Gun Violence Rate'].mean().reset_index(name='Gun Violence Rate')"
      ],
      "metadata": {
        "id": "lpCpLs55s_gA"
      },
      "execution_count": null,
      "outputs": []
    },
    {
      "cell_type": "code",
      "source": [
        "# Mesclar os DataFrames\n",
        "merged_df = pd.merge(grouped, other_, on='state')\n",
        "# x serão os estados e y serão as contagens\n",
        "x = other_['Gun Violence Rate']\n",
        "y = grouped['counts']/media['media']"
      ],
      "metadata": {
        "id": "kIV4czfrtz4A"
      },
      "execution_count": null,
      "outputs": []
    },
    {
      "cell_type": "code",
      "source": [
        "plt.scatter(x, y, edgecolor='k', alpha=0.6)\n",
        "plt.xlabel('Gun Violence Rate')\n",
        "plt.ylabel('counts')\n",
        "plt.title('Counts of States with Gun Violence Rate')\n",
        "plt.xticks(rotation=90)  # Rotacionar os rótulos do eixo x se necessário\n",
        "plt.show()"
      ],
      "metadata": {
        "colab": {
          "base_uri": "https://localhost:8080/",
          "height": 475
        },
        "id": "UeQBFlayuGwl",
        "outputId": "38353397-c249-49e6-927a-139e2f9fdfd8"
      },
      "execution_count": null,
      "outputs": [
        {
          "output_type": "display_data",
          "data": {
            "text/plain": [
              "<Figure size 640x480 with 1 Axes>"
            ],
            "image/png": "[encoded data removed]"
          },
          "metadata": {}
        }
      ]
    },
    {
      "cell_type": "code",
      "source": [
        "plt.hist2d(x, y, bins=10, cmap='Blues')\n",
        "plt.xlabel('Gun Violence Rate')\n",
        "plt.ylabel('Proporção de ocorrências de massacres')\n",
        "plt.title('Gun Violence Rate e ocorrências de massacre')\n",
        "plt.colorbar()\n",
        "plt.show()\n"
      ],
      "metadata": {
        "colab": {
          "base_uri": "https://localhost:8080/",
          "height": 472
        },
        "id": "f6zIBRDHulxJ",
        "outputId": "8a0d81e7-b3eb-4d77-b7e6-a717b84c3f03"
      },
      "execution_count": null,
      "outputs": [
        {
          "output_type": "display_data",
          "data": {
            "text/plain": [
              "<Figure size 640x480 with 2 Axes>"
            ],
            "image/png": "[encoded data removed]"
          },
          "metadata": {}
        }
      ]
    },
    {
      "cell_type": "code",
      "source": [
        "reg = LinearRegression()\n",
        "x = x.values.reshape(-1, 1)\n",
        "y = y.values.reshape(-1, 1)\n",
        "reg.fit(x, y)\n",
        "y_pred = reg.predict(x)\n",
        "\n",
        "# Plotar os dados e a linha de regressão\n",
        "plt.scatter(x, y, edgecolor='k', alpha=0.6, label='Dados ')\n",
        "plt.plot(x, y_pred, color='red', label='Regressão linear')\n",
        "\n",
        "plt.xlabel('Gun Violence Rate')\n",
        "plt.ylabel('Proporção de massacres')\n",
        "plt.title('Proporção de massacres vs Gun Violence Rate')\n",
        "plt.xticks(rotation=90)  # Rotacionar os rótulos do eixo x se necessário\n",
        "plt.legend()\n",
        "plt.show()"
      ],
      "metadata": {
        "colab": {
          "base_uri": "https://localhost:8080/",
          "height": 475
        },
        "id": "1NPCha5wvAbH",
        "outputId": "f058a2f9-ac48-4aea-87fc-a7d02c8b823e"
      },
      "execution_count": null,
      "outputs": [
        {
          "output_type": "display_data",
          "data": {
            "text/plain": [
              "<Figure size 640x480 with 1 Axes>"
            ],
            "image/png": "[encoded data removed]"
          },
          "metadata": {}
        }
      ]
    },
    {
      "cell_type": "markdown",
      "source": [
        "É possível analisar que há uma quantidade maior de massacres, à medida que a taxa de violencia aumenta. Ou seja, se um estado tiver uma taxa de violência com armas maior, é provavel que ocorra mais ocorrências de tiroteios em escolas."
      ],
      "metadata": {
        "id": "B2pbqyQKvrbh"
      }
    },
    {
      "cell_type": "markdown",
      "source": [
        "## **Quarta Pergunta**"
      ],
      "metadata": {
        "id": "-V4sy4bmz3zq"
      }
    },
    {
      "cell_type": "markdown",
      "source": [
        " A pergunta tem como objetivo **analisar a influência dos casos de crime de ódio com o aumento de massacres em escolas**, buscando verificar a influência do discurso preconceituoso das pessoas na motivação para o acontecimento dos massacres na escola\n",
        "\n",
        " Para quantificar o discurso preconceituoso na sociedade será utilizado as estatisticas ligadas aos casos de crimes de ódio, sendo eles crimes cometidos que o criminoso seleciona intencionalmente a sua vítima em função dela pertencer a algum grupo especifico. Desse modo, períodos no qual crimes de ódio são maiores tendem a possuir maior presença de discurso preconceituoso, permitindo assim a análise junto com os massacres na escola para identificar a relação entre eles."
      ],
      "metadata": {
        "id": "-dne74wPXwgG"
      }
    },
    {
      "cell_type": "markdown",
      "source": [
        "### Análise exploratória dos dados"
      ],
      "metadata": {
        "id": "_FSaMgxD2jRb"
      }
    },
    {
      "cell_type": "markdown",
      "source": [
        "Para ser feita a análise será necessário utilizar o dataset de hate crime nos Estados Unidos junto com o dataset principal dos tiroteios em escola. Dado esses datasets, será analisada a tendência dos dados para comparar a relação entre eles."
      ],
      "metadata": {
        "id": "qn_xXBV2vWeX"
      }
    },
    {
      "cell_type": "markdown",
      "source": [
        "####Variação dos dados"
      ],
      "metadata": {
        "id": "HmBS4jODxNn2"
      }
    },
    {
      "cell_type": "markdown",
      "source": [
        "Iniciando com a observação dos dados de crime de ódio, será gerado o plot do número de casos agrupados, permitindo perceber a variação do número de casos de crime de ódio anualmente"
      ],
      "metadata": {
        "id": "5ZtouaPLNwIg"
      }
    },
    {
      "cell_type": "code",
      "source": [
        "df_hate_crime.groupby('Report data for year')['Recorded by Police'].sum().plot()\n",
        "plt.ylabel('Número de casos de crimes de ódio')\n",
        "plt.xlabel('Ano')"
      ],
      "metadata": {
        "colab": {
          "base_uri": "https://localhost:8080/",
          "height": 467
        },
        "id": "F8PoB7f_px4c",
        "outputId": "5be88fc7-bf3a-4664-e453-12a702688912"
      },
      "execution_count": null,
      "outputs": [
        {
          "output_type": "execute_result",
          "data": {
            "text/plain": [
              "Text(0.5, 0, 'Ano')"
            ]
          },
          "metadata": {},
          "execution_count": 425
        },
        {
          "output_type": "display_data",
          "data": {
            "text/plain": [
              "<Figure size 640x480 with 1 Axes>"
            ],
            "image/png": "[encoded data removed]"
          },
          "metadata": {}
        }
      ]
    },
    {
      "cell_type": "markdown",
      "source": [
        "Analisando o número de casos de ódio percebe-se um declicio do número de casos de crime de ódio até 2014 e um aumento do número de casos de crime de ódio expressivo a partir de 2014 até 2022"
      ],
      "metadata": {
        "id": "yZ31RRhnFhD5"
      }
    },
    {
      "cell_type": "markdown",
      "source": [
        "O dataset dos tiroteios em escolas foi adaptado para contar o número de casos de tiroteios em escola anualmente no período observado pelo dataset dos crimes de ódio, assim gerando um plot para ser possível observar a variação do número de casos de tiroteios em escolas anualmente"
      ],
      "metadata": {
        "id": "e0Xe50BMOSAD"
      }
    },
    {
      "cell_type": "code",
      "source": [
        "df_school_anos = df.loc[:, ['uid', 'school_name','date', 'state']]\n",
        "df_school_anos['date'] = pd.to_datetime(df_school_anos['date']).dt.year\n",
        "df_school_anos['id_estado'] = df_school_anos['state'].astype('category').cat.codes\n",
        "df_school_anos.rename(columns={'date':'year'}, inplace =True)\n",
        "\n",
        "df_school_anos.query('year < 2023 and year > 2008').groupby('year')['uid'].count().plot()\n",
        "plt.ylabel('Número de casos de tiroteios em escolas')\n",
        "plt.xlabel('Ano')"
      ],
      "metadata": {
        "colab": {
          "base_uri": "https://localhost:8080/",
          "height": 467
        },
        "id": "lQgHBCqDCkHA",
        "outputId": "6675c164-6934-4339-d4bf-ead40da2242e"
      },
      "execution_count": null,
      "outputs": [
        {
          "output_type": "execute_result",
          "data": {
            "text/plain": [
              "Text(0.5, 0, 'Ano')"
            ]
          },
          "metadata": {},
          "execution_count": 426
        },
        {
          "output_type": "display_data",
          "data": {
            "text/plain": [
              "<Figure size 640x480 with 1 Axes>"
            ],
            "image/png": "[encoded data removed]"
          },
          "metadata": {}
        }
      ]
    },
    {
      "cell_type": "markdown",
      "source": [
        "Analisando o número de casos de ódio percebe-se que o número de casos de tiroteios em escolas possui uma variação semelhante ao número de casos de crime de ódio, permitindo uma análise melhor da relação através da regressão linear"
      ],
      "metadata": {
        "id": "gJmhXtcnJghS"
      }
    },
    {
      "cell_type": "markdown",
      "source": [
        "####Dispersão dos dados"
      ],
      "metadata": {
        "id": "GR3w8JUtwavV"
      }
    },
    {
      "cell_type": "markdown",
      "source": [
        "Inicialmente para permitir a análise direta da relação entre os dados será criado um dataframe separado com o ano, número de casos de crime de ódio e número de casos de tiroteios em escolas para realizar as análises nesse dataframe."
      ],
      "metadata": {
        "id": "3qQ4MpZRwavc"
      }
    },
    {
      "cell_type": "code",
      "source": [
        "df_comparacao = {}\n",
        "df_comparacao['hateCrime'] = df_hate_crime.groupby('Report data for year')['Recorded by Police'].sum()\n",
        "df_comparacao['schoolShotting'] = df_school_anos.query('year < 2023 and year > 2008').groupby('year')['uid'].count()\n",
        "df_comparacao = pd.DataFrame(df_comparacao)\n",
        "df_comparacao = df_comparacao.reset_index()\n",
        "df_comparacao = df_comparacao.rename(columns={'index': 'Ano'})"
      ],
      "metadata": {
        "id": "0pslmK3dwave"
      },
      "execution_count": null,
      "outputs": []
    },
    {
      "cell_type": "markdown",
      "source": [
        "Dado o dataframe selecionado, será gerado o gráfico de dispersão dos dados através do pairplot para analisar a relação entre os valores aplicados.\n"
      ],
      "metadata": {
        "id": "JJTbcNAPwavf"
      }
    },
    {
      "cell_type": "code",
      "source": [
        "sns.pairplot(df_comparacao, diag_kws={'edgecolor':'k'}, plot_kws={'alpha':0.5, 'edgecolor':'k'})"
      ],
      "metadata": {
        "colab": {
          "base_uri": "https://localhost:8080/",
          "height": 776
        },
        "outputId": "5362c95a-8b1c-4c09-f266-97d7a51ff428",
        "id": "UtTN5g9Fwavg"
      },
      "execution_count": null,
      "outputs": [
        {
          "output_type": "execute_result",
          "data": {
            "text/plain": [
              "<seaborn.axisgrid.PairGrid at 0x7a357a47dd50>"
            ]
          },
          "metadata": {},
          "execution_count": 428
        },
        {
          "output_type": "display_data",
          "data": {
            "text/plain": [
              "<Figure size 750x750 with 12 Axes>"
            ],
            "image/png": "[encoded data removed]"
          },
          "metadata": {}
        }
      ]
    },
    {
      "cell_type": "markdown",
      "source": [
        "Observando a relação os dados parecem apresentar uma relação linear entre o tiroteio em escolas com o ano e os crimes de ódio, pertmindo a especulação da regressão linear dos dados"
      ],
      "metadata": {
        "id": "mOTvxzL8wavh"
      }
    },
    {
      "cell_type": "markdown",
      "source": [
        "Porém, analisando a relação dos dados é perceptível um ponto claro de overfit em uma caso com uma taxa alta de crimes de ódio e baixa de tiroteios em escolas, sendo isso causado em 2020 devido a pandemia de Covid-19. Dado esse problema, foi escolhido retirar o dado para que ele não interfira negativamente na análie dos dados"
      ],
      "metadata": {
        "id": "awwFJIG-wavi"
      }
    },
    {
      "cell_type": "code",
      "source": [
        "comparacao_sem_pandemia = df_comparacao\n",
        "comparacao_sem_pandemia = df_comparacao.drop(df_comparacao[df_comparacao.index == 11].index)"
      ],
      "metadata": {
        "id": "3gIpGXvMwavk"
      },
      "execution_count": null,
      "outputs": []
    },
    {
      "cell_type": "markdown",
      "source": [
        "##Regressão Linear"
      ],
      "metadata": {
        "id": "Gy252zntW_Xe"
      }
    },
    {
      "cell_type": "markdown",
      "source": [
        "###Normalização e divisão em treino e teste"
      ],
      "metadata": {
        "id": "cTwaCqeoF4PJ"
      }
    },
    {
      "cell_type": "markdown",
      "source": [
        "Para realizar a regressão, inicialmente os dados foram divididos em treino e teste para permitir a verificação da eficiencia do modelo, sendo 80% dos dados de treino e 20% de teste"
      ],
      "metadata": {
        "id": "q1B583skmGVn"
      }
    },
    {
      "cell_type": "code",
      "source": [
        "train_df, test_df = train_test_split(comparacao_sem_pandemia, test_size=0.2)\n",
        "\n",
        "y_train_df = train_df['schoolShotting']\n",
        "X_train_df = train_df.drop('schoolShotting', axis='columns')\n",
        "\n",
        "y_test_df = test_df['schoolShotting']\n",
        "X_test_df = test_df.drop('schoolShotting', axis='columns')"
      ],
      "metadata": {
        "id": "6XrEpYR5BNtA"
      },
      "execution_count": null,
      "outputs": []
    },
    {
      "cell_type": "markdown",
      "source": [
        "Em relação a normalização, foi utilizada a Standard Scaler para fazer a normalização do treino e do teste, sendo a normalização do teste feita a partir da média e do desvio padrão do treino"
      ],
      "metadata": {
        "id": "XU248Np6HosF"
      }
    },
    {
      "cell_type": "code",
      "source": [
        "scaler_x = StandardScaler()\n",
        "scaler_y = StandardScaler()\n",
        "\n",
        "X_train = scaler_x.fit_transform(X_train_df.values)\n",
        "y_train = scaler_y.fit_transform(y_train_df.values[:, np.newaxis])\n",
        "\n",
        "X_test = scaler_x.transform(X_test_df.values)\n",
        "y_test = scaler_y.transform(y_test_df.values[:, np.newaxis])"
      ],
      "metadata": {
        "id": "6RuJa94sHo4V"
      },
      "execution_count": null,
      "outputs": []
    },
    {
      "cell_type": "markdown",
      "source": [
        "###Modelo de Regressão linear"
      ],
      "metadata": {
        "id": "WdO02jKVmxLt"
      }
    },
    {
      "cell_type": "markdown",
      "source": [
        "Para fazer a regressão linear foi escolhido usar a regressão linear básica da sklearn, criando o modelo a partir dos dados de treino e verificando os predicts para o treino e teste"
      ],
      "metadata": {
        "id": "qAy_bQDZYCAg"
      }
    },
    {
      "cell_type": "code",
      "source": [
        "linear = LinearRegression(fit_intercept=True)\n",
        "linear = linear.fit(X_train, y_train)\n",
        "y_pred_train = linear.predict(X_train)\n",
        "y_pred_test = linear.predict(X_test)"
      ],
      "metadata": {
        "id": "NiPbLGcyVgNQ"
      },
      "execution_count": null,
      "outputs": []
    },
    {
      "cell_type": "markdown",
      "source": [
        "Dado o modelo, foi gerado os seguintes valores de verificação da confiabilidade do modelo"
      ],
      "metadata": {
        "id": "q1Bu5skKYRu9"
      }
    },
    {
      "cell_type": "code",
      "source": [
        "print(f'Coeficientes: {linear.coef_[0]}')\n",
        "print(f'Intercepto: {linear.intercept_[0]}')"
      ],
      "metadata": {
        "colab": {
          "base_uri": "https://localhost:8080/"
        },
        "id": "u4amsiEXPDly",
        "outputId": "4d835465-6e71-4e49-ec29-41ba60db48ce"
      },
      "execution_count": null,
      "outputs": [
        {
          "output_type": "stream",
          "name": "stdout",
          "text": [
            "Coeficientes: [0.51264015 0.52046377]\n",
            "Intercepto: -5.473644334997811e-15\n"
          ]
        }
      ]
    },
    {
      "cell_type": "code",
      "source": [
        "print(f'Erro quadrático médio do treino: {mean_squared_error(y_train, y_pred_train)}' )\n",
        "print(f'Valor R2 do treino: {r2_score(y_train, y_pred_train)}')"
      ],
      "metadata": {
        "colab": {
          "base_uri": "https://localhost:8080/"
        },
        "id": "HRn2GUeYVoXy",
        "outputId": "ee510adf-d972-490c-fcb1-b3a5f8047aa5"
      },
      "execution_count": null,
      "outputs": [
        {
          "output_type": "stream",
          "name": "stdout",
          "text": [
            "Erro quadrático médio do treino: 0.07508087113701141\n",
            "Valor R2 do treino: 0.9249191288629885\n"
          ]
        }
      ]
    },
    {
      "cell_type": "code",
      "source": [
        "print(f'Erro quadrático médio do teste: {mean_squared_error(y_test, y_pred_test)}' )\n",
        "print(f'Valor R2 do teste: {r2_score(y_test, y_pred_test)}')"
      ],
      "metadata": {
        "colab": {
          "base_uri": "https://localhost:8080/"
        },
        "id": "XZTkn02kPYIq",
        "outputId": "4f88366b-4ad4-4c22-c7f1-37f6d117742c"
      },
      "execution_count": null,
      "outputs": [
        {
          "output_type": "stream",
          "name": "stdout",
          "text": [
            "Erro quadrático médio do teste: 0.16775920415258705\n",
            "Valor R2 do teste: -2.5430743917026373\n"
          ]
        }
      ]
    },
    {
      "cell_type": "markdown",
      "source": [
        "###Histogramas das estatísticas"
      ],
      "metadata": {
        "id": "iVzoOsz3aVOt"
      }
    },
    {
      "cell_type": "markdown",
      "source": [
        "Realizando diferentes execuções dos módulos anteriores foi perceptivel que devido ao baixo número de dados e a presença de variações complexas os valores de r2 score e erro quadrado média possuem variações extremas, incluindo valores maiores que 1 para o erro e valores negativos para o r2"
      ],
      "metadata": {
        "id": "wrf_6p_IoBvZ"
      }
    },
    {
      "cell_type": "markdown",
      "source": [
        "Por isso, foi criado um bootstrap da criação do modelo de regressão linear de 1000 casos para testar diversas divisões do dataframe em treino e teste para pegar os diferentes valores possíveis de intercepto, coeficientes, erro quadrático médio e r2 score"
      ],
      "metadata": {
        "id": "VffkTbRAocaY"
      }
    },
    {
      "cell_type": "code",
      "source": [
        "def bootstrap_regression(df, n=1000, size=None):\n",
        "    if size is None:\n",
        "        size = len(df)\n",
        "\n",
        "    coeficientes1 = np.zeros(n)\n",
        "    coeficientes2 = np.zeros(n)\n",
        "    interceptos = np.zeros(n)\n",
        "    errosQuadraticos = np.zeros(n)\n",
        "    r2s = np.zeros(n)\n",
        "\n",
        "    for i in range(n):\n",
        "      sample = df.sample(size, replace=True)\n",
        "      train_df, test_df = train_test_split(sample, test_size=0.2)\n",
        "      y_train_df = train_df['schoolShotting']\n",
        "      X_train_df = train_df.drop('schoolShotting', axis='columns')\n",
        "      y_test_df = test_df['schoolShotting']\n",
        "      X_test_df = test_df.drop('schoolShotting', axis='columns')\n",
        "      scaler_x = StandardScaler()\n",
        "      scaler_y = StandardScaler()\n",
        "      X_train = scaler_x.fit_transform(X_train_df.values)\n",
        "      y_train = scaler_y.fit_transform(y_train_df.values[:, np.newaxis])\n",
        "      X_test = scaler_x.transform(X_test_df.values)\n",
        "      y_test = scaler_y.transform(y_test_df.values[:, np.newaxis])\n",
        "      linear = LinearRegression(fit_intercept=True)\n",
        "      linear = linear.fit(X_train, y_train)\n",
        "      y_pred_test = linear.predict(X_test)\n",
        "      coeficientes1[i] = linear.coef_[0][0]\n",
        "      coeficientes2[i] = linear.coef_[0][1]\n",
        "      interceptos[i] = linear.intercept_[0]\n",
        "      errosQuadraticos[i] = mean_squared_error(y_test, y_pred_test)\n",
        "      r2s[i] = r2_score(y_test, y_pred_test)\n",
        "    return coeficientes1,coeficientes2, interceptos,errosQuadraticos,r2s\n",
        "coeficientes1,coeficientes2, interceptos,errosQuadraticos,r2s = bootstrap_regression(comparacao_sem_pandemia, n=1000, size=30)"
      ],
      "metadata": {
        "id": "PGkSKqOEabpS"
      },
      "execution_count": null,
      "outputs": []
    },
    {
      "cell_type": "markdown",
      "source": [
        "Dado os valores gerados pelo bootstrap foi criado os seguintes valores de mediana e histograma dos valores"
      ],
      "metadata": {
        "id": "-II9UQ_7pNk5"
      }
    },
    {
      "cell_type": "code",
      "source": [
        "plt.hist(coeficientes1, edgecolor='k')\n",
        "print(f'Mediana dos coeficiente da variável ano: {np.median(coeficientes1)}')"
      ],
      "metadata": {
        "colab": {
          "base_uri": "https://localhost:8080/",
          "height": 448
        },
        "id": "UKKMD8TDcWB9",
        "outputId": "f32bc840-cb8e-47b5-a042-32b3ea85f239"
      },
      "execution_count": null,
      "outputs": [
        {
          "output_type": "stream",
          "name": "stdout",
          "text": [
            "Mediana dos coeficiente da variável ano: 0.4768828836388984\n"
          ]
        },
        {
          "output_type": "display_data",
          "data": {
            "text/plain": [
              "<Figure size 640x480 with 1 Axes>"
            ],
            "image/png": "[encoded data removed]"
          },
          "metadata": {}
        }
      ]
    },
    {
      "cell_type": "code",
      "source": [
        "plt.hist(coeficientes2, edgecolor='k')\n",
        "print(f'Mediana dos coeficiente da quantidade de crimes de ódio: {np.median(coeficientes2)}')"
      ],
      "metadata": {
        "colab": {
          "base_uri": "https://localhost:8080/",
          "height": 448
        },
        "id": "VVCzvH9QcWr1",
        "outputId": "653f4bbb-c8d8-43ee-f697-4aacca03d42e"
      },
      "execution_count": null,
      "outputs": [
        {
          "output_type": "stream",
          "name": "stdout",
          "text": [
            "Mediana dos coeficiente da quantidade de crimes de ódio: 0.5399281435054903\n"
          ]
        },
        {
          "output_type": "display_data",
          "data": {
            "text/plain": [
              "<Figure size 640x480 with 1 Axes>"
            ],
            "image/png": "[encoded data removed]"
          },
          "metadata": {}
        }
      ]
    },
    {
      "cell_type": "code",
      "source": [
        "plt.hist(interceptos, edgecolor='k')\n",
        "print(f'Mediana da variável de intercepto: {np.median(interceptos)}')"
      ],
      "metadata": {
        "colab": {
          "base_uri": "https://localhost:8080/",
          "height": 466
        },
        "id": "DLLL0Vm5cXEQ",
        "outputId": "352f98b1-a6b2-442b-b261-8c6a63214758"
      },
      "execution_count": null,
      "outputs": [
        {
          "output_type": "stream",
          "name": "stdout",
          "text": [
            "Mediana da variável de intercepto: 1.8193454073733154e-17\n"
          ]
        },
        {
          "output_type": "display_data",
          "data": {
            "text/plain": [
              "<Figure size 640x480 with 1 Axes>"
            ],
            "image/png": "[encoded data removed]"
          },
          "metadata": {}
        }
      ]
    },
    {
      "cell_type": "code",
      "source": [
        "plt.hist(errosQuadraticos, edgecolor='k')\n",
        "print(f'Mediana dos erros quadráticos médios: {np.median(errosQuadraticos)}')"
      ],
      "metadata": {
        "colab": {
          "base_uri": "https://localhost:8080/",
          "height": 448
        },
        "id": "1excflbmcXSi",
        "outputId": "4a391f0f-fbce-4d7d-e6bc-3bd82bf8e5af"
      },
      "execution_count": null,
      "outputs": [
        {
          "output_type": "stream",
          "name": "stdout",
          "text": [
            "Mediana dos erros quadráticos médios: 0.10288959986724007\n"
          ]
        },
        {
          "output_type": "display_data",
          "data": {
            "text/plain": [
              "<Figure size 640x480 with 1 Axes>"
            ],
            "image/png": "[encoded data removed]"
          },
          "metadata": {}
        }
      ]
    },
    {
      "cell_type": "code",
      "source": [
        "plt.hist(r2s, edgecolor='k')\n",
        "print(f'Mediana dos r2s scores: {np.median(r2s)}')"
      ],
      "metadata": {
        "colab": {
          "base_uri": "https://localhost:8080/",
          "height": 448
        },
        "id": "6fA6_FGDcXgT",
        "outputId": "1ca59279-752f-4e75-967a-1cbaab711a52"
      },
      "execution_count": null,
      "outputs": [
        {
          "output_type": "stream",
          "name": "stdout",
          "text": [
            "Mediana dos r2s scores: 0.8808190078612568\n"
          ]
        },
        {
          "output_type": "display_data",
          "data": {
            "text/plain": [
              "<Figure size 640x480 with 1 Axes>"
            ],
            "image/png": "[encoded data removed]"
          },
          "metadata": {}
        }
      ]
    },
    {
      "cell_type": "markdown",
      "source": [
        "Analisando os dados, percebe-se que os valores dos coeficientes e do intercepto mantém padrões comuns em seus valores que não comprometem os resultados da regressão linear. Enquanto isso, os valores de erro quadrático médio possuem tendência para valores menores que 0.2 e do r2 score possuem tendência para valores maiores que 0.8, mesmo que possuam valores extremos para certas divisões de treino e teste."
      ],
      "metadata": {
        "id": "uhaM4YCQpnmi"
      }
    },
    {
      "cell_type": "markdown",
      "source": [
        "Portanto, a tendência dos testes permanece em valores aceitáveis para comprovar a existência da relação entre a quantidade de casos de crimes de ódio e tiroteios em escolas, mesmo que a análise gere valores de precisão extremos devido ao baixo número de dados."
      ],
      "metadata": {
        "id": "VrZVoCb2ap_J"
      }
    },
    {
      "cell_type": "markdown",
      "source": [
        "### Grafico da regressão Linear"
      ],
      "metadata": {
        "id": "c4trnynPV1T5"
      }
    },
    {
      "cell_type": "markdown",
      "source": [
        "Dado que foi provada a relação com alta confiabilidade dos dados com a regressão linear, foi gerado o gráfico através do regplot para registrar o gráfico linear nos dados e o seu intervalo de confiança"
      ],
      "metadata": {
        "id": "-Cew8MPEYduk"
      }
    },
    {
      "cell_type": "code",
      "source": [
        "sns.regplot(x='hateCrime', y='schoolShotting', data=df_comparacao)\n",
        "plt.title('Regressão linear, crimes de ódio x tiroteios em escolas')\n",
        "plt.show()"
      ],
      "metadata": {
        "colab": {
          "base_uri": "https://localhost:8080/",
          "height": 472
        },
        "id": "16nHQFGDmaKY",
        "outputId": "ed46430c-f475-4f96-d08b-21da5168e5d8"
      },
      "execution_count": null,
      "outputs": [
        {
          "output_type": "display_data",
          "data": {
            "text/plain": [
              "<Figure size 640x480 with 1 Axes>"
            ],
            "image/png": "[encoded data removed]"
          },
          "metadata": {}
        }
      ]
    },
    {
      "cell_type": "markdown",
      "source": [
        "##**Conclusão**\n",
        "\n",
        "\n"
      ],
      "metadata": {
        "id": "ZnLUKbKWG2Wh"
      }
    },
    {
      "cell_type": "markdown",
      "source": [
        "Neste trabalho, foi possível desenvolver significativamente a habilidade do grupo em ciência de dados. Através da análise, identificamos uma relação muito forte entre tiroteios em escolas e fatores sociais, como a taxa de crimes com armas, a legalização do porte de armas, a ocorrência de crimes de ódio. Também identificamos uma correlação, embora não tão alta, entre a força das leis de armas em um estado e a ocorrência de tiroteios, onde estados com leis mais rigorosas tendem a ter menos incidentes. No entanto, essa relação menos evidente pode ser atribuída à limitação do dataset, que não continha informações completas sobre todos os anos, afetando a precisão da análise sobre a força das leis de armas em cada estado."
      ],
      "metadata": {
        "id": "esuoQx3LHACV"
      }
    }
  ]
}